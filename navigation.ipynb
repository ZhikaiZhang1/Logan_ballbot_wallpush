{
 "cells": [
  {
   "cell_type": "code",
   "execution_count": 1,
   "metadata": {
    "scrolled": true,
    "tags": []
   },
   "outputs": [
    {
     "name": "stderr",
     "output_type": "stream",
     "text": [
      "\u001b[32m\u001b[1m  Activating\u001b[22m\u001b[39m environment at `~/Documents/PhD/courses/16745_optimal_control_rl/project/ballbot_ocrl_navigation/Project.toml`\n"
     ]
    }
   ],
   "source": [
    "import Pkg; \n",
    "Pkg.activate(@__DIR__); \n",
    "Pkg.instantiate()"
   ]
  },
  {
   "cell_type": "code",
   "execution_count": 2,
   "metadata": {},
   "outputs": [],
   "source": [
    "#Pkg.add(\"ForwardDiff\")\n",
    "#Pkg.add(\"PyPlot\")\n",
    "#Pkg.add(\"RobotDynamics\")\n",
    "#Pkg.add(\"Ipopt\")\n",
    "#Pkg.add(\"MathOptInterface\")\n",
    "#Pkg.add(\"FileIO\")\n",
    "#Pkg.add(\"JLD2\")\n",
    "#Pkg.add(\"ECOS\")\n",
    "#Pkg.add(\"Convex\")\n",
    "#Pkg.add(\"FiniteDiff\")\n",
    "#Pkg.add(\"Plots\")\n",
    "#Pkg.add(\"TrajOptPlots\")"
   ]
  },
  {
   "cell_type": "code",
   "execution_count": 3,
   "metadata": {},
   "outputs": [
    {
     "data": {
      "application/vnd.webio.node+json": {
       "children": [],
       "instanceArgs": {
        "namespace": "html",
        "tag": "div"
       },
       "nodeType": "DOM",
       "props": {},
       "type": "node"
      },
      "text/html": [
       "<div style=\"padding: 1em; background-color: #f8d6da; border: 1px solid #f5c6cb; font-weight: bold;\">\n",
       "<p>The WebIO Jupyter extension was not detected. See the\n",
       "<a href=\"https://juliagizmos.github.io/WebIO.jl/latest/providers/ijulia/\" target=\"_blank\">\n",
       "    WebIO Jupyter integration documentation\n",
       "</a>\n",
       "for more information.\n",
       "</div>\n"
      ],
      "text/plain": [
       "WebIO._IJuliaInit()"
      ]
     },
     "metadata": {},
     "output_type": "display_data"
    }
   ],
   "source": [
    "using RigidBodyDynamics\n",
    "using LinearAlgebra\n",
    "using StaticArrays\n",
    "using MeshCat\n",
    "using MeshCatMechanisms\n",
    "using ForwardDiff\n",
    "#using PyPlot\n",
    "using Plots\n",
    "using RobotDynamics\n",
    "using Ipopt\n",
    "using TrajOptPlots\n",
    "\n",
    "import ECOS\n",
    "import Convex as cvx\n",
    "import MathOptInterface as MOI\n",
    "using FileIO, JLD2;\n",
    "\n",
    "import MeshCat as mc"
   ]
  },
  {
   "cell_type": "code",
   "execution_count": 4,
   "metadata": {},
   "outputs": [
    {
     "data": {
      "text/plain": [
       "rk4 (generic function with 1 method)"
      ]
     },
     "execution_count": 4,
     "metadata": {},
     "output_type": "execute_result"
    }
   ],
   "source": [
    "include(joinpath(@__DIR__, \"utils\",\"fmincon.jl\"))\n",
    "include(joinpath(@__DIR__, \"utils\",\"ballbot_model.jl\"))"
   ]
  },
  {
   "cell_type": "markdown",
   "metadata": {},
   "source": [
    "## Load ballbot model"
   ]
  },
  {
   "cell_type": "code",
   "execution_count": 5,
   "metadata": {},
   "outputs": [
    {
     "data": {
      "text/plain": [
       "Ballbot{StateCache{Float64, TypeSortedCollections.TypeSortedCollection{Tuple{Vector{Joint{Float64, Prismatic{Float64}}}, Vector{Joint{Float64, Revolute{Float64}}}}, 2}}}(Spanning tree:\n",
       "Vertex: world (root)\n",
       "  Vertex: Link_Xtran, Edge: Joint_World_Xtran\n",
       "    Vertex: Link_Ytran, Edge: Joint_World_Ytran\n",
       "      Vertex: Link_Pitch, Edge: xAngle\n",
       "        Vertex: Link_Roll, Edge: yAngle\n",
       "          Vertex: Link_Yaw, Edge: yaw\n",
       "No non-tree joints., StateCache{…}(…), DynamicsResultCache{Float64}(…), [0.0, 0.0, 0.0, 0.0, 0.0, 0.0, 0.0, 0.0, 0.0, 0.0])"
      ]
     },
     "execution_count": 5,
     "metadata": {},
     "output_type": "execute_result"
    }
   ],
   "source": [
    "ballbot_model = Ballbot()\n",
    "#ballbot_model_no_arms = Ballbot_arms()"
   ]
  },
  {
   "cell_type": "markdown",
   "metadata": {},
   "source": [
    "## Start visualizer"
   ]
  },
  {
   "cell_type": "code",
   "execution_count": 6,
   "metadata": {},
   "outputs": [
    {
     "name": "stderr",
     "output_type": "stream",
     "text": [
      "\u001b[36m\u001b[1m┌ \u001b[22m\u001b[39m\u001b[36m\u001b[1mInfo: \u001b[22m\u001b[39mMeshCat server started. You can open the visualizer by visiting the following URL in your browser:\n",
      "\u001b[36m\u001b[1m└ \u001b[22m\u001b[39mhttp://127.0.0.1:8719\n"
     ]
    },
    {
     "data": {
      "text/plain": [
       "MechanismVisualizer{MechanismState{Float64, Float64, Float64, TypeSortedCollections.TypeSortedCollection{Tuple{Vector{Joint{Float64, Prismatic{Float64}}}, Vector{Joint{Float64, Revolute{Float64}}}}, 2}}, Visualizer}(MechanismState{Float64, Float64, Float64, …}(…), MeshCat Visualizer with path /meshcat at http://127.0.0.1:8719, 12)"
      ]
     },
     "execution_count": 6,
     "metadata": {},
     "output_type": "execute_result"
    }
   ],
   "source": [
    "# Initialize visualizer\n",
    "vis = Visualizer()\n",
    "\n",
    "# Render visualizer\n",
    "render(vis)\n",
    "\n",
    "# Create visualizer for ballbot\n",
    "delete!(vis)\n",
    "mvis = MechanismVisualizer(ballbot_model.mech, URDFVisuals(urdf), vis)"
   ]
  },
  {
   "cell_type": "markdown",
   "metadata": {
    "scrolled": true
   },
   "source": [
    "## Trajectory optimization"
   ]
  },
  {
   "cell_type": "code",
   "execution_count": 7,
   "metadata": {},
   "outputs": [
    {
     "data": {
      "text/plain": [
       "create_idx (generic function with 1 method)"
      ]
     },
     "execution_count": 7,
     "metadata": {},
     "output_type": "execute_result"
    }
   ],
   "source": [
    "function create_idx(nx,nu,N) \n",
    "    # Our Z vector is [x0, u0, x1, u1, …, xN]\n",
    "    nz = (N-1) * nu + N * nx # length of Z \n",
    "    x = [(i - 1) * (nx + nu) .+ (1 : nx) for i = 1:N]\n",
    "    u = [(i - 1) * (nx + nu) .+ ((nx + 1):(nx + nu)) for i = 1:(N - 1)]\n",
    "    \n",
    "    # Constraint indexing for the (N-1) dynamics constraints when stacked up\n",
    "    c = [(i - 1) * (nx) .+ (1 : nx) for i = 1:(N - 1)]\n",
    "    nc = (N - 1) * nx # (N-1)*nx \n",
    "    return (nx=nx,nu=nu,N=N,nz=nz,nc=nc,x=x,u=u,c=c)\n",
    "end\n"
   ]
  },
  {
   "cell_type": "code",
   "execution_count": 8,
   "metadata": {},
   "outputs": [
    {
     "data": {
      "text/plain": [
       "hermite_simpson (generic function with 1 method)"
      ]
     },
     "execution_count": 8,
     "metadata": {},
     "output_type": "execute_result"
    }
   ],
   "source": [
    "function hermite_simpson(params::NamedTuple, x1::Vector, x2::Vector, u, dt::Real)::Vector\n",
    "    # Input hermite simpson implicit integrator residual\n",
    "    f1 = m_dynamics(ballbot_model, x1, u)\n",
    "    f2 = m_dynamics(ballbot_model, x2, u)\n",
    "    xm = 0.5*(x1 + x2) + (dt/8.0)*(f1 - f2)\n",
    "    fm = m_dynamics(ballbot_model, xm, u)\n",
    "    r = x1 + (dt/6.0)*(f1 + 4*fm + f2) - x2\n",
    "    return r\n",
    "end"
   ]
  },
  {
   "cell_type": "code",
   "execution_count": 9,
   "metadata": {},
   "outputs": [
    {
     "data": {
      "text/plain": [
       "terminal_cost (generic function with 1 method)"
      ]
     },
     "execution_count": 9,
     "metadata": {},
     "output_type": "execute_result"
    }
   ],
   "source": [
    "function stage_cost(params,x,u,k)\n",
    "    xref, uref = params.Xref, params.Uref\n",
    "    Q = params.Q\n",
    "    R = params.R\n",
    "    return 0.5*((x-xref[k])'*Q*(x-xref[k])) + 0.5*(u-uref[k])'*R*(u-uref[k])\n",
    "end\n",
    "\n",
    "function terminal_cost(params,x)\n",
    "    Qn = params.Qf\n",
    "    xref = params.Xref\n",
    "    return 0.5*((x-xref[end])'*Qn*(x-xref[end]))\n",
    "end"
   ]
  },
  {
   "cell_type": "code",
   "execution_count": 10,
   "metadata": {},
   "outputs": [
    {
     "data": {
      "text/plain": [
       "ballbot_cost (generic function with 1 method)"
      ]
     },
     "execution_count": 10,
     "metadata": {},
     "output_type": "execute_result"
    }
   ],
   "source": [
    "function ballbot_cost(params::NamedTuple, Z::Vector)::Real\n",
    "    idx, N = params.idx, params.N \n",
    "    # Stage cost\n",
    "    J = 0 \n",
    "    for i = 1:(N-1)\n",
    "        xi = Z[idx.x[i]]\n",
    "        ui = Z[idx.u[i]]\n",
    "       \n",
    "        J += stage_cost(params, xi, ui, i)\n",
    "    end\n",
    "    \n",
    "    # Terminal cost \n",
    "    xend = Z[idx.x[end]]\n",
    "    J += terminal_cost(params, xend)\n",
    "    return J \n",
    "end"
   ]
  },
  {
   "cell_type": "code",
   "execution_count": 11,
   "metadata": {},
   "outputs": [
    {
     "data": {
      "text/plain": [
       "ballbot_dynamics_constraints (generic function with 1 method)"
      ]
     },
     "execution_count": 11,
     "metadata": {},
     "output_type": "execute_result"
    }
   ],
   "source": [
    "function ballbot_dynamics_constraints(params::NamedTuple, Z::Vector)::Vector\n",
    "    idx, N, dt = params.idx, params.N, params.dt\n",
    "    c = zeros(eltype(Z), idx.nc)\n",
    "    for i = 1:(N-1)\n",
    "        xi = Z[idx.x[i]]\n",
    "        ui = Z[idx.u[i]] \n",
    "        xip1 = Z[idx.x[i+1]]\n",
    "        # Apply hermite simpson \n",
    "        c[idx.c[i]] .= hermite_simpson(params, xi, xip1, ui, dt)\n",
    "    end\n",
    "    return c\n",
    "end"
   ]
  },
  {
   "cell_type": "code",
   "execution_count": 12,
   "metadata": {},
   "outputs": [
    {
     "data": {
      "text/plain": [
       "ballbot_equality_constraint (generic function with 1 method)"
      ]
     },
     "execution_count": 12,
     "metadata": {},
     "output_type": "execute_result"
    }
   ],
   "source": [
    "function ballbot_equality_constraint(params::NamedTuple, Z::Vector)::Vector\n",
    "    idx, N = params.idx, params.N \n",
    "    xg = params.xg\n",
    "    xic = params.xic\n",
    "    # Return all of the equality constraints \n",
    "    c = ballbot_dynamics_constraints(params, Z)\n",
    "    c = [c; Z[idx.x[1]] - xic]\n",
    "    c = [c; Z[idx.x[end]] - xg]\n",
    "\n",
    "    return c\n",
    "end"
   ]
  },
  {
   "cell_type": "code",
   "execution_count": 13,
   "metadata": {},
   "outputs": [
    {
     "data": {
      "text/plain": [
       "ballbot_inequality_constraint (generic function with 1 method)"
      ]
     },
     "execution_count": 13,
     "metadata": {},
     "output_type": "execute_result"
    }
   ],
   "source": [
    "function ballbot_inequality_constraint(params, Z)\n",
    "        return zeros(eltype(Z), 0)\n",
    "    end"
   ]
  },
  {
   "cell_type": "markdown",
   "metadata": {},
   "source": [
    "## Move from point A to point B"
   ]
  },
  {
   "cell_type": "code",
   "execution_count": 14,
   "metadata": {},
   "outputs": [
    {
     "data": {
      "text/plain": [
       ":auto"
      ]
     },
     "execution_count": 14,
     "metadata": {},
     "output_type": "execute_result"
    }
   ],
   "source": [
    "# Optimization Parameters\n",
    "h = 0.1 #10 Hz\n",
    "nq = 5\n",
    "nx = nq*2     # number of state\n",
    "nu = 3     # number of controls\n",
    "Tfinal = 8.0 # final time\n",
    "Nt = Int(Tfinal/h)+1   # number of time steps\n",
    "thist = Array(range(0,h*(Nt-1), step=h));\n",
    "n_nlp = (nx+nu)*Nt # number of decision variables\n",
    "m_nlp = nx*(Nt+1)\n",
    "\n",
    "# Cost terms\n",
    "diagq = ones(nx)\n",
    "diagq[1:2] = diagq[1:2]*1 # position cost\n",
    "diagq[3:4] = diagq[3:4]*1 # lean angles cost\n",
    "\n",
    "# Cost matrices\n",
    "Q = diagm(diagq)\n",
    "Qf = 10*Q\n",
    "R = 0.5*diagm(ones(nu))\n",
    "\n",
    "xic = zeros(nx)\n",
    "xg = zeros(nx)\n",
    "xg[1] = 8 # x-position\n",
    "xg[2] = 8 # y-position\n",
    "\n",
    "# Indexing \n",
    "idx = create_idx(nx,nu,Nt);\n",
    "\n",
    "diff_type = :auto"
   ]
  },
  {
   "cell_type": "code",
   "execution_count": 15,
   "metadata": {},
   "outputs": [],
   "source": [
    "# Create warm start trajectory\n",
    "Xref = range(xic, xg, length = Nt)\n",
    "Uref = [zeros(3) for i = 1:(Nt-1)];"
   ]
  },
  {
   "cell_type": "code",
   "execution_count": 16,
   "metadata": {},
   "outputs": [],
   "source": [
    "# Create params\n",
    "params = (xic = xic,\n",
    "          xg = xg,\n",
    "          Xref = Xref,\n",
    "          Uref = Uref,\n",
    "          dt = h,\n",
    "          N = Nt,\n",
    "          idx = idx,\n",
    "          Q = Q,\n",
    "          R = R,\n",
    "          Qf = Qf);"
   ]
  },
  {
   "cell_type": "code",
   "execution_count": 17,
   "metadata": {},
   "outputs": [
    {
     "data": {
      "text/plain": [
       "true"
      ]
     },
     "execution_count": 17,
     "metadata": {},
     "output_type": "execute_result"
    }
   ],
   "source": [
    "# Primal bounds \n",
    "x_l = ones(idx.nz)\n",
    "x_u = ones(idx.nz)\n",
    "\n",
    "for i = 1:(Nt-1)\n",
    "    x_l[idx.x[i]] .= -Inf*x_l[idx.x[i]]\n",
    "    x_u[idx.x[i]] .= Inf*x_u[idx.x[i]]\n",
    "    x_l[idx.u[i]] .= -Inf*x_l[idx.u[i]]\n",
    "    x_u[idx.u[i]] .= Inf*x_u[idx.u[i]]\n",
    "end\n",
    "\n",
    "x_l[idx.x[end]] .= -Inf*x_l[idx.x[end]]\n",
    "x_u[idx.x[end]] .= Inf*x_u[idx.x[end]]\n",
    "\n",
    "# Inequality constraint bounds (this is what we do when we have no inequality constraints)\n",
    "c_l = zeros(0)\n",
    "c_u = zeros(0)\n",
    "\n",
    "verbose=true"
   ]
  },
  {
   "cell_type": "code",
   "execution_count": 18,
   "metadata": {},
   "outputs": [],
   "source": [
    "z0 = zeros(idx.nz)\n",
    "for i in 1:(Nt-1)\n",
    "    z0[idx.x[i]] .= Xref[i]\n",
    "    z0[idx.u[i]] .= Uref[i]\n",
    "end\n",
    "z0[idx.x[end]] .= Xref[end];"
   ]
  },
  {
   "cell_type": "code",
   "execution_count": 19,
   "metadata": {},
   "outputs": [
    {
     "name": "stdout",
     "output_type": "stream",
     "text": [
      "---------checking dimensions of everything----------\n",
      "---------all dimensions good------------------------\n",
      "---------diff type set to :auto (ForwardDiff.jl)----\n",
      "---------testing objective gradient-----------------\n",
      "---------testing constraint Jacobian----------------\n",
      "---------successfully compiled both derivatives-----\n",
      "---------IPOPT beginning solve----------------------\n",
      "\n",
      "******************************************************************************\n",
      "This program contains Ipopt, a library for large-scale nonlinear optimization.\n",
      " Ipopt is released as open source code under the Eclipse Public License (EPL).\n",
      "         For more information visit https://github.com/coin-or/Ipopt\n",
      "******************************************************************************\n",
      "\n",
      "This is Ipopt version 3.13.4, running with linear solver mumps.\n",
      "NOTE: Other linear solvers might be more efficient (see Ipopt documentation).\n",
      "\n",
      "Number of nonzeros in equality constraint Jacobian...:   861000\n",
      "Number of nonzeros in inequality constraint Jacobian.:        0\n",
      "Number of nonzeros in Lagrangian Hessian.............:        0\n",
      "\n",
      "Total number of variables............................:     1050\n",
      "                     variables with only lower bounds:        0\n",
      "                variables with lower and upper bounds:        0\n",
      "                     variables with only upper bounds:        0\n",
      "Total number of equality constraints.................:      820\n",
      "Total number of inequality constraints...............:        0\n",
      "        inequality constraints with only lower bounds:        0\n",
      "   inequality constraints with lower and upper bounds:        0\n",
      "        inequality constraints with only upper bounds:        0\n",
      "\n",
      "iter    objective    inf_pr   inf_du lg(mu)  ||d||  lg(rg) alpha_du alpha_pr  ls\n",
      "   0  0.0000000e+00 1.00e-01 0.00e+00   0.0 0.00e+00    -  0.00e+00 0.00e+00   0\n",
      "   1  4.4308480e+04 1.78e-01 2.51e+03 -11.0 5.34e+01    -  1.00e+00 1.00e+00h  1\n",
      "   2  4.6586216e+04 3.62e-01 6.14e+03 -11.0 2.21e+01    -  1.00e+00 1.00e+00H  1\n",
      "   3  5.1933584e+04 1.16e-01 1.02e+04 -11.0 9.88e+00    -  1.00e+00 1.00e+00H  1\n",
      "   4  4.6693426e+04 1.79e-01 6.22e+03 -11.0 1.33e+01    -  1.00e+00 1.00e+00F  1\n",
      "   5  4.1893106e+04 3.48e-01 1.90e+04 -11.0 1.53e+01    -  1.00e+00 1.00e+00F  1\n",
      "   6  4.1231106e+04 2.37e-01 1.54e+04 -11.0 2.62e+01    -  1.00e+00 2.50e-01f  3\n",
      "   7  4.3477135e+04 3.46e-01 2.97e+03 -11.0 1.35e+01    -  1.00e+00 1.00e+00h  1\n",
      "   8  4.3640814e+04 2.78e-01 2.10e+03 -11.0 6.99e+00    -  1.00e+00 5.00e-01h  2\n",
      "   9  4.4055101e+04 6.60e-02 9.64e+02 -11.0 1.87e+00    -  1.00e+00 1.00e+00h  1\n",
      "iter    objective    inf_pr   inf_du lg(mu)  ||d||  lg(rg) alpha_du alpha_pr  ls\n",
      "  10  4.4308079e+04 2.47e-03 1.35e+02 -11.0 1.10e+00    -  1.00e+00 1.00e+00h  1\n",
      "  11  4.4281200e+04 1.84e-03 3.44e+02 -11.0 3.43e-01    -  1.00e+00 1.00e+00f  1\n",
      "  12  4.4233015e+04 6.83e-02 3.50e+02 -11.0 2.92e+00    -  1.00e+00 1.00e+00f  1\n",
      "  13  4.4214045e+04 2.91e-02 1.88e+02 -11.0 1.18e+00    -  1.00e+00 1.00e+00f  1\n",
      "  14  4.4220336e+04 2.21e-02 1.21e+02 -11.0 7.68e-01    -  1.00e+00 1.00e+00h  1\n",
      "  15  4.4223532e+04 8.06e-04 4.54e+01 -11.0 3.93e-01    -  1.00e+00 1.00e+00h  1\n",
      "  16  4.4221916e+04 3.55e-03 7.87e+01 -11.0 5.86e-01    -  1.00e+00 1.00e+00f  1\n",
      "  17  4.4221844e+04 3.24e-04 3.03e+01 -11.0 4.32e-01    -  1.00e+00 1.00e+00f  1\n",
      "  18  4.4221804e+04 7.01e-05 1.24e+01 -11.0 1.68e-01    -  1.00e+00 1.00e+00h  1\n",
      "  19  4.4221846e+04 6.00e-06 2.19e+00 -11.0 2.37e-02    -  1.00e+00 1.00e+00h  1\n",
      "iter    objective    inf_pr   inf_du lg(mu)  ||d||  lg(rg) alpha_du alpha_pr  ls\n",
      "  20  4.4221847e+04 1.05e-07 3.43e-01 -11.0 7.16e-03    -  1.00e+00 1.00e+00h  1\n",
      "  21  4.4221847e+04 3.83e-08 1.91e-01 -11.0 2.00e-03    -  1.00e+00 1.00e+00h  1\n",
      "  22  4.4221847e+04 1.85e-09 1.46e-04 -11.0 7.73e-04    -  1.00e+00 1.00e+00h  1\n",
      "  23  4.4221847e+04 6.45e-11 3.66e-05 -11.0 1.15e-04    -  1.00e+00 1.00e+00h  1\n",
      "\n",
      "Number of Iterations....: 23\n",
      "\n",
      "                                   (scaled)                 (unscaled)\n",
      "Objective...............:   4.4221847136912045e+04    4.4221847136912045e+04\n",
      "Dual infeasibility......:   3.6595931474203702e-05    3.6595931474203702e-05\n",
      "Constraint violation....:   6.4460881077366139e-11    6.4460881077366139e-11\n",
      "Complementarity.........:   0.0000000000000000e+00    0.0000000000000000e+00\n",
      "Overall NLP error.......:   5.4346432612259176e-07    3.6595931474203702e-05\n",
      "\n",
      "\n",
      "Number of objective function evaluations             = 36\n",
      "Number of objective gradient evaluations             = 24\n",
      "Number of equality constraint evaluations            = 36\n",
      "Number of inequality constraint evaluations          = 0\n",
      "Number of equality constraint Jacobian evaluations   = 24\n",
      "Number of inequality constraint Jacobian evaluations = 0\n",
      "Number of Lagrangian Hessian evaluations             = 0\n",
      "Total CPU secs in IPOPT (w/o function evaluations)   =     97.105\n",
      "Total CPU secs in NLP function evaluations           =    165.405\n",
      "\n",
      "EXIT: Optimal Solution Found.\n"
     ]
    }
   ],
   "source": [
    "Z = fmincon(ballbot_cost,ballbot_equality_constraint,ballbot_inequality_constraint,\n",
    "                x_l,x_u,c_l,c_u,z0,params, diff_type;\n",
    "                tol = 1e-6, c_tol = 1e-6, max_iters = 10_000, verbose = verbose);"
   ]
  },
  {
   "cell_type": "code",
   "execution_count": 20,
   "metadata": {},
   "outputs": [],
   "source": [
    "# Pull the X and U solutions out of Z \n",
    "X = [Z[idx.x[i]] for i = 1:Nt]\n",
    "U = [Z[idx.u[i]] for i = 1:(Nt-1)];"
   ]
  },
  {
   "cell_type": "code",
   "execution_count": 21,
   "metadata": {},
   "outputs": [],
   "source": [
    "Xm = hcat(X...)\n",
    "Um = hcat(U...);"
   ]
  },
  {
   "cell_type": "code",
   "execution_count": 22,
   "metadata": {},
   "outputs": [
    {
     "data": {
      "image/svg+xml": [
       "<?xml version=\"1.0\" encoding=\"utf-8\"?>\n",
       "<svg xmlns=\"http://www.w3.org/2000/svg\" xmlns:xlink=\"http://www.w3.org/1999/xlink\" width=\"600\" height=\"400\" viewBox=\"0 0 2400 1600\">\n",
       "<defs>\n",
       "  <clipPath id=\"clip360\">\n",
       "    <rect x=\"0\" y=\"0\" width=\"2400\" height=\"1600\"/>\n",
       "  </clipPath>\n",
       "</defs>\n",
       "<path clip-path=\"url(#clip360)\" d=\"M0 1600 L2400 1600 L2400 0 L0 0  Z\" fill=\"#ffffff\" fill-rule=\"evenodd\" fill-opacity=\"1\"/>\n",
       "<defs>\n",
       "  <clipPath id=\"clip361\">\n",
       "    <rect x=\"480\" y=\"0\" width=\"1681\" height=\"1600\"/>\n",
       "  </clipPath>\n",
       "</defs>\n",
       "<path clip-path=\"url(#clip360)\" d=\"M112.177 1486.45 L2352.76 1486.45 L2352.76 47.2441 L112.177 47.2441  Z\" fill=\"#ffffff\" fill-rule=\"evenodd\" fill-opacity=\"1\"/>\n",
       "<defs>\n",
       "  <clipPath id=\"clip362\">\n",
       "    <rect x=\"112\" y=\"47\" width=\"2242\" height=\"1440\"/>\n",
       "  </clipPath>\n",
       "</defs>\n",
       "<polyline clip-path=\"url(#clip362)\" style=\"stroke:#000000; stroke-linecap:round; stroke-linejoin:round; stroke-width:2; stroke-opacity:0.1; fill:none\" points=\"175.59,1486.45 175.59,47.2441 \"/>\n",
       "<polyline clip-path=\"url(#clip362)\" style=\"stroke:#000000; stroke-linecap:round; stroke-linejoin:round; stroke-width:2; stroke-opacity:0.1; fill:none\" points=\"704.028,1486.45 704.028,47.2441 \"/>\n",
       "<polyline clip-path=\"url(#clip362)\" style=\"stroke:#000000; stroke-linecap:round; stroke-linejoin:round; stroke-width:2; stroke-opacity:0.1; fill:none\" points=\"1232.47,1486.45 1232.47,47.2441 \"/>\n",
       "<polyline clip-path=\"url(#clip362)\" style=\"stroke:#000000; stroke-linecap:round; stroke-linejoin:round; stroke-width:2; stroke-opacity:0.1; fill:none\" points=\"1760.9,1486.45 1760.9,47.2441 \"/>\n",
       "<polyline clip-path=\"url(#clip362)\" style=\"stroke:#000000; stroke-linecap:round; stroke-linejoin:round; stroke-width:2; stroke-opacity:0.1; fill:none\" points=\"2289.34,1486.45 2289.34,47.2441 \"/>\n",
       "<polyline clip-path=\"url(#clip360)\" style=\"stroke:#000000; stroke-linecap:round; stroke-linejoin:round; stroke-width:4; stroke-opacity:1; fill:none\" points=\"112.177,1486.45 2352.76,1486.45 \"/>\n",
       "<polyline clip-path=\"url(#clip360)\" style=\"stroke:#000000; stroke-linecap:round; stroke-linejoin:round; stroke-width:4; stroke-opacity:1; fill:none\" points=\"175.59,1486.45 175.59,1467.55 \"/>\n",
       "<polyline clip-path=\"url(#clip360)\" style=\"stroke:#000000; stroke-linecap:round; stroke-linejoin:round; stroke-width:4; stroke-opacity:1; fill:none\" points=\"704.028,1486.45 704.028,1467.55 \"/>\n",
       "<polyline clip-path=\"url(#clip360)\" style=\"stroke:#000000; stroke-linecap:round; stroke-linejoin:round; stroke-width:4; stroke-opacity:1; fill:none\" points=\"1232.47,1486.45 1232.47,1467.55 \"/>\n",
       "<polyline clip-path=\"url(#clip360)\" style=\"stroke:#000000; stroke-linecap:round; stroke-linejoin:round; stroke-width:4; stroke-opacity:1; fill:none\" points=\"1760.9,1486.45 1760.9,1467.55 \"/>\n",
       "<polyline clip-path=\"url(#clip360)\" style=\"stroke:#000000; stroke-linecap:round; stroke-linejoin:round; stroke-width:4; stroke-opacity:1; fill:none\" points=\"2289.34,1486.45 2289.34,1467.55 \"/>\n",
       "<path clip-path=\"url(#clip360)\" d=\"M175.59 1517.37 Q171.979 1517.37 170.15 1520.93 Q168.344 1524.47 168.344 1531.6 Q168.344 1538.71 170.15 1542.27 Q171.979 1545.82 175.59 1545.82 Q179.224 1545.82 181.03 1542.27 Q182.858 1538.71 182.858 1531.6 Q182.858 1524.47 181.03 1520.93 Q179.224 1517.37 175.59 1517.37 M175.59 1513.66 Q181.4 1513.66 184.455 1518.27 Q187.534 1522.85 187.534 1531.6 Q187.534 1540.33 184.455 1544.94 Q181.4 1549.52 175.59 1549.52 Q169.78 1549.52 166.701 1544.94 Q163.645 1540.33 163.645 1531.6 Q163.645 1522.85 166.701 1518.27 Q169.78 1513.66 175.59 1513.66 Z\" fill=\"#000000\" fill-rule=\"nonzero\" fill-opacity=\"1\" /><path clip-path=\"url(#clip360)\" d=\"M698.681 1544.91 L715 1544.91 L715 1548.85 L693.056 1548.85 L693.056 1544.91 Q695.718 1542.16 700.301 1537.53 Q704.908 1532.88 706.088 1531.53 Q708.334 1529.01 709.213 1527.27 Q710.116 1525.51 710.116 1523.82 Q710.116 1521.07 708.172 1519.33 Q706.25 1517.6 703.149 1517.6 Q700.949 1517.6 698.496 1518.36 Q696.065 1519.13 693.287 1520.68 L693.287 1515.95 Q696.112 1514.82 698.565 1514.24 Q701.019 1513.66 703.056 1513.66 Q708.426 1513.66 711.621 1516.35 Q714.815 1519.03 714.815 1523.52 Q714.815 1525.65 714.005 1527.57 Q713.218 1529.47 711.111 1532.07 Q710.533 1532.74 707.431 1535.95 Q704.329 1539.15 698.681 1544.91 Z\" fill=\"#000000\" fill-rule=\"nonzero\" fill-opacity=\"1\" /><path clip-path=\"url(#clip360)\" d=\"M1235.48 1518.36 L1223.67 1536.81 L1235.48 1536.81 L1235.48 1518.36 M1234.25 1514.29 L1240.13 1514.29 L1240.13 1536.81 L1245.06 1536.81 L1245.06 1540.7 L1240.13 1540.7 L1240.13 1548.85 L1235.48 1548.85 L1235.48 1540.7 L1219.87 1540.7 L1219.87 1536.19 L1234.25 1514.29 Z\" fill=\"#000000\" fill-rule=\"nonzero\" fill-opacity=\"1\" /><path clip-path=\"url(#clip360)\" d=\"M1761.31 1529.7 Q1758.16 1529.7 1756.31 1531.86 Q1754.48 1534.01 1754.48 1537.76 Q1754.48 1541.49 1756.31 1543.66 Q1758.16 1545.82 1761.31 1545.82 Q1764.46 1545.82 1766.29 1543.66 Q1768.14 1541.49 1768.14 1537.76 Q1768.14 1534.01 1766.29 1531.86 Q1764.46 1529.7 1761.31 1529.7 M1770.59 1515.05 L1770.59 1519.31 Q1768.83 1518.48 1767.03 1518.04 Q1765.25 1517.6 1763.49 1517.6 Q1758.86 1517.6 1756.4 1520.72 Q1753.97 1523.85 1753.62 1530.17 Q1754.99 1528.15 1757.05 1527.09 Q1759.11 1526 1761.59 1526 Q1766.8 1526 1769.81 1529.17 Q1772.84 1532.32 1772.84 1537.76 Q1772.84 1543.08 1769.69 1546.3 Q1766.54 1549.52 1761.31 1549.52 Q1755.31 1549.52 1752.14 1544.94 Q1748.97 1540.33 1748.97 1531.6 Q1748.97 1523.41 1752.86 1518.55 Q1756.75 1513.66 1763.3 1513.66 Q1765.06 1513.66 1766.84 1514.01 Q1768.65 1514.36 1770.59 1515.05 Z\" fill=\"#000000\" fill-rule=\"nonzero\" fill-opacity=\"1\" /><path clip-path=\"url(#clip360)\" d=\"M2289.34 1532.44 Q2286.01 1532.44 2284.09 1534.22 Q2282.19 1536 2282.19 1539.13 Q2282.19 1542.25 2284.09 1544.03 Q2286.01 1545.82 2289.34 1545.82 Q2292.68 1545.82 2294.6 1544.03 Q2296.52 1542.23 2296.52 1539.13 Q2296.52 1536 2294.6 1534.22 Q2292.7 1532.44 2289.34 1532.44 M2284.67 1530.45 Q2281.66 1529.7 2279.97 1527.64 Q2278.3 1525.58 2278.3 1522.62 Q2278.3 1518.48 2281.24 1516.07 Q2284.2 1513.66 2289.34 1513.66 Q2294.51 1513.66 2297.45 1516.07 Q2300.38 1518.48 2300.38 1522.62 Q2300.38 1525.58 2298.7 1527.64 Q2297.03 1529.7 2294.04 1530.45 Q2297.42 1531.23 2299.3 1533.52 Q2301.2 1535.82 2301.2 1539.13 Q2301.2 1544.15 2298.12 1546.83 Q2295.06 1549.52 2289.34 1549.52 Q2283.63 1549.52 2280.55 1546.83 Q2277.49 1544.15 2277.49 1539.13 Q2277.49 1535.82 2279.39 1533.52 Q2281.29 1531.23 2284.67 1530.45 M2282.95 1523.06 Q2282.95 1525.75 2284.62 1527.25 Q2286.31 1528.76 2289.34 1528.76 Q2292.35 1528.76 2294.04 1527.25 Q2295.76 1525.75 2295.76 1523.06 Q2295.76 1520.38 2294.04 1518.87 Q2292.35 1517.37 2289.34 1517.37 Q2286.31 1517.37 2284.62 1518.87 Q2282.95 1520.38 2282.95 1523.06 Z\" fill=\"#000000\" fill-rule=\"nonzero\" fill-opacity=\"1\" /><polyline clip-path=\"url(#clip362)\" style=\"stroke:#000000; stroke-linecap:round; stroke-linejoin:round; stroke-width:2; stroke-opacity:0.1; fill:none\" points=\"112.177,1434.11 2352.76,1434.11 \"/>\n",
       "<polyline clip-path=\"url(#clip362)\" style=\"stroke:#000000; stroke-linecap:round; stroke-linejoin:round; stroke-width:2; stroke-opacity:0.1; fill:none\" points=\"112.177,1099.3 2352.76,1099.3 \"/>\n",
       "<polyline clip-path=\"url(#clip362)\" style=\"stroke:#000000; stroke-linecap:round; stroke-linejoin:round; stroke-width:2; stroke-opacity:0.1; fill:none\" points=\"112.177,764.485 2352.76,764.485 \"/>\n",
       "<polyline clip-path=\"url(#clip362)\" style=\"stroke:#000000; stroke-linecap:round; stroke-linejoin:round; stroke-width:2; stroke-opacity:0.1; fill:none\" points=\"112.177,429.671 2352.76,429.671 \"/>\n",
       "<polyline clip-path=\"url(#clip362)\" style=\"stroke:#000000; stroke-linecap:round; stroke-linejoin:round; stroke-width:2; stroke-opacity:0.1; fill:none\" points=\"112.177,94.8569 2352.76,94.8569 \"/>\n",
       "<polyline clip-path=\"url(#clip360)\" style=\"stroke:#000000; stroke-linecap:round; stroke-linejoin:round; stroke-width:4; stroke-opacity:1; fill:none\" points=\"112.177,1486.45 112.177,47.2441 \"/>\n",
       "<polyline clip-path=\"url(#clip360)\" style=\"stroke:#000000; stroke-linecap:round; stroke-linejoin:round; stroke-width:4; stroke-opacity:1; fill:none\" points=\"112.177,1434.11 131.075,1434.11 \"/>\n",
       "<polyline clip-path=\"url(#clip360)\" style=\"stroke:#000000; stroke-linecap:round; stroke-linejoin:round; stroke-width:4; stroke-opacity:1; fill:none\" points=\"112.177,1099.3 131.075,1099.3 \"/>\n",
       "<polyline clip-path=\"url(#clip360)\" style=\"stroke:#000000; stroke-linecap:round; stroke-linejoin:round; stroke-width:4; stroke-opacity:1; fill:none\" points=\"112.177,764.485 131.075,764.485 \"/>\n",
       "<polyline clip-path=\"url(#clip360)\" style=\"stroke:#000000; stroke-linecap:round; stroke-linejoin:round; stroke-width:4; stroke-opacity:1; fill:none\" points=\"112.177,429.671 131.075,429.671 \"/>\n",
       "<polyline clip-path=\"url(#clip360)\" style=\"stroke:#000000; stroke-linecap:round; stroke-linejoin:round; stroke-width:4; stroke-opacity:1; fill:none\" points=\"112.177,94.8569 131.075,94.8569 \"/>\n",
       "<path clip-path=\"url(#clip360)\" d=\"M64.2328 1419.91 Q60.6217 1419.91 58.793 1423.48 Q56.9875 1427.02 56.9875 1434.15 Q56.9875 1441.26 58.793 1444.82 Q60.6217 1448.36 64.2328 1448.36 Q67.867 1448.36 69.6726 1444.82 Q71.5013 1441.26 71.5013 1434.15 Q71.5013 1427.02 69.6726 1423.48 Q67.867 1419.91 64.2328 1419.91 M64.2328 1416.21 Q70.0429 1416.21 73.0985 1420.82 Q76.1772 1425.4 76.1772 1434.15 Q76.1772 1442.88 73.0985 1447.48 Q70.0429 1452.07 64.2328 1452.07 Q58.4226 1452.07 55.344 1447.48 Q52.2884 1442.88 52.2884 1434.15 Q52.2884 1425.4 55.344 1420.82 Q58.4226 1416.21 64.2328 1416.21 Z\" fill=\"#000000\" fill-rule=\"nonzero\" fill-opacity=\"1\" /><path clip-path=\"url(#clip360)\" d=\"M59.8578 1112.64 L76.1772 1112.64 L76.1772 1116.58 L54.2328 1116.58 L54.2328 1112.64 Q56.8949 1109.89 61.4782 1105.26 Q66.0846 1100.61 67.2652 1099.26 Q69.5105 1096.74 70.3902 1095.01 Q71.2929 1093.25 71.2929 1091.56 Q71.2929 1088.8 69.3485 1087.07 Q67.4272 1085.33 64.3254 1085.33 Q62.1263 1085.33 59.6726 1086.09 Q57.2421 1086.86 54.4643 1088.41 L54.4643 1083.69 Q57.2884 1082.55 59.7421 1081.97 Q62.1958 1081.39 64.2328 1081.39 Q69.6031 1081.39 72.7976 1084.08 Q75.992 1086.77 75.992 1091.26 Q75.992 1093.39 75.1818 1095.31 Q74.3948 1097.2 72.2883 1099.8 Q71.7096 1100.47 68.6078 1103.69 Q65.5059 1106.88 59.8578 1112.64 Z\" fill=\"#000000\" fill-rule=\"nonzero\" fill-opacity=\"1\" /><path clip-path=\"url(#clip360)\" d=\"M66.5939 751.279 L54.7884 769.728 L66.5939 769.728 L66.5939 751.279 M65.367 747.205 L71.2466 747.205 L71.2466 769.728 L76.1772 769.728 L76.1772 773.617 L71.2466 773.617 L71.2466 781.765 L66.5939 781.765 L66.5939 773.617 L50.9921 773.617 L50.9921 769.103 L65.367 747.205 Z\" fill=\"#000000\" fill-rule=\"nonzero\" fill-opacity=\"1\" /><path clip-path=\"url(#clip360)\" d=\"M64.6495 427.808 Q61.5013 427.808 59.6495 429.96 Q57.8208 432.113 57.8208 435.863 Q57.8208 439.59 59.6495 441.766 Q61.5013 443.919 64.6495 443.919 Q67.7976 443.919 69.6263 441.766 Q71.4781 439.59 71.4781 435.863 Q71.4781 432.113 69.6263 429.96 Q67.7976 427.808 64.6495 427.808 M73.9318 413.155 L73.9318 417.414 Q72.1726 416.581 70.367 416.141 Q68.5846 415.701 66.8254 415.701 Q62.1958 415.701 59.7421 418.826 Q57.3115 421.951 56.9643 428.271 Q58.33 426.257 60.3902 425.192 Q62.4504 424.104 64.9272 424.104 Q70.1355 424.104 73.1448 427.275 Q76.1772 430.423 76.1772 435.863 Q76.1772 441.187 73.029 444.405 Q69.8809 447.622 64.6495 447.622 Q58.6541 447.622 55.4828 443.039 Q52.3116 438.433 52.3116 429.706 Q52.3116 421.511 56.2004 416.65 Q60.0893 411.766 66.6402 411.766 Q68.3994 411.766 70.1818 412.113 Q71.9874 412.461 73.9318 413.155 Z\" fill=\"#000000\" fill-rule=\"nonzero\" fill-opacity=\"1\" /><path clip-path=\"url(#clip360)\" d=\"M64.3254 95.7249 Q60.9921 95.7249 59.0708 97.5073 Q57.1726 99.2897 57.1726 102.415 Q57.1726 105.54 59.0708 107.322 Q60.9921 109.104 64.3254 109.104 Q67.6587 109.104 69.58 107.322 Q71.5013 105.517 71.5013 102.415 Q71.5013 99.2897 69.58 97.5073 Q67.6819 95.7249 64.3254 95.7249 M59.6495 93.7342 Q56.6402 92.9934 54.9504 90.9333 Q53.2838 88.8731 53.2838 85.9101 Q53.2838 81.7666 56.2236 79.3593 Q59.1865 76.9519 64.3254 76.9519 Q69.4874 76.9519 72.4272 79.3593 Q75.367 81.7666 75.367 85.9101 Q75.367 88.8731 73.6772 90.9333 Q72.0105 92.9934 69.0244 93.7342 Q72.404 94.5212 74.279 96.8129 Q76.1772 99.1045 76.1772 102.415 Q76.1772 107.438 73.0985 110.123 Q70.0429 112.808 64.3254 112.808 Q58.6078 112.808 55.5291 110.123 Q52.4736 107.438 52.4736 102.415 Q52.4736 99.1045 54.3717 96.8129 Q56.2699 94.5212 59.6495 93.7342 M57.9365 86.35 Q57.9365 89.0351 59.6032 90.5398 Q61.293 92.0444 64.3254 92.0444 Q67.3346 92.0444 69.0244 90.5398 Q70.7374 89.0351 70.7374 86.35 Q70.7374 83.6648 69.0244 82.1602 Q67.3346 80.6555 64.3254 80.6555 Q61.293 80.6555 59.6032 82.1602 Q57.9365 83.6648 57.9365 86.35 Z\" fill=\"#000000\" fill-rule=\"nonzero\" fill-opacity=\"1\" /><polyline clip-path=\"url(#clip362)\" style=\"stroke:#009af9; stroke-linecap:round; stroke-linejoin:round; stroke-width:4; stroke-opacity:1; fill:none\" points=\"175.59,1434.11 202.012,1435.99 228.434,1440.02 254.856,1443.65 281.277,1445.67 307.699,1445.72 334.121,1443.85 360.543,1440.25 386.965,1435.09 413.387,1428.49 439.809,1420.54 466.231,1411.32 492.653,1400.87 519.075,1389.24 545.497,1376.49 571.919,1362.66 598.34,1347.8 624.762,1331.94 651.184,1315.13 677.606,1297.41 704.028,1278.81 730.45,1259.39 756.872,1239.18 783.294,1218.22 809.716,1196.54 836.138,1174.2 862.56,1151.23 888.982,1127.66 915.404,1103.55 941.825,1078.92 968.247,1053.83 994.669,1028.3 1021.09,1002.39 1047.51,976.129 1073.94,949.558 1100.36,922.72 1126.78,895.654 1153.2,868.401 1179.62,841 1206.04,813.494 1232.47,785.921 1258.89,758.322 1285.31,730.737 1311.73,703.208 1338.15,675.774 1364.58,648.475 1391,621.352 1417.42,594.445 1443.84,567.795 1470.26,541.442 1496.69,515.426 1523.11,489.788 1549.53,464.567 1575.95,439.805 1602.37,415.541 1628.8,391.817 1655.22,368.672 1681.64,346.147 1708.06,324.282 1734.48,303.118 1760.9,282.696 1787.33,263.056 1813.75,244.238 1840.17,226.284 1866.59,209.235 1893.01,193.132 1919.44,178.017 1945.86,163.933 1972.28,150.923 1998.7,139.032 2025.12,128.309 2051.55,118.806 2077.97,110.581 2104.39,103.7 2130.81,98.2397 2157.23,94.2836 2183.66,91.915 2210.08,91.1812 2236.5,91.9892 2262.92,93.8009 2289.34,94.8569 \"/>\n",
       "<polyline clip-path=\"url(#clip362)\" style=\"stroke:#e26f46; stroke-linecap:round; stroke-linejoin:round; stroke-width:4; stroke-opacity:1; fill:none\" points=\"175.59,1434.11 202.012,1435.86 228.434,1439.15 254.856,1441.27 281.277,1441.44 307.699,1439.73 334.121,1436.37 360.543,1431.52 386.965,1425.27 413.387,1417.7 439.809,1408.85 466.231,1398.78 492.653,1387.53 519.075,1375.14 545.497,1361.66 571.919,1347.14 598.34,1331.6 624.762,1315.1 651.184,1297.68 677.606,1279.38 704.028,1260.24 730.45,1240.3 756.872,1219.61 783.294,1198.2 809.716,1176.11 836.138,1153.39 862.56,1130.07 888.982,1106.2 915.404,1081.81 941.825,1056.95 968.247,1031.65 994.669,1005.96 1021.09,979.902 1047.51,953.532 1073.94,926.885 1100.36,900 1126.78,872.918 1153.2,845.678 1179.62,818.32 1206.04,790.885 1232.47,763.411 1258.89,735.938 1285.31,708.507 1311.73,681.158 1338.15,653.93 1364.58,626.862 1391,599.996 1417.42,573.371 1443.84,547.027 1470.26,521.003 1496.69,495.34 1523.11,470.077 1549.53,445.255 1575.95,420.913 1602.37,397.091 1628.8,373.829 1655.22,351.166 1681.64,329.144 1708.06,307.802 1734.48,287.179 1760.9,267.316 1787.33,248.252 1813.75,230.028 1840.17,212.685 1866.59,196.261 1893.01,180.799 1919.44,166.339 1945.86,152.923 1972.28,140.595 1998.7,129.4 2025.12,119.388 2051.55,110.613 2077.97,103.138 2104.39,97.0386 2130.81,92.4056 2157.23,89.3469 2183.66,87.9763 2210.08,88.3651 2236.5,90.3887 2262.92,93.3163 2289.34,94.8569 \"/>\n",
       "<path clip-path=\"url(#clip360)\" d=\"M186.863 250.738 L463.351 250.738 L463.351 95.2176 L186.863 95.2176  Z\" fill=\"#ffffff\" fill-rule=\"evenodd\" fill-opacity=\"1\"/>\n",
       "<polyline clip-path=\"url(#clip360)\" style=\"stroke:#000000; stroke-linecap:round; stroke-linejoin:round; stroke-width:4; stroke-opacity:1; fill:none\" points=\"186.863,250.738 463.351,250.738 463.351,95.2176 186.863,95.2176 186.863,250.738 \"/>\n",
       "<polyline clip-path=\"url(#clip360)\" style=\"stroke:#009af9; stroke-linecap:round; stroke-linejoin:round; stroke-width:4; stroke-opacity:1; fill:none\" points=\"211.758,147.058 361.13,147.058 \"/>\n",
       "<path clip-path=\"url(#clip360)\" d=\"M399.868 166.745 Q398.063 171.375 396.35 172.787 Q394.637 174.199 391.766 174.199 L388.364 174.199 L388.364 170.634 L390.864 170.634 Q392.623 170.634 393.595 169.8 Q394.567 168.967 395.748 165.865 L396.512 163.921 L386.026 138.412 L390.54 138.412 L398.641 158.689 L406.743 138.412 L411.257 138.412 L399.868 166.745 Z\" fill=\"#000000\" fill-rule=\"nonzero\" fill-opacity=\"1\" /><path clip-path=\"url(#clip360)\" d=\"M418.549 160.402 L426.188 160.402 L426.188 134.037 L417.877 135.703 L417.877 131.444 L426.141 129.778 L430.817 129.778 L430.817 160.402 L438.456 160.402 L438.456 164.338 L418.549 164.338 L418.549 160.402 Z\" fill=\"#000000\" fill-rule=\"nonzero\" fill-opacity=\"1\" /><polyline clip-path=\"url(#clip360)\" style=\"stroke:#e26f46; stroke-linecap:round; stroke-linejoin:round; stroke-width:4; stroke-opacity:1; fill:none\" points=\"211.758,198.898 361.13,198.898 \"/>\n",
       "<path clip-path=\"url(#clip360)\" d=\"M399.868 218.585 Q398.063 223.215 396.35 224.627 Q394.637 226.039 391.766 226.039 L388.364 226.039 L388.364 222.474 L390.864 222.474 Q392.623 222.474 393.595 221.64 Q394.567 220.807 395.748 217.705 L396.512 215.761 L386.026 190.252 L390.54 190.252 L398.641 210.529 L406.743 190.252 L411.257 190.252 L399.868 218.585 Z\" fill=\"#000000\" fill-rule=\"nonzero\" fill-opacity=\"1\" /><path clip-path=\"url(#clip360)\" d=\"M421.766 212.242 L438.086 212.242 L438.086 216.178 L416.141 216.178 L416.141 212.242 Q418.803 209.488 423.387 204.858 Q427.993 200.205 429.174 198.863 Q431.419 196.34 432.299 194.604 Q433.201 192.844 433.201 191.155 Q433.201 188.4 431.257 186.664 Q429.336 184.928 426.234 184.928 Q424.035 184.928 421.581 185.692 Q419.151 186.455 416.373 188.006 L416.373 183.284 Q419.197 182.15 421.65 181.571 Q424.104 180.993 426.141 180.993 Q431.512 180.993 434.706 183.678 Q437.9 186.363 437.9 190.854 Q437.9 192.983 437.09 194.905 Q436.303 196.803 434.197 199.395 Q433.618 200.067 430.516 203.284 Q427.414 206.479 421.766 212.242 Z\" fill=\"#000000\" fill-rule=\"nonzero\" fill-opacity=\"1\" /></svg>\n"
      ]
     },
     "execution_count": 22,
     "metadata": {},
     "output_type": "execute_result"
    }
   ],
   "source": [
    "plot(thist,Xm[1,:])\n",
    "plot!(thist,Xm[2,:])"
   ]
  },
  {
   "cell_type": "code",
   "execution_count": 23,
   "metadata": {},
   "outputs": [
    {
     "data": {
      "image/svg+xml": [
       "<?xml version=\"1.0\" encoding=\"utf-8\"?>\n",
       "<svg xmlns=\"http://www.w3.org/2000/svg\" xmlns:xlink=\"http://www.w3.org/1999/xlink\" width=\"600\" height=\"400\" viewBox=\"0 0 2400 1600\">\n",
       "<defs>\n",
       "  <clipPath id=\"clip400\">\n",
       "    <rect x=\"0\" y=\"0\" width=\"2400\" height=\"1600\"/>\n",
       "  </clipPath>\n",
       "</defs>\n",
       "<path clip-path=\"url(#clip400)\" d=\"M0 1600 L2400 1600 L2400 0 L0 0  Z\" fill=\"#ffffff\" fill-rule=\"evenodd\" fill-opacity=\"1\"/>\n",
       "<defs>\n",
       "  <clipPath id=\"clip401\">\n",
       "    <rect x=\"480\" y=\"0\" width=\"1681\" height=\"1600\"/>\n",
       "  </clipPath>\n",
       "</defs>\n",
       "<path clip-path=\"url(#clip400)\" d=\"M254.26 1486.45 L2352.76 1486.45 L2352.76 47.2441 L254.26 47.2441  Z\" fill=\"#ffffff\" fill-rule=\"evenodd\" fill-opacity=\"1\"/>\n",
       "<defs>\n",
       "  <clipPath id=\"clip402\">\n",
       "    <rect x=\"254\" y=\"47\" width=\"2099\" height=\"1440\"/>\n",
       "  </clipPath>\n",
       "</defs>\n",
       "<polyline clip-path=\"url(#clip402)\" style=\"stroke:#000000; stroke-linecap:round; stroke-linejoin:round; stroke-width:2; stroke-opacity:0.1; fill:none\" points=\"313.651,1486.45 313.651,47.2441 \"/>\n",
       "<polyline clip-path=\"url(#clip402)\" style=\"stroke:#000000; stroke-linecap:round; stroke-linejoin:round; stroke-width:2; stroke-opacity:0.1; fill:none\" points=\"808.579,1486.45 808.579,47.2441 \"/>\n",
       "<polyline clip-path=\"url(#clip402)\" style=\"stroke:#000000; stroke-linecap:round; stroke-linejoin:round; stroke-width:2; stroke-opacity:0.1; fill:none\" points=\"1303.51,1486.45 1303.51,47.2441 \"/>\n",
       "<polyline clip-path=\"url(#clip402)\" style=\"stroke:#000000; stroke-linecap:round; stroke-linejoin:round; stroke-width:2; stroke-opacity:0.1; fill:none\" points=\"1798.44,1486.45 1798.44,47.2441 \"/>\n",
       "<polyline clip-path=\"url(#clip402)\" style=\"stroke:#000000; stroke-linecap:round; stroke-linejoin:round; stroke-width:2; stroke-opacity:0.1; fill:none\" points=\"2293.36,1486.45 2293.36,47.2441 \"/>\n",
       "<polyline clip-path=\"url(#clip400)\" style=\"stroke:#000000; stroke-linecap:round; stroke-linejoin:round; stroke-width:4; stroke-opacity:1; fill:none\" points=\"254.26,1486.45 2352.76,1486.45 \"/>\n",
       "<polyline clip-path=\"url(#clip400)\" style=\"stroke:#000000; stroke-linecap:round; stroke-linejoin:round; stroke-width:4; stroke-opacity:1; fill:none\" points=\"313.651,1486.45 313.651,1467.55 \"/>\n",
       "<polyline clip-path=\"url(#clip400)\" style=\"stroke:#000000; stroke-linecap:round; stroke-linejoin:round; stroke-width:4; stroke-opacity:1; fill:none\" points=\"808.579,1486.45 808.579,1467.55 \"/>\n",
       "<polyline clip-path=\"url(#clip400)\" style=\"stroke:#000000; stroke-linecap:round; stroke-linejoin:round; stroke-width:4; stroke-opacity:1; fill:none\" points=\"1303.51,1486.45 1303.51,1467.55 \"/>\n",
       "<polyline clip-path=\"url(#clip400)\" style=\"stroke:#000000; stroke-linecap:round; stroke-linejoin:round; stroke-width:4; stroke-opacity:1; fill:none\" points=\"1798.44,1486.45 1798.44,1467.55 \"/>\n",
       "<polyline clip-path=\"url(#clip400)\" style=\"stroke:#000000; stroke-linecap:round; stroke-linejoin:round; stroke-width:4; stroke-opacity:1; fill:none\" points=\"2293.36,1486.45 2293.36,1467.55 \"/>\n",
       "<path clip-path=\"url(#clip400)\" d=\"M313.651 1517.37 Q310.04 1517.37 308.211 1520.93 Q306.406 1524.47 306.406 1531.6 Q306.406 1538.71 308.211 1542.27 Q310.04 1545.82 313.651 1545.82 Q317.285 1545.82 319.091 1542.27 Q320.92 1538.71 320.92 1531.6 Q320.92 1524.47 319.091 1520.93 Q317.285 1517.37 313.651 1517.37 M313.651 1513.66 Q319.461 1513.66 322.517 1518.27 Q325.596 1522.85 325.596 1531.6 Q325.596 1540.33 322.517 1544.94 Q319.461 1549.52 313.651 1549.52 Q307.841 1549.52 304.762 1544.94 Q301.707 1540.33 301.707 1531.6 Q301.707 1522.85 304.762 1518.27 Q307.841 1513.66 313.651 1513.66 Z\" fill=\"#000000\" fill-rule=\"nonzero\" fill-opacity=\"1\" /><path clip-path=\"url(#clip400)\" d=\"M803.232 1544.91 L819.552 1544.91 L819.552 1548.85 L797.607 1548.85 L797.607 1544.91 Q800.269 1542.16 804.853 1537.53 Q809.459 1532.88 810.64 1531.53 Q812.885 1529.01 813.765 1527.27 Q814.667 1525.51 814.667 1523.82 Q814.667 1521.07 812.723 1519.33 Q810.802 1517.6 807.7 1517.6 Q805.501 1517.6 803.047 1518.36 Q800.617 1519.13 797.839 1520.68 L797.839 1515.95 Q800.663 1514.82 803.117 1514.24 Q805.57 1513.66 807.607 1513.66 Q812.978 1513.66 816.172 1516.35 Q819.366 1519.03 819.366 1523.52 Q819.366 1525.65 818.556 1527.57 Q817.769 1529.47 815.663 1532.07 Q815.084 1532.74 811.982 1535.95 Q808.88 1539.15 803.232 1544.91 Z\" fill=\"#000000\" fill-rule=\"nonzero\" fill-opacity=\"1\" /><path clip-path=\"url(#clip400)\" d=\"M1306.52 1518.36 L1294.71 1536.81 L1306.52 1536.81 L1306.52 1518.36 M1305.29 1514.29 L1311.17 1514.29 L1311.17 1536.81 L1316.1 1536.81 L1316.1 1540.7 L1311.17 1540.7 L1311.17 1548.85 L1306.52 1548.85 L1306.52 1540.7 L1290.92 1540.7 L1290.92 1536.19 L1305.29 1514.29 Z\" fill=\"#000000\" fill-rule=\"nonzero\" fill-opacity=\"1\" /><path clip-path=\"url(#clip400)\" d=\"M1798.84 1529.7 Q1795.69 1529.7 1793.84 1531.86 Q1792.01 1534.01 1792.01 1537.76 Q1792.01 1541.49 1793.84 1543.66 Q1795.69 1545.82 1798.84 1545.82 Q1801.99 1545.82 1803.82 1543.66 Q1805.67 1541.49 1805.67 1537.76 Q1805.67 1534.01 1803.82 1531.86 Q1801.99 1529.7 1798.84 1529.7 M1808.12 1515.05 L1808.12 1519.31 Q1806.36 1518.48 1804.56 1518.04 Q1802.78 1517.6 1801.02 1517.6 Q1796.39 1517.6 1793.93 1520.72 Q1791.5 1523.85 1791.16 1530.17 Q1792.52 1528.15 1794.58 1527.09 Q1796.64 1526 1799.12 1526 Q1804.33 1526 1807.34 1529.17 Q1810.37 1532.32 1810.37 1537.76 Q1810.37 1543.08 1807.22 1546.3 Q1804.07 1549.52 1798.84 1549.52 Q1792.85 1549.52 1789.67 1544.94 Q1786.5 1540.33 1786.5 1531.6 Q1786.5 1523.41 1790.39 1518.55 Q1794.28 1513.66 1800.83 1513.66 Q1802.59 1513.66 1804.37 1514.01 Q1806.18 1514.36 1808.12 1515.05 Z\" fill=\"#000000\" fill-rule=\"nonzero\" fill-opacity=\"1\" /><path clip-path=\"url(#clip400)\" d=\"M2293.36 1532.44 Q2290.03 1532.44 2288.11 1534.22 Q2286.21 1536 2286.21 1539.13 Q2286.21 1542.25 2288.11 1544.03 Q2290.03 1545.82 2293.36 1545.82 Q2296.7 1545.82 2298.62 1544.03 Q2300.54 1542.23 2300.54 1539.13 Q2300.54 1536 2298.62 1534.22 Q2296.72 1532.44 2293.36 1532.44 M2288.69 1530.45 Q2285.68 1529.7 2283.99 1527.64 Q2282.32 1525.58 2282.32 1522.62 Q2282.32 1518.48 2285.26 1516.07 Q2288.23 1513.66 2293.36 1513.66 Q2298.53 1513.66 2301.47 1516.07 Q2304.41 1518.48 2304.41 1522.62 Q2304.41 1525.58 2302.72 1527.64 Q2301.05 1529.7 2298.06 1530.45 Q2301.44 1531.23 2303.32 1533.52 Q2305.22 1535.82 2305.22 1539.13 Q2305.22 1544.15 2302.14 1546.83 Q2299.08 1549.52 2293.36 1549.52 Q2287.65 1549.52 2284.57 1546.83 Q2281.51 1544.15 2281.51 1539.13 Q2281.51 1535.82 2283.41 1533.52 Q2285.31 1531.23 2288.69 1530.45 M2286.98 1523.06 Q2286.98 1525.75 2288.64 1527.25 Q2290.33 1528.76 2293.36 1528.76 Q2296.37 1528.76 2298.06 1527.25 Q2299.78 1525.75 2299.78 1523.06 Q2299.78 1520.38 2298.06 1518.87 Q2296.37 1517.37 2293.36 1517.37 Q2290.33 1517.37 2288.64 1518.87 Q2286.98 1520.38 2286.98 1523.06 Z\" fill=\"#000000\" fill-rule=\"nonzero\" fill-opacity=\"1\" /><polyline clip-path=\"url(#clip402)\" style=\"stroke:#000000; stroke-linecap:round; stroke-linejoin:round; stroke-width:2; stroke-opacity:0.1; fill:none\" points=\"254.26,1337.53 2352.76,1337.53 \"/>\n",
       "<polyline clip-path=\"url(#clip402)\" style=\"stroke:#000000; stroke-linecap:round; stroke-linejoin:round; stroke-width:2; stroke-opacity:0.1; fill:none\" points=\"254.26,1064.09 2352.76,1064.09 \"/>\n",
       "<polyline clip-path=\"url(#clip402)\" style=\"stroke:#000000; stroke-linecap:round; stroke-linejoin:round; stroke-width:2; stroke-opacity:0.1; fill:none\" points=\"254.26,790.648 2352.76,790.648 \"/>\n",
       "<polyline clip-path=\"url(#clip402)\" style=\"stroke:#000000; stroke-linecap:round; stroke-linejoin:round; stroke-width:2; stroke-opacity:0.1; fill:none\" points=\"254.26,517.208 2352.76,517.208 \"/>\n",
       "<polyline clip-path=\"url(#clip402)\" style=\"stroke:#000000; stroke-linecap:round; stroke-linejoin:round; stroke-width:2; stroke-opacity:0.1; fill:none\" points=\"254.26,243.768 2352.76,243.768 \"/>\n",
       "<polyline clip-path=\"url(#clip400)\" style=\"stroke:#000000; stroke-linecap:round; stroke-linejoin:round; stroke-width:4; stroke-opacity:1; fill:none\" points=\"254.26,1486.45 254.26,47.2441 \"/>\n",
       "<polyline clip-path=\"url(#clip400)\" style=\"stroke:#000000; stroke-linecap:round; stroke-linejoin:round; stroke-width:4; stroke-opacity:1; fill:none\" points=\"254.26,1337.53 273.157,1337.53 \"/>\n",
       "<polyline clip-path=\"url(#clip400)\" style=\"stroke:#000000; stroke-linecap:round; stroke-linejoin:round; stroke-width:4; stroke-opacity:1; fill:none\" points=\"254.26,1064.09 273.157,1064.09 \"/>\n",
       "<polyline clip-path=\"url(#clip400)\" style=\"stroke:#000000; stroke-linecap:round; stroke-linejoin:round; stroke-width:4; stroke-opacity:1; fill:none\" points=\"254.26,790.648 273.157,790.648 \"/>\n",
       "<polyline clip-path=\"url(#clip400)\" style=\"stroke:#000000; stroke-linecap:round; stroke-linejoin:round; stroke-width:4; stroke-opacity:1; fill:none\" points=\"254.26,517.208 273.157,517.208 \"/>\n",
       "<polyline clip-path=\"url(#clip400)\" style=\"stroke:#000000; stroke-linecap:round; stroke-linejoin:round; stroke-width:4; stroke-opacity:1; fill:none\" points=\"254.26,243.768 273.157,243.768 \"/>\n",
       "<path clip-path=\"url(#clip400)\" d=\"M50.9921 1337.98 L80.6679 1337.98 L80.6679 1341.91 L50.9921 1341.91 L50.9921 1337.98 Z\" fill=\"#000000\" fill-rule=\"nonzero\" fill-opacity=\"1\" /><path clip-path=\"url(#clip400)\" d=\"M100.76 1323.33 Q97.1493 1323.33 95.3206 1326.89 Q93.515 1330.43 93.515 1337.56 Q93.515 1344.67 95.3206 1348.23 Q97.1493 1351.78 100.76 1351.78 Q104.395 1351.78 106.2 1348.23 Q108.029 1344.67 108.029 1337.56 Q108.029 1330.43 106.2 1326.89 Q104.395 1323.33 100.76 1323.33 M100.76 1319.62 Q106.571 1319.62 109.626 1324.23 Q112.705 1328.81 112.705 1337.56 Q112.705 1346.29 109.626 1350.9 Q106.571 1355.48 100.76 1355.48 Q94.9502 1355.48 91.8715 1350.9 Q88.816 1346.29 88.816 1337.56 Q88.816 1328.81 91.8715 1324.23 Q94.9502 1319.62 100.76 1319.62 Z\" fill=\"#000000\" fill-rule=\"nonzero\" fill-opacity=\"1\" /><path clip-path=\"url(#clip400)\" d=\"M120.922 1348.93 L125.807 1348.93 L125.807 1354.81 L120.922 1354.81 L120.922 1348.93 Z\" fill=\"#000000\" fill-rule=\"nonzero\" fill-opacity=\"1\" /><path clip-path=\"url(#clip400)\" d=\"M145.992 1323.33 Q142.381 1323.33 140.552 1326.89 Q138.746 1330.43 138.746 1337.56 Q138.746 1344.67 140.552 1348.23 Q142.381 1351.78 145.992 1351.78 Q149.626 1351.78 151.431 1348.23 Q153.26 1344.67 153.26 1337.56 Q153.26 1330.43 151.431 1326.89 Q149.626 1323.33 145.992 1323.33 M145.992 1319.62 Q151.802 1319.62 154.857 1324.23 Q157.936 1328.81 157.936 1337.56 Q157.936 1346.29 154.857 1350.9 Q151.802 1355.48 145.992 1355.48 Q140.181 1355.48 137.103 1350.9 Q134.047 1346.29 134.047 1337.56 Q134.047 1328.81 137.103 1324.23 Q140.181 1319.62 145.992 1319.62 Z\" fill=\"#000000\" fill-rule=\"nonzero\" fill-opacity=\"1\" /><path clip-path=\"url(#clip400)\" d=\"M166.2 1320.25 L184.556 1320.25 L184.556 1324.18 L170.482 1324.18 L170.482 1332.66 Q171.501 1332.31 172.519 1332.15 Q173.538 1331.96 174.556 1331.96 Q180.343 1331.96 183.723 1335.13 Q187.103 1338.3 187.103 1343.72 Q187.103 1349.3 183.63 1352.4 Q180.158 1355.48 173.839 1355.48 Q171.663 1355.48 169.394 1355.11 Q167.149 1354.74 164.742 1354 L164.742 1349.3 Q166.825 1350.43 169.047 1350.99 Q171.269 1351.54 173.746 1351.54 Q177.751 1351.54 180.089 1349.44 Q182.427 1347.33 182.427 1343.72 Q182.427 1340.11 180.089 1338 Q177.751 1335.9 173.746 1335.9 Q171.871 1335.9 169.996 1336.31 Q168.144 1336.73 166.2 1337.61 L166.2 1320.25 Z\" fill=\"#000000\" fill-rule=\"nonzero\" fill-opacity=\"1\" /><path clip-path=\"url(#clip400)\" d=\"M206.315 1323.33 Q202.704 1323.33 200.876 1326.89 Q199.07 1330.43 199.07 1337.56 Q199.07 1344.67 200.876 1348.23 Q202.704 1351.78 206.315 1351.78 Q209.95 1351.78 211.755 1348.23 Q213.584 1344.67 213.584 1337.56 Q213.584 1330.43 211.755 1326.89 Q209.95 1323.33 206.315 1323.33 M206.315 1319.62 Q212.126 1319.62 215.181 1324.23 Q218.26 1328.81 218.26 1337.56 Q218.26 1346.29 215.181 1350.9 Q212.126 1355.48 206.315 1355.48 Q200.505 1355.48 197.427 1350.9 Q194.371 1346.29 194.371 1337.56 Q194.371 1328.81 197.427 1324.23 Q200.505 1319.62 206.315 1319.62 Z\" fill=\"#000000\" fill-rule=\"nonzero\" fill-opacity=\"1\" /><path clip-path=\"url(#clip400)\" d=\"M51.9875 1064.54 L81.6633 1064.54 L81.6633 1068.47 L51.9875 1068.47 L51.9875 1064.54 Z\" fill=\"#000000\" fill-rule=\"nonzero\" fill-opacity=\"1\" /><path clip-path=\"url(#clip400)\" d=\"M101.756 1049.89 Q98.1447 1049.89 96.316 1053.45 Q94.5104 1056.99 94.5104 1064.12 Q94.5104 1071.23 96.316 1074.79 Q98.1447 1078.34 101.756 1078.34 Q105.39 1078.34 107.196 1074.79 Q109.024 1071.23 109.024 1064.12 Q109.024 1056.99 107.196 1053.45 Q105.39 1049.89 101.756 1049.89 M101.756 1046.18 Q107.566 1046.18 110.621 1050.79 Q113.7 1055.37 113.7 1064.12 Q113.7 1072.85 110.621 1077.46 Q107.566 1082.04 101.756 1082.04 Q95.9456 1082.04 92.8669 1077.46 Q89.8114 1072.85 89.8114 1064.12 Q89.8114 1055.37 92.8669 1050.79 Q95.9456 1046.18 101.756 1046.18 Z\" fill=\"#000000\" fill-rule=\"nonzero\" fill-opacity=\"1\" /><path clip-path=\"url(#clip400)\" d=\"M121.918 1075.49 L126.802 1075.49 L126.802 1081.37 L121.918 1081.37 L121.918 1075.49 Z\" fill=\"#000000\" fill-rule=\"nonzero\" fill-opacity=\"1\" /><path clip-path=\"url(#clip400)\" d=\"M146.987 1049.89 Q143.376 1049.89 141.547 1053.45 Q139.742 1056.99 139.742 1064.12 Q139.742 1071.23 141.547 1074.79 Q143.376 1078.34 146.987 1078.34 Q150.621 1078.34 152.427 1074.79 Q154.255 1071.23 154.255 1064.12 Q154.255 1056.99 152.427 1053.45 Q150.621 1049.89 146.987 1049.89 M146.987 1046.18 Q152.797 1046.18 155.853 1050.79 Q158.931 1055.37 158.931 1064.12 Q158.931 1072.85 155.853 1077.46 Q152.797 1082.04 146.987 1082.04 Q141.177 1082.04 138.098 1077.46 Q135.043 1072.85 135.043 1064.12 Q135.043 1055.37 138.098 1050.79 Q141.177 1046.18 146.987 1046.18 Z\" fill=\"#000000\" fill-rule=\"nonzero\" fill-opacity=\"1\" /><path clip-path=\"url(#clip400)\" d=\"M171.177 1077.43 L187.496 1077.43 L187.496 1081.37 L165.552 1081.37 L165.552 1077.43 Q168.214 1074.68 172.797 1070.05 Q177.403 1065.4 178.584 1064.05 Q180.829 1061.53 181.709 1059.79 Q182.612 1058.03 182.612 1056.34 Q182.612 1053.59 180.667 1051.85 Q178.746 1050.12 175.644 1050.12 Q173.445 1050.12 170.991 1050.88 Q168.561 1051.65 165.783 1053.2 L165.783 1048.47 Q168.607 1047.34 171.061 1046.76 Q173.515 1046.18 175.552 1046.18 Q180.922 1046.18 184.116 1048.87 Q187.311 1051.55 187.311 1056.04 Q187.311 1058.17 186.501 1060.09 Q185.714 1061.99 183.607 1064.59 Q183.028 1065.26 179.927 1068.47 Q176.825 1071.67 171.177 1077.43 Z\" fill=\"#000000\" fill-rule=\"nonzero\" fill-opacity=\"1\" /><path clip-path=\"url(#clip400)\" d=\"M197.357 1046.81 L215.713 1046.81 L215.713 1050.74 L201.639 1050.74 L201.639 1059.22 Q202.658 1058.87 203.676 1058.71 Q204.695 1058.52 205.714 1058.52 Q211.501 1058.52 214.88 1061.69 Q218.26 1064.86 218.26 1070.28 Q218.26 1075.86 214.788 1078.96 Q211.315 1082.04 204.996 1082.04 Q202.82 1082.04 200.552 1081.67 Q198.306 1081.3 195.899 1080.56 L195.899 1075.86 Q197.982 1076.99 200.204 1077.55 Q202.426 1078.1 204.903 1078.1 Q208.908 1078.1 211.246 1076 Q213.584 1073.89 213.584 1070.28 Q213.584 1066.67 211.246 1064.56 Q208.908 1062.46 204.903 1062.46 Q203.028 1062.46 201.153 1062.87 Q199.302 1063.29 197.357 1064.17 L197.357 1046.81 Z\" fill=\"#000000\" fill-rule=\"nonzero\" fill-opacity=\"1\" /><path clip-path=\"url(#clip400)\" d=\"M100.76 776.447 Q97.1493 776.447 95.3206 780.012 Q93.515 783.553 93.515 790.683 Q93.515 797.789 95.3206 801.354 Q97.1493 804.896 100.76 804.896 Q104.395 804.896 106.2 801.354 Q108.029 797.789 108.029 790.683 Q108.029 783.553 106.2 780.012 Q104.395 776.447 100.76 776.447 M100.76 772.743 Q106.571 772.743 109.626 777.349 Q112.705 781.933 112.705 790.683 Q112.705 799.41 109.626 804.016 Q106.571 808.599 100.76 808.599 Q94.9502 808.599 91.8715 804.016 Q88.816 799.41 88.816 790.683 Q88.816 781.933 91.8715 777.349 Q94.9502 772.743 100.76 772.743 Z\" fill=\"#000000\" fill-rule=\"nonzero\" fill-opacity=\"1\" /><path clip-path=\"url(#clip400)\" d=\"M120.922 802.048 L125.807 802.048 L125.807 807.928 L120.922 807.928 L120.922 802.048 Z\" fill=\"#000000\" fill-rule=\"nonzero\" fill-opacity=\"1\" /><path clip-path=\"url(#clip400)\" d=\"M145.992 776.447 Q142.381 776.447 140.552 780.012 Q138.746 783.553 138.746 790.683 Q138.746 797.789 140.552 801.354 Q142.381 804.896 145.992 804.896 Q149.626 804.896 151.431 801.354 Q153.26 797.789 153.26 790.683 Q153.26 783.553 151.431 780.012 Q149.626 776.447 145.992 776.447 M145.992 772.743 Q151.802 772.743 154.857 777.349 Q157.936 781.933 157.936 790.683 Q157.936 799.41 154.857 804.016 Q151.802 808.599 145.992 808.599 Q140.181 808.599 137.103 804.016 Q134.047 799.41 134.047 790.683 Q134.047 781.933 137.103 777.349 Q140.181 772.743 145.992 772.743 Z\" fill=\"#000000\" fill-rule=\"nonzero\" fill-opacity=\"1\" /><path clip-path=\"url(#clip400)\" d=\"M176.153 776.447 Q172.542 776.447 170.714 780.012 Q168.908 783.553 168.908 790.683 Q168.908 797.789 170.714 801.354 Q172.542 804.896 176.153 804.896 Q179.788 804.896 181.593 801.354 Q183.422 797.789 183.422 790.683 Q183.422 783.553 181.593 780.012 Q179.788 776.447 176.153 776.447 M176.153 772.743 Q181.964 772.743 185.019 777.349 Q188.098 781.933 188.098 790.683 Q188.098 799.41 185.019 804.016 Q181.964 808.599 176.153 808.599 Q170.343 808.599 167.265 804.016 Q164.209 799.41 164.209 790.683 Q164.209 781.933 167.265 777.349 Q170.343 772.743 176.153 772.743 Z\" fill=\"#000000\" fill-rule=\"nonzero\" fill-opacity=\"1\" /><path clip-path=\"url(#clip400)\" d=\"M206.315 776.447 Q202.704 776.447 200.876 780.012 Q199.07 783.553 199.07 790.683 Q199.07 797.789 200.876 801.354 Q202.704 804.896 206.315 804.896 Q209.95 804.896 211.755 801.354 Q213.584 797.789 213.584 790.683 Q213.584 783.553 211.755 780.012 Q209.95 776.447 206.315 776.447 M206.315 772.743 Q212.126 772.743 215.181 777.349 Q218.26 781.933 218.26 790.683 Q218.26 799.41 215.181 804.016 Q212.126 808.599 206.315 808.599 Q200.505 808.599 197.427 804.016 Q194.371 799.41 194.371 790.683 Q194.371 781.933 197.427 777.349 Q200.505 772.743 206.315 772.743 Z\" fill=\"#000000\" fill-rule=\"nonzero\" fill-opacity=\"1\" /><path clip-path=\"url(#clip400)\" d=\"M101.756 503.007 Q98.1447 503.007 96.316 506.572 Q94.5104 510.113 94.5104 517.243 Q94.5104 524.349 96.316 527.914 Q98.1447 531.456 101.756 531.456 Q105.39 531.456 107.196 527.914 Q109.024 524.349 109.024 517.243 Q109.024 510.113 107.196 506.572 Q105.39 503.007 101.756 503.007 M101.756 499.303 Q107.566 499.303 110.621 503.91 Q113.7 508.493 113.7 517.243 Q113.7 525.97 110.621 530.576 Q107.566 535.159 101.756 535.159 Q95.9456 535.159 92.8669 530.576 Q89.8114 525.97 89.8114 517.243 Q89.8114 508.493 92.8669 503.91 Q95.9456 499.303 101.756 499.303 Z\" fill=\"#000000\" fill-rule=\"nonzero\" fill-opacity=\"1\" /><path clip-path=\"url(#clip400)\" d=\"M121.918 528.608 L126.802 528.608 L126.802 534.488 L121.918 534.488 L121.918 528.608 Z\" fill=\"#000000\" fill-rule=\"nonzero\" fill-opacity=\"1\" /><path clip-path=\"url(#clip400)\" d=\"M146.987 503.007 Q143.376 503.007 141.547 506.572 Q139.742 510.113 139.742 517.243 Q139.742 524.349 141.547 527.914 Q143.376 531.456 146.987 531.456 Q150.621 531.456 152.427 527.914 Q154.255 524.349 154.255 517.243 Q154.255 510.113 152.427 506.572 Q150.621 503.007 146.987 503.007 M146.987 499.303 Q152.797 499.303 155.853 503.91 Q158.931 508.493 158.931 517.243 Q158.931 525.97 155.853 530.576 Q152.797 535.159 146.987 535.159 Q141.177 535.159 138.098 530.576 Q135.043 525.97 135.043 517.243 Q135.043 508.493 138.098 503.91 Q141.177 499.303 146.987 499.303 Z\" fill=\"#000000\" fill-rule=\"nonzero\" fill-opacity=\"1\" /><path clip-path=\"url(#clip400)\" d=\"M171.177 530.553 L187.496 530.553 L187.496 534.488 L165.552 534.488 L165.552 530.553 Q168.214 527.798 172.797 523.169 Q177.403 518.516 178.584 517.173 Q180.829 514.65 181.709 512.914 Q182.612 511.155 182.612 509.465 Q182.612 506.71 180.667 504.974 Q178.746 503.238 175.644 503.238 Q173.445 503.238 170.991 504.002 Q168.561 504.766 165.783 506.317 L165.783 501.595 Q168.607 500.461 171.061 499.882 Q173.515 499.303 175.552 499.303 Q180.922 499.303 184.116 501.988 Q187.311 504.673 187.311 509.164 Q187.311 511.294 186.501 513.215 Q185.714 515.113 183.607 517.706 Q183.028 518.377 179.927 521.595 Q176.825 524.789 171.177 530.553 Z\" fill=\"#000000\" fill-rule=\"nonzero\" fill-opacity=\"1\" /><path clip-path=\"url(#clip400)\" d=\"M197.357 499.928 L215.713 499.928 L215.713 503.863 L201.639 503.863 L201.639 512.335 Q202.658 511.988 203.676 511.826 Q204.695 511.641 205.714 511.641 Q211.501 511.641 214.88 514.812 Q218.26 517.984 218.26 523.4 Q218.26 528.979 214.788 532.081 Q211.315 535.159 204.996 535.159 Q202.82 535.159 200.552 534.789 Q198.306 534.419 195.899 533.678 L195.899 528.979 Q197.982 530.113 200.204 530.669 Q202.426 531.224 204.903 531.224 Q208.908 531.224 211.246 529.118 Q213.584 527.011 213.584 523.4 Q213.584 519.789 211.246 517.683 Q208.908 515.576 204.903 515.576 Q203.028 515.576 201.153 515.993 Q199.302 516.409 197.357 517.289 L197.357 499.928 Z\" fill=\"#000000\" fill-rule=\"nonzero\" fill-opacity=\"1\" /><path clip-path=\"url(#clip400)\" d=\"M100.76 229.567 Q97.1493 229.567 95.3206 233.132 Q93.515 236.673 93.515 243.803 Q93.515 250.909 95.3206 254.474 Q97.1493 258.016 100.76 258.016 Q104.395 258.016 106.2 254.474 Q108.029 250.909 108.029 243.803 Q108.029 236.673 106.2 233.132 Q104.395 229.567 100.76 229.567 M100.76 225.863 Q106.571 225.863 109.626 230.47 Q112.705 235.053 112.705 243.803 Q112.705 252.53 109.626 257.136 Q106.571 261.719 100.76 261.719 Q94.9502 261.719 91.8715 257.136 Q88.816 252.53 88.816 243.803 Q88.816 235.053 91.8715 230.47 Q94.9502 225.863 100.76 225.863 Z\" fill=\"#000000\" fill-rule=\"nonzero\" fill-opacity=\"1\" /><path clip-path=\"url(#clip400)\" d=\"M120.922 255.169 L125.807 255.169 L125.807 261.048 L120.922 261.048 L120.922 255.169 Z\" fill=\"#000000\" fill-rule=\"nonzero\" fill-opacity=\"1\" /><path clip-path=\"url(#clip400)\" d=\"M145.992 229.567 Q142.381 229.567 140.552 233.132 Q138.746 236.673 138.746 243.803 Q138.746 250.909 140.552 254.474 Q142.381 258.016 145.992 258.016 Q149.626 258.016 151.431 254.474 Q153.26 250.909 153.26 243.803 Q153.26 236.673 151.431 233.132 Q149.626 229.567 145.992 229.567 M145.992 225.863 Q151.802 225.863 154.857 230.47 Q157.936 235.053 157.936 243.803 Q157.936 252.53 154.857 257.136 Q151.802 261.719 145.992 261.719 Q140.181 261.719 137.103 257.136 Q134.047 252.53 134.047 243.803 Q134.047 235.053 137.103 230.47 Q140.181 225.863 145.992 225.863 Z\" fill=\"#000000\" fill-rule=\"nonzero\" fill-opacity=\"1\" /><path clip-path=\"url(#clip400)\" d=\"M166.2 226.488 L184.556 226.488 L184.556 230.423 L170.482 230.423 L170.482 238.896 Q171.501 238.548 172.519 238.386 Q173.538 238.201 174.556 238.201 Q180.343 238.201 183.723 241.372 Q187.103 244.544 187.103 249.96 Q187.103 255.539 183.63 258.641 Q180.158 261.719 173.839 261.719 Q171.663 261.719 169.394 261.349 Q167.149 260.979 164.742 260.238 L164.742 255.539 Q166.825 256.673 169.047 257.229 Q171.269 257.784 173.746 257.784 Q177.751 257.784 180.089 255.678 Q182.427 253.571 182.427 249.96 Q182.427 246.349 180.089 244.243 Q177.751 242.136 173.746 242.136 Q171.871 242.136 169.996 242.553 Q168.144 242.97 166.2 243.849 L166.2 226.488 Z\" fill=\"#000000\" fill-rule=\"nonzero\" fill-opacity=\"1\" /><path clip-path=\"url(#clip400)\" d=\"M206.315 229.567 Q202.704 229.567 200.876 233.132 Q199.07 236.673 199.07 243.803 Q199.07 250.909 200.876 254.474 Q202.704 258.016 206.315 258.016 Q209.95 258.016 211.755 254.474 Q213.584 250.909 213.584 243.803 Q213.584 236.673 211.755 233.132 Q209.95 229.567 206.315 229.567 M206.315 225.863 Q212.126 225.863 215.181 230.47 Q218.26 235.053 218.26 243.803 Q218.26 252.53 215.181 257.136 Q212.126 261.719 206.315 261.719 Q200.505 261.719 197.427 257.136 Q194.371 252.53 194.371 243.803 Q194.371 235.053 197.427 230.47 Q200.505 225.863 206.315 225.863 Z\" fill=\"#000000\" fill-rule=\"nonzero\" fill-opacity=\"1\" /><polyline clip-path=\"url(#clip402)\" style=\"stroke:#009af9; stroke-linecap:round; stroke-linejoin:round; stroke-width:4; stroke-opacity:1; fill:none\" points=\"313.651,790.648 338.398,676.79 363.144,456.066 387.89,279.077 412.637,170.486 437.383,114.541 462.13,91.7521 486.876,87.9763 511.622,94.1709 536.369,104.721 561.115,116.188 585.862,126.562 610.608,134.835 635.355,140.717 660.101,144.426 684.847,146.509 709.594,147.683 734.34,148.707 759.087,150.291 783.833,153.03 808.579,157.375 833.326,163.627 858.072,171.951 882.819,182.393 907.565,194.907 932.312,209.383 957.058,225.665 981.804,243.578 1006.55,262.935 1031.3,283.551 1056.04,305.253 1080.79,327.88 1105.54,351.289 1130.28,375.353 1155.03,399.961 1179.78,425.022 1204.52,450.455 1229.27,476.196 1254.01,502.188 1278.76,528.39 1303.51,554.764 1328.25,581.282 1353,607.924 1377.75,634.673 1402.49,661.518 1427.24,688.451 1451.99,715.472 1476.73,742.579 1501.48,769.778 1526.23,797.076 1550.97,824.485 1575.72,852.019 1600.46,879.697 1625.21,907.539 1649.96,935.571 1674.7,963.822 1699.45,992.323 1724.2,1021.11 1748.94,1050.21 1773.69,1079.66 1798.44,1109.48 1823.18,1139.7 1847.93,1170.31 1872.68,1201.29 1897.42,1232.56 1922.17,1264.01 1946.91,1295.41 1971.66,1326.42 1996.41,1356.5 2021.15,1384.84 2045.9,1410.21 2070.65,1430.8 2095.39,1443.93 2120.14,1445.72 2144.89,1430.67 2169.63,1391.41 2194.38,1318.92 2219.13,1204.7 2243.87,1047.87 2268.62,875.121 2293.36,790.648 \"/>\n",
       "<polyline clip-path=\"url(#clip402)\" style=\"stroke:#e26f46; stroke-linecap:round; stroke-linejoin:round; stroke-width:4; stroke-opacity:1; fill:none\" points=\"313.651,790.648 338.398,708.474 363.144,547.437 387.89,406.697 412.637,300.53 437.383,225.913 462.13,178.785 486.876,155.072 511.622,150.43 536.369,160.489 561.115,181.18 585.862,208.929 610.608,240.731 635.355,274.176 660.101,307.429 684.847,339.201 709.594,368.688 734.34,395.503 759.087,419.582 783.833,441.102 808.579,460.394 833.326,477.873 858.072,493.979 882.819,509.14 907.565,523.742 932.312,538.117 957.058,552.537 981.804,567.214 1006.55,582.303 1031.3,597.915 1056.04,614.118 1080.79,630.948 1105.54,648.414 1130.28,666.507 1155.03,685.202 1179.78,704.465 1204.52,724.252 1229.27,744.517 1254.01,765.211 1278.76,786.282 1303.51,807.679 1328.25,829.351 1353,851.249 1377.75,873.322 1402.49,895.524 1427.24,917.807 1451.99,940.126 1476.73,962.436 1501.48,984.696 1526.23,1006.86 1550.97,1028.9 1575.72,1050.76 1600.46,1072.42 1625.21,1093.85 1649.96,1115 1674.7,1135.86 1699.45,1156.41 1724.2,1176.64 1748.94,1196.55 1773.69,1216.13 1798.44,1235.42 1823.18,1254.44 1847.93,1273.24 1872.68,1291.87 1897.42,1310.39 1922.17,1328.86 1946.91,1347.3 1971.66,1365.68 1996.41,1383.86 2021.15,1401.48 2045.9,1417.83 2070.65,1431.63 2095.39,1440.7 2120.14,1441.52 2144.89,1428.61 2169.63,1394.02 2194.38,1327.26 2219.13,1217.19 2243.87,1059.65 2268.62,879.924 2293.36,790.648 \"/>\n",
       "<path clip-path=\"url(#clip400)\" d=\"M2020.53 250.738 L2282.81 250.738 L2282.81 95.2176 L2020.53 95.2176  Z\" fill=\"#ffffff\" fill-rule=\"evenodd\" fill-opacity=\"1\"/>\n",
       "<polyline clip-path=\"url(#clip400)\" style=\"stroke:#000000; stroke-linecap:round; stroke-linejoin:round; stroke-width:4; stroke-opacity:1; fill:none\" points=\"2020.53,250.738 2282.81,250.738 2282.81,95.2176 2020.53,95.2176 2020.53,250.738 \"/>\n",
       "<polyline clip-path=\"url(#clip400)\" style=\"stroke:#009af9; stroke-linecap:round; stroke-linejoin:round; stroke-width:4; stroke-opacity:1; fill:none\" points=\"2043.84,147.058 2183.74,147.058 \"/>\n",
       "<path clip-path=\"url(#clip400)\" d=\"M2220.9 166.745 Q2219.1 171.375 2217.38 172.787 Q2215.67 174.199 2212.8 174.199 L2209.4 174.199 L2209.4 170.634 L2211.9 170.634 Q2213.66 170.634 2214.63 169.8 Q2215.6 168.967 2216.78 165.865 L2217.55 163.921 L2207.06 138.412 L2211.57 138.412 L2219.67 158.689 L2227.78 138.412 L2232.29 138.412 L2220.9 166.745 Z\" fill=\"#000000\" fill-rule=\"nonzero\" fill-opacity=\"1\" /><path clip-path=\"url(#clip400)\" d=\"M2239.58 160.402 L2247.22 160.402 L2247.22 134.037 L2238.91 135.703 L2238.91 131.444 L2247.17 129.778 L2251.85 129.778 L2251.85 160.402 L2259.49 160.402 L2259.49 164.338 L2239.58 164.338 L2239.58 160.402 Z\" fill=\"#000000\" fill-rule=\"nonzero\" fill-opacity=\"1\" /><polyline clip-path=\"url(#clip400)\" style=\"stroke:#e26f46; stroke-linecap:round; stroke-linejoin:round; stroke-width:4; stroke-opacity:1; fill:none\" points=\"2043.84,198.898 2183.74,198.898 \"/>\n",
       "<path clip-path=\"url(#clip400)\" d=\"M2220.9 218.585 Q2219.1 223.215 2217.38 224.627 Q2215.67 226.039 2212.8 226.039 L2209.4 226.039 L2209.4 222.474 L2211.9 222.474 Q2213.66 222.474 2214.63 221.64 Q2215.6 220.807 2216.78 217.705 L2217.55 215.761 L2207.06 190.252 L2211.57 190.252 L2219.67 210.529 L2227.78 190.252 L2232.29 190.252 L2220.9 218.585 Z\" fill=\"#000000\" fill-rule=\"nonzero\" fill-opacity=\"1\" /><path clip-path=\"url(#clip400)\" d=\"M2242.8 212.242 L2259.12 212.242 L2259.12 216.178 L2237.17 216.178 L2237.17 212.242 Q2239.84 209.488 2244.42 204.858 Q2249.03 200.205 2250.21 198.863 Q2252.45 196.34 2253.33 194.604 Q2254.23 192.844 2254.23 191.155 Q2254.23 188.4 2252.29 186.664 Q2250.37 184.928 2247.27 184.928 Q2245.07 184.928 2242.61 185.692 Q2240.18 186.455 2237.41 188.006 L2237.41 183.284 Q2240.23 182.15 2242.68 181.571 Q2245.14 180.993 2247.17 180.993 Q2252.55 180.993 2255.74 183.678 Q2258.93 186.363 2258.93 190.854 Q2258.93 192.983 2258.12 194.905 Q2257.34 196.803 2255.23 199.395 Q2254.65 200.067 2251.55 203.284 Q2248.45 206.479 2242.8 212.242 Z\" fill=\"#000000\" fill-rule=\"nonzero\" fill-opacity=\"1\" /></svg>\n"
      ]
     },
     "execution_count": 23,
     "metadata": {},
     "output_type": "execute_result"
    }
   ],
   "source": [
    "plot(thist,Xm[3,:])\n",
    "plot!(thist,Xm[4,:])"
   ]
  },
  {
   "cell_type": "code",
   "execution_count": 24,
   "metadata": {},
   "outputs": [
    {
     "data": {
      "image/svg+xml": [
       "<?xml version=\"1.0\" encoding=\"utf-8\"?>\n",
       "<svg xmlns=\"http://www.w3.org/2000/svg\" xmlns:xlink=\"http://www.w3.org/1999/xlink\" width=\"600\" height=\"400\" viewBox=\"0 0 2400 1600\">\n",
       "<defs>\n",
       "  <clipPath id=\"clip440\">\n",
       "    <rect x=\"0\" y=\"0\" width=\"2400\" height=\"1600\"/>\n",
       "  </clipPath>\n",
       "</defs>\n",
       "<path clip-path=\"url(#clip440)\" d=\"M0 1600 L2400 1600 L2400 0 L0 0  Z\" fill=\"#ffffff\" fill-rule=\"evenodd\" fill-opacity=\"1\"/>\n",
       "<defs>\n",
       "  <clipPath id=\"clip441\">\n",
       "    <rect x=\"480\" y=\"0\" width=\"1681\" height=\"1600\"/>\n",
       "  </clipPath>\n",
       "</defs>\n",
       "<path clip-path=\"url(#clip440)\" d=\"M178.867 1486.45 L2352.76 1486.45 L2352.76 47.2441 L178.867 47.2441  Z\" fill=\"#ffffff\" fill-rule=\"evenodd\" fill-opacity=\"1\"/>\n",
       "<defs>\n",
       "  <clipPath id=\"clip442\">\n",
       "    <rect x=\"178\" y=\"47\" width=\"2175\" height=\"1440\"/>\n",
       "  </clipPath>\n",
       "</defs>\n",
       "<polyline clip-path=\"url(#clip442)\" style=\"stroke:#000000; stroke-linecap:round; stroke-linejoin:round; stroke-width:2; stroke-opacity:0.1; fill:none\" points=\"240.392,1486.45 240.392,47.2441 \"/>\n",
       "<polyline clip-path=\"url(#clip442)\" style=\"stroke:#000000; stroke-linecap:round; stroke-linejoin:round; stroke-width:2; stroke-opacity:0.1; fill:none\" points=\"759.592,1486.45 759.592,47.2441 \"/>\n",
       "<polyline clip-path=\"url(#clip442)\" style=\"stroke:#000000; stroke-linecap:round; stroke-linejoin:round; stroke-width:2; stroke-opacity:0.1; fill:none\" points=\"1278.79,1486.45 1278.79,47.2441 \"/>\n",
       "<polyline clip-path=\"url(#clip442)\" style=\"stroke:#000000; stroke-linecap:round; stroke-linejoin:round; stroke-width:2; stroke-opacity:0.1; fill:none\" points=\"1797.99,1486.45 1797.99,47.2441 \"/>\n",
       "<polyline clip-path=\"url(#clip442)\" style=\"stroke:#000000; stroke-linecap:round; stroke-linejoin:round; stroke-width:2; stroke-opacity:0.1; fill:none\" points=\"2317.19,1486.45 2317.19,47.2441 \"/>\n",
       "<polyline clip-path=\"url(#clip440)\" style=\"stroke:#000000; stroke-linecap:round; stroke-linejoin:round; stroke-width:4; stroke-opacity:1; fill:none\" points=\"178.867,1486.45 2352.76,1486.45 \"/>\n",
       "<polyline clip-path=\"url(#clip440)\" style=\"stroke:#000000; stroke-linecap:round; stroke-linejoin:round; stroke-width:4; stroke-opacity:1; fill:none\" points=\"240.392,1486.45 240.392,1467.55 \"/>\n",
       "<polyline clip-path=\"url(#clip440)\" style=\"stroke:#000000; stroke-linecap:round; stroke-linejoin:round; stroke-width:4; stroke-opacity:1; fill:none\" points=\"759.592,1486.45 759.592,1467.55 \"/>\n",
       "<polyline clip-path=\"url(#clip440)\" style=\"stroke:#000000; stroke-linecap:round; stroke-linejoin:round; stroke-width:4; stroke-opacity:1; fill:none\" points=\"1278.79,1486.45 1278.79,1467.55 \"/>\n",
       "<polyline clip-path=\"url(#clip440)\" style=\"stroke:#000000; stroke-linecap:round; stroke-linejoin:round; stroke-width:4; stroke-opacity:1; fill:none\" points=\"1797.99,1486.45 1797.99,1467.55 \"/>\n",
       "<polyline clip-path=\"url(#clip440)\" style=\"stroke:#000000; stroke-linecap:round; stroke-linejoin:round; stroke-width:4; stroke-opacity:1; fill:none\" points=\"2317.19,1486.45 2317.19,1467.55 \"/>\n",
       "<path clip-path=\"url(#clip440)\" d=\"M240.392 1517.37 Q236.781 1517.37 234.952 1520.93 Q233.146 1524.47 233.146 1531.6 Q233.146 1538.71 234.952 1542.27 Q236.781 1545.82 240.392 1545.82 Q244.026 1545.82 245.832 1542.27 Q247.66 1538.71 247.66 1531.6 Q247.66 1524.47 245.832 1520.93 Q244.026 1517.37 240.392 1517.37 M240.392 1513.66 Q246.202 1513.66 249.257 1518.27 Q252.336 1522.85 252.336 1531.6 Q252.336 1540.33 249.257 1544.94 Q246.202 1549.52 240.392 1549.52 Q234.582 1549.52 231.503 1544.94 Q228.447 1540.33 228.447 1531.6 Q228.447 1522.85 231.503 1518.27 Q234.582 1513.66 240.392 1513.66 Z\" fill=\"#000000\" fill-rule=\"nonzero\" fill-opacity=\"1\" /><path clip-path=\"url(#clip440)\" d=\"M754.244 1544.91 L770.564 1544.91 L770.564 1548.85 L748.619 1548.85 L748.619 1544.91 Q751.281 1542.16 755.865 1537.53 Q760.471 1532.88 761.652 1531.53 Q763.897 1529.01 764.777 1527.27 Q765.679 1525.51 765.679 1523.82 Q765.679 1521.07 763.735 1519.33 Q761.814 1517.6 758.712 1517.6 Q756.513 1517.6 754.059 1518.36 Q751.629 1519.13 748.851 1520.68 L748.851 1515.95 Q751.675 1514.82 754.129 1514.24 Q756.582 1513.66 758.619 1513.66 Q763.99 1513.66 767.184 1516.35 Q770.379 1519.03 770.379 1523.52 Q770.379 1525.65 769.568 1527.57 Q768.781 1529.47 766.675 1532.07 Q766.096 1532.74 762.994 1535.95 Q759.892 1539.15 754.244 1544.91 Z\" fill=\"#000000\" fill-rule=\"nonzero\" fill-opacity=\"1\" /><path clip-path=\"url(#clip440)\" d=\"M1281.8 1518.36 L1270 1536.81 L1281.8 1536.81 L1281.8 1518.36 M1280.57 1514.29 L1286.45 1514.29 L1286.45 1536.81 L1291.38 1536.81 L1291.38 1540.7 L1286.45 1540.7 L1286.45 1548.85 L1281.8 1548.85 L1281.8 1540.7 L1266.2 1540.7 L1266.2 1536.19 L1280.57 1514.29 Z\" fill=\"#000000\" fill-rule=\"nonzero\" fill-opacity=\"1\" /><path clip-path=\"url(#clip440)\" d=\"M1798.4 1529.7 Q1795.25 1529.7 1793.4 1531.86 Q1791.57 1534.01 1791.57 1537.76 Q1791.57 1541.49 1793.4 1543.66 Q1795.25 1545.82 1798.4 1545.82 Q1801.54 1545.82 1803.37 1543.66 Q1805.22 1541.49 1805.22 1537.76 Q1805.22 1534.01 1803.37 1531.86 Q1801.54 1529.7 1798.4 1529.7 M1807.68 1515.05 L1807.68 1519.31 Q1805.92 1518.48 1804.11 1518.04 Q1802.33 1517.6 1800.57 1517.6 Q1795.94 1517.6 1793.49 1520.72 Q1791.06 1523.85 1790.71 1530.17 Q1792.08 1528.15 1794.14 1527.09 Q1796.2 1526 1798.67 1526 Q1803.88 1526 1806.89 1529.17 Q1809.92 1532.32 1809.92 1537.76 Q1809.92 1543.08 1806.78 1546.3 Q1803.63 1549.52 1798.4 1549.52 Q1792.4 1549.52 1789.23 1544.94 Q1786.06 1540.33 1786.06 1531.6 Q1786.06 1523.41 1789.95 1518.55 Q1793.84 1513.66 1800.39 1513.66 Q1802.15 1513.66 1803.93 1514.01 Q1805.73 1514.36 1807.68 1515.05 Z\" fill=\"#000000\" fill-rule=\"nonzero\" fill-opacity=\"1\" /><path clip-path=\"url(#clip440)\" d=\"M2317.19 1532.44 Q2313.86 1532.44 2311.94 1534.22 Q2310.04 1536 2310.04 1539.13 Q2310.04 1542.25 2311.94 1544.03 Q2313.86 1545.82 2317.19 1545.82 Q2320.52 1545.82 2322.45 1544.03 Q2324.37 1542.23 2324.37 1539.13 Q2324.37 1536 2322.45 1534.22 Q2320.55 1532.44 2317.19 1532.44 M2312.51 1530.45 Q2309.51 1529.7 2307.82 1527.64 Q2306.15 1525.58 2306.15 1522.62 Q2306.15 1518.48 2309.09 1516.07 Q2312.05 1513.66 2317.19 1513.66 Q2322.35 1513.66 2325.29 1516.07 Q2328.23 1518.48 2328.23 1522.62 Q2328.23 1525.58 2326.54 1527.64 Q2324.88 1529.7 2321.89 1530.45 Q2325.27 1531.23 2327.14 1533.52 Q2329.04 1535.82 2329.04 1539.13 Q2329.04 1544.15 2325.96 1546.83 Q2322.91 1549.52 2317.19 1549.52 Q2311.47 1549.52 2308.39 1546.83 Q2305.34 1544.15 2305.34 1539.13 Q2305.34 1535.82 2307.24 1533.52 Q2309.14 1531.23 2312.51 1530.45 M2310.8 1523.06 Q2310.8 1525.75 2312.47 1527.25 Q2314.16 1528.76 2317.19 1528.76 Q2320.2 1528.76 2321.89 1527.25 Q2323.6 1525.75 2323.6 1523.06 Q2323.6 1520.38 2321.89 1518.87 Q2320.2 1517.37 2317.19 1517.37 Q2314.16 1517.37 2312.47 1518.87 Q2310.8 1520.38 2310.8 1523.06 Z\" fill=\"#000000\" fill-rule=\"nonzero\" fill-opacity=\"1\" /><polyline clip-path=\"url(#clip442)\" style=\"stroke:#000000; stroke-linecap:round; stroke-linejoin:round; stroke-width:2; stroke-opacity:0.1; fill:none\" points=\"178.867,1289.8 2352.76,1289.8 \"/>\n",
       "<polyline clip-path=\"url(#clip442)\" style=\"stroke:#000000; stroke-linecap:round; stroke-linejoin:round; stroke-width:2; stroke-opacity:0.1; fill:none\" points=\"178.867,1031.28 2352.76,1031.28 \"/>\n",
       "<polyline clip-path=\"url(#clip442)\" style=\"stroke:#000000; stroke-linecap:round; stroke-linejoin:round; stroke-width:2; stroke-opacity:0.1; fill:none\" points=\"178.867,772.757 2352.76,772.757 \"/>\n",
       "<polyline clip-path=\"url(#clip442)\" style=\"stroke:#000000; stroke-linecap:round; stroke-linejoin:round; stroke-width:2; stroke-opacity:0.1; fill:none\" points=\"178.867,514.236 2352.76,514.236 \"/>\n",
       "<polyline clip-path=\"url(#clip442)\" style=\"stroke:#000000; stroke-linecap:round; stroke-linejoin:round; stroke-width:2; stroke-opacity:0.1; fill:none\" points=\"178.867,255.715 2352.76,255.715 \"/>\n",
       "<polyline clip-path=\"url(#clip440)\" style=\"stroke:#000000; stroke-linecap:round; stroke-linejoin:round; stroke-width:4; stroke-opacity:1; fill:none\" points=\"178.867,1486.45 178.867,47.2441 \"/>\n",
       "<polyline clip-path=\"url(#clip440)\" style=\"stroke:#000000; stroke-linecap:round; stroke-linejoin:round; stroke-width:4; stroke-opacity:1; fill:none\" points=\"178.867,1289.8 197.764,1289.8 \"/>\n",
       "<polyline clip-path=\"url(#clip440)\" style=\"stroke:#000000; stroke-linecap:round; stroke-linejoin:round; stroke-width:4; stroke-opacity:1; fill:none\" points=\"178.867,1031.28 197.764,1031.28 \"/>\n",
       "<polyline clip-path=\"url(#clip440)\" style=\"stroke:#000000; stroke-linecap:round; stroke-linejoin:round; stroke-width:4; stroke-opacity:1; fill:none\" points=\"178.867,772.757 197.764,772.757 \"/>\n",
       "<polyline clip-path=\"url(#clip440)\" style=\"stroke:#000000; stroke-linecap:round; stroke-linejoin:round; stroke-width:4; stroke-opacity:1; fill:none\" points=\"178.867,514.236 197.764,514.236 \"/>\n",
       "<polyline clip-path=\"url(#clip440)\" style=\"stroke:#000000; stroke-linecap:round; stroke-linejoin:round; stroke-width:4; stroke-opacity:1; fill:none\" points=\"178.867,255.715 197.764,255.715 \"/>\n",
       "<path clip-path=\"url(#clip440)\" d=\"M50.9921 1290.25 L80.6679 1290.25 L80.6679 1294.19 L50.9921 1294.19 L50.9921 1290.25 Z\" fill=\"#000000\" fill-rule=\"nonzero\" fill-opacity=\"1\" /><path clip-path=\"url(#clip440)\" d=\"M103.608 1276.59 L91.8021 1295.04 L103.608 1295.04 L103.608 1276.59 M102.381 1272.52 L108.26 1272.52 L108.26 1295.04 L113.191 1295.04 L113.191 1298.93 L108.26 1298.93 L108.26 1307.08 L103.608 1307.08 L103.608 1298.93 L88.0058 1298.93 L88.0058 1294.42 L102.381 1272.52 Z\" fill=\"#000000\" fill-rule=\"nonzero\" fill-opacity=\"1\" /><path clip-path=\"url(#clip440)\" d=\"M130.922 1275.6 Q127.311 1275.6 125.482 1279.16 Q123.677 1282.7 123.677 1289.83 Q123.677 1296.94 125.482 1300.5 Q127.311 1304.05 130.922 1304.05 Q134.556 1304.05 136.362 1300.5 Q138.191 1296.94 138.191 1289.83 Q138.191 1282.7 136.362 1279.16 Q134.556 1275.6 130.922 1275.6 M130.922 1271.89 Q136.732 1271.89 139.788 1276.5 Q142.867 1281.08 142.867 1289.83 Q142.867 1298.56 139.788 1303.17 Q136.732 1307.75 130.922 1307.75 Q125.112 1307.75 122.033 1303.17 Q118.978 1298.56 118.978 1289.83 Q118.978 1281.08 122.033 1276.5 Q125.112 1271.89 130.922 1271.89 Z\" fill=\"#000000\" fill-rule=\"nonzero\" fill-opacity=\"1\" /><path clip-path=\"url(#clip440)\" d=\"M50.9921 1031.73 L80.6679 1031.73 L80.6679 1035.66 L50.9921 1035.66 L50.9921 1031.73 Z\" fill=\"#000000\" fill-rule=\"nonzero\" fill-opacity=\"1\" /><path clip-path=\"url(#clip440)\" d=\"M94.7882 1044.62 L111.108 1044.62 L111.108 1048.56 L89.1632 1048.56 L89.1632 1044.62 Q91.8252 1041.87 96.4085 1037.24 Q101.015 1032.59 102.196 1031.24 Q104.441 1028.72 105.321 1026.98 Q106.223 1025.22 106.223 1023.53 Q106.223 1020.78 104.279 1019.04 Q102.358 1017.31 99.2558 1017.31 Q97.0567 1017.31 94.603 1018.07 Q92.1725 1018.84 89.3947 1020.39 L89.3947 1015.66 Q92.2188 1014.53 94.6724 1013.95 Q97.1261 1013.37 99.1632 1013.37 Q104.534 1013.37 107.728 1016.06 Q110.922 1018.74 110.922 1023.23 Q110.922 1025.36 110.112 1027.28 Q109.325 1029.18 107.219 1031.78 Q106.64 1032.45 103.538 1035.66 Q100.436 1038.86 94.7882 1044.62 Z\" fill=\"#000000\" fill-rule=\"nonzero\" fill-opacity=\"1\" /><path clip-path=\"url(#clip440)\" d=\"M130.922 1017.08 Q127.311 1017.08 125.482 1020.64 Q123.677 1024.18 123.677 1031.31 Q123.677 1038.42 125.482 1041.98 Q127.311 1045.53 130.922 1045.53 Q134.556 1045.53 136.362 1041.98 Q138.191 1038.42 138.191 1031.31 Q138.191 1024.18 136.362 1020.64 Q134.556 1017.08 130.922 1017.08 M130.922 1013.37 Q136.732 1013.37 139.788 1017.98 Q142.867 1022.56 142.867 1031.31 Q142.867 1040.04 139.788 1044.65 Q136.732 1049.23 130.922 1049.23 Q125.112 1049.23 122.033 1044.65 Q118.978 1040.04 118.978 1031.31 Q118.978 1022.56 122.033 1017.98 Q125.112 1013.37 130.922 1013.37 Z\" fill=\"#000000\" fill-rule=\"nonzero\" fill-opacity=\"1\" /><path clip-path=\"url(#clip440)\" d=\"M130.922 758.555 Q127.311 758.555 125.482 762.12 Q123.677 765.662 123.677 772.791 Q123.677 779.898 125.482 783.462 Q127.311 787.004 130.922 787.004 Q134.556 787.004 136.362 783.462 Q138.191 779.898 138.191 772.791 Q138.191 765.662 136.362 762.12 Q134.556 758.555 130.922 758.555 M130.922 754.852 Q136.732 754.852 139.788 759.458 Q142.867 764.041 142.867 772.791 Q142.867 781.518 139.788 786.125 Q136.732 790.708 130.922 790.708 Q125.112 790.708 122.033 786.125 Q118.978 781.518 118.978 772.791 Q118.978 764.041 122.033 759.458 Q125.112 754.852 130.922 754.852 Z\" fill=\"#000000\" fill-rule=\"nonzero\" fill-opacity=\"1\" /><path clip-path=\"url(#clip440)\" d=\"M94.7882 527.58 L111.108 527.58 L111.108 531.516 L89.1632 531.516 L89.1632 527.58 Q91.8252 524.826 96.4085 520.196 Q101.015 515.543 102.196 514.201 Q104.441 511.678 105.321 509.942 Q106.223 508.182 106.223 506.493 Q106.223 503.738 104.279 502.002 Q102.358 500.266 99.2558 500.266 Q97.0567 500.266 94.603 501.03 Q92.1725 501.793 89.3947 503.344 L89.3947 498.622 Q92.2188 497.488 94.6724 496.909 Q97.1261 496.331 99.1632 496.331 Q104.534 496.331 107.728 499.016 Q110.922 501.701 110.922 506.192 Q110.922 508.321 110.112 510.243 Q109.325 512.141 107.219 514.733 Q106.64 515.405 103.538 518.622 Q100.436 521.817 94.7882 527.58 Z\" fill=\"#000000\" fill-rule=\"nonzero\" fill-opacity=\"1\" /><path clip-path=\"url(#clip440)\" d=\"M130.922 500.034 Q127.311 500.034 125.482 503.599 Q123.677 507.141 123.677 514.27 Q123.677 521.377 125.482 524.942 Q127.311 528.483 130.922 528.483 Q134.556 528.483 136.362 524.942 Q138.191 521.377 138.191 514.27 Q138.191 507.141 136.362 503.599 Q134.556 500.034 130.922 500.034 M130.922 496.331 Q136.732 496.331 139.788 500.937 Q142.867 505.52 142.867 514.27 Q142.867 522.997 139.788 527.604 Q136.732 532.187 130.922 532.187 Q125.112 532.187 122.033 527.604 Q118.978 522.997 118.978 514.27 Q118.978 505.52 122.033 500.937 Q125.112 496.331 130.922 496.331 Z\" fill=\"#000000\" fill-rule=\"nonzero\" fill-opacity=\"1\" /><path clip-path=\"url(#clip440)\" d=\"M103.608 242.509 L91.8021 260.958 L103.608 260.958 L103.608 242.509 M102.381 238.435 L108.26 238.435 L108.26 260.958 L113.191 260.958 L113.191 264.846 L108.26 264.846 L108.26 272.995 L103.608 272.995 L103.608 264.846 L88.0058 264.846 L88.0058 260.333 L102.381 238.435 Z\" fill=\"#000000\" fill-rule=\"nonzero\" fill-opacity=\"1\" /><path clip-path=\"url(#clip440)\" d=\"M130.922 241.513 Q127.311 241.513 125.482 245.078 Q123.677 248.62 123.677 255.749 Q123.677 262.856 125.482 266.421 Q127.311 269.962 130.922 269.962 Q134.556 269.962 136.362 266.421 Q138.191 262.856 138.191 255.749 Q138.191 248.62 136.362 245.078 Q134.556 241.513 130.922 241.513 M130.922 237.81 Q136.732 237.81 139.788 242.416 Q142.867 246.999 142.867 255.749 Q142.867 264.476 139.788 269.083 Q136.732 273.666 130.922 273.666 Q125.112 273.666 122.033 269.083 Q118.978 264.476 118.978 255.749 Q118.978 246.999 122.033 242.416 Q125.112 237.81 130.922 237.81 Z\" fill=\"#000000\" fill-rule=\"nonzero\" fill-opacity=\"1\" /><polyline clip-path=\"url(#clip442)\" style=\"stroke:#009af9; stroke-linecap:round; stroke-linejoin:round; stroke-width:4; stroke-opacity:1; fill:none\" points=\"240.392,1383.75 266.352,731.088 292.312,390.216 318.272,215.933 344.232,132.184 370.192,97.0766 396.152,87.9763 422.112,92.8184 448.072,105.169 474.032,121.576 499.992,140.173 525.952,159.953 551.912,180.369 577.872,201.125 603.832,222.06 629.792,243.09 655.752,264.165 681.712,285.263 707.672,306.37 733.632,327.478 759.592,348.584 785.552,369.687 811.512,390.786 837.471,411.88 863.431,432.969 889.391,454.053 915.351,475.133 941.311,496.208 967.271,517.279 993.231,538.345 1019.19,559.408 1045.15,580.467 1071.11,601.523 1097.07,622.576 1123.03,643.626 1148.99,664.674 1174.95,685.719 1200.91,706.763 1226.87,727.805 1252.83,748.846 1278.79,769.887 1304.75,790.927 1330.71,811.967 1356.67,833.008 1382.63,854.049 1408.59,875.091 1434.55,896.134 1460.51,917.179 1486.47,938.226 1512.43,959.275 1538.39,980.327 1564.35,1001.38 1590.31,1022.44 1616.27,1043.5 1642.23,1064.57 1668.19,1085.64 1694.15,1106.71 1720.11,1127.79 1746.07,1148.87 1772.03,1169.96 1797.99,1191.05 1823.95,1212.14 1849.91,1233.24 1875.87,1254.33 1901.83,1275.4 1927.79,1296.46 1953.75,1317.45 1979.71,1338.34 2005.67,1359.01 2031.63,1379.3 2057.59,1398.86 2083.55,1417.06 2109.51,1432.73 2135.47,1443.67 2161.43,1445.72 2187.39,1430.98 2213.35,1384.36 2239.31,1276.92 2265.27,1054.24 2291.23,618.433 \"/>\n",
       "<polyline clip-path=\"url(#clip442)\" style=\"stroke:#e26f46; stroke-linecap:round; stroke-linejoin:round; stroke-width:4; stroke-opacity:1; fill:none\" points=\"240.392,1113.72 266.352,579.837 292.312,309.057 318.272,178.698 344.232,121.199 370.192,101.048 396.152,100.201 422.112,109.487 448.072,124.156 474.032,141.706 499.992,160.804 525.952,180.735 551.912,201.116 577.872,221.738 603.832,242.487 629.792,263.302 655.752,284.149 681.712,305.011 707.672,325.877 733.632,346.743 759.592,367.605 785.552,388.462 811.512,409.315 837.471,430.162 863.431,451.005 889.391,471.842 915.351,492.675 941.311,513.504 967.271,534.329 993.231,555.15 1019.19,575.968 1045.15,596.783 1071.11,617.595 1097.07,638.404 1123.03,659.212 1148.99,680.018 1174.95,700.822 1200.91,721.625 1226.87,742.427 1252.83,763.229 1278.79,784.031 1304.75,804.832 1330.71,825.635 1356.67,846.438 1382.63,867.243 1408.59,888.049 1434.55,908.857 1460.51,929.667 1486.47,950.48 1512.43,971.295 1538.39,992.114 1564.35,1012.94 1590.31,1033.76 1616.27,1054.59 1642.23,1075.43 1668.19,1096.26 1694.15,1117.11 1720.11,1137.95 1746.07,1158.81 1772.03,1179.66 1797.99,1200.52 1823.95,1221.39 1849.91,1242.25 1875.87,1263.1 1901.83,1283.94 1927.79,1304.75 1953.75,1325.48 1979.71,1346.08 2005.67,1366.42 2031.63,1386.27 2057.59,1405.21 2083.55,1422.45 2109.51,1436.53 2135.47,1444.7 2161.43,1441.85 2187.39,1418.35 2213.35,1356.12 2239.31,1221.17 2265.27,950.464 2291.23,427.49 \"/>\n",
       "<polyline clip-path=\"url(#clip442)\" style=\"stroke:#3da44d; stroke-linecap:round; stroke-linejoin:round; stroke-width:4; stroke-opacity:1; fill:none\" points=\"240.392,1140.58 266.352,861.564 292.312,729.377 318.272,683.471 344.232,678.534 370.192,689.191 396.152,703.905 422.112,718.227 448.072,730.762 474.032,741.264 499.992,749.872 525.952,756.825 551.912,762.374 577.872,766.748 603.832,770.148 629.792,772.748 655.752,774.696 681.712,776.118 707.672,777.119 733.632,777.784 759.592,778.186 785.552,778.384 811.512,778.425 837.471,778.347 863.431,778.183 889.391,777.956 915.351,777.686 941.311,777.389 967.271,777.075 993.231,776.754 1019.19,776.432 1045.15,776.115 1071.11,775.806 1097.07,775.507 1123.03,775.22 1148.99,774.946 1174.95,774.684 1200.91,774.435 1226.87,774.197 1252.83,773.971 1278.79,773.755 1304.75,773.548 1330.71,773.349 1356.67,773.157 1382.63,772.972 1408.59,772.791 1434.55,772.615 1460.51,772.442 1486.47,772.273 1512.43,772.108 1538.39,771.945 1564.35,771.787 1590.31,771.635 1616.27,771.49 1642.23,771.356 1668.19,771.235 1694.15,771.134 1720.11,771.059 1746.07,771.018 1772.03,771.021 1797.99,771.083 1823.95,771.22 1849.91,771.452 1875.87,771.805 1901.83,772.309 1927.79,773.002 1953.75,773.931 1979.71,775.151 2005.67,776.733 2031.63,778.767 2057.59,781.371 2083.55,784.704 2109.51,788.976 2135.47,794.43 2161.43,801.205 2187.39,808.788 2213.35,814.269 2239.31,807.547 2265.27,760.65 2291.23,612.609 \"/>\n",
       "<path clip-path=\"url(#clip440)\" d=\"M2009.9 302.578 L2280.29 302.578 L2280.29 95.2176 L2009.9 95.2176  Z\" fill=\"#ffffff\" fill-rule=\"evenodd\" fill-opacity=\"1\"/>\n",
       "<polyline clip-path=\"url(#clip440)\" style=\"stroke:#000000; stroke-linecap:round; stroke-linejoin:round; stroke-width:4; stroke-opacity:1; fill:none\" points=\"2009.9,302.578 2280.29,302.578 2280.29,95.2176 2009.9,95.2176 2009.9,302.578 \"/>\n",
       "<polyline clip-path=\"url(#clip440)\" style=\"stroke:#009af9; stroke-linecap:round; stroke-linejoin:round; stroke-width:4; stroke-opacity:1; fill:none\" points=\"2034.05,147.058 2178.98,147.058 \"/>\n",
       "<path clip-path=\"url(#clip440)\" d=\"M2216.97 166.745 Q2215.17 171.375 2213.45 172.787 Q2211.74 174.199 2208.87 174.199 L2205.47 174.199 L2205.47 170.634 L2207.97 170.634 Q2209.73 170.634 2210.7 169.8 Q2211.67 168.967 2212.85 165.865 L2213.62 163.921 L2203.13 138.412 L2207.64 138.412 L2215.75 158.689 L2223.85 138.412 L2228.36 138.412 L2216.97 166.745 Z\" fill=\"#000000\" fill-rule=\"nonzero\" fill-opacity=\"1\" /><path clip-path=\"url(#clip440)\" d=\"M2235.65 160.402 L2243.29 160.402 L2243.29 134.037 L2234.98 135.703 L2234.98 131.444 L2243.25 129.778 L2247.92 129.778 L2247.92 160.402 L2255.56 160.402 L2255.56 164.338 L2235.65 164.338 L2235.65 160.402 Z\" fill=\"#000000\" fill-rule=\"nonzero\" fill-opacity=\"1\" /><polyline clip-path=\"url(#clip440)\" style=\"stroke:#e26f46; stroke-linecap:round; stroke-linejoin:round; stroke-width:4; stroke-opacity:1; fill:none\" points=\"2034.05,198.898 2178.98,198.898 \"/>\n",
       "<path clip-path=\"url(#clip440)\" d=\"M2216.97 218.585 Q2215.17 223.215 2213.45 224.627 Q2211.74 226.039 2208.87 226.039 L2205.47 226.039 L2205.47 222.474 L2207.97 222.474 Q2209.73 222.474 2210.7 221.64 Q2211.67 220.807 2212.85 217.705 L2213.62 215.761 L2203.13 190.252 L2207.64 190.252 L2215.75 210.529 L2223.85 190.252 L2228.36 190.252 L2216.97 218.585 Z\" fill=\"#000000\" fill-rule=\"nonzero\" fill-opacity=\"1\" /><path clip-path=\"url(#clip440)\" d=\"M2238.87 212.242 L2255.19 212.242 L2255.19 216.178 L2233.25 216.178 L2233.25 212.242 Q2235.91 209.488 2240.49 204.858 Q2245.1 200.205 2246.28 198.863 Q2248.52 196.34 2249.4 194.604 Q2250.31 192.844 2250.31 191.155 Q2250.31 188.4 2248.36 186.664 Q2246.44 184.928 2243.34 184.928 Q2241.14 184.928 2238.68 185.692 Q2236.25 186.455 2233.48 188.006 L2233.48 183.284 Q2236.3 182.15 2238.75 181.571 Q2241.21 180.993 2243.25 180.993 Q2248.62 180.993 2251.81 183.678 Q2255 186.363 2255 190.854 Q2255 192.983 2254.19 194.905 Q2253.41 196.803 2251.3 199.395 Q2250.72 200.067 2247.62 203.284 Q2244.52 206.479 2238.87 212.242 Z\" fill=\"#000000\" fill-rule=\"nonzero\" fill-opacity=\"1\" /><polyline clip-path=\"url(#clip440)\" style=\"stroke:#3da44d; stroke-linecap:round; stroke-linejoin:round; stroke-width:4; stroke-opacity:1; fill:none\" points=\"2034.05,250.738 2178.98,250.738 \"/>\n",
       "<path clip-path=\"url(#clip440)\" d=\"M2216.97 270.425 Q2215.17 275.055 2213.45 276.467 Q2211.74 277.879 2208.87 277.879 L2205.47 277.879 L2205.47 274.314 L2207.97 274.314 Q2209.73 274.314 2210.7 273.48 Q2211.67 272.647 2212.85 269.545 L2213.62 267.601 L2203.13 242.092 L2207.64 242.092 L2215.75 262.369 L2223.85 242.092 L2228.36 242.092 L2216.97 270.425 Z\" fill=\"#000000\" fill-rule=\"nonzero\" fill-opacity=\"1\" /><path clip-path=\"url(#clip440)\" d=\"M2249.01 249.383 Q2252.37 250.101 2254.24 252.369 Q2256.14 254.638 2256.14 257.971 Q2256.14 263.087 2252.62 265.888 Q2249.1 268.689 2242.62 268.689 Q2240.44 268.689 2238.13 268.249 Q2235.84 267.832 2233.38 266.976 L2233.38 262.462 Q2235.33 263.596 2237.64 264.175 Q2239.96 264.754 2242.48 264.754 Q2246.88 264.754 2249.17 263.018 Q2251.49 261.281 2251.49 257.971 Q2251.49 254.916 2249.33 253.203 Q2247.2 251.467 2243.38 251.467 L2239.36 251.467 L2239.36 247.624 L2243.57 247.624 Q2247.02 247.624 2248.85 246.258 Q2250.68 244.87 2250.68 242.277 Q2250.68 239.615 2248.78 238.203 Q2246.9 236.768 2243.38 236.768 Q2241.46 236.768 2239.26 237.184 Q2237.06 237.601 2234.43 238.481 L2234.43 234.314 Q2237.09 233.573 2239.4 233.203 Q2241.74 232.833 2243.8 232.833 Q2249.12 232.833 2252.23 235.263 Q2255.33 237.67 2255.33 241.791 Q2255.33 244.661 2253.68 246.652 Q2252.04 248.62 2249.01 249.383 Z\" fill=\"#000000\" fill-rule=\"nonzero\" fill-opacity=\"1\" /></svg>\n"
      ]
     },
     "execution_count": 24,
     "metadata": {},
     "output_type": "execute_result"
    }
   ],
   "source": [
    "plot(thist[1:Nt-1],Um[1,:])\n",
    "plot!(thist[1:Nt-1],Um[2,:])\n",
    "plot!(thist[1:Nt-1],Um[3,:])"
   ]
  },
  {
   "cell_type": "code",
   "execution_count": 25,
   "metadata": {},
   "outputs": [],
   "source": [
    "X1 = [SVector{5}(x[1:5]) for x in X];"
   ]
  },
  {
   "cell_type": "code",
   "execution_count": 27,
   "metadata": {},
   "outputs": [],
   "source": [
    "# Uncomment for upload animation to visualizer\n",
    "#animation = mc.Animation(mvis, thist, X1)\n",
    "#setanimation!(mvis, animation)"
   ]
  },
  {
   "cell_type": "markdown",
   "metadata": {},
   "source": [
    "## Simulation"
   ]
  },
  {
   "cell_type": "code",
   "execution_count": 28,
   "metadata": {},
   "outputs": [],
   "source": [
    "x0 = [0,0,0,0,0,0,0,0,0,0];\n",
    "#xcurrent = [0,0,0,0,0,0,0,0,0,0,0,0,0,0,0,0,0,0,0]\n",
    "\n",
    "#state = MechanismState(model_with_arms.mech)\n",
    "#state = MechanismState(model.mech)\n",
    "#set_configuration!(state, xcurrent)"
   ]
  },
  {
   "cell_type": "code",
   "execution_count": 29,
   "metadata": {},
   "outputs": [
    {
     "data": {
      "text/plain": [
       "3×10 Matrix{Float64}:\n",
       " -65.9132     -0.341245  -1659.61     …  -340.457      -1.0455  -0.137694\n",
       "  -0.346785  -55.6852       -4.29462       -1.05547  -309.247    4.14736\n",
       "   1.17922   -35.123        14.8013         3.54713  -105.591    5.20419"
      ]
     },
     "execution_count": 29,
     "metadata": {},
     "output_type": "execute_result"
    }
   ],
   "source": [
    "K_lqr = FileIO.load(\"utils/ballbot_K_lqr.jld2\",\"K_lqr\")"
   ]
  },
  {
   "cell_type": "code",
   "execution_count": 30,
   "metadata": {},
   "outputs": [],
   "source": [
    "# simulate closed loop system \n",
    "Xsim = [zeros(nx) for i = 1:Nt]\n",
    "Usim = [zeros(nx) for i = 1:(Nt-1)]\n",
    "\n",
    "# initial condition \n",
    "Xsim[1] = 1*x0\n",
    "\n",
    "# DONE: simulate with closed loop control \n",
    "for i = 1:(Nt-1) \n",
    "    Usim[i] = U[i] - K_lqr*(Xsim[i] - X[i])\n",
    "    Xsim[i+1] = rk4(ballbot_model, Xsim[i], Usim[i], h)\n",
    "end"
   ]
  },
  {
   "cell_type": "code",
   "execution_count": 31,
   "metadata": {},
   "outputs": [
    {
     "data": {
      "text/plain": [
       "3×80 Matrix{Float64}:\n",
       " -47.2685   3.19771  29.5727   43.0789   …  -39.0037   -21.781     11.9434\n",
       " -26.3782  14.8688   35.8427   45.9355      -34.7141   -13.7732    26.6976\n",
       " -28.4558  -6.88387   3.35569   6.90965      -2.69458    0.933942  12.3908"
      ]
     },
     "execution_count": 31,
     "metadata": {},
     "output_type": "execute_result"
    }
   ],
   "source": [
    "Xm_sim = hcat(Xsim...)\n",
    "Um_sim = hcat(Usim...)"
   ]
  },
  {
   "cell_type": "code",
   "execution_count": 32,
   "metadata": {
    "scrolled": true
   },
   "outputs": [
    {
     "data": {
      "image/svg+xml": [
       "<?xml version=\"1.0\" encoding=\"utf-8\"?>\n",
       "<svg xmlns=\"http://www.w3.org/2000/svg\" xmlns:xlink=\"http://www.w3.org/1999/xlink\" width=\"600\" height=\"400\" viewBox=\"0 0 2400 1600\">\n",
       "<defs>\n",
       "  <clipPath id=\"clip480\">\n",
       "    <rect x=\"0\" y=\"0\" width=\"2400\" height=\"1600\"/>\n",
       "  </clipPath>\n",
       "</defs>\n",
       "<path clip-path=\"url(#clip480)\" d=\"M0 1600 L2400 1600 L2400 0 L0 0  Z\" fill=\"#ffffff\" fill-rule=\"evenodd\" fill-opacity=\"1\"/>\n",
       "<defs>\n",
       "  <clipPath id=\"clip481\">\n",
       "    <rect x=\"480\" y=\"0\" width=\"1681\" height=\"1600\"/>\n",
       "  </clipPath>\n",
       "</defs>\n",
       "<path clip-path=\"url(#clip480)\" d=\"M112.177 1486.45 L2352.76 1486.45 L2352.76 47.2441 L112.177 47.2441  Z\" fill=\"#ffffff\" fill-rule=\"evenodd\" fill-opacity=\"1\"/>\n",
       "<defs>\n",
       "  <clipPath id=\"clip482\">\n",
       "    <rect x=\"112\" y=\"47\" width=\"2242\" height=\"1440\"/>\n",
       "  </clipPath>\n",
       "</defs>\n",
       "<polyline clip-path=\"url(#clip482)\" style=\"stroke:#000000; stroke-linecap:round; stroke-linejoin:round; stroke-width:2; stroke-opacity:0.1; fill:none\" points=\"175.59,1486.45 175.59,47.2441 \"/>\n",
       "<polyline clip-path=\"url(#clip482)\" style=\"stroke:#000000; stroke-linecap:round; stroke-linejoin:round; stroke-width:2; stroke-opacity:0.1; fill:none\" points=\"704.028,1486.45 704.028,47.2441 \"/>\n",
       "<polyline clip-path=\"url(#clip482)\" style=\"stroke:#000000; stroke-linecap:round; stroke-linejoin:round; stroke-width:2; stroke-opacity:0.1; fill:none\" points=\"1232.47,1486.45 1232.47,47.2441 \"/>\n",
       "<polyline clip-path=\"url(#clip482)\" style=\"stroke:#000000; stroke-linecap:round; stroke-linejoin:round; stroke-width:2; stroke-opacity:0.1; fill:none\" points=\"1760.9,1486.45 1760.9,47.2441 \"/>\n",
       "<polyline clip-path=\"url(#clip482)\" style=\"stroke:#000000; stroke-linecap:round; stroke-linejoin:round; stroke-width:2; stroke-opacity:0.1; fill:none\" points=\"2289.34,1486.45 2289.34,47.2441 \"/>\n",
       "<polyline clip-path=\"url(#clip480)\" style=\"stroke:#000000; stroke-linecap:round; stroke-linejoin:round; stroke-width:4; stroke-opacity:1; fill:none\" points=\"112.177,1486.45 2352.76,1486.45 \"/>\n",
       "<polyline clip-path=\"url(#clip480)\" style=\"stroke:#000000; stroke-linecap:round; stroke-linejoin:round; stroke-width:4; stroke-opacity:1; fill:none\" points=\"175.59,1486.45 175.59,1467.55 \"/>\n",
       "<polyline clip-path=\"url(#clip480)\" style=\"stroke:#000000; stroke-linecap:round; stroke-linejoin:round; stroke-width:4; stroke-opacity:1; fill:none\" points=\"704.028,1486.45 704.028,1467.55 \"/>\n",
       "<polyline clip-path=\"url(#clip480)\" style=\"stroke:#000000; stroke-linecap:round; stroke-linejoin:round; stroke-width:4; stroke-opacity:1; fill:none\" points=\"1232.47,1486.45 1232.47,1467.55 \"/>\n",
       "<polyline clip-path=\"url(#clip480)\" style=\"stroke:#000000; stroke-linecap:round; stroke-linejoin:round; stroke-width:4; stroke-opacity:1; fill:none\" points=\"1760.9,1486.45 1760.9,1467.55 \"/>\n",
       "<polyline clip-path=\"url(#clip480)\" style=\"stroke:#000000; stroke-linecap:round; stroke-linejoin:round; stroke-width:4; stroke-opacity:1; fill:none\" points=\"2289.34,1486.45 2289.34,1467.55 \"/>\n",
       "<path clip-path=\"url(#clip480)\" d=\"M175.59 1517.37 Q171.979 1517.37 170.15 1520.93 Q168.344 1524.47 168.344 1531.6 Q168.344 1538.71 170.15 1542.27 Q171.979 1545.82 175.59 1545.82 Q179.224 1545.82 181.03 1542.27 Q182.858 1538.71 182.858 1531.6 Q182.858 1524.47 181.03 1520.93 Q179.224 1517.37 175.59 1517.37 M175.59 1513.66 Q181.4 1513.66 184.455 1518.27 Q187.534 1522.85 187.534 1531.6 Q187.534 1540.33 184.455 1544.94 Q181.4 1549.52 175.59 1549.52 Q169.78 1549.52 166.701 1544.94 Q163.645 1540.33 163.645 1531.6 Q163.645 1522.85 166.701 1518.27 Q169.78 1513.66 175.59 1513.66 Z\" fill=\"#000000\" fill-rule=\"nonzero\" fill-opacity=\"1\" /><path clip-path=\"url(#clip480)\" d=\"M698.681 1544.91 L715 1544.91 L715 1548.85 L693.056 1548.85 L693.056 1544.91 Q695.718 1542.16 700.301 1537.53 Q704.908 1532.88 706.088 1531.53 Q708.334 1529.01 709.213 1527.27 Q710.116 1525.51 710.116 1523.82 Q710.116 1521.07 708.172 1519.33 Q706.25 1517.6 703.149 1517.6 Q700.949 1517.6 698.496 1518.36 Q696.065 1519.13 693.287 1520.68 L693.287 1515.95 Q696.112 1514.82 698.565 1514.24 Q701.019 1513.66 703.056 1513.66 Q708.426 1513.66 711.621 1516.35 Q714.815 1519.03 714.815 1523.52 Q714.815 1525.65 714.005 1527.57 Q713.218 1529.47 711.111 1532.07 Q710.533 1532.74 707.431 1535.95 Q704.329 1539.15 698.681 1544.91 Z\" fill=\"#000000\" fill-rule=\"nonzero\" fill-opacity=\"1\" /><path clip-path=\"url(#clip480)\" d=\"M1235.48 1518.36 L1223.67 1536.81 L1235.48 1536.81 L1235.48 1518.36 M1234.25 1514.29 L1240.13 1514.29 L1240.13 1536.81 L1245.06 1536.81 L1245.06 1540.7 L1240.13 1540.7 L1240.13 1548.85 L1235.48 1548.85 L1235.48 1540.7 L1219.87 1540.7 L1219.87 1536.19 L1234.25 1514.29 Z\" fill=\"#000000\" fill-rule=\"nonzero\" fill-opacity=\"1\" /><path clip-path=\"url(#clip480)\" d=\"M1761.31 1529.7 Q1758.16 1529.7 1756.31 1531.86 Q1754.48 1534.01 1754.48 1537.76 Q1754.48 1541.49 1756.31 1543.66 Q1758.16 1545.82 1761.31 1545.82 Q1764.46 1545.82 1766.29 1543.66 Q1768.14 1541.49 1768.14 1537.76 Q1768.14 1534.01 1766.29 1531.86 Q1764.46 1529.7 1761.31 1529.7 M1770.59 1515.05 L1770.59 1519.31 Q1768.83 1518.48 1767.03 1518.04 Q1765.25 1517.6 1763.49 1517.6 Q1758.86 1517.6 1756.4 1520.72 Q1753.97 1523.85 1753.62 1530.17 Q1754.99 1528.15 1757.05 1527.09 Q1759.11 1526 1761.59 1526 Q1766.8 1526 1769.81 1529.17 Q1772.84 1532.32 1772.84 1537.76 Q1772.84 1543.08 1769.69 1546.3 Q1766.54 1549.52 1761.31 1549.52 Q1755.31 1549.52 1752.14 1544.94 Q1748.97 1540.33 1748.97 1531.6 Q1748.97 1523.41 1752.86 1518.55 Q1756.75 1513.66 1763.3 1513.66 Q1765.06 1513.66 1766.84 1514.01 Q1768.65 1514.36 1770.59 1515.05 Z\" fill=\"#000000\" fill-rule=\"nonzero\" fill-opacity=\"1\" /><path clip-path=\"url(#clip480)\" d=\"M2289.34 1532.44 Q2286.01 1532.44 2284.09 1534.22 Q2282.19 1536 2282.19 1539.13 Q2282.19 1542.25 2284.09 1544.03 Q2286.01 1545.82 2289.34 1545.82 Q2292.68 1545.82 2294.6 1544.03 Q2296.52 1542.23 2296.52 1539.13 Q2296.52 1536 2294.6 1534.22 Q2292.7 1532.44 2289.34 1532.44 M2284.67 1530.45 Q2281.66 1529.7 2279.97 1527.64 Q2278.3 1525.58 2278.3 1522.62 Q2278.3 1518.48 2281.24 1516.07 Q2284.2 1513.66 2289.34 1513.66 Q2294.51 1513.66 2297.45 1516.07 Q2300.38 1518.48 2300.38 1522.62 Q2300.38 1525.58 2298.7 1527.64 Q2297.03 1529.7 2294.04 1530.45 Q2297.42 1531.23 2299.3 1533.52 Q2301.2 1535.82 2301.2 1539.13 Q2301.2 1544.15 2298.12 1546.83 Q2295.06 1549.52 2289.34 1549.52 Q2283.63 1549.52 2280.55 1546.83 Q2277.49 1544.15 2277.49 1539.13 Q2277.49 1535.82 2279.39 1533.52 Q2281.29 1531.23 2284.67 1530.45 M2282.95 1523.06 Q2282.95 1525.75 2284.62 1527.25 Q2286.31 1528.76 2289.34 1528.76 Q2292.35 1528.76 2294.04 1527.25 Q2295.76 1525.75 2295.76 1523.06 Q2295.76 1520.38 2294.04 1518.87 Q2292.35 1517.37 2289.34 1517.37 Q2286.31 1517.37 2284.62 1518.87 Q2282.95 1520.38 2282.95 1523.06 Z\" fill=\"#000000\" fill-rule=\"nonzero\" fill-opacity=\"1\" /><polyline clip-path=\"url(#clip482)\" style=\"stroke:#000000; stroke-linecap:round; stroke-linejoin:round; stroke-width:2; stroke-opacity:0.1; fill:none\" points=\"112.177,1434.11 2352.76,1434.11 \"/>\n",
       "<polyline clip-path=\"url(#clip482)\" style=\"stroke:#000000; stroke-linecap:round; stroke-linejoin:round; stroke-width:2; stroke-opacity:0.1; fill:none\" points=\"112.177,1099.3 2352.76,1099.3 \"/>\n",
       "<polyline clip-path=\"url(#clip482)\" style=\"stroke:#000000; stroke-linecap:round; stroke-linejoin:round; stroke-width:2; stroke-opacity:0.1; fill:none\" points=\"112.177,764.485 2352.76,764.485 \"/>\n",
       "<polyline clip-path=\"url(#clip482)\" style=\"stroke:#000000; stroke-linecap:round; stroke-linejoin:round; stroke-width:2; stroke-opacity:0.1; fill:none\" points=\"112.177,429.671 2352.76,429.671 \"/>\n",
       "<polyline clip-path=\"url(#clip482)\" style=\"stroke:#000000; stroke-linecap:round; stroke-linejoin:round; stroke-width:2; stroke-opacity:0.1; fill:none\" points=\"112.177,94.8569 2352.76,94.8569 \"/>\n",
       "<polyline clip-path=\"url(#clip480)\" style=\"stroke:#000000; stroke-linecap:round; stroke-linejoin:round; stroke-width:4; stroke-opacity:1; fill:none\" points=\"112.177,1486.45 112.177,47.2441 \"/>\n",
       "<polyline clip-path=\"url(#clip480)\" style=\"stroke:#000000; stroke-linecap:round; stroke-linejoin:round; stroke-width:4; stroke-opacity:1; fill:none\" points=\"112.177,1434.11 131.075,1434.11 \"/>\n",
       "<polyline clip-path=\"url(#clip480)\" style=\"stroke:#000000; stroke-linecap:round; stroke-linejoin:round; stroke-width:4; stroke-opacity:1; fill:none\" points=\"112.177,1099.3 131.075,1099.3 \"/>\n",
       "<polyline clip-path=\"url(#clip480)\" style=\"stroke:#000000; stroke-linecap:round; stroke-linejoin:round; stroke-width:4; stroke-opacity:1; fill:none\" points=\"112.177,764.485 131.075,764.485 \"/>\n",
       "<polyline clip-path=\"url(#clip480)\" style=\"stroke:#000000; stroke-linecap:round; stroke-linejoin:round; stroke-width:4; stroke-opacity:1; fill:none\" points=\"112.177,429.671 131.075,429.671 \"/>\n",
       "<polyline clip-path=\"url(#clip480)\" style=\"stroke:#000000; stroke-linecap:round; stroke-linejoin:round; stroke-width:4; stroke-opacity:1; fill:none\" points=\"112.177,94.8569 131.075,94.8569 \"/>\n",
       "<path clip-path=\"url(#clip480)\" d=\"M64.2328 1419.91 Q60.6217 1419.91 58.793 1423.48 Q56.9875 1427.02 56.9875 1434.15 Q56.9875 1441.26 58.793 1444.82 Q60.6217 1448.36 64.2328 1448.36 Q67.867 1448.36 69.6726 1444.82 Q71.5013 1441.26 71.5013 1434.15 Q71.5013 1427.02 69.6726 1423.48 Q67.867 1419.91 64.2328 1419.91 M64.2328 1416.21 Q70.0429 1416.21 73.0985 1420.82 Q76.1772 1425.4 76.1772 1434.15 Q76.1772 1442.88 73.0985 1447.48 Q70.0429 1452.07 64.2328 1452.07 Q58.4226 1452.07 55.344 1447.48 Q52.2884 1442.88 52.2884 1434.15 Q52.2884 1425.4 55.344 1420.82 Q58.4226 1416.21 64.2328 1416.21 Z\" fill=\"#000000\" fill-rule=\"nonzero\" fill-opacity=\"1\" /><path clip-path=\"url(#clip480)\" d=\"M59.8578 1112.64 L76.1772 1112.64 L76.1772 1116.58 L54.2328 1116.58 L54.2328 1112.64 Q56.8949 1109.89 61.4782 1105.26 Q66.0846 1100.61 67.2652 1099.26 Q69.5105 1096.74 70.3902 1095.01 Q71.2929 1093.25 71.2929 1091.56 Q71.2929 1088.8 69.3485 1087.07 Q67.4272 1085.33 64.3254 1085.33 Q62.1263 1085.33 59.6726 1086.09 Q57.2421 1086.86 54.4643 1088.41 L54.4643 1083.69 Q57.2884 1082.55 59.7421 1081.97 Q62.1958 1081.39 64.2328 1081.39 Q69.6031 1081.39 72.7976 1084.08 Q75.992 1086.77 75.992 1091.26 Q75.992 1093.39 75.1818 1095.31 Q74.3948 1097.2 72.2883 1099.8 Q71.7096 1100.47 68.6078 1103.69 Q65.5059 1106.88 59.8578 1112.64 Z\" fill=\"#000000\" fill-rule=\"nonzero\" fill-opacity=\"1\" /><path clip-path=\"url(#clip480)\" d=\"M66.5939 751.279 L54.7884 769.728 L66.5939 769.728 L66.5939 751.279 M65.367 747.205 L71.2466 747.205 L71.2466 769.728 L76.1772 769.728 L76.1772 773.617 L71.2466 773.617 L71.2466 781.765 L66.5939 781.765 L66.5939 773.617 L50.9921 773.617 L50.9921 769.103 L65.367 747.205 Z\" fill=\"#000000\" fill-rule=\"nonzero\" fill-opacity=\"1\" /><path clip-path=\"url(#clip480)\" d=\"M64.6495 427.808 Q61.5013 427.808 59.6495 429.96 Q57.8208 432.113 57.8208 435.863 Q57.8208 439.59 59.6495 441.766 Q61.5013 443.919 64.6495 443.919 Q67.7976 443.919 69.6263 441.766 Q71.4781 439.59 71.4781 435.863 Q71.4781 432.113 69.6263 429.96 Q67.7976 427.808 64.6495 427.808 M73.9318 413.155 L73.9318 417.414 Q72.1726 416.581 70.367 416.141 Q68.5846 415.701 66.8254 415.701 Q62.1958 415.701 59.7421 418.826 Q57.3115 421.951 56.9643 428.271 Q58.33 426.257 60.3902 425.192 Q62.4504 424.104 64.9272 424.104 Q70.1355 424.104 73.1448 427.275 Q76.1772 430.423 76.1772 435.863 Q76.1772 441.187 73.029 444.405 Q69.8809 447.622 64.6495 447.622 Q58.6541 447.622 55.4828 443.039 Q52.3116 438.433 52.3116 429.706 Q52.3116 421.511 56.2004 416.65 Q60.0893 411.766 66.6402 411.766 Q68.3994 411.766 70.1818 412.113 Q71.9874 412.461 73.9318 413.155 Z\" fill=\"#000000\" fill-rule=\"nonzero\" fill-opacity=\"1\" /><path clip-path=\"url(#clip480)\" d=\"M64.3254 95.7249 Q60.9921 95.7249 59.0708 97.5073 Q57.1726 99.2897 57.1726 102.415 Q57.1726 105.54 59.0708 107.322 Q60.9921 109.104 64.3254 109.104 Q67.6587 109.104 69.58 107.322 Q71.5013 105.517 71.5013 102.415 Q71.5013 99.2897 69.58 97.5073 Q67.6819 95.7249 64.3254 95.7249 M59.6495 93.7342 Q56.6402 92.9934 54.9504 90.9333 Q53.2838 88.8731 53.2838 85.9101 Q53.2838 81.7666 56.2236 79.3593 Q59.1865 76.9519 64.3254 76.9519 Q69.4874 76.9519 72.4272 79.3593 Q75.367 81.7666 75.367 85.9101 Q75.367 88.8731 73.6772 90.9333 Q72.0105 92.9934 69.0244 93.7342 Q72.404 94.5212 74.279 96.8129 Q76.1772 99.1045 76.1772 102.415 Q76.1772 107.438 73.0985 110.123 Q70.0429 112.808 64.3254 112.808 Q58.6078 112.808 55.5291 110.123 Q52.4736 107.438 52.4736 102.415 Q52.4736 99.1045 54.3717 96.8129 Q56.2699 94.5212 59.6495 93.7342 M57.9365 86.35 Q57.9365 89.0351 59.6032 90.5398 Q61.293 92.0444 64.3254 92.0444 Q67.3346 92.0444 69.0244 90.5398 Q70.7374 89.0351 70.7374 86.35 Q70.7374 83.6648 69.0244 82.1602 Q67.3346 80.6555 64.3254 80.6555 Q61.293 80.6555 59.6032 82.1602 Q57.9365 83.6648 57.9365 86.35 Z\" fill=\"#000000\" fill-rule=\"nonzero\" fill-opacity=\"1\" /><polyline clip-path=\"url(#clip482)\" style=\"stroke:#009af9; stroke-linecap:round; stroke-linejoin:round; stroke-width:4; stroke-opacity:1; fill:none\" points=\"175.59,1434.11 202.012,1435.99 228.434,1440.02 254.856,1443.65 281.277,1445.67 307.699,1445.72 334.121,1443.85 360.543,1440.25 386.965,1435.09 413.387,1428.49 439.809,1420.54 466.231,1411.32 492.653,1400.87 519.075,1389.24 545.497,1376.49 571.919,1362.66 598.34,1347.8 624.762,1331.94 651.184,1315.13 677.606,1297.41 704.028,1278.81 730.45,1259.39 756.872,1239.18 783.294,1218.22 809.716,1196.54 836.138,1174.2 862.56,1151.23 888.982,1127.66 915.404,1103.55 941.825,1078.92 968.247,1053.83 994.669,1028.3 1021.09,1002.39 1047.51,976.129 1073.94,949.558 1100.36,922.72 1126.78,895.654 1153.2,868.401 1179.62,841 1206.04,813.494 1232.47,785.921 1258.89,758.322 1285.31,730.737 1311.73,703.208 1338.15,675.774 1364.58,648.475 1391,621.352 1417.42,594.445 1443.84,567.795 1470.26,541.442 1496.69,515.426 1523.11,489.788 1549.53,464.567 1575.95,439.805 1602.37,415.541 1628.8,391.817 1655.22,368.672 1681.64,346.147 1708.06,324.282 1734.48,303.118 1760.9,282.696 1787.33,263.056 1813.75,244.238 1840.17,226.284 1866.59,209.235 1893.01,193.132 1919.44,178.017 1945.86,163.933 1972.28,150.923 1998.7,139.032 2025.12,128.309 2051.55,118.806 2077.97,110.581 2104.39,103.7 2130.81,98.2397 2157.23,94.2836 2183.66,91.915 2210.08,91.1812 2236.5,91.9892 2262.92,93.8009 2289.34,94.8569 \"/>\n",
       "<polyline clip-path=\"url(#clip482)\" style=\"stroke:#e26f46; stroke-linecap:round; stroke-linejoin:round; stroke-width:4; stroke-opacity:1; fill:none\" points=\"175.59,1434.11 202.012,1435.86 228.434,1439.15 254.856,1441.27 281.277,1441.44 307.699,1439.73 334.121,1436.37 360.543,1431.52 386.965,1425.27 413.387,1417.7 439.809,1408.85 466.231,1398.78 492.653,1387.53 519.075,1375.14 545.497,1361.66 571.919,1347.14 598.34,1331.6 624.762,1315.1 651.184,1297.68 677.606,1279.38 704.028,1260.24 730.45,1240.3 756.872,1219.61 783.294,1198.2 809.716,1176.11 836.138,1153.39 862.56,1130.07 888.982,1106.2 915.404,1081.81 941.825,1056.95 968.247,1031.65 994.669,1005.96 1021.09,979.902 1047.51,953.532 1073.94,926.885 1100.36,900 1126.78,872.918 1153.2,845.678 1179.62,818.32 1206.04,790.885 1232.47,763.411 1258.89,735.938 1285.31,708.507 1311.73,681.158 1338.15,653.93 1364.58,626.862 1391,599.996 1417.42,573.371 1443.84,547.027 1470.26,521.003 1496.69,495.34 1523.11,470.077 1549.53,445.255 1575.95,420.913 1602.37,397.091 1628.8,373.829 1655.22,351.166 1681.64,329.144 1708.06,307.802 1734.48,287.179 1760.9,267.316 1787.33,248.252 1813.75,230.028 1840.17,212.685 1866.59,196.261 1893.01,180.799 1919.44,166.339 1945.86,152.923 1972.28,140.595 1998.7,129.4 2025.12,119.388 2051.55,110.613 2077.97,103.138 2104.39,97.0386 2130.81,92.4056 2157.23,89.3469 2183.66,87.9763 2210.08,88.3651 2236.5,90.3887 2262.92,93.3163 2289.34,94.8569 \"/>\n",
       "<path clip-path=\"url(#clip480)\" d=\"M186.863 250.738 L463.351 250.738 L463.351 95.2176 L186.863 95.2176  Z\" fill=\"#ffffff\" fill-rule=\"evenodd\" fill-opacity=\"1\"/>\n",
       "<polyline clip-path=\"url(#clip480)\" style=\"stroke:#000000; stroke-linecap:round; stroke-linejoin:round; stroke-width:4; stroke-opacity:1; fill:none\" points=\"186.863,250.738 463.351,250.738 463.351,95.2176 186.863,95.2176 186.863,250.738 \"/>\n",
       "<polyline clip-path=\"url(#clip480)\" style=\"stroke:#009af9; stroke-linecap:round; stroke-linejoin:round; stroke-width:4; stroke-opacity:1; fill:none\" points=\"211.758,147.058 361.13,147.058 \"/>\n",
       "<path clip-path=\"url(#clip480)\" d=\"M399.868 166.745 Q398.063 171.375 396.35 172.787 Q394.637 174.199 391.766 174.199 L388.364 174.199 L388.364 170.634 L390.864 170.634 Q392.623 170.634 393.595 169.8 Q394.567 168.967 395.748 165.865 L396.512 163.921 L386.026 138.412 L390.54 138.412 L398.641 158.689 L406.743 138.412 L411.257 138.412 L399.868 166.745 Z\" fill=\"#000000\" fill-rule=\"nonzero\" fill-opacity=\"1\" /><path clip-path=\"url(#clip480)\" d=\"M418.549 160.402 L426.188 160.402 L426.188 134.037 L417.877 135.703 L417.877 131.444 L426.141 129.778 L430.817 129.778 L430.817 160.402 L438.456 160.402 L438.456 164.338 L418.549 164.338 L418.549 160.402 Z\" fill=\"#000000\" fill-rule=\"nonzero\" fill-opacity=\"1\" /><polyline clip-path=\"url(#clip480)\" style=\"stroke:#e26f46; stroke-linecap:round; stroke-linejoin:round; stroke-width:4; stroke-opacity:1; fill:none\" points=\"211.758,198.898 361.13,198.898 \"/>\n",
       "<path clip-path=\"url(#clip480)\" d=\"M399.868 218.585 Q398.063 223.215 396.35 224.627 Q394.637 226.039 391.766 226.039 L388.364 226.039 L388.364 222.474 L390.864 222.474 Q392.623 222.474 393.595 221.64 Q394.567 220.807 395.748 217.705 L396.512 215.761 L386.026 190.252 L390.54 190.252 L398.641 210.529 L406.743 190.252 L411.257 190.252 L399.868 218.585 Z\" fill=\"#000000\" fill-rule=\"nonzero\" fill-opacity=\"1\" /><path clip-path=\"url(#clip480)\" d=\"M421.766 212.242 L438.086 212.242 L438.086 216.178 L416.141 216.178 L416.141 212.242 Q418.803 209.488 423.387 204.858 Q427.993 200.205 429.174 198.863 Q431.419 196.34 432.299 194.604 Q433.201 192.844 433.201 191.155 Q433.201 188.4 431.257 186.664 Q429.336 184.928 426.234 184.928 Q424.035 184.928 421.581 185.692 Q419.151 186.455 416.373 188.006 L416.373 183.284 Q419.197 182.15 421.65 181.571 Q424.104 180.993 426.141 180.993 Q431.512 180.993 434.706 183.678 Q437.9 186.363 437.9 190.854 Q437.9 192.983 437.09 194.905 Q436.303 196.803 434.197 199.395 Q433.618 200.067 430.516 203.284 Q427.414 206.479 421.766 212.242 Z\" fill=\"#000000\" fill-rule=\"nonzero\" fill-opacity=\"1\" /></svg>\n"
      ]
     },
     "execution_count": 32,
     "metadata": {},
     "output_type": "execute_result"
    }
   ],
   "source": [
    "plot(thist,Xm[1,:])\n",
    "plot!(thist,Xm[2,:])"
   ]
  },
  {
   "cell_type": "code",
   "execution_count": 33,
   "metadata": {},
   "outputs": [
    {
     "data": {
      "image/svg+xml": [
       "<?xml version=\"1.0\" encoding=\"utf-8\"?>\n",
       "<svg xmlns=\"http://www.w3.org/2000/svg\" xmlns:xlink=\"http://www.w3.org/1999/xlink\" width=\"600\" height=\"400\" viewBox=\"0 0 2400 1600\">\n",
       "<defs>\n",
       "  <clipPath id=\"clip520\">\n",
       "    <rect x=\"0\" y=\"0\" width=\"2400\" height=\"1600\"/>\n",
       "  </clipPath>\n",
       "</defs>\n",
       "<path clip-path=\"url(#clip520)\" d=\"M0 1600 L2400 1600 L2400 0 L0 0  Z\" fill=\"#ffffff\" fill-rule=\"evenodd\" fill-opacity=\"1\"/>\n",
       "<defs>\n",
       "  <clipPath id=\"clip521\">\n",
       "    <rect x=\"480\" y=\"0\" width=\"1681\" height=\"1600\"/>\n",
       "  </clipPath>\n",
       "</defs>\n",
       "<path clip-path=\"url(#clip520)\" d=\"M112.177 1486.45 L2352.76 1486.45 L2352.76 47.2441 L112.177 47.2441  Z\" fill=\"#ffffff\" fill-rule=\"evenodd\" fill-opacity=\"1\"/>\n",
       "<defs>\n",
       "  <clipPath id=\"clip522\">\n",
       "    <rect x=\"112\" y=\"47\" width=\"2242\" height=\"1440\"/>\n",
       "  </clipPath>\n",
       "</defs>\n",
       "<polyline clip-path=\"url(#clip522)\" style=\"stroke:#000000; stroke-linecap:round; stroke-linejoin:round; stroke-width:2; stroke-opacity:0.1; fill:none\" points=\"175.59,1486.45 175.59,47.2441 \"/>\n",
       "<polyline clip-path=\"url(#clip522)\" style=\"stroke:#000000; stroke-linecap:round; stroke-linejoin:round; stroke-width:2; stroke-opacity:0.1; fill:none\" points=\"704.028,1486.45 704.028,47.2441 \"/>\n",
       "<polyline clip-path=\"url(#clip522)\" style=\"stroke:#000000; stroke-linecap:round; stroke-linejoin:round; stroke-width:2; stroke-opacity:0.1; fill:none\" points=\"1232.47,1486.45 1232.47,47.2441 \"/>\n",
       "<polyline clip-path=\"url(#clip522)\" style=\"stroke:#000000; stroke-linecap:round; stroke-linejoin:round; stroke-width:2; stroke-opacity:0.1; fill:none\" points=\"1760.9,1486.45 1760.9,47.2441 \"/>\n",
       "<polyline clip-path=\"url(#clip522)\" style=\"stroke:#000000; stroke-linecap:round; stroke-linejoin:round; stroke-width:2; stroke-opacity:0.1; fill:none\" points=\"2289.34,1486.45 2289.34,47.2441 \"/>\n",
       "<polyline clip-path=\"url(#clip520)\" style=\"stroke:#000000; stroke-linecap:round; stroke-linejoin:round; stroke-width:4; stroke-opacity:1; fill:none\" points=\"112.177,1486.45 2352.76,1486.45 \"/>\n",
       "<polyline clip-path=\"url(#clip520)\" style=\"stroke:#000000; stroke-linecap:round; stroke-linejoin:round; stroke-width:4; stroke-opacity:1; fill:none\" points=\"175.59,1486.45 175.59,1467.55 \"/>\n",
       "<polyline clip-path=\"url(#clip520)\" style=\"stroke:#000000; stroke-linecap:round; stroke-linejoin:round; stroke-width:4; stroke-opacity:1; fill:none\" points=\"704.028,1486.45 704.028,1467.55 \"/>\n",
       "<polyline clip-path=\"url(#clip520)\" style=\"stroke:#000000; stroke-linecap:round; stroke-linejoin:round; stroke-width:4; stroke-opacity:1; fill:none\" points=\"1232.47,1486.45 1232.47,1467.55 \"/>\n",
       "<polyline clip-path=\"url(#clip520)\" style=\"stroke:#000000; stroke-linecap:round; stroke-linejoin:round; stroke-width:4; stroke-opacity:1; fill:none\" points=\"1760.9,1486.45 1760.9,1467.55 \"/>\n",
       "<polyline clip-path=\"url(#clip520)\" style=\"stroke:#000000; stroke-linecap:round; stroke-linejoin:round; stroke-width:4; stroke-opacity:1; fill:none\" points=\"2289.34,1486.45 2289.34,1467.55 \"/>\n",
       "<path clip-path=\"url(#clip520)\" d=\"M175.59 1517.37 Q171.979 1517.37 170.15 1520.93 Q168.344 1524.47 168.344 1531.6 Q168.344 1538.71 170.15 1542.27 Q171.979 1545.82 175.59 1545.82 Q179.224 1545.82 181.03 1542.27 Q182.858 1538.71 182.858 1531.6 Q182.858 1524.47 181.03 1520.93 Q179.224 1517.37 175.59 1517.37 M175.59 1513.66 Q181.4 1513.66 184.455 1518.27 Q187.534 1522.85 187.534 1531.6 Q187.534 1540.33 184.455 1544.94 Q181.4 1549.52 175.59 1549.52 Q169.78 1549.52 166.701 1544.94 Q163.645 1540.33 163.645 1531.6 Q163.645 1522.85 166.701 1518.27 Q169.78 1513.66 175.59 1513.66 Z\" fill=\"#000000\" fill-rule=\"nonzero\" fill-opacity=\"1\" /><path clip-path=\"url(#clip520)\" d=\"M698.681 1544.91 L715 1544.91 L715 1548.85 L693.056 1548.85 L693.056 1544.91 Q695.718 1542.16 700.301 1537.53 Q704.908 1532.88 706.088 1531.53 Q708.334 1529.01 709.213 1527.27 Q710.116 1525.51 710.116 1523.82 Q710.116 1521.07 708.172 1519.33 Q706.25 1517.6 703.149 1517.6 Q700.949 1517.6 698.496 1518.36 Q696.065 1519.13 693.287 1520.68 L693.287 1515.95 Q696.112 1514.82 698.565 1514.24 Q701.019 1513.66 703.056 1513.66 Q708.426 1513.66 711.621 1516.35 Q714.815 1519.03 714.815 1523.52 Q714.815 1525.65 714.005 1527.57 Q713.218 1529.47 711.111 1532.07 Q710.533 1532.74 707.431 1535.95 Q704.329 1539.15 698.681 1544.91 Z\" fill=\"#000000\" fill-rule=\"nonzero\" fill-opacity=\"1\" /><path clip-path=\"url(#clip520)\" d=\"M1235.48 1518.36 L1223.67 1536.81 L1235.48 1536.81 L1235.48 1518.36 M1234.25 1514.29 L1240.13 1514.29 L1240.13 1536.81 L1245.06 1536.81 L1245.06 1540.7 L1240.13 1540.7 L1240.13 1548.85 L1235.48 1548.85 L1235.48 1540.7 L1219.87 1540.7 L1219.87 1536.19 L1234.25 1514.29 Z\" fill=\"#000000\" fill-rule=\"nonzero\" fill-opacity=\"1\" /><path clip-path=\"url(#clip520)\" d=\"M1761.31 1529.7 Q1758.16 1529.7 1756.31 1531.86 Q1754.48 1534.01 1754.48 1537.76 Q1754.48 1541.49 1756.31 1543.66 Q1758.16 1545.82 1761.31 1545.82 Q1764.46 1545.82 1766.29 1543.66 Q1768.14 1541.49 1768.14 1537.76 Q1768.14 1534.01 1766.29 1531.86 Q1764.46 1529.7 1761.31 1529.7 M1770.59 1515.05 L1770.59 1519.31 Q1768.83 1518.48 1767.03 1518.04 Q1765.25 1517.6 1763.49 1517.6 Q1758.86 1517.6 1756.4 1520.72 Q1753.97 1523.85 1753.62 1530.17 Q1754.99 1528.15 1757.05 1527.09 Q1759.11 1526 1761.59 1526 Q1766.8 1526 1769.81 1529.17 Q1772.84 1532.32 1772.84 1537.76 Q1772.84 1543.08 1769.69 1546.3 Q1766.54 1549.52 1761.31 1549.52 Q1755.31 1549.52 1752.14 1544.94 Q1748.97 1540.33 1748.97 1531.6 Q1748.97 1523.41 1752.86 1518.55 Q1756.75 1513.66 1763.3 1513.66 Q1765.06 1513.66 1766.84 1514.01 Q1768.65 1514.36 1770.59 1515.05 Z\" fill=\"#000000\" fill-rule=\"nonzero\" fill-opacity=\"1\" /><path clip-path=\"url(#clip520)\" d=\"M2289.34 1532.44 Q2286.01 1532.44 2284.09 1534.22 Q2282.19 1536 2282.19 1539.13 Q2282.19 1542.25 2284.09 1544.03 Q2286.01 1545.82 2289.34 1545.82 Q2292.68 1545.82 2294.6 1544.03 Q2296.52 1542.23 2296.52 1539.13 Q2296.52 1536 2294.6 1534.22 Q2292.7 1532.44 2289.34 1532.44 M2284.67 1530.45 Q2281.66 1529.7 2279.97 1527.64 Q2278.3 1525.58 2278.3 1522.62 Q2278.3 1518.48 2281.24 1516.07 Q2284.2 1513.66 2289.34 1513.66 Q2294.51 1513.66 2297.45 1516.07 Q2300.38 1518.48 2300.38 1522.62 Q2300.38 1525.58 2298.7 1527.64 Q2297.03 1529.7 2294.04 1530.45 Q2297.42 1531.23 2299.3 1533.52 Q2301.2 1535.82 2301.2 1539.13 Q2301.2 1544.15 2298.12 1546.83 Q2295.06 1549.52 2289.34 1549.52 Q2283.63 1549.52 2280.55 1546.83 Q2277.49 1544.15 2277.49 1539.13 Q2277.49 1535.82 2279.39 1533.52 Q2281.29 1531.23 2284.67 1530.45 M2282.95 1523.06 Q2282.95 1525.75 2284.62 1527.25 Q2286.31 1528.76 2289.34 1528.76 Q2292.35 1528.76 2294.04 1527.25 Q2295.76 1525.75 2295.76 1523.06 Q2295.76 1520.38 2294.04 1518.87 Q2292.35 1517.37 2289.34 1517.37 Q2286.31 1517.37 2284.62 1518.87 Q2282.95 1520.38 2282.95 1523.06 Z\" fill=\"#000000\" fill-rule=\"nonzero\" fill-opacity=\"1\" /><polyline clip-path=\"url(#clip522)\" style=\"stroke:#000000; stroke-linecap:round; stroke-linejoin:round; stroke-width:2; stroke-opacity:0.1; fill:none\" points=\"112.177,1434.11 2352.76,1434.11 \"/>\n",
       "<polyline clip-path=\"url(#clip522)\" style=\"stroke:#000000; stroke-linecap:round; stroke-linejoin:round; stroke-width:2; stroke-opacity:0.1; fill:none\" points=\"112.177,1099.3 2352.76,1099.3 \"/>\n",
       "<polyline clip-path=\"url(#clip522)\" style=\"stroke:#000000; stroke-linecap:round; stroke-linejoin:round; stroke-width:2; stroke-opacity:0.1; fill:none\" points=\"112.177,764.492 2352.76,764.492 \"/>\n",
       "<polyline clip-path=\"url(#clip522)\" style=\"stroke:#000000; stroke-linecap:round; stroke-linejoin:round; stroke-width:2; stroke-opacity:0.1; fill:none\" points=\"112.177,429.681 2352.76,429.681 \"/>\n",
       "<polyline clip-path=\"url(#clip522)\" style=\"stroke:#000000; stroke-linecap:round; stroke-linejoin:round; stroke-width:2; stroke-opacity:0.1; fill:none\" points=\"112.177,94.8711 2352.76,94.8711 \"/>\n",
       "<polyline clip-path=\"url(#clip520)\" style=\"stroke:#000000; stroke-linecap:round; stroke-linejoin:round; stroke-width:4; stroke-opacity:1; fill:none\" points=\"112.177,1486.45 112.177,47.2441 \"/>\n",
       "<polyline clip-path=\"url(#clip520)\" style=\"stroke:#000000; stroke-linecap:round; stroke-linejoin:round; stroke-width:4; stroke-opacity:1; fill:none\" points=\"112.177,1434.11 131.075,1434.11 \"/>\n",
       "<polyline clip-path=\"url(#clip520)\" style=\"stroke:#000000; stroke-linecap:round; stroke-linejoin:round; stroke-width:4; stroke-opacity:1; fill:none\" points=\"112.177,1099.3 131.075,1099.3 \"/>\n",
       "<polyline clip-path=\"url(#clip520)\" style=\"stroke:#000000; stroke-linecap:round; stroke-linejoin:round; stroke-width:4; stroke-opacity:1; fill:none\" points=\"112.177,764.492 131.075,764.492 \"/>\n",
       "<polyline clip-path=\"url(#clip520)\" style=\"stroke:#000000; stroke-linecap:round; stroke-linejoin:round; stroke-width:4; stroke-opacity:1; fill:none\" points=\"112.177,429.681 131.075,429.681 \"/>\n",
       "<polyline clip-path=\"url(#clip520)\" style=\"stroke:#000000; stroke-linecap:round; stroke-linejoin:round; stroke-width:4; stroke-opacity:1; fill:none\" points=\"112.177,94.8711 131.075,94.8711 \"/>\n",
       "<path clip-path=\"url(#clip520)\" d=\"M64.2328 1419.91 Q60.6217 1419.91 58.793 1423.48 Q56.9875 1427.02 56.9875 1434.15 Q56.9875 1441.25 58.793 1444.82 Q60.6217 1448.36 64.2328 1448.36 Q67.867 1448.36 69.6726 1444.82 Q71.5013 1441.25 71.5013 1434.15 Q71.5013 1427.02 69.6726 1423.48 Q67.867 1419.91 64.2328 1419.91 M64.2328 1416.21 Q70.0429 1416.21 73.0985 1420.81 Q76.1772 1425.4 76.1772 1434.15 Q76.1772 1442.87 73.0985 1447.48 Q70.0429 1452.06 64.2328 1452.06 Q58.4226 1452.06 55.344 1447.48 Q52.2884 1442.87 52.2884 1434.15 Q52.2884 1425.4 55.344 1420.81 Q58.4226 1416.21 64.2328 1416.21 Z\" fill=\"#000000\" fill-rule=\"nonzero\" fill-opacity=\"1\" /><path clip-path=\"url(#clip520)\" d=\"M59.8578 1112.65 L76.1772 1112.65 L76.1772 1116.58 L54.2328 1116.58 L54.2328 1112.65 Q56.8949 1109.89 61.4782 1105.26 Q66.0846 1100.61 67.2652 1099.27 Q69.5105 1096.74 70.3902 1095.01 Q71.2929 1093.25 71.2929 1091.56 Q71.2929 1088.8 69.3485 1087.07 Q67.4272 1085.33 64.3254 1085.33 Q62.1263 1085.33 59.6726 1086.1 Q57.2421 1086.86 54.4643 1088.41 L54.4643 1083.69 Q57.2884 1082.55 59.7421 1081.98 Q62.1958 1081.4 64.2328 1081.4 Q69.6031 1081.4 72.7976 1084.08 Q75.992 1086.77 75.992 1091.26 Q75.992 1093.39 75.1818 1095.31 Q74.3948 1097.21 72.2883 1099.8 Q71.7096 1100.47 68.6078 1103.69 Q65.5059 1106.88 59.8578 1112.65 Z\" fill=\"#000000\" fill-rule=\"nonzero\" fill-opacity=\"1\" /><path clip-path=\"url(#clip520)\" d=\"M66.5939 751.286 L54.7884 769.735 L66.5939 769.735 L66.5939 751.286 M65.367 747.212 L71.2466 747.212 L71.2466 769.735 L76.1772 769.735 L76.1772 773.624 L71.2466 773.624 L71.2466 781.772 L66.5939 781.772 L66.5939 773.624 L50.9921 773.624 L50.9921 769.11 L65.367 747.212 Z\" fill=\"#000000\" fill-rule=\"nonzero\" fill-opacity=\"1\" /><path clip-path=\"url(#clip520)\" d=\"M64.6495 427.818 Q61.5013 427.818 59.6495 429.971 Q57.8208 432.124 57.8208 435.874 Q57.8208 439.6 59.6495 441.776 Q61.5013 443.929 64.6495 443.929 Q67.7976 443.929 69.6263 441.776 Q71.4781 439.6 71.4781 435.874 Q71.4781 432.124 69.6263 429.971 Q67.7976 427.818 64.6495 427.818 M73.9318 413.165 L73.9318 417.425 Q72.1726 416.591 70.367 416.151 Q68.5846 415.712 66.8254 415.712 Q62.1958 415.712 59.7421 418.837 Q57.3115 421.962 56.9643 428.281 Q58.33 426.267 60.3902 425.202 Q62.4504 424.114 64.9272 424.114 Q70.1355 424.114 73.1448 427.286 Q76.1772 430.434 76.1772 435.874 Q76.1772 441.198 73.029 444.415 Q69.8809 447.633 64.6495 447.633 Q58.6541 447.633 55.4828 443.049 Q52.3116 438.443 52.3116 429.716 Q52.3116 421.522 56.2004 416.661 Q60.0893 411.776 66.6402 411.776 Q68.3994 411.776 70.1818 412.124 Q71.9874 412.471 73.9318 413.165 Z\" fill=\"#000000\" fill-rule=\"nonzero\" fill-opacity=\"1\" /><path clip-path=\"url(#clip520)\" d=\"M64.3254 95.7392 Q60.9921 95.7392 59.0708 97.5216 Q57.1726 99.304 57.1726 102.429 Q57.1726 105.554 59.0708 107.336 Q60.9921 109.119 64.3254 109.119 Q67.6587 109.119 69.58 107.336 Q71.5013 105.531 71.5013 102.429 Q71.5013 99.304 69.58 97.5216 Q67.6819 95.7392 64.3254 95.7392 M59.6495 93.7484 Q56.6402 93.0077 54.9504 90.9475 Q53.2838 88.8873 53.2838 85.9244 Q53.2838 81.7809 56.2236 79.3735 Q59.1865 76.9661 64.3254 76.9661 Q69.4874 76.9661 72.4272 79.3735 Q75.367 81.7809 75.367 85.9244 Q75.367 88.8873 73.6772 90.9475 Q72.0105 93.0077 69.0244 93.7484 Q72.404 94.5355 74.279 96.8271 Q76.1772 99.1188 76.1772 102.429 Q76.1772 107.452 73.0985 110.137 Q70.0429 112.822 64.3254 112.822 Q58.6078 112.822 55.5291 110.137 Q52.4736 107.452 52.4736 102.429 Q52.4736 99.1188 54.3717 96.8271 Q56.2699 94.5355 59.6495 93.7484 M57.9365 86.3642 Q57.9365 89.0494 59.6032 90.554 Q61.293 92.0586 64.3254 92.0586 Q67.3346 92.0586 69.0244 90.554 Q70.7374 89.0494 70.7374 86.3642 Q70.7374 83.679 69.0244 82.1744 Q67.3346 80.6698 64.3254 80.6698 Q61.293 80.6698 59.6032 82.1744 Q57.9365 83.679 57.9365 86.3642 Z\" fill=\"#000000\" fill-rule=\"nonzero\" fill-opacity=\"1\" /><polyline clip-path=\"url(#clip522)\" style=\"stroke:#009af9; stroke-linecap:round; stroke-linejoin:round; stroke-width:4; stroke-opacity:1; fill:none\" points=\"175.59,1434.11 202.012,1435.99 228.434,1440.01 254.856,1443.65 281.277,1445.67 307.699,1445.72 334.121,1443.85 360.543,1440.25 386.965,1435.09 413.387,1428.49 439.809,1420.54 466.231,1411.32 492.653,1400.86 519.075,1389.24 545.497,1376.49 571.919,1362.65 598.34,1347.78 624.762,1331.91 651.184,1315.09 677.606,1297.35 704.028,1278.74 730.45,1259.29 756.872,1239.05 783.294,1218.06 809.716,1196.35 836.138,1173.97 862.56,1150.96 888.982,1127.37 915.404,1103.22 941.825,1078.56 968.247,1053.44 994.669,1027.89 1021.09,1001.96 1047.51,975.678 1073.94,949.095 1100.36,922.248 1126.78,895.178 1153.2,867.925 1179.62,840.528 1206.04,813.027 1232.47,785.464 1258.89,757.877 1285.31,730.307 1311.73,702.794 1338.15,675.377 1364.58,648.098 1391,620.995 1417.42,594.109 1443.84,567.48 1470.26,541.148 1496.69,515.153 1523.11,489.536 1549.53,464.336 1575.95,439.594 1602.37,415.351 1628.8,391.645 1655.22,368.519 1681.64,346.011 1708.06,324.163 1734.48,303.015 1760.9,282.608 1787.33,262.981 1813.75,244.177 1840.17,226.235 1866.59,209.197 1893.01,193.104 1919.44,177.999 1945.86,163.922 1972.28,150.92 1998.7,139.036 2025.12,128.319 2051.55,118.821 2077.97,110.6 2104.39,103.723 2130.81,98.2659 2157.23,94.3122 2183.66,91.9456 2210.08,91.2133 2236.5,92.0226 2262.92,93.8359 2289.34,94.8946 \"/>\n",
       "<polyline clip-path=\"url(#clip522)\" style=\"stroke:#e26f46; stroke-linecap:round; stroke-linejoin:round; stroke-width:4; stroke-opacity:1; fill:none\" points=\"175.59,1434.11 202.012,1435.86 228.434,1439.15 254.856,1441.26 281.277,1441.43 307.699,1439.73 334.121,1436.37 360.543,1431.52 386.965,1425.28 413.387,1417.71 439.809,1408.86 466.231,1398.8 492.653,1387.55 519.075,1375.18 545.497,1361.71 571.919,1347.19 598.34,1331.67 624.762,1315.19 651.184,1297.79 677.606,1279.51 704.028,1260.39 730.45,1240.47 756.872,1219.8 783.294,1198.41 809.716,1176.34 836.138,1153.64 862.56,1130.34 888.982,1106.48 915.404,1082.1 941.825,1057.24 968.247,1031.94 994.669,1006.25 1021.09,980.194 1047.51,953.819 1073.94,927.166 1100.36,900.274 1126.78,873.182 1153.2,845.932 1179.62,818.562 1206.04,791.114 1232.47,763.628 1258.89,736.143 1285.31,708.699 1311.73,681.336 1338.15,654.095 1364.58,627.015 1391,600.137 1417.42,573.5 1443.84,547.144 1470.26,521.11 1496.69,495.436 1523.11,470.164 1549.53,445.332 1575.95,420.981 1602.37,397.151 1628.8,373.882 1655.22,351.213 1681.64,329.185 1708.06,307.837 1734.48,287.209 1760.9,267.341 1787.33,248.273 1813.75,230.046 1840.17,212.699 1866.59,196.273 1893.01,180.808 1919.44,166.346 1945.86,152.928 1972.28,140.599 1998.7,129.403 2025.12,119.39 2051.55,110.614 2077.97,103.139 2104.39,97.0392 2130.81,92.4059 2157.23,89.347 2183.66,87.9763 2210.08,88.3651 2236.5,90.389 2262.92,93.3175 2289.34,94.8602 \"/>\n",
       "<path clip-path=\"url(#clip520)\" d=\"M186.863 250.738 L463.351 250.738 L463.351 95.2176 L186.863 95.2176  Z\" fill=\"#ffffff\" fill-rule=\"evenodd\" fill-opacity=\"1\"/>\n",
       "<polyline clip-path=\"url(#clip520)\" style=\"stroke:#000000; stroke-linecap:round; stroke-linejoin:round; stroke-width:4; stroke-opacity:1; fill:none\" points=\"186.863,250.738 463.351,250.738 463.351,95.2176 186.863,95.2176 186.863,250.738 \"/>\n",
       "<polyline clip-path=\"url(#clip520)\" style=\"stroke:#009af9; stroke-linecap:round; stroke-linejoin:round; stroke-width:4; stroke-opacity:1; fill:none\" points=\"211.758,147.058 361.13,147.058 \"/>\n",
       "<path clip-path=\"url(#clip520)\" d=\"M399.868 166.745 Q398.063 171.375 396.35 172.787 Q394.637 174.199 391.766 174.199 L388.364 174.199 L388.364 170.634 L390.864 170.634 Q392.623 170.634 393.595 169.8 Q394.567 168.967 395.748 165.865 L396.512 163.921 L386.026 138.412 L390.54 138.412 L398.641 158.689 L406.743 138.412 L411.257 138.412 L399.868 166.745 Z\" fill=\"#000000\" fill-rule=\"nonzero\" fill-opacity=\"1\" /><path clip-path=\"url(#clip520)\" d=\"M418.549 160.402 L426.188 160.402 L426.188 134.037 L417.877 135.703 L417.877 131.444 L426.141 129.778 L430.817 129.778 L430.817 160.402 L438.456 160.402 L438.456 164.338 L418.549 164.338 L418.549 160.402 Z\" fill=\"#000000\" fill-rule=\"nonzero\" fill-opacity=\"1\" /><polyline clip-path=\"url(#clip520)\" style=\"stroke:#e26f46; stroke-linecap:round; stroke-linejoin:round; stroke-width:4; stroke-opacity:1; fill:none\" points=\"211.758,198.898 361.13,198.898 \"/>\n",
       "<path clip-path=\"url(#clip520)\" d=\"M399.868 218.585 Q398.063 223.215 396.35 224.627 Q394.637 226.039 391.766 226.039 L388.364 226.039 L388.364 222.474 L390.864 222.474 Q392.623 222.474 393.595 221.64 Q394.567 220.807 395.748 217.705 L396.512 215.761 L386.026 190.252 L390.54 190.252 L398.641 210.529 L406.743 190.252 L411.257 190.252 L399.868 218.585 Z\" fill=\"#000000\" fill-rule=\"nonzero\" fill-opacity=\"1\" /><path clip-path=\"url(#clip520)\" d=\"M421.766 212.242 L438.086 212.242 L438.086 216.178 L416.141 216.178 L416.141 212.242 Q418.803 209.488 423.387 204.858 Q427.993 200.205 429.174 198.863 Q431.419 196.34 432.299 194.604 Q433.201 192.844 433.201 191.155 Q433.201 188.4 431.257 186.664 Q429.336 184.928 426.234 184.928 Q424.035 184.928 421.581 185.692 Q419.151 186.455 416.373 188.006 L416.373 183.284 Q419.197 182.15 421.65 181.571 Q424.104 180.993 426.141 180.993 Q431.512 180.993 434.706 183.678 Q437.9 186.363 437.9 190.854 Q437.9 192.983 437.09 194.905 Q436.303 196.803 434.197 199.395 Q433.618 200.067 430.516 203.284 Q427.414 206.479 421.766 212.242 Z\" fill=\"#000000\" fill-rule=\"nonzero\" fill-opacity=\"1\" /></svg>\n"
      ]
     },
     "execution_count": 33,
     "metadata": {},
     "output_type": "execute_result"
    }
   ],
   "source": [
    "plot(thist,Xm_sim[1,:])\n",
    "plot!(thist,Xm_sim[2,:])"
   ]
  },
  {
   "cell_type": "code",
   "execution_count": 34,
   "metadata": {},
   "outputs": [
    {
     "data": {
      "image/svg+xml": [
       "<?xml version=\"1.0\" encoding=\"utf-8\"?>\n",
       "<svg xmlns=\"http://www.w3.org/2000/svg\" xmlns:xlink=\"http://www.w3.org/1999/xlink\" width=\"600\" height=\"400\" viewBox=\"0 0 2400 1600\">\n",
       "<defs>\n",
       "  <clipPath id=\"clip560\">\n",
       "    <rect x=\"0\" y=\"0\" width=\"2400\" height=\"1600\"/>\n",
       "  </clipPath>\n",
       "</defs>\n",
       "<path clip-path=\"url(#clip560)\" d=\"M0 1600 L2400 1600 L2400 0 L0 0  Z\" fill=\"#ffffff\" fill-rule=\"evenodd\" fill-opacity=\"1\"/>\n",
       "<defs>\n",
       "  <clipPath id=\"clip561\">\n",
       "    <rect x=\"480\" y=\"0\" width=\"1681\" height=\"1600\"/>\n",
       "  </clipPath>\n",
       "</defs>\n",
       "<path clip-path=\"url(#clip560)\" d=\"M178.867 1486.45 L2352.76 1486.45 L2352.76 47.2441 L178.867 47.2441  Z\" fill=\"#ffffff\" fill-rule=\"evenodd\" fill-opacity=\"1\"/>\n",
       "<defs>\n",
       "  <clipPath id=\"clip562\">\n",
       "    <rect x=\"178\" y=\"47\" width=\"2175\" height=\"1440\"/>\n",
       "  </clipPath>\n",
       "</defs>\n",
       "<polyline clip-path=\"url(#clip562)\" style=\"stroke:#000000; stroke-linecap:round; stroke-linejoin:round; stroke-width:2; stroke-opacity:0.1; fill:none\" points=\"240.392,1486.45 240.392,47.2441 \"/>\n",
       "<polyline clip-path=\"url(#clip562)\" style=\"stroke:#000000; stroke-linecap:round; stroke-linejoin:round; stroke-width:2; stroke-opacity:0.1; fill:none\" points=\"759.592,1486.45 759.592,47.2441 \"/>\n",
       "<polyline clip-path=\"url(#clip562)\" style=\"stroke:#000000; stroke-linecap:round; stroke-linejoin:round; stroke-width:2; stroke-opacity:0.1; fill:none\" points=\"1278.79,1486.45 1278.79,47.2441 \"/>\n",
       "<polyline clip-path=\"url(#clip562)\" style=\"stroke:#000000; stroke-linecap:round; stroke-linejoin:round; stroke-width:2; stroke-opacity:0.1; fill:none\" points=\"1797.99,1486.45 1797.99,47.2441 \"/>\n",
       "<polyline clip-path=\"url(#clip562)\" style=\"stroke:#000000; stroke-linecap:round; stroke-linejoin:round; stroke-width:2; stroke-opacity:0.1; fill:none\" points=\"2317.19,1486.45 2317.19,47.2441 \"/>\n",
       "<polyline clip-path=\"url(#clip560)\" style=\"stroke:#000000; stroke-linecap:round; stroke-linejoin:round; stroke-width:4; stroke-opacity:1; fill:none\" points=\"178.867,1486.45 2352.76,1486.45 \"/>\n",
       "<polyline clip-path=\"url(#clip560)\" style=\"stroke:#000000; stroke-linecap:round; stroke-linejoin:round; stroke-width:4; stroke-opacity:1; fill:none\" points=\"240.392,1486.45 240.392,1467.55 \"/>\n",
       "<polyline clip-path=\"url(#clip560)\" style=\"stroke:#000000; stroke-linecap:round; stroke-linejoin:round; stroke-width:4; stroke-opacity:1; fill:none\" points=\"759.592,1486.45 759.592,1467.55 \"/>\n",
       "<polyline clip-path=\"url(#clip560)\" style=\"stroke:#000000; stroke-linecap:round; stroke-linejoin:round; stroke-width:4; stroke-opacity:1; fill:none\" points=\"1278.79,1486.45 1278.79,1467.55 \"/>\n",
       "<polyline clip-path=\"url(#clip560)\" style=\"stroke:#000000; stroke-linecap:round; stroke-linejoin:round; stroke-width:4; stroke-opacity:1; fill:none\" points=\"1797.99,1486.45 1797.99,1467.55 \"/>\n",
       "<polyline clip-path=\"url(#clip560)\" style=\"stroke:#000000; stroke-linecap:round; stroke-linejoin:round; stroke-width:4; stroke-opacity:1; fill:none\" points=\"2317.19,1486.45 2317.19,1467.55 \"/>\n",
       "<path clip-path=\"url(#clip560)\" d=\"M240.392 1517.37 Q236.781 1517.37 234.952 1520.93 Q233.146 1524.47 233.146 1531.6 Q233.146 1538.71 234.952 1542.27 Q236.781 1545.82 240.392 1545.82 Q244.026 1545.82 245.832 1542.27 Q247.66 1538.71 247.66 1531.6 Q247.66 1524.47 245.832 1520.93 Q244.026 1517.37 240.392 1517.37 M240.392 1513.66 Q246.202 1513.66 249.257 1518.27 Q252.336 1522.85 252.336 1531.6 Q252.336 1540.33 249.257 1544.94 Q246.202 1549.52 240.392 1549.52 Q234.582 1549.52 231.503 1544.94 Q228.447 1540.33 228.447 1531.6 Q228.447 1522.85 231.503 1518.27 Q234.582 1513.66 240.392 1513.66 Z\" fill=\"#000000\" fill-rule=\"nonzero\" fill-opacity=\"1\" /><path clip-path=\"url(#clip560)\" d=\"M754.244 1544.91 L770.564 1544.91 L770.564 1548.85 L748.619 1548.85 L748.619 1544.91 Q751.281 1542.16 755.865 1537.53 Q760.471 1532.88 761.652 1531.53 Q763.897 1529.01 764.777 1527.27 Q765.679 1525.51 765.679 1523.82 Q765.679 1521.07 763.735 1519.33 Q761.814 1517.6 758.712 1517.6 Q756.513 1517.6 754.059 1518.36 Q751.629 1519.13 748.851 1520.68 L748.851 1515.95 Q751.675 1514.82 754.129 1514.24 Q756.582 1513.66 758.619 1513.66 Q763.99 1513.66 767.184 1516.35 Q770.379 1519.03 770.379 1523.52 Q770.379 1525.65 769.568 1527.57 Q768.781 1529.47 766.675 1532.07 Q766.096 1532.74 762.994 1535.95 Q759.892 1539.15 754.244 1544.91 Z\" fill=\"#000000\" fill-rule=\"nonzero\" fill-opacity=\"1\" /><path clip-path=\"url(#clip560)\" d=\"M1281.8 1518.36 L1270 1536.81 L1281.8 1536.81 L1281.8 1518.36 M1280.57 1514.29 L1286.45 1514.29 L1286.45 1536.81 L1291.38 1536.81 L1291.38 1540.7 L1286.45 1540.7 L1286.45 1548.85 L1281.8 1548.85 L1281.8 1540.7 L1266.2 1540.7 L1266.2 1536.19 L1280.57 1514.29 Z\" fill=\"#000000\" fill-rule=\"nonzero\" fill-opacity=\"1\" /><path clip-path=\"url(#clip560)\" d=\"M1798.4 1529.7 Q1795.25 1529.7 1793.4 1531.86 Q1791.57 1534.01 1791.57 1537.76 Q1791.57 1541.49 1793.4 1543.66 Q1795.25 1545.82 1798.4 1545.82 Q1801.54 1545.82 1803.37 1543.66 Q1805.22 1541.49 1805.22 1537.76 Q1805.22 1534.01 1803.37 1531.86 Q1801.54 1529.7 1798.4 1529.7 M1807.68 1515.05 L1807.68 1519.31 Q1805.92 1518.48 1804.11 1518.04 Q1802.33 1517.6 1800.57 1517.6 Q1795.94 1517.6 1793.49 1520.72 Q1791.06 1523.85 1790.71 1530.17 Q1792.08 1528.15 1794.14 1527.09 Q1796.2 1526 1798.67 1526 Q1803.88 1526 1806.89 1529.17 Q1809.92 1532.32 1809.92 1537.76 Q1809.92 1543.08 1806.78 1546.3 Q1803.63 1549.52 1798.4 1549.52 Q1792.4 1549.52 1789.23 1544.94 Q1786.06 1540.33 1786.06 1531.6 Q1786.06 1523.41 1789.95 1518.55 Q1793.84 1513.66 1800.39 1513.66 Q1802.15 1513.66 1803.93 1514.01 Q1805.73 1514.36 1807.68 1515.05 Z\" fill=\"#000000\" fill-rule=\"nonzero\" fill-opacity=\"1\" /><path clip-path=\"url(#clip560)\" d=\"M2317.19 1532.44 Q2313.86 1532.44 2311.94 1534.22 Q2310.04 1536 2310.04 1539.13 Q2310.04 1542.25 2311.94 1544.03 Q2313.86 1545.82 2317.19 1545.82 Q2320.52 1545.82 2322.45 1544.03 Q2324.37 1542.23 2324.37 1539.13 Q2324.37 1536 2322.45 1534.22 Q2320.55 1532.44 2317.19 1532.44 M2312.51 1530.45 Q2309.51 1529.7 2307.82 1527.64 Q2306.15 1525.58 2306.15 1522.62 Q2306.15 1518.48 2309.09 1516.07 Q2312.05 1513.66 2317.19 1513.66 Q2322.35 1513.66 2325.29 1516.07 Q2328.23 1518.48 2328.23 1522.62 Q2328.23 1525.58 2326.54 1527.64 Q2324.88 1529.7 2321.89 1530.45 Q2325.27 1531.23 2327.14 1533.52 Q2329.04 1535.82 2329.04 1539.13 Q2329.04 1544.15 2325.96 1546.83 Q2322.91 1549.52 2317.19 1549.52 Q2311.47 1549.52 2308.39 1546.83 Q2305.34 1544.15 2305.34 1539.13 Q2305.34 1535.82 2307.24 1533.52 Q2309.14 1531.23 2312.51 1530.45 M2310.8 1523.06 Q2310.8 1525.75 2312.47 1527.25 Q2314.16 1528.76 2317.19 1528.76 Q2320.2 1528.76 2321.89 1527.25 Q2323.6 1525.75 2323.6 1523.06 Q2323.6 1520.38 2321.89 1518.87 Q2320.2 1517.37 2317.19 1517.37 Q2314.16 1517.37 2312.47 1518.87 Q2310.8 1520.38 2310.8 1523.06 Z\" fill=\"#000000\" fill-rule=\"nonzero\" fill-opacity=\"1\" /><polyline clip-path=\"url(#clip562)\" style=\"stroke:#000000; stroke-linecap:round; stroke-linejoin:round; stroke-width:2; stroke-opacity:0.1; fill:none\" points=\"178.867,1290.03 2352.76,1290.03 \"/>\n",
       "<polyline clip-path=\"url(#clip562)\" style=\"stroke:#000000; stroke-linecap:round; stroke-linejoin:round; stroke-width:2; stroke-opacity:0.1; fill:none\" points=\"178.867,1031.53 2352.76,1031.53 \"/>\n",
       "<polyline clip-path=\"url(#clip562)\" style=\"stroke:#000000; stroke-linecap:round; stroke-linejoin:round; stroke-width:2; stroke-opacity:0.1; fill:none\" points=\"178.867,773.037 2352.76,773.037 \"/>\n",
       "<polyline clip-path=\"url(#clip562)\" style=\"stroke:#000000; stroke-linecap:round; stroke-linejoin:round; stroke-width:2; stroke-opacity:0.1; fill:none\" points=\"178.867,514.542 2352.76,514.542 \"/>\n",
       "<polyline clip-path=\"url(#clip562)\" style=\"stroke:#000000; stroke-linecap:round; stroke-linejoin:round; stroke-width:2; stroke-opacity:0.1; fill:none\" points=\"178.867,256.046 2352.76,256.046 \"/>\n",
       "<polyline clip-path=\"url(#clip560)\" style=\"stroke:#000000; stroke-linecap:round; stroke-linejoin:round; stroke-width:4; stroke-opacity:1; fill:none\" points=\"178.867,1486.45 178.867,47.2441 \"/>\n",
       "<polyline clip-path=\"url(#clip560)\" style=\"stroke:#000000; stroke-linecap:round; stroke-linejoin:round; stroke-width:4; stroke-opacity:1; fill:none\" points=\"178.867,1290.03 197.764,1290.03 \"/>\n",
       "<polyline clip-path=\"url(#clip560)\" style=\"stroke:#000000; stroke-linecap:round; stroke-linejoin:round; stroke-width:4; stroke-opacity:1; fill:none\" points=\"178.867,1031.53 197.764,1031.53 \"/>\n",
       "<polyline clip-path=\"url(#clip560)\" style=\"stroke:#000000; stroke-linecap:round; stroke-linejoin:round; stroke-width:4; stroke-opacity:1; fill:none\" points=\"178.867,773.037 197.764,773.037 \"/>\n",
       "<polyline clip-path=\"url(#clip560)\" style=\"stroke:#000000; stroke-linecap:round; stroke-linejoin:round; stroke-width:4; stroke-opacity:1; fill:none\" points=\"178.867,514.542 197.764,514.542 \"/>\n",
       "<polyline clip-path=\"url(#clip560)\" style=\"stroke:#000000; stroke-linecap:round; stroke-linejoin:round; stroke-width:4; stroke-opacity:1; fill:none\" points=\"178.867,256.046 197.764,256.046 \"/>\n",
       "<path clip-path=\"url(#clip560)\" d=\"M50.9921 1290.48 L80.6679 1290.48 L80.6679 1294.41 L50.9921 1294.41 L50.9921 1290.48 Z\" fill=\"#000000\" fill-rule=\"nonzero\" fill-opacity=\"1\" /><path clip-path=\"url(#clip560)\" d=\"M103.608 1276.82 L91.8021 1295.27 L103.608 1295.27 L103.608 1276.82 M102.381 1272.75 L108.26 1272.75 L108.26 1295.27 L113.191 1295.27 L113.191 1299.16 L108.26 1299.16 L108.26 1307.31 L103.608 1307.31 L103.608 1299.16 L88.0058 1299.16 L88.0058 1294.65 L102.381 1272.75 Z\" fill=\"#000000\" fill-rule=\"nonzero\" fill-opacity=\"1\" /><path clip-path=\"url(#clip560)\" d=\"M130.922 1275.83 Q127.311 1275.83 125.482 1279.39 Q123.677 1282.93 123.677 1290.06 Q123.677 1297.17 125.482 1300.73 Q127.311 1304.28 130.922 1304.28 Q134.556 1304.28 136.362 1300.73 Q138.191 1297.17 138.191 1290.06 Q138.191 1282.93 136.362 1279.39 Q134.556 1275.83 130.922 1275.83 M130.922 1272.12 Q136.732 1272.12 139.788 1276.73 Q142.867 1281.31 142.867 1290.06 Q142.867 1298.79 139.788 1303.4 Q136.732 1307.98 130.922 1307.98 Q125.112 1307.98 122.033 1303.4 Q118.978 1298.79 118.978 1290.06 Q118.978 1281.31 122.033 1276.73 Q125.112 1272.12 130.922 1272.12 Z\" fill=\"#000000\" fill-rule=\"nonzero\" fill-opacity=\"1\" /><path clip-path=\"url(#clip560)\" d=\"M50.9921 1031.98 L80.6679 1031.98 L80.6679 1035.92 L50.9921 1035.92 L50.9921 1031.98 Z\" fill=\"#000000\" fill-rule=\"nonzero\" fill-opacity=\"1\" /><path clip-path=\"url(#clip560)\" d=\"M94.7882 1044.88 L111.108 1044.88 L111.108 1048.81 L89.1632 1048.81 L89.1632 1044.88 Q91.8252 1042.12 96.4085 1037.49 Q101.015 1032.84 102.196 1031.5 Q104.441 1028.97 105.321 1027.24 Q106.223 1025.48 106.223 1023.79 Q106.223 1021.04 104.279 1019.3 Q102.358 1017.56 99.2558 1017.56 Q97.0567 1017.56 94.603 1018.33 Q92.1725 1019.09 89.3947 1020.64 L89.3947 1015.92 Q92.2188 1014.79 94.6724 1014.21 Q97.1261 1013.63 99.1632 1013.63 Q104.534 1013.63 107.728 1016.31 Q110.922 1019 110.922 1023.49 Q110.922 1025.62 110.112 1027.54 Q109.325 1029.44 107.219 1032.03 Q106.64 1032.7 103.538 1035.92 Q100.436 1039.11 94.7882 1044.88 Z\" fill=\"#000000\" fill-rule=\"nonzero\" fill-opacity=\"1\" /><path clip-path=\"url(#clip560)\" d=\"M130.922 1017.33 Q127.311 1017.33 125.482 1020.9 Q123.677 1024.44 123.677 1031.57 Q123.677 1038.67 125.482 1042.24 Q127.311 1045.78 130.922 1045.78 Q134.556 1045.78 136.362 1042.24 Q138.191 1038.67 138.191 1031.57 Q138.191 1024.44 136.362 1020.9 Q134.556 1017.33 130.922 1017.33 M130.922 1013.63 Q136.732 1013.63 139.788 1018.23 Q142.867 1022.82 142.867 1031.57 Q142.867 1040.29 139.788 1044.9 Q136.732 1049.48 130.922 1049.48 Q125.112 1049.48 122.033 1044.9 Q118.978 1040.29 118.978 1031.57 Q118.978 1022.82 122.033 1018.23 Q125.112 1013.63 130.922 1013.63 Z\" fill=\"#000000\" fill-rule=\"nonzero\" fill-opacity=\"1\" /><path clip-path=\"url(#clip560)\" d=\"M130.922 758.836 Q127.311 758.836 125.482 762.401 Q123.677 765.942 123.677 773.072 Q123.677 780.178 125.482 783.743 Q127.311 787.285 130.922 787.285 Q134.556 787.285 136.362 783.743 Q138.191 780.178 138.191 773.072 Q138.191 765.942 136.362 762.401 Q134.556 758.836 130.922 758.836 M130.922 755.132 Q136.732 755.132 139.788 759.739 Q142.867 764.322 142.867 773.072 Q142.867 781.799 139.788 786.405 Q136.732 790.989 130.922 790.989 Q125.112 790.989 122.033 786.405 Q118.978 781.799 118.978 773.072 Q118.978 764.322 122.033 759.739 Q125.112 755.132 130.922 755.132 Z\" fill=\"#000000\" fill-rule=\"nonzero\" fill-opacity=\"1\" /><path clip-path=\"url(#clip560)\" d=\"M94.7882 527.887 L111.108 527.887 L111.108 531.822 L89.1632 531.822 L89.1632 527.887 Q91.8252 525.132 96.4085 520.502 Q101.015 515.85 102.196 514.507 Q104.441 511.984 105.321 510.248 Q106.223 508.489 106.223 506.799 Q106.223 504.044 104.279 502.308 Q102.358 500.572 99.2558 500.572 Q97.0567 500.572 94.603 501.336 Q92.1725 502.1 89.3947 503.651 L89.3947 498.929 Q92.2188 497.794 94.6724 497.216 Q97.1261 496.637 99.1632 496.637 Q104.534 496.637 107.728 499.322 Q110.922 502.007 110.922 506.498 Q110.922 508.628 110.112 510.549 Q109.325 512.447 107.219 515.04 Q106.64 515.711 103.538 518.928 Q100.436 522.123 94.7882 527.887 Z\" fill=\"#000000\" fill-rule=\"nonzero\" fill-opacity=\"1\" /><path clip-path=\"url(#clip560)\" d=\"M130.922 500.341 Q127.311 500.341 125.482 503.905 Q123.677 507.447 123.677 514.577 Q123.677 521.683 125.482 525.248 Q127.311 528.789 130.922 528.789 Q134.556 528.789 136.362 525.248 Q138.191 521.683 138.191 514.577 Q138.191 507.447 136.362 503.905 Q134.556 500.341 130.922 500.341 M130.922 496.637 Q136.732 496.637 139.788 501.243 Q142.867 505.827 142.867 514.577 Q142.867 523.303 139.788 527.91 Q136.732 532.493 130.922 532.493 Q125.112 532.493 122.033 527.91 Q118.978 523.303 118.978 514.577 Q118.978 505.827 122.033 501.243 Q125.112 496.637 130.922 496.637 Z\" fill=\"#000000\" fill-rule=\"nonzero\" fill-opacity=\"1\" /><path clip-path=\"url(#clip560)\" d=\"M103.608 242.84 L91.8021 261.289 L103.608 261.289 L103.608 242.84 M102.381 238.766 L108.26 238.766 L108.26 261.289 L113.191 261.289 L113.191 265.178 L108.26 265.178 L108.26 273.326 L103.608 273.326 L103.608 265.178 L88.0058 265.178 L88.0058 260.664 L102.381 238.766 Z\" fill=\"#000000\" fill-rule=\"nonzero\" fill-opacity=\"1\" /><path clip-path=\"url(#clip560)\" d=\"M130.922 241.845 Q127.311 241.845 125.482 245.41 Q123.677 248.952 123.677 256.081 Q123.677 263.188 125.482 266.752 Q127.311 270.294 130.922 270.294 Q134.556 270.294 136.362 266.752 Q138.191 263.188 138.191 256.081 Q138.191 248.952 136.362 245.41 Q134.556 241.845 130.922 241.845 M130.922 238.141 Q136.732 238.141 139.788 242.748 Q142.867 247.331 142.867 256.081 Q142.867 264.808 139.788 269.414 Q136.732 273.998 130.922 273.998 Q125.112 273.998 122.033 269.414 Q118.978 264.808 118.978 256.081 Q118.978 247.331 122.033 242.748 Q125.112 238.141 130.922 238.141 Z\" fill=\"#000000\" fill-rule=\"nonzero\" fill-opacity=\"1\" /><polyline clip-path=\"url(#clip562)\" style=\"stroke:#009af9; stroke-linecap:round; stroke-linejoin:round; stroke-width:4; stroke-opacity:1; fill:none\" points=\"240.392,1383.97 266.352,731.708 292.312,390.817 318.272,216.253 344.232,132.298 370.192,97.1034 396.152,87.9763 422.112,92.8269 448.072,105.188 474.032,121.585 499.992,140.142 525.952,159.845 551.912,180.147 577.872,200.756 603.832,221.518 629.792,242.362 655.752,263.259 681.712,284.207 707.672,305.215 733.632,326.295 759.592,347.458 785.552,368.708 811.512,390.039 837.471,411.437 863.431,432.882 889.391,454.349 915.351,475.815 941.311,497.256 967.271,518.654 993.231,539.998 1019.19,561.279 1045.15,582.495 1071.11,603.649 1097.07,624.744 1123.03,645.787 1148.99,666.786 1174.95,687.749 1200.91,708.683 1226.87,729.596 1252.83,750.494 1278.79,771.384 1304.75,792.269 1330.71,813.155 1356.67,834.044 1382.63,854.939 1408.59,875.843 1434.55,896.757 1460.51,917.682 1486.47,938.619 1512.43,959.569 1538.39,980.531 1564.35,1001.51 1590.31,1022.5 1616.27,1043.5 1642.23,1064.51 1668.19,1085.54 1694.15,1106.57 1720.11,1127.62 1746.07,1148.68 1772.03,1169.75 1797.99,1190.83 1823.95,1211.92 1849.91,1233.01 1875.87,1254.1 1901.83,1275.18 1927.79,1296.24 1953.75,1317.25 1979.71,1338.14 2005.67,1358.84 2031.63,1379.14 2057.59,1398.72 2083.55,1416.95 2109.51,1432.65 2135.47,1443.62 2161.43,1445.72 2187.39,1431.04 2213.35,1384.5 2239.31,1277.15 2265.27,1054.55 2291.23,618.672 \"/>\n",
       "<polyline clip-path=\"url(#clip562)\" style=\"stroke:#e26f46; stroke-linecap:round; stroke-linejoin:round; stroke-width:4; stroke-opacity:1; fill:none\" points=\"240.392,1113.97 266.352,580.861 292.312,309.778 318.272,179.331 344.232,121.857 370.192,101.7 396.152,100.867 422.112,110.189 448.072,124.914 474.032,142.531 499.992,161.705 525.952,181.715 551.912,202.167 577.872,222.842 603.832,243.618 629.792,264.422 655.752,285.212 681.712,305.965 707.672,326.671 733.632,347.332 759.592,367.958 785.552,388.562 811.512,409.162 837.471,429.775 863.431,450.414 889.391,471.089 915.351,491.807 941.311,512.568 967.271,533.369 993.231,554.206 1019.19,575.073 1045.15,595.963 1071.11,616.868 1097.07,637.783 1123.03,658.703 1148.99,679.623 1174.95,700.539 1200.91,721.451 1226.87,742.356 1252.83,763.252 1278.79,784.141 1304.75,805.02 1330.71,825.892 1356.67,846.756 1382.63,867.613 1408.59,888.463 1434.55,909.308 1460.51,930.148 1486.47,950.985 1512.43,971.818 1538.39,992.65 1564.35,1013.48 1590.31,1034.31 1616.27,1055.14 1642.23,1075.97 1668.19,1096.81 1694.15,1117.64 1720.11,1138.48 1746.07,1159.32 1772.03,1180.16 1797.99,1201.01 1823.95,1221.86 1849.91,1242.71 1875.87,1263.55 1901.83,1284.37 1927.79,1305.16 1953.75,1325.88 1979.71,1346.46 2005.67,1366.78 2031.63,1386.62 2057.59,1405.55 2083.55,1422.78 2109.51,1436.86 2135.47,1445.04 2161.43,1442.21 2187.39,1418.75 2213.35,1356.58 2239.31,1221.71 2265.27,951.052 2291.23,427.977 \"/>\n",
       "<polyline clip-path=\"url(#clip562)\" style=\"stroke:#3da44d; stroke-linecap:round; stroke-linejoin:round; stroke-width:4; stroke-opacity:1; fill:none\" points=\"240.392,1140.82 266.352,862.01 292.312,729.666 318.272,683.732 344.232,678.818 370.192,689.483 396.152,704.207 422.112,718.541 448.072,731.085 474.032,741.597 499.992,750.212 525.952,757.173 551.912,762.727 577.872,767.102 603.832,770.499 629.792,773.09 655.752,775.022 681.712,776.423 707.672,777.396 733.632,778.032 759.592,778.404 785.552,778.575 811.512,778.594 837.471,778.502 863.431,778.331 889.391,778.105 915.351,777.843 941.311,777.559 967.271,777.261 993.231,776.958 1019.19,776.654 1045.15,776.354 1071.11,776.061 1097.07,775.775 1123.03,775.499 1148.99,775.233 1174.95,774.978 1200.91,774.733 1226.87,774.499 1252.83,774.274 1278.79,774.059 1304.75,773.853 1330.71,773.654 1356.67,773.461 1382.63,773.275 1408.59,773.093 1434.55,772.916 1460.51,772.742 1486.47,772.572 1512.43,772.405 1538.39,772.241 1564.35,772.083 1590.31,771.929 1616.27,771.784 1642.23,771.648 1668.19,771.527 1694.15,771.425 1720.11,771.349 1746.07,771.307 1772.03,771.31 1797.99,771.371 1823.95,771.508 1849.91,771.739 1875.87,772.091 1901.83,772.595 1927.79,773.288 1953.75,774.215 1979.71,775.435 2005.67,777.017 2031.63,779.05 2057.59,781.655 2083.55,784.989 2109.51,789.262 2135.47,794.718 2161.43,801.498 2187.39,809.088 2213.35,814.577 2239.31,807.864 2265.27,760.966 2291.23,612.889 \"/>\n",
       "<path clip-path=\"url(#clip560)\" d=\"M2009.9 302.578 L2280.29 302.578 L2280.29 95.2176 L2009.9 95.2176  Z\" fill=\"#ffffff\" fill-rule=\"evenodd\" fill-opacity=\"1\"/>\n",
       "<polyline clip-path=\"url(#clip560)\" style=\"stroke:#000000; stroke-linecap:round; stroke-linejoin:round; stroke-width:4; stroke-opacity:1; fill:none\" points=\"2009.9,302.578 2280.29,302.578 2280.29,95.2176 2009.9,95.2176 2009.9,302.578 \"/>\n",
       "<polyline clip-path=\"url(#clip560)\" style=\"stroke:#009af9; stroke-linecap:round; stroke-linejoin:round; stroke-width:4; stroke-opacity:1; fill:none\" points=\"2034.05,147.058 2178.98,147.058 \"/>\n",
       "<path clip-path=\"url(#clip560)\" d=\"M2216.97 166.745 Q2215.17 171.375 2213.45 172.787 Q2211.74 174.199 2208.87 174.199 L2205.47 174.199 L2205.47 170.634 L2207.97 170.634 Q2209.73 170.634 2210.7 169.8 Q2211.67 168.967 2212.85 165.865 L2213.62 163.921 L2203.13 138.412 L2207.64 138.412 L2215.75 158.689 L2223.85 138.412 L2228.36 138.412 L2216.97 166.745 Z\" fill=\"#000000\" fill-rule=\"nonzero\" fill-opacity=\"1\" /><path clip-path=\"url(#clip560)\" d=\"M2235.65 160.402 L2243.29 160.402 L2243.29 134.037 L2234.98 135.703 L2234.98 131.444 L2243.25 129.778 L2247.92 129.778 L2247.92 160.402 L2255.56 160.402 L2255.56 164.338 L2235.65 164.338 L2235.65 160.402 Z\" fill=\"#000000\" fill-rule=\"nonzero\" fill-opacity=\"1\" /><polyline clip-path=\"url(#clip560)\" style=\"stroke:#e26f46; stroke-linecap:round; stroke-linejoin:round; stroke-width:4; stroke-opacity:1; fill:none\" points=\"2034.05,198.898 2178.98,198.898 \"/>\n",
       "<path clip-path=\"url(#clip560)\" d=\"M2216.97 218.585 Q2215.17 223.215 2213.45 224.627 Q2211.74 226.039 2208.87 226.039 L2205.47 226.039 L2205.47 222.474 L2207.97 222.474 Q2209.73 222.474 2210.7 221.64 Q2211.67 220.807 2212.85 217.705 L2213.62 215.761 L2203.13 190.252 L2207.64 190.252 L2215.75 210.529 L2223.85 190.252 L2228.36 190.252 L2216.97 218.585 Z\" fill=\"#000000\" fill-rule=\"nonzero\" fill-opacity=\"1\" /><path clip-path=\"url(#clip560)\" d=\"M2238.87 212.242 L2255.19 212.242 L2255.19 216.178 L2233.25 216.178 L2233.25 212.242 Q2235.91 209.488 2240.49 204.858 Q2245.1 200.205 2246.28 198.863 Q2248.52 196.34 2249.4 194.604 Q2250.31 192.844 2250.31 191.155 Q2250.31 188.4 2248.36 186.664 Q2246.44 184.928 2243.34 184.928 Q2241.14 184.928 2238.68 185.692 Q2236.25 186.455 2233.48 188.006 L2233.48 183.284 Q2236.3 182.15 2238.75 181.571 Q2241.21 180.993 2243.25 180.993 Q2248.62 180.993 2251.81 183.678 Q2255 186.363 2255 190.854 Q2255 192.983 2254.19 194.905 Q2253.41 196.803 2251.3 199.395 Q2250.72 200.067 2247.62 203.284 Q2244.52 206.479 2238.87 212.242 Z\" fill=\"#000000\" fill-rule=\"nonzero\" fill-opacity=\"1\" /><polyline clip-path=\"url(#clip560)\" style=\"stroke:#3da44d; stroke-linecap:round; stroke-linejoin:round; stroke-width:4; stroke-opacity:1; fill:none\" points=\"2034.05,250.738 2178.98,250.738 \"/>\n",
       "<path clip-path=\"url(#clip560)\" d=\"M2216.97 270.425 Q2215.17 275.055 2213.45 276.467 Q2211.74 277.879 2208.87 277.879 L2205.47 277.879 L2205.47 274.314 L2207.97 274.314 Q2209.73 274.314 2210.7 273.48 Q2211.67 272.647 2212.85 269.545 L2213.62 267.601 L2203.13 242.092 L2207.64 242.092 L2215.75 262.369 L2223.85 242.092 L2228.36 242.092 L2216.97 270.425 Z\" fill=\"#000000\" fill-rule=\"nonzero\" fill-opacity=\"1\" /><path clip-path=\"url(#clip560)\" d=\"M2249.01 249.383 Q2252.37 250.101 2254.24 252.369 Q2256.14 254.638 2256.14 257.971 Q2256.14 263.087 2252.62 265.888 Q2249.1 268.689 2242.62 268.689 Q2240.44 268.689 2238.13 268.249 Q2235.84 267.832 2233.38 266.976 L2233.38 262.462 Q2235.33 263.596 2237.64 264.175 Q2239.96 264.754 2242.48 264.754 Q2246.88 264.754 2249.17 263.018 Q2251.49 261.281 2251.49 257.971 Q2251.49 254.916 2249.33 253.203 Q2247.2 251.467 2243.38 251.467 L2239.36 251.467 L2239.36 247.624 L2243.57 247.624 Q2247.02 247.624 2248.85 246.258 Q2250.68 244.87 2250.68 242.277 Q2250.68 239.615 2248.78 238.203 Q2246.9 236.768 2243.38 236.768 Q2241.46 236.768 2239.26 237.184 Q2237.06 237.601 2234.43 238.481 L2234.43 234.314 Q2237.09 233.573 2239.4 233.203 Q2241.74 232.833 2243.8 232.833 Q2249.12 232.833 2252.23 235.263 Q2255.33 237.67 2255.33 241.791 Q2255.33 244.661 2253.68 246.652 Q2252.04 248.62 2249.01 249.383 Z\" fill=\"#000000\" fill-rule=\"nonzero\" fill-opacity=\"1\" /></svg>\n"
      ]
     },
     "execution_count": 34,
     "metadata": {},
     "output_type": "execute_result"
    }
   ],
   "source": [
    "plot(thist[1:Nt-1],Um_sim[1,:])\n",
    "plot!(thist[1:Nt-1],Um_sim[2,:])\n",
    "plot!(thist[1:Nt-1],Um_sim[3,:])"
   ]
  },
  {
   "cell_type": "code",
   "execution_count": 35,
   "metadata": {},
   "outputs": [],
   "source": [
    "Xs = [SVector{5}(x[1:5]) for x in Xsim];"
   ]
  },
  {
   "cell_type": "code",
   "execution_count": 36,
   "metadata": {},
   "outputs": [],
   "source": [
    "# Uncomment for upload animation to visualizer\n",
    "#animation = mc.Animation(mvis, thist, Xs)\n",
    "#setanimation!(mvis, animation)"
   ]
  },
  {
   "cell_type": "markdown",
   "metadata": {},
   "source": [
    "## Create 8-shape trajectory"
   ]
  },
  {
   "cell_type": "code",
   "execution_count": 37,
   "metadata": {},
   "outputs": [
    {
     "data": {
      "text/plain": [
       "create_infinity_shape_traj_t (generic function with 1 method)"
      ]
     },
     "execution_count": 37,
     "metadata": {},
     "output_type": "execute_result"
    }
   ],
   "source": [
    "function create_infinity_shape_traj_t(t, i)\n",
    "    scale = 18 ./ (3 .- cos.(2*t./i))\n",
    "    x = scale.*cos.(t./i)\n",
    "    y = scale.*sin.(2*t./i)/ 2\n",
    "    return x, y\n",
    "end"
   ]
  },
  {
   "cell_type": "code",
   "execution_count": 38,
   "metadata": {},
   "outputs": [
    {
     "data": {
      "text/plain": [
       ":auto"
      ]
     },
     "execution_count": 38,
     "metadata": {},
     "output_type": "execute_result"
    }
   ],
   "source": [
    "# Optimization Parameters\n",
    "h = 1/3 #3 Hz\n",
    "nq = 5\n",
    "nx = nq*2     # number of state\n",
    "nu = 3     # number of controls\n",
    "Tfinal = 25 # final time\n",
    "Nt = Int(Tfinal/h)+1   # number of time steps\n",
    "thist = Array(range(0,h*(Nt-1), step=h));\n",
    "n_nlp = (nx+nu)*Nt # number of decision variables\n",
    "m_nlp = nx*(Nt+1)\n",
    "\n",
    "# Cost terms\n",
    "diagq = ones(nx)\n",
    "diagq[1:2] = diagq[1:2]*100 # position cost\n",
    "diagq[3:4] = diagq[3:4]*10# lean angles cost\n",
    "\n",
    "# Cost matrices\n",
    "Q = diagm(diagq)\n",
    "Qf = 100*Q\n",
    "R = 0.1*diagm(ones(nu))\n",
    "\n",
    "# indexing \n",
    "idx = create_idx(nx,nu,Nt);\n",
    "\n",
    "diff_type = :auto"
   ]
  },
  {
   "cell_type": "code",
   "execution_count": 39,
   "metadata": {},
   "outputs": [],
   "source": [
    "x, y = create_infinity_shape_traj_t(thist, 3.98); #2.4"
   ]
  },
  {
   "cell_type": "code",
   "execution_count": 40,
   "metadata": {},
   "outputs": [
    {
     "data": {
      "image/svg+xml": [
       "<?xml version=\"1.0\" encoding=\"utf-8\"?>\n",
       "<svg xmlns=\"http://www.w3.org/2000/svg\" xmlns:xlink=\"http://www.w3.org/1999/xlink\" width=\"600\" height=\"400\" viewBox=\"0 0 2400 1600\">\n",
       "<defs>\n",
       "  <clipPath id=\"clip600\">\n",
       "    <rect x=\"0\" y=\"0\" width=\"2400\" height=\"1600\"/>\n",
       "  </clipPath>\n",
       "</defs>\n",
       "<path clip-path=\"url(#clip600)\" d=\"M0 1600 L2400 1600 L2400 0 L0 0  Z\" fill=\"#ffffff\" fill-rule=\"evenodd\" fill-opacity=\"1\"/>\n",
       "<defs>\n",
       "  <clipPath id=\"clip601\">\n",
       "    <rect x=\"480\" y=\"0\" width=\"1681\" height=\"1600\"/>\n",
       "  </clipPath>\n",
       "</defs>\n",
       "<path clip-path=\"url(#clip600)\" d=\"M148.057 1486.45 L2352.76 1486.45 L2352.76 47.2441 L148.057 47.2441  Z\" fill=\"#ffffff\" fill-rule=\"evenodd\" fill-opacity=\"1\"/>\n",
       "<defs>\n",
       "  <clipPath id=\"clip602\">\n",
       "    <rect x=\"148\" y=\"47\" width=\"2206\" height=\"1440\"/>\n",
       "  </clipPath>\n",
       "</defs>\n",
       "<polyline clip-path=\"url(#clip602)\" style=\"stroke:#000000; stroke-linecap:round; stroke-linejoin:round; stroke-width:2; stroke-opacity:0.1; fill:none\" points=\"381.379,1486.45 381.379,47.2441 \"/>\n",
       "<polyline clip-path=\"url(#clip602)\" style=\"stroke:#000000; stroke-linecap:round; stroke-linejoin:round; stroke-width:2; stroke-opacity:0.1; fill:none\" points=\"670.618,1486.45 670.618,47.2441 \"/>\n",
       "<polyline clip-path=\"url(#clip602)\" style=\"stroke:#000000; stroke-linecap:round; stroke-linejoin:round; stroke-width:2; stroke-opacity:0.1; fill:none\" points=\"959.858,1486.45 959.858,47.2441 \"/>\n",
       "<polyline clip-path=\"url(#clip602)\" style=\"stroke:#000000; stroke-linecap:round; stroke-linejoin:round; stroke-width:2; stroke-opacity:0.1; fill:none\" points=\"1249.1,1486.45 1249.1,47.2441 \"/>\n",
       "<polyline clip-path=\"url(#clip602)\" style=\"stroke:#000000; stroke-linecap:round; stroke-linejoin:round; stroke-width:2; stroke-opacity:0.1; fill:none\" points=\"1538.34,1486.45 1538.34,47.2441 \"/>\n",
       "<polyline clip-path=\"url(#clip602)\" style=\"stroke:#000000; stroke-linecap:round; stroke-linejoin:round; stroke-width:2; stroke-opacity:0.1; fill:none\" points=\"1827.58,1486.45 1827.58,47.2441 \"/>\n",
       "<polyline clip-path=\"url(#clip602)\" style=\"stroke:#000000; stroke-linecap:round; stroke-linejoin:round; stroke-width:2; stroke-opacity:0.1; fill:none\" points=\"2116.82,1486.45 2116.82,47.2441 \"/>\n",
       "<polyline clip-path=\"url(#clip600)\" style=\"stroke:#000000; stroke-linecap:round; stroke-linejoin:round; stroke-width:4; stroke-opacity:1; fill:none\" points=\"148.057,1486.45 2352.76,1486.45 \"/>\n",
       "<polyline clip-path=\"url(#clip600)\" style=\"stroke:#000000; stroke-linecap:round; stroke-linejoin:round; stroke-width:4; stroke-opacity:1; fill:none\" points=\"381.379,1486.45 381.379,1467.55 \"/>\n",
       "<polyline clip-path=\"url(#clip600)\" style=\"stroke:#000000; stroke-linecap:round; stroke-linejoin:round; stroke-width:4; stroke-opacity:1; fill:none\" points=\"670.618,1486.45 670.618,1467.55 \"/>\n",
       "<polyline clip-path=\"url(#clip600)\" style=\"stroke:#000000; stroke-linecap:round; stroke-linejoin:round; stroke-width:4; stroke-opacity:1; fill:none\" points=\"959.858,1486.45 959.858,1467.55 \"/>\n",
       "<polyline clip-path=\"url(#clip600)\" style=\"stroke:#000000; stroke-linecap:round; stroke-linejoin:round; stroke-width:4; stroke-opacity:1; fill:none\" points=\"1249.1,1486.45 1249.1,1467.55 \"/>\n",
       "<polyline clip-path=\"url(#clip600)\" style=\"stroke:#000000; stroke-linecap:round; stroke-linejoin:round; stroke-width:4; stroke-opacity:1; fill:none\" points=\"1538.34,1486.45 1538.34,1467.55 \"/>\n",
       "<polyline clip-path=\"url(#clip600)\" style=\"stroke:#000000; stroke-linecap:round; stroke-linejoin:round; stroke-width:4; stroke-opacity:1; fill:none\" points=\"1827.58,1486.45 1827.58,1467.55 \"/>\n",
       "<polyline clip-path=\"url(#clip600)\" style=\"stroke:#000000; stroke-linecap:round; stroke-linejoin:round; stroke-width:4; stroke-opacity:1; fill:none\" points=\"2116.82,1486.45 2116.82,1467.55 \"/>\n",
       "<path clip-path=\"url(#clip600)\" d=\"M328.405 1532.02 L358.081 1532.02 L358.081 1535.95 L328.405 1535.95 L328.405 1532.02 Z\" fill=\"#000000\" fill-rule=\"nonzero\" fill-opacity=\"1\" /><path clip-path=\"url(#clip600)\" d=\"M366.993 1514.29 L389.215 1514.29 L389.215 1516.28 L376.668 1548.85 L371.784 1548.85 L383.59 1518.22 L366.993 1518.22 L366.993 1514.29 Z\" fill=\"#000000\" fill-rule=\"nonzero\" fill-opacity=\"1\" /><path clip-path=\"url(#clip600)\" d=\"M398.335 1542.97 L403.219 1542.97 L403.219 1548.85 L398.335 1548.85 L398.335 1542.97 Z\" fill=\"#000000\" fill-rule=\"nonzero\" fill-opacity=\"1\" /><path clip-path=\"url(#clip600)\" d=\"M413.451 1514.29 L431.807 1514.29 L431.807 1518.22 L417.733 1518.22 L417.733 1526.7 Q418.751 1526.35 419.77 1526.19 Q420.789 1526 421.807 1526 Q427.594 1526 430.974 1529.17 Q434.353 1532.34 434.353 1537.76 Q434.353 1543.34 430.881 1546.44 Q427.409 1549.52 421.089 1549.52 Q418.914 1549.52 416.645 1549.15 Q414.4 1548.78 411.992 1548.04 L411.992 1543.34 Q414.076 1544.47 416.298 1545.03 Q418.52 1545.58 420.997 1545.58 Q425.001 1545.58 427.339 1543.48 Q429.677 1541.37 429.677 1537.76 Q429.677 1534.15 427.339 1532.04 Q425.001 1529.94 420.997 1529.94 Q419.122 1529.94 417.247 1530.35 Q415.395 1530.77 413.451 1531.65 L413.451 1514.29 Z\" fill=\"#000000\" fill-rule=\"nonzero\" fill-opacity=\"1\" /><path clip-path=\"url(#clip600)\" d=\"M617.146 1532.02 L646.822 1532.02 L646.822 1535.95 L617.146 1535.95 L617.146 1532.02 Z\" fill=\"#000000\" fill-rule=\"nonzero\" fill-opacity=\"1\" /><path clip-path=\"url(#clip600)\" d=\"M656.961 1514.29 L675.317 1514.29 L675.317 1518.22 L661.243 1518.22 L661.243 1526.7 Q662.262 1526.35 663.28 1526.19 Q664.299 1526 665.317 1526 Q671.104 1526 674.484 1529.17 Q677.864 1532.34 677.864 1537.76 Q677.864 1543.34 674.391 1546.44 Q670.919 1549.52 664.6 1549.52 Q662.424 1549.52 660.155 1549.15 Q657.91 1548.78 655.503 1548.04 L655.503 1543.34 Q657.586 1544.47 659.808 1545.03 Q662.03 1545.58 664.507 1545.58 Q668.512 1545.58 670.85 1543.48 Q673.188 1541.37 673.188 1537.76 Q673.188 1534.15 670.85 1532.04 Q668.512 1529.94 664.507 1529.94 Q662.632 1529.94 660.757 1530.35 Q658.905 1530.77 656.961 1531.65 L656.961 1514.29 Z\" fill=\"#000000\" fill-rule=\"nonzero\" fill-opacity=\"1\" /><path clip-path=\"url(#clip600)\" d=\"M687.077 1542.97 L691.961 1542.97 L691.961 1548.85 L687.077 1548.85 L687.077 1542.97 Z\" fill=\"#000000\" fill-rule=\"nonzero\" fill-opacity=\"1\" /><path clip-path=\"url(#clip600)\" d=\"M712.146 1517.37 Q708.535 1517.37 706.706 1520.93 Q704.901 1524.47 704.901 1531.6 Q704.901 1538.71 706.706 1542.27 Q708.535 1545.82 712.146 1545.82 Q715.78 1545.82 717.586 1542.27 Q719.414 1538.71 719.414 1531.6 Q719.414 1524.47 717.586 1520.93 Q715.78 1517.37 712.146 1517.37 M712.146 1513.66 Q717.956 1513.66 721.012 1518.27 Q724.09 1522.85 724.09 1531.6 Q724.09 1540.33 721.012 1544.94 Q717.956 1549.52 712.146 1549.52 Q706.336 1549.52 703.257 1544.94 Q700.202 1540.33 700.202 1531.6 Q700.202 1522.85 703.257 1518.27 Q706.336 1513.66 712.146 1513.66 Z\" fill=\"#000000\" fill-rule=\"nonzero\" fill-opacity=\"1\" /><path clip-path=\"url(#clip600)\" d=\"M906.883 1532.02 L936.559 1532.02 L936.559 1535.95 L906.883 1535.95 L906.883 1532.02 Z\" fill=\"#000000\" fill-rule=\"nonzero\" fill-opacity=\"1\" /><path clip-path=\"url(#clip600)\" d=\"M950.68 1544.91 L966.999 1544.91 L966.999 1548.85 L945.055 1548.85 L945.055 1544.91 Q947.717 1542.16 952.3 1537.53 Q956.906 1532.88 958.087 1531.53 Q960.332 1529.01 961.212 1527.27 Q962.115 1525.51 962.115 1523.82 Q962.115 1521.07 960.17 1519.33 Q958.249 1517.6 955.147 1517.6 Q952.948 1517.6 950.494 1518.36 Q948.064 1519.13 945.286 1520.68 L945.286 1515.95 Q948.11 1514.82 950.564 1514.24 Q953.017 1513.66 955.055 1513.66 Q960.425 1513.66 963.619 1516.35 Q966.814 1519.03 966.814 1523.52 Q966.814 1525.65 966.004 1527.57 Q965.216 1529.47 963.11 1532.07 Q962.531 1532.74 959.429 1535.95 Q956.328 1539.15 950.68 1544.91 Z\" fill=\"#000000\" fill-rule=\"nonzero\" fill-opacity=\"1\" /><path clip-path=\"url(#clip600)\" d=\"M976.814 1542.97 L981.698 1542.97 L981.698 1548.85 L976.814 1548.85 L976.814 1542.97 Z\" fill=\"#000000\" fill-rule=\"nonzero\" fill-opacity=\"1\" /><path clip-path=\"url(#clip600)\" d=\"M991.929 1514.29 L1010.29 1514.29 L1010.29 1518.22 L996.212 1518.22 L996.212 1526.7 Q997.23 1526.35 998.249 1526.19 Q999.267 1526 1000.29 1526 Q1006.07 1526 1009.45 1529.17 Q1012.83 1532.34 1012.83 1537.76 Q1012.83 1543.34 1009.36 1546.44 Q1005.89 1549.52 999.568 1549.52 Q997.392 1549.52 995.124 1549.15 Q992.878 1548.78 990.471 1548.04 L990.471 1543.34 Q992.554 1544.47 994.777 1545.03 Q996.999 1545.58 999.476 1545.58 Q1003.48 1545.58 1005.82 1543.48 Q1008.16 1541.37 1008.16 1537.76 Q1008.16 1534.15 1005.82 1532.04 Q1003.48 1529.94 999.476 1529.94 Q997.601 1529.94 995.726 1530.35 Q993.874 1530.77 991.929 1531.65 L991.929 1514.29 Z\" fill=\"#000000\" fill-rule=\"nonzero\" fill-opacity=\"1\" /><path clip-path=\"url(#clip600)\" d=\"M1226.48 1517.37 Q1222.87 1517.37 1221.04 1520.93 Q1219.24 1524.47 1219.24 1531.6 Q1219.24 1538.71 1221.04 1542.27 Q1222.87 1545.82 1226.48 1545.82 Q1230.12 1545.82 1231.92 1542.27 Q1233.75 1538.71 1233.75 1531.6 Q1233.75 1524.47 1231.92 1520.93 Q1230.12 1517.37 1226.48 1517.37 M1226.48 1513.66 Q1232.29 1513.66 1235.35 1518.27 Q1238.43 1522.85 1238.43 1531.6 Q1238.43 1540.33 1235.35 1544.94 Q1232.29 1549.52 1226.48 1549.52 Q1220.67 1549.52 1217.59 1544.94 Q1214.54 1540.33 1214.54 1531.6 Q1214.54 1522.85 1217.59 1518.27 Q1220.67 1513.66 1226.48 1513.66 Z\" fill=\"#000000\" fill-rule=\"nonzero\" fill-opacity=\"1\" /><path clip-path=\"url(#clip600)\" d=\"M1246.64 1542.97 L1251.53 1542.97 L1251.53 1548.85 L1246.64 1548.85 L1246.64 1542.97 Z\" fill=\"#000000\" fill-rule=\"nonzero\" fill-opacity=\"1\" /><path clip-path=\"url(#clip600)\" d=\"M1271.71 1517.37 Q1268.1 1517.37 1266.27 1520.93 Q1264.47 1524.47 1264.47 1531.6 Q1264.47 1538.71 1266.27 1542.27 Q1268.1 1545.82 1271.71 1545.82 Q1275.35 1545.82 1277.15 1542.27 Q1278.98 1538.71 1278.98 1531.6 Q1278.98 1524.47 1277.15 1520.93 Q1275.35 1517.37 1271.71 1517.37 M1271.71 1513.66 Q1277.52 1513.66 1280.58 1518.27 Q1283.66 1522.85 1283.66 1531.6 Q1283.66 1540.33 1280.58 1544.94 Q1277.52 1549.52 1271.71 1549.52 Q1265.9 1549.52 1262.82 1544.94 Q1259.77 1540.33 1259.77 1531.6 Q1259.77 1522.85 1262.82 1518.27 Q1265.9 1513.66 1271.71 1513.66 Z\" fill=\"#000000\" fill-rule=\"nonzero\" fill-opacity=\"1\" /><path clip-path=\"url(#clip600)\" d=\"M1510.07 1544.91 L1526.39 1544.91 L1526.39 1548.85 L1504.45 1548.85 L1504.45 1544.91 Q1507.11 1542.16 1511.69 1537.53 Q1516.3 1532.88 1517.48 1531.53 Q1519.73 1529.01 1520.61 1527.27 Q1521.51 1525.51 1521.51 1523.82 Q1521.51 1521.07 1519.56 1519.33 Q1517.64 1517.6 1514.54 1517.6 Q1512.34 1517.6 1509.89 1518.36 Q1507.46 1519.13 1504.68 1520.68 L1504.68 1515.95 Q1507.5 1514.82 1509.96 1514.24 Q1512.41 1513.66 1514.45 1513.66 Q1519.82 1513.66 1523.01 1516.35 Q1526.21 1519.03 1526.21 1523.52 Q1526.21 1525.65 1525.4 1527.57 Q1524.61 1529.47 1522.5 1532.07 Q1521.92 1532.74 1518.82 1535.95 Q1515.72 1539.15 1510.07 1544.91 Z\" fill=\"#000000\" fill-rule=\"nonzero\" fill-opacity=\"1\" /><path clip-path=\"url(#clip600)\" d=\"M1536.21 1542.97 L1541.09 1542.97 L1541.09 1548.85 L1536.21 1548.85 L1536.21 1542.97 Z\" fill=\"#000000\" fill-rule=\"nonzero\" fill-opacity=\"1\" /><path clip-path=\"url(#clip600)\" d=\"M1551.32 1514.29 L1569.68 1514.29 L1569.68 1518.22 L1555.6 1518.22 L1555.6 1526.7 Q1556.62 1526.35 1557.64 1526.19 Q1558.66 1526 1559.68 1526 Q1565.47 1526 1568.85 1529.17 Q1572.23 1532.34 1572.23 1537.76 Q1572.23 1543.34 1568.75 1546.44 Q1565.28 1549.52 1558.96 1549.52 Q1556.79 1549.52 1554.52 1549.15 Q1552.27 1548.78 1549.86 1548.04 L1549.86 1543.34 Q1551.95 1544.47 1554.17 1545.03 Q1556.39 1545.58 1558.87 1545.58 Q1562.87 1545.58 1565.21 1543.48 Q1567.55 1541.37 1567.55 1537.76 Q1567.55 1534.15 1565.21 1532.04 Q1562.87 1529.94 1558.87 1529.94 Q1556.99 1529.94 1555.12 1530.35 Q1553.27 1530.77 1551.32 1531.65 L1551.32 1514.29 Z\" fill=\"#000000\" fill-rule=\"nonzero\" fill-opacity=\"1\" /><path clip-path=\"url(#clip600)\" d=\"M1794.74 1514.29 L1813.1 1514.29 L1813.1 1518.22 L1799.02 1518.22 L1799.02 1526.7 Q1800.04 1526.35 1801.06 1526.19 Q1802.08 1526 1803.1 1526 Q1808.88 1526 1812.26 1529.17 Q1815.64 1532.34 1815.64 1537.76 Q1815.64 1543.34 1812.17 1546.44 Q1808.7 1549.52 1802.38 1549.52 Q1800.2 1549.52 1797.93 1549.15 Q1795.69 1548.78 1793.28 1548.04 L1793.28 1543.34 Q1795.37 1544.47 1797.59 1545.03 Q1799.81 1545.58 1802.29 1545.58 Q1806.29 1545.58 1808.63 1543.48 Q1810.97 1541.37 1810.97 1537.76 Q1810.97 1534.15 1808.63 1532.04 Q1806.29 1529.94 1802.29 1529.94 Q1800.41 1529.94 1798.54 1530.35 Q1796.68 1530.77 1794.74 1531.65 L1794.74 1514.29 Z\" fill=\"#000000\" fill-rule=\"nonzero\" fill-opacity=\"1\" /><path clip-path=\"url(#clip600)\" d=\"M1824.86 1542.97 L1829.74 1542.97 L1829.74 1548.85 L1824.86 1548.85 L1824.86 1542.97 Z\" fill=\"#000000\" fill-rule=\"nonzero\" fill-opacity=\"1\" /><path clip-path=\"url(#clip600)\" d=\"M1849.93 1517.37 Q1846.31 1517.37 1844.49 1520.93 Q1842.68 1524.47 1842.68 1531.6 Q1842.68 1538.71 1844.49 1542.27 Q1846.31 1545.82 1849.93 1545.82 Q1853.56 1545.82 1855.36 1542.27 Q1857.19 1538.71 1857.19 1531.6 Q1857.19 1524.47 1855.36 1520.93 Q1853.56 1517.37 1849.93 1517.37 M1849.93 1513.66 Q1855.74 1513.66 1858.79 1518.27 Q1861.87 1522.85 1861.87 1531.6 Q1861.87 1540.33 1858.79 1544.94 Q1855.74 1549.52 1849.93 1549.52 Q1844.12 1549.52 1841.04 1544.94 Q1837.98 1540.33 1837.98 1531.6 Q1837.98 1522.85 1841.04 1518.27 Q1844.12 1513.66 1849.93 1513.66 Z\" fill=\"#000000\" fill-rule=\"nonzero\" fill-opacity=\"1\" /><path clip-path=\"url(#clip600)\" d=\"M2083.13 1514.29 L2105.36 1514.29 L2105.36 1516.28 L2092.81 1548.85 L2087.93 1548.85 L2099.73 1518.22 L2083.13 1518.22 L2083.13 1514.29 Z\" fill=\"#000000\" fill-rule=\"nonzero\" fill-opacity=\"1\" /><path clip-path=\"url(#clip600)\" d=\"M2114.48 1542.97 L2119.36 1542.97 L2119.36 1548.85 L2114.48 1548.85 L2114.48 1542.97 Z\" fill=\"#000000\" fill-rule=\"nonzero\" fill-opacity=\"1\" /><path clip-path=\"url(#clip600)\" d=\"M2129.59 1514.29 L2147.95 1514.29 L2147.95 1518.22 L2133.88 1518.22 L2133.88 1526.7 Q2134.89 1526.35 2135.91 1526.19 Q2136.93 1526 2137.95 1526 Q2143.74 1526 2147.12 1529.17 Q2150.5 1532.34 2150.5 1537.76 Q2150.5 1543.34 2147.02 1546.44 Q2143.55 1549.52 2137.23 1549.52 Q2135.06 1549.52 2132.79 1549.15 Q2130.54 1548.78 2128.13 1548.04 L2128.13 1543.34 Q2130.22 1544.47 2132.44 1545.03 Q2134.66 1545.58 2137.14 1545.58 Q2141.14 1545.58 2143.48 1543.48 Q2145.82 1541.37 2145.82 1537.76 Q2145.82 1534.15 2143.48 1532.04 Q2141.14 1529.94 2137.14 1529.94 Q2135.26 1529.94 2133.39 1530.35 Q2131.54 1530.77 2129.59 1531.65 L2129.59 1514.29 Z\" fill=\"#000000\" fill-rule=\"nonzero\" fill-opacity=\"1\" /><polyline clip-path=\"url(#clip602)\" style=\"stroke:#000000; stroke-linecap:round; stroke-linejoin:round; stroke-width:2; stroke-opacity:0.1; fill:none\" points=\"148.057,1407.15 2352.76,1407.15 \"/>\n",
       "<polyline clip-path=\"url(#clip602)\" style=\"stroke:#000000; stroke-linecap:round; stroke-linejoin:round; stroke-width:2; stroke-opacity:0.1; fill:none\" points=\"148.057,1193.73 2352.76,1193.73 \"/>\n",
       "<polyline clip-path=\"url(#clip602)\" style=\"stroke:#000000; stroke-linecap:round; stroke-linejoin:round; stroke-width:2; stroke-opacity:0.1; fill:none\" points=\"148.057,980.305 2352.76,980.305 \"/>\n",
       "<polyline clip-path=\"url(#clip602)\" style=\"stroke:#000000; stroke-linecap:round; stroke-linejoin:round; stroke-width:2; stroke-opacity:0.1; fill:none\" points=\"148.057,766.88 2352.76,766.88 \"/>\n",
       "<polyline clip-path=\"url(#clip602)\" style=\"stroke:#000000; stroke-linecap:round; stroke-linejoin:round; stroke-width:2; stroke-opacity:0.1; fill:none\" points=\"148.057,553.455 2352.76,553.455 \"/>\n",
       "<polyline clip-path=\"url(#clip602)\" style=\"stroke:#000000; stroke-linecap:round; stroke-linejoin:round; stroke-width:2; stroke-opacity:0.1; fill:none\" points=\"148.057,340.03 2352.76,340.03 \"/>\n",
       "<polyline clip-path=\"url(#clip602)\" style=\"stroke:#000000; stroke-linecap:round; stroke-linejoin:round; stroke-width:2; stroke-opacity:0.1; fill:none\" points=\"148.057,126.605 2352.76,126.605 \"/>\n",
       "<polyline clip-path=\"url(#clip600)\" style=\"stroke:#000000; stroke-linecap:round; stroke-linejoin:round; stroke-width:4; stroke-opacity:1; fill:none\" points=\"148.057,1486.45 148.057,47.2441 \"/>\n",
       "<polyline clip-path=\"url(#clip600)\" style=\"stroke:#000000; stroke-linecap:round; stroke-linejoin:round; stroke-width:4; stroke-opacity:1; fill:none\" points=\"148.057,1407.15 166.954,1407.15 \"/>\n",
       "<polyline clip-path=\"url(#clip600)\" style=\"stroke:#000000; stroke-linecap:round; stroke-linejoin:round; stroke-width:4; stroke-opacity:1; fill:none\" points=\"148.057,1193.73 166.954,1193.73 \"/>\n",
       "<polyline clip-path=\"url(#clip600)\" style=\"stroke:#000000; stroke-linecap:round; stroke-linejoin:round; stroke-width:4; stroke-opacity:1; fill:none\" points=\"148.057,980.305 166.954,980.305 \"/>\n",
       "<polyline clip-path=\"url(#clip600)\" style=\"stroke:#000000; stroke-linecap:round; stroke-linejoin:round; stroke-width:4; stroke-opacity:1; fill:none\" points=\"148.057,766.88 166.954,766.88 \"/>\n",
       "<polyline clip-path=\"url(#clip600)\" style=\"stroke:#000000; stroke-linecap:round; stroke-linejoin:round; stroke-width:4; stroke-opacity:1; fill:none\" points=\"148.057,553.455 166.954,553.455 \"/>\n",
       "<polyline clip-path=\"url(#clip600)\" style=\"stroke:#000000; stroke-linecap:round; stroke-linejoin:round; stroke-width:4; stroke-opacity:1; fill:none\" points=\"148.057,340.03 166.954,340.03 \"/>\n",
       "<polyline clip-path=\"url(#clip600)\" style=\"stroke:#000000; stroke-linecap:round; stroke-linejoin:round; stroke-width:4; stroke-opacity:1; fill:none\" points=\"148.057,126.605 166.954,126.605 \"/>\n",
       "<path clip-path=\"url(#clip600)\" d=\"M50.9921 1407.61 L80.6679 1407.61 L80.6679 1411.54 L50.9921 1411.54 L50.9921 1407.61 Z\" fill=\"#000000\" fill-rule=\"nonzero\" fill-opacity=\"1\" /><path clip-path=\"url(#clip600)\" d=\"M104.927 1405.8 Q108.283 1406.52 110.158 1408.79 Q112.057 1411.05 112.057 1414.39 Q112.057 1419.5 108.538 1422.3 Q105.02 1425.11 98.5382 1425.11 Q96.3623 1425.11 94.0475 1424.67 Q91.7558 1424.25 89.3021 1423.39 L89.3021 1418.88 Q91.2465 1420.01 93.5613 1420.59 Q95.8761 1421.17 98.3993 1421.17 Q102.797 1421.17 105.089 1419.43 Q107.404 1417.7 107.404 1414.39 Q107.404 1411.33 105.251 1409.62 Q103.121 1407.88 99.3021 1407.88 L95.2743 1407.88 L95.2743 1404.04 L99.4872 1404.04 Q102.936 1404.04 104.765 1402.68 Q106.594 1401.29 106.594 1398.69 Q106.594 1396.03 104.696 1394.62 Q102.821 1393.18 99.3021 1393.18 Q97.3808 1393.18 95.1817 1393.6 Q92.9826 1394.02 90.3438 1394.9 L90.3438 1390.73 Q93.0058 1389.99 95.3206 1389.62 Q97.6585 1389.25 99.7187 1389.25 Q105.043 1389.25 108.145 1391.68 Q111.246 1394.09 111.246 1398.21 Q111.246 1401.08 109.603 1403.07 Q107.959 1405.04 104.927 1405.8 Z\" fill=\"#000000\" fill-rule=\"nonzero\" fill-opacity=\"1\" /><path clip-path=\"url(#clip600)\" d=\"M51.9412 1194.18 L81.617 1194.18 L81.617 1198.12 L51.9412 1198.12 L51.9412 1194.18 Z\" fill=\"#000000\" fill-rule=\"nonzero\" fill-opacity=\"1\" /><path clip-path=\"url(#clip600)\" d=\"M95.7373 1207.07 L112.057 1207.07 L112.057 1211.01 L90.1123 1211.01 L90.1123 1207.07 Q92.7743 1204.32 97.3576 1199.69 Q101.964 1195.04 103.145 1193.69 Q105.39 1191.17 106.27 1189.44 Q107.172 1187.68 107.172 1185.99 Q107.172 1183.23 105.228 1181.5 Q103.307 1179.76 100.205 1179.76 Q98.0058 1179.76 95.5521 1180.52 Q93.1215 1181.29 90.3438 1182.84 L90.3438 1178.12 Q93.1678 1176.98 95.6215 1176.4 Q98.0752 1175.82 100.112 1175.82 Q105.483 1175.82 108.677 1178.51 Q111.871 1181.19 111.871 1185.69 Q111.871 1187.82 111.061 1189.74 Q110.274 1191.63 108.168 1194.23 Q107.589 1194.9 104.487 1198.12 Q101.385 1201.31 95.7373 1207.07 Z\" fill=\"#000000\" fill-rule=\"nonzero\" fill-opacity=\"1\" /><path clip-path=\"url(#clip600)\" d=\"M51.5708 980.756 L81.2466 980.756 L81.2466 984.691 L51.5708 984.691 L51.5708 980.756 Z\" fill=\"#000000\" fill-rule=\"nonzero\" fill-opacity=\"1\" /><path clip-path=\"url(#clip600)\" d=\"M92.1493 993.65 L99.7882 993.65 L99.7882 967.284 L91.478 968.951 L91.478 964.691 L99.7419 963.025 L104.418 963.025 L104.418 993.65 L112.057 993.65 L112.057 997.585 L92.1493 997.585 L92.1493 993.65 Z\" fill=\"#000000\" fill-rule=\"nonzero\" fill-opacity=\"1\" /><path clip-path=\"url(#clip600)\" d=\"M100.112 752.679 Q96.5011 752.679 94.6724 756.243 Q92.8669 759.785 92.8669 766.915 Q92.8669 774.021 94.6724 777.586 Q96.5011 781.128 100.112 781.128 Q103.746 781.128 105.552 777.586 Q107.381 774.021 107.381 766.915 Q107.381 759.785 105.552 756.243 Q103.746 752.679 100.112 752.679 M100.112 748.975 Q105.922 748.975 108.978 753.581 Q112.057 758.165 112.057 766.915 Q112.057 775.641 108.978 780.248 Q105.922 784.831 100.112 784.831 Q94.3021 784.831 91.2234 780.248 Q88.1679 775.641 88.1679 766.915 Q88.1679 758.165 91.2234 753.581 Q94.3021 748.975 100.112 748.975 Z\" fill=\"#000000\" fill-rule=\"nonzero\" fill-opacity=\"1\" /><path clip-path=\"url(#clip600)\" d=\"M92.1493 566.8 L99.7882 566.8 L99.7882 540.434 L91.478 542.101 L91.478 537.842 L99.7419 536.175 L104.418 536.175 L104.418 566.8 L112.057 566.8 L112.057 570.735 L92.1493 570.735 L92.1493 566.8 Z\" fill=\"#000000\" fill-rule=\"nonzero\" fill-opacity=\"1\" /><path clip-path=\"url(#clip600)\" d=\"M95.7373 353.375 L112.057 353.375 L112.057 357.31 L90.1123 357.31 L90.1123 353.375 Q92.7743 350.62 97.3576 345.991 Q101.964 341.338 103.145 339.996 Q105.39 337.472 106.27 335.736 Q107.172 333.977 107.172 332.287 Q107.172 329.533 105.228 327.797 Q103.307 326.06 100.205 326.06 Q98.0058 326.06 95.5521 326.824 Q93.1215 327.588 90.3438 329.139 L90.3438 324.417 Q93.1678 323.283 95.6215 322.704 Q98.0752 322.125 100.112 322.125 Q105.483 322.125 108.677 324.81 Q111.871 327.496 111.871 331.986 Q111.871 334.116 111.061 336.037 Q110.274 337.935 108.168 340.528 Q107.589 341.199 104.487 344.417 Q101.385 347.611 95.7373 353.375 Z\" fill=\"#000000\" fill-rule=\"nonzero\" fill-opacity=\"1\" /><path clip-path=\"url(#clip600)\" d=\"M104.927 125.251 Q108.283 125.969 110.158 128.237 Q112.057 130.506 112.057 133.839 Q112.057 138.955 108.538 141.756 Q105.02 144.557 98.5382 144.557 Q96.3623 144.557 94.0475 144.117 Q91.7558 143.7 89.3021 142.844 L89.3021 138.33 Q91.2465 139.464 93.5613 140.043 Q95.8761 140.622 98.3993 140.622 Q102.797 140.622 105.089 138.885 Q107.404 137.149 107.404 133.839 Q107.404 130.784 105.251 129.071 Q103.121 127.335 99.3021 127.335 L95.2743 127.335 L95.2743 123.492 L99.4872 123.492 Q102.936 123.492 104.765 122.126 Q106.594 120.737 106.594 118.145 Q106.594 115.483 104.696 114.071 Q102.821 112.636 99.3021 112.636 Q97.3808 112.636 95.1817 113.052 Q92.9826 113.469 90.3438 114.349 L90.3438 110.182 Q93.0058 109.441 95.3206 109.071 Q97.6585 108.7 99.7187 108.7 Q105.043 108.7 108.145 111.131 Q111.246 113.538 111.246 117.659 Q111.246 120.529 109.603 122.52 Q107.959 124.487 104.927 125.251 Z\" fill=\"#000000\" fill-rule=\"nonzero\" fill-opacity=\"1\" /><polyline clip-path=\"url(#clip602)\" style=\"stroke:#009af9; stroke-linecap:round; stroke-linejoin:round; stroke-width:4; stroke-opacity:1; fill:none\" points=\"2290.36,766.88 2279.5,607.871 2248.02,459.658 2198.95,331.245 2136.54,228.645 2065.41,154.553 1989.81,108.781 1913.21,89.0973 1838.1,92.1351 1766.12,114.131 1698.14,151.429 1634.46,200.754 1575.02,259.334 1519.5,324.901 1467.43,395.645 1418.25,470.147 1371.37,547.294 1326.19,626.205 1282.08,706.166 1238.43,786.561 1194.63,866.816 1150.07,946.345 1104.13,1024.49 1056.2,1100.47 1005.68,1173.29 951.986,1241.7 894.6,1304.1 833.113,1358.46 767.314,1402.28 697.303,1432.53 623.646,1445.72 547.554,1438.09 471.066,1406.01 397.164,1346.56 329.734,1258.37 273.281,1142.6 232.346,1003.54 210.685,848.774 210.454,688.371 231.675,533.371 272.236,393.89 328.404,277.567 395.65,188.777 469.458,128.716 545.925,96.0804 622.05,87.9763 695.774,100.765 765.871,130.686 831.761,174.249 893.338,228.418 950.808,290.671 1004.58,358.971 1055.16,431.711 1103.13,507.63 1149.11,585.739 1193.69,665.246 1237.5,745.492 1281.15,825.889 1325.24,905.865 1370.4,984.806 1417.23,1062 1466.36,1136.57 1518.36,1207.41 1573.8,1273.1 1633.15,1331.85 1696.74,1381.4 1764.64,1418.98 1836.54,1441.34 1911.59,1444.82 1988.19,1425.66 2063.84,1380.47 2135.11,1306.99 2197.75,1204.98 2247.15,1077.06 2279.04,929.184 2290.35,770.296 \"/>\n",
       "<path clip-path=\"url(#clip600)\" d=\"M2006.37 198.898 L2279.27 198.898 L2279.27 95.2176 L2006.37 95.2176  Z\" fill=\"#ffffff\" fill-rule=\"evenodd\" fill-opacity=\"1\"/>\n",
       "<polyline clip-path=\"url(#clip600)\" style=\"stroke:#000000; stroke-linecap:round; stroke-linejoin:round; stroke-width:4; stroke-opacity:1; fill:none\" points=\"2006.37,198.898 2279.27,198.898 2279.27,95.2176 2006.37,95.2176 2006.37,198.898 \"/>\n",
       "<polyline clip-path=\"url(#clip600)\" style=\"stroke:#009af9; stroke-linecap:round; stroke-linejoin:round; stroke-width:4; stroke-opacity:1; fill:none\" points=\"2030.86,147.058 2177.84,147.058 \"/>\n",
       "<path clip-path=\"url(#clip600)\" d=\"M2216.18 166.745 Q2214.38 171.375 2212.66 172.787 Q2210.95 174.199 2208.08 174.199 L2204.68 174.199 L2204.68 170.634 L2207.18 170.634 Q2208.94 170.634 2209.91 169.8 Q2210.88 168.967 2212.06 165.865 L2212.83 163.921 L2202.34 138.412 L2206.85 138.412 L2214.95 158.689 L2223.06 138.412 L2227.57 138.412 L2216.18 166.745 Z\" fill=\"#000000\" fill-rule=\"nonzero\" fill-opacity=\"1\" /><path clip-path=\"url(#clip600)\" d=\"M2234.86 160.402 L2242.5 160.402 L2242.5 134.037 L2234.19 135.703 L2234.19 131.444 L2242.45 129.778 L2247.13 129.778 L2247.13 160.402 L2254.77 160.402 L2254.77 164.338 L2234.86 164.338 L2234.86 160.402 Z\" fill=\"#000000\" fill-rule=\"nonzero\" fill-opacity=\"1\" /></svg>\n"
      ]
     },
     "execution_count": 40,
     "metadata": {},
     "output_type": "execute_result"
    }
   ],
   "source": [
    "plot(x, y)"
   ]
  },
  {
   "cell_type": "code",
   "execution_count": 41,
   "metadata": {},
   "outputs": [],
   "source": [
    "# Create warm start trajectory\n",
    "Xref = [[x[i]; y[i]; zeros(8)] for i = 1:Nt]\n",
    "Uref = [zeros(3) for i = 1:(Nt-1)];"
   ]
  },
  {
   "cell_type": "code",
   "execution_count": 42,
   "metadata": {},
   "outputs": [],
   "source": [
    "xic =  Xref[1]\n",
    "xg = Xref[end];"
   ]
  },
  {
   "cell_type": "code",
   "execution_count": 43,
   "metadata": {},
   "outputs": [],
   "source": [
    "# Create params\n",
    "params = (xic = xic,\n",
    "          xg = xg,\n",
    "          Xref = Xref,\n",
    "          Uref = Uref,\n",
    "          dt = h,\n",
    "          N = Nt,\n",
    "          idx = idx,\n",
    "          Q = Q,\n",
    "          R = R,\n",
    "          Qf = Qf);"
   ]
  },
  {
   "cell_type": "code",
   "execution_count": 44,
   "metadata": {},
   "outputs": [
    {
     "data": {
      "text/plain": [
       "true"
      ]
     },
     "execution_count": 44,
     "metadata": {},
     "output_type": "execute_result"
    }
   ],
   "source": [
    "# Primal bounds \n",
    "x_l = ones(idx.nz)\n",
    "x_u = ones(idx.nz)\n",
    "\n",
    "for i = 1:(Nt-1)\n",
    "    x_l[idx.x[i]] .= -Inf*x_l[idx.x[i]]\n",
    "    x_u[idx.x[i]] .= Inf*x_u[idx.x[i]]\n",
    "    x_l[idx.u[i]] .= -Inf*x_l[idx.u[i]]\n",
    "    x_u[idx.u[i]] .= Inf*x_u[idx.u[i]]\n",
    "end\n",
    "\n",
    "x_l[idx.x[end]] .= -Inf*x_l[idx.x[end]]\n",
    "x_u[idx.x[end]] .= Inf*x_u[idx.x[end]]\n",
    "\n",
    "# Inequality constraint bounds (this is what we do when we have no inequality constraints)\n",
    "c_l = zeros(0)\n",
    "c_u = zeros(0)\n",
    "\n",
    "verbose=true"
   ]
  },
  {
   "cell_type": "code",
   "execution_count": 45,
   "metadata": {},
   "outputs": [],
   "source": [
    "z0 = zeros(idx.nz)\n",
    "for i in 1:(Nt-1)\n",
    "    z0[idx.x[i]] .= Xref[i]\n",
    "    z0[idx.u[i]] .= Uref[i]\n",
    "end\n",
    "z0[idx.x[end]] .= Xref[end];"
   ]
  },
  {
   "cell_type": "code",
   "execution_count": 46,
   "metadata": {},
   "outputs": [
    {
     "name": "stdout",
     "output_type": "stream",
     "text": [
      "---------checking dimensions of everything----------\n",
      "---------all dimensions good------------------------\n",
      "---------diff type set to :auto (ForwardDiff.jl)----\n",
      "---------testing objective gradient-----------------\n",
      "---------testing constraint Jacobian----------------\n",
      "---------successfully compiled both derivatives-----\n",
      "---------IPOPT beginning solve----------------------\n",
      "This is Ipopt version 3.13.4, running with linear solver mumps.\n",
      "NOTE: Other linear solvers might be more efficient (see Ipopt documentation).\n",
      "\n",
      "Number of nonzeros in equality constraint Jacobian...:   758450\n",
      "Number of nonzeros in inequality constraint Jacobian.:        0\n",
      "Number of nonzeros in Lagrangian Hessian.............:        0\n",
      "\n",
      "Total number of variables............................:      985\n",
      "                     variables with only lower bounds:        0\n",
      "                variables with lower and upper bounds:        0\n",
      "                     variables with only upper bounds:        0\n",
      "Total number of equality constraints.................:      770\n",
      "Total number of inequality constraints...............:        0\n",
      "        inequality constraints with only lower bounds:        0\n",
      "   inequality constraints with lower and upper bounds:        0\n",
      "        inequality constraints with only upper bounds:        0\n",
      "\n",
      "iter    objective    inf_pr   inf_du lg(mu)  ||d||  lg(rg) alpha_du alpha_pr  ls\n",
      "   0  0.0000000e+00 7.52e-01 0.00e+00   0.0 0.00e+00    -  0.00e+00 0.00e+00   0\n",
      "   1  3.0847207e+05 1.51e-03 1.52e+03 -11.0 1.53e+01    -  1.00e+00 1.00e+00h  1\n",
      "   2  2.3607839e+05 5.84e-05 4.74e+02 -11.0 5.77e+00    -  1.00e+00 1.00e+00f  1\n",
      "   3  2.5159594e+04 7.62e-03 6.33e+02 -11.0 3.70e+01    -  1.00e+00 1.00e+00f  1\n",
      "   4  2.4492250e+04 4.86e-04 1.72e+01 -11.0 1.35e+00    -  1.00e+00 1.00e+00f  1\n",
      "   5  2.0352560e+04 7.46e-01 6.19e+02 -11.0 5.34e+01    -  1.00e+00 1.00e+00f  1\n",
      "   6  1.8988439e+04 6.13e-01 6.99e+02 -11.0 3.32e+02    -  1.00e+00 1.25e-01f  4\n",
      "   7  1.3635738e+04 5.81e-01 1.96e+02 -11.0 3.11e+01    -  1.00e+00 1.00e+00f  1\n",
      "   8  1.3255594e+04 1.36e+00 5.33e+02 -11.0 1.81e+01    -  1.00e+00 1.00e+00f  1\n",
      "   9  1.3489138e+04 1.81e+00 4.15e+02 -11.0 8.00e+00    -  1.00e+00 1.00e+00h  1\n",
      "iter    objective    inf_pr   inf_du lg(mu)  ||d||  lg(rg) alpha_du alpha_pr  ls\n",
      "  10  1.3750251e+04 1.06e+00 3.98e+02 -11.0 9.20e+00    -  1.00e+00 1.00e+00H  1\n",
      "  11  1.3832579e+04 1.14e+00 1.82e+02 -11.0 5.83e+00    -  1.00e+00 1.00e+00h  1\n",
      "  12  1.3410530e+04 8.89e-01 3.92e+02 -11.0 5.36e+00    -  1.00e+00 1.00e+00f  1\n",
      "  13  1.3328827e+04 2.24e-02 1.52e+02 -11.0 2.70e+00    -  1.00e+00 1.00e+00f  1\n",
      "  14  1.3676988e+04 1.04e-02 1.08e+02 -11.0 5.51e+00    -  1.00e+00 1.00e+00H  1\n",
      "  15  1.3258773e+04 7.03e-02 7.54e+01 -11.0 4.26e+00    -  1.00e+00 1.00e+00f  1\n",
      "  16  1.3246233e+04 2.98e-02 4.18e+01 -11.0 8.33e-01    -  1.00e+00 1.00e+00f  1\n",
      "  17  1.3231420e+04 2.12e-01 6.49e+01 -11.0 2.12e+00    -  1.00e+00 1.00e+00f  1\n",
      "  18  1.3230202e+04 1.31e-02 5.29e+01 -11.0 1.86e+00    -  1.00e+00 1.00e+00f  1\n",
      "  19  1.3260216e+04 3.67e-03 4.27e+01 -11.0 2.12e+00    -  1.00e+00 1.00e+00H  1\n",
      "iter    objective    inf_pr   inf_du lg(mu)  ||d||  lg(rg) alpha_du alpha_pr  ls\n",
      "  20  1.3227442e+04 4.01e-02 1.26e+01 -11.0 1.40e+00    -  1.00e+00 1.00e+00f  1\n",
      "  21  1.3228933e+04 3.84e-03 1.59e+01 -11.0 1.38e+00    -  1.00e+00 1.00e+00h  1\n",
      "  22  1.3230735e+04 2.28e-03 8.18e+00 -11.0 9.71e-01    -  1.00e+00 1.00e+00h  1\n",
      "  23  1.3228275e+04 2.35e-03 8.19e+00 -11.0 7.00e-01    -  1.00e+00 1.00e+00f  1\n",
      "  24  1.3225651e+04 2.35e-03 5.39e+00 -11.0 7.87e-01    -  1.00e+00 1.00e+00f  1\n",
      "  25  1.3225034e+04 1.65e-04 2.67e+00 -11.0 3.06e-01    -  1.00e+00 1.00e+00f  1\n",
      "  26  1.3225015e+04 8.34e-04 5.79e+00 -11.0 7.70e-01    -  1.00e+00 1.00e+00f  1\n",
      "  27  1.3225513e+04 1.44e-04 6.36e+00 -11.0 4.27e-01    -  1.00e+00 1.00e+00H  1\n",
      "  28  1.3224539e+04 5.61e-04 3.18e+00 -11.0 5.02e-01    -  1.00e+00 1.00e+00f  1\n",
      "  29  1.3224562e+04 4.51e-05 5.95e+00 -11.0 1.90e-01    -  1.00e+00 1.00e+00H  1\n",
      "iter    objective    inf_pr   inf_du lg(mu)  ||d||  lg(rg) alpha_du alpha_pr  ls\n",
      "  30  1.3224487e+04 5.02e-05 6.92e+00 -11.0 2.32e-01    -  1.00e+00 2.50e-01f  3\n",
      "  31  1.3224369e+04 9.88e-04 2.30e+00 -11.0 1.36e-01    -  1.00e+00 1.00e+00f  1\n",
      "  32  1.3226303e+04 9.30e-05 9.21e+00 -11.0 2.91e-01    -  1.00e+00 1.00e+00H  1\n",
      "  33  1.3224283e+04 2.58e-03 2.87e-01 -11.0 2.21e-01    -  1.00e+00 1.00e+00f  1\n",
      "  34  1.3224318e+04 1.82e-07 4.95e-01 -11.0 3.32e-02    -  1.00e+00 1.00e+00h  1\n",
      "  35  1.3224307e+04 3.17e-06 3.93e-01 -11.0 8.79e-01    -  1.00e+00 1.25e-01f  4\n",
      "  36  1.3224305e+04 1.16e-05 9.18e-01 -11.0 1.59e-01    -  1.00e+00 5.00e-01f  2\n",
      "  37  1.3224304e+04 2.13e-05 6.12e-01 -11.0 2.17e-01    -  1.00e+00 2.50e-01f  3\n",
      "  38  1.3224292e+04 6.24e-05 1.74e+00 -11.0 9.76e-02    -  1.00e+00 5.00e-01f  2\n",
      "  39  1.3224289e+04 8.08e-05 1.16e+00 -11.0 3.99e-02    -  1.00e+00 1.00e+00h  1\n",
      "iter    objective    inf_pr   inf_du lg(mu)  ||d||  lg(rg) alpha_du alpha_pr  ls\n",
      "  40  1.3224289e+04 3.19e-05 4.67e-01 -11.0 2.45e-02    -  1.00e+00 1.00e+00h  1\n",
      "  41  1.3224351e+04 8.67e-06 6.79e-01 -11.0 8.15e-02    -  1.00e+00 1.00e+00h  1\n",
      "  42  1.3224287e+04 2.27e-05 7.64e-02 -11.0 8.37e-02    -  1.00e+00 1.00e+00f  1\n",
      "  43  1.3224287e+04 4.88e-09 3.97e-03 -11.0 3.69e-03    -  1.00e+00 1.00e+00h  1\n",
      "  44  1.3224287e+04 1.64e-07 7.64e-02 -11.0 3.96e-02    -  1.00e+00 5.00e-01f  2\n",
      "  45  1.3224296e+04 1.31e-09 8.77e-02 -11.0 3.70e-02    -  1.00e+00 1.00e+00H  1\n",
      "  46  1.3224287e+04 1.17e-06 5.52e-02 -11.0 2.68e-02    -  1.00e+00 1.00e+00f  1\n",
      "  47  1.3224287e+04 1.50e-07 4.80e-02 -11.0 1.78e-02    -  1.00e+00 1.00e+00h  1\n",
      "  48  1.3224287e+04 5.65e-08 2.50e-03 -11.0 8.48e-03    -  1.00e+00 1.00e+00h  1\n",
      "  49  1.3224287e+04 3.95e-11 2.26e-02 -11.0 5.89e-03    -  1.00e+00 1.00e+00H  1\n",
      "iter    objective    inf_pr   inf_du lg(mu)  ||d||  lg(rg) alpha_du alpha_pr  ls\n",
      "  50  1.3224287e+04 5.74e-08 1.01e-02 -11.0 6.09e-03    -  1.00e+00 1.00e+00f  1\n",
      "  51  1.3224287e+04 6.32e-10 2.23e-04 -11.0 3.07e-04    -  1.00e+00 1.00e+00h  1\n",
      "  52  1.3224287e+04 7.45e-12 5.63e-04 -11.0 2.35e-03    -  1.00e+00 1.00e+00H  1\n",
      "  53  1.3224287e+04 9.12e-09 3.46e-04 -11.0 1.60e-03    -  1.00e+00 5.00e-01h  2\n",
      "  54  1.3224287e+04 7.98e-09 1.02e-03 -11.0 2.52e-03    -  1.00e+00 1.25e-01h  4\n",
      "  55  1.3224287e+04 2.56e-10 1.21e-04 -11.0 5.53e-04    -  1.00e+00 1.00e+00h  1\n",
      "  56  1.3224287e+04 2.71e-09 1.08e-04 -11.0 5.96e-04    -  1.00e+00 1.00e+00h  1\n",
      "  57  1.3224287e+04 2.09e-09 2.16e-04 -11.0 2.40e-04    -  1.00e+00 2.50e-01h  3\n",
      "  58  1.3224287e+04 5.18e-10 6.66e-05 -11.0 1.67e-04    -  1.00e+00 1.00e+00h  1\n",
      "  59  1.3224287e+04 6.76e-11 4.03e-05 -11.0 6.85e-05    -  1.00e+00 1.00e+00h  1\n",
      "iter    objective    inf_pr   inf_du lg(mu)  ||d||  lg(rg) alpha_du alpha_pr  ls\n",
      "  60  1.3224287e+04 2.79e-11 5.59e-05 -11.0 2.31e-04    -  1.00e+00 1.00e+00h  1\n",
      "  61  1.3224287e+04 6.15e-12 2.72e-04 -11.0 4.19e-04    -  1.00e+00 1.00e+00H  1\n",
      "  62  1.3224287e+04 4.09e-12 1.11e-03 -11.0 4.98e-04    -  1.00e+00 1.00e+00H  1\n",
      "  63  1.3224287e+04 4.43e-12 8.14e-05 -11.0 9.79e-04    -  1.00e+00 1.00e+00H  1\n",
      "  64  1.3224287e+04 2.07e-12 8.37e-04 -11.0 7.27e-04    -  1.00e+00 1.00e+00H  1\n",
      "  65  1.3224287e+04 2.22e-12 8.37e-04 -11.0 7.20e-04    -  1.00e+00 3.05e-05h 16\n",
      "  66  1.3224287e+04 1.69e-12 8.38e-04 -11.0 1.87e-03    -  1.00e+00 1.95e-03h 10\n",
      "  67  1.3224287e+04 3.53e-12 7.63e-04 -11.0 8.21e-04    -  1.00e+00 1.00e+00H  1\n",
      "  68  1.3224287e+04 6.72e-13 2.11e-04 -11.0 5.11e-04    -  1.00e+00 1.00e+00H  1\n",
      "  69  1.3224287e+04 1.57e-12 2.02e-04 -11.0 7.38e-04    -  1.00e+00 1.56e-02h  7\n",
      "iter    objective    inf_pr   inf_du lg(mu)  ||d||  lg(rg) alpha_du alpha_pr  ls\n",
      "  70  1.3224287e+04 1.24e-10 3.21e-04 -11.0 1.48e-03    -  1.00e+00 1.25e-01h  4\n",
      "  71  1.3224287e+04 1.02e-10 1.84e-04 -11.0 3.54e-04    -  1.00e+00 2.50e-01h  3\n",
      "  72  1.3224287e+04 1.93e-11 8.41e-05 -11.0 9.18e-05    -  1.00e+00 1.00e+00h  1\n",
      "  73  1.3224287e+04 7.65e-12 1.89e-04 -11.0 1.48e-04    -  1.00e+00 1.00e+00h  1\n",
      "  74  1.3224287e+04 3.11e-11 2.27e-05 -11.0 9.60e-05    -  1.00e+00 1.00e+00h  1\n",
      "  75  1.3224287e+04 1.34e-11 1.01e-04 -11.0 3.22e-05    -  1.00e+00 1.00e+00h  1\n",
      "  76  1.3224287e+04 5.10e-12 3.99e-06 -11.0 3.00e-05    -  1.00e+00 1.00e+00h  1\n",
      "\n",
      "Number of Iterations....: 76\n",
      "\n",
      "                                   (scaled)                 (unscaled)\n",
      "Objective...............:   1.3224286890975744e+04    1.3224286890975744e+04\n",
      "Dual infeasibility......:   3.9919513937364259e-06    3.9919513937364259e-06\n",
      "Constraint violation....:   5.1030291103870695e-12    5.1030291103870695e-12\n",
      "Complementarity.........:   0.0000000000000000e+00    0.0000000000000000e+00\n",
      "Overall NLP error.......:   9.1204421283150036e-07    3.9919513937364259e-06\n",
      "\n",
      "\n",
      "Number of objective function evaluations             = 193\n",
      "Number of objective gradient evaluations             = 77\n",
      "Number of equality constraint evaluations            = 193\n",
      "Number of inequality constraint evaluations          = 0\n",
      "Number of equality constraint Jacobian evaluations   = 77\n",
      "Number of inequality constraint Jacobian evaluations = 0\n",
      "Number of Lagrangian Hessian evaluations             = 0\n",
      "Total CPU secs in IPOPT (w/o function evaluations)   =    244.706\n",
      "Total CPU secs in NLP function evaluations           =    480.177\n",
      "\n",
      "EXIT: Optimal Solution Found.\n"
     ]
    }
   ],
   "source": [
    "Z = fmincon(ballbot_cost,ballbot_equality_constraint,ballbot_inequality_constraint,\n",
    "                x_l,x_u,c_l,c_u,z0,params, diff_type;\n",
    "                tol = 1e-6, c_tol = 1e-6, max_iters = 10_000, verbose = verbose);"
   ]
  },
  {
   "cell_type": "code",
   "execution_count": 47,
   "metadata": {},
   "outputs": [],
   "source": [
    "# Pull the X and U solutions out of Z \n",
    "X = [Z[idx.x[i]] for i = 1:Nt]\n",
    "U = [Z[idx.u[i]] for i = 1:(Nt-1)];"
   ]
  },
  {
   "cell_type": "code",
   "execution_count": 48,
   "metadata": {},
   "outputs": [],
   "source": [
    "# Save references\n",
    "#FileIO.save(\"utils/ballbot_Xref_8_less.jld2\",\"Xref_8_less\", X)\n",
    "#FileIO.save(\"utils/ballbot_Uref_8_less.jld2\",\"Uref_8_less\", U)\n",
    "#FileIO.save(\"utils/ballbot_Xref_8_2.jld2\",\"Xref_8_2\", X)\n",
    "#FileIO.save(\"utils/ballbot_Uref_8_2.jld2\",\"Uref_8_2\", U)\n",
    "#FileIO.save(\"utils/ballbot_Xref_8_big_2.jld2\",\"Xref_8_big_2\", X)\n",
    "#FileIO.save(\"utils/ballbot_Uref_8_big_2.jld2\",\"Uref_8_big_2\", U)"
   ]
  },
  {
   "cell_type": "code",
   "execution_count": 49,
   "metadata": {},
   "outputs": [],
   "source": [
    "# Select reference trajectory\n",
    "#Xref_trajop = FileIO.load(\"utils/ballbot_Xref_8_less.jld2\",\"Xref_8_less\")\n",
    "#Uref_trajop = FileIO.load(\"utils/ballbot_Uref_8_less.jld2\",\"Uref_8_less\");\n",
    "\n",
    "#Xref_trajop = FileIO.load(\"utils/ballbot_Xref_8_2.jld2\",\"Xref_8_2\")\n",
    "#Uref_trajop = FileIO.load(\"utils/ballbot_Uref_8_2.jld2\",\"Uref_8_2\");\n",
    "\n",
    "#Xref_trajop = FileIO.load(\"utils/ballbot_Xref_8_big_2.jld2\",\"Xref_8_big_2\")\n",
    "#Uref_trajop = FileIO.load(\"utils/ballbot_Uref_8_big_2.jld2\",\"Uref_8_big_2\");\n",
    "\n",
    "Xref_trajop = X*1 # Current trajectory\n",
    "Uref_trajop = U*1; # Current trajectory"
   ]
  },
  {
   "cell_type": "code",
   "execution_count": 50,
   "metadata": {},
   "outputs": [],
   "source": [
    "Xm = hcat(Xref_trajop...)\n",
    "Um = hcat(Uref_trajop...);"
   ]
  },
  {
   "cell_type": "code",
   "execution_count": 51,
   "metadata": {},
   "outputs": [
    {
     "data": {
      "image/svg+xml": [
       "<?xml version=\"1.0\" encoding=\"utf-8\"?>\n",
       "<svg xmlns=\"http://www.w3.org/2000/svg\" xmlns:xlink=\"http://www.w3.org/1999/xlink\" width=\"600\" height=\"400\" viewBox=\"0 0 2400 1600\">\n",
       "<defs>\n",
       "  <clipPath id=\"clip640\">\n",
       "    <rect x=\"0\" y=\"0\" width=\"2400\" height=\"1600\"/>\n",
       "  </clipPath>\n",
       "</defs>\n",
       "<path clip-path=\"url(#clip640)\" d=\"M0 1600 L2400 1600 L2400 0 L0 0  Z\" fill=\"#ffffff\" fill-rule=\"evenodd\" fill-opacity=\"1\"/>\n",
       "<defs>\n",
       "  <clipPath id=\"clip641\">\n",
       "    <rect x=\"480\" y=\"0\" width=\"1681\" height=\"1600\"/>\n",
       "  </clipPath>\n",
       "</defs>\n",
       "<path clip-path=\"url(#clip640)\" d=\"M193.936 1486.45 L2352.76 1486.45 L2352.76 47.2441 L193.936 47.2441  Z\" fill=\"#ffffff\" fill-rule=\"evenodd\" fill-opacity=\"1\"/>\n",
       "<defs>\n",
       "  <clipPath id=\"clip642\">\n",
       "    <rect x=\"193\" y=\"47\" width=\"2160\" height=\"1440\"/>\n",
       "  </clipPath>\n",
       "</defs>\n",
       "<polyline clip-path=\"url(#clip642)\" style=\"stroke:#000000; stroke-linecap:round; stroke-linejoin:round; stroke-width:2; stroke-opacity:0.1; fill:none\" points=\"255.035,1486.45 255.035,47.2441 \"/>\n",
       "<polyline clip-path=\"url(#clip642)\" style=\"stroke:#000000; stroke-linecap:round; stroke-linejoin:round; stroke-width:2; stroke-opacity:0.1; fill:none\" points=\"662.359,1486.45 662.359,47.2441 \"/>\n",
       "<polyline clip-path=\"url(#clip642)\" style=\"stroke:#000000; stroke-linecap:round; stroke-linejoin:round; stroke-width:2; stroke-opacity:0.1; fill:none\" points=\"1069.68,1486.45 1069.68,47.2441 \"/>\n",
       "<polyline clip-path=\"url(#clip642)\" style=\"stroke:#000000; stroke-linecap:round; stroke-linejoin:round; stroke-width:2; stroke-opacity:0.1; fill:none\" points=\"1477.01,1486.45 1477.01,47.2441 \"/>\n",
       "<polyline clip-path=\"url(#clip642)\" style=\"stroke:#000000; stroke-linecap:round; stroke-linejoin:round; stroke-width:2; stroke-opacity:0.1; fill:none\" points=\"1884.33,1486.45 1884.33,47.2441 \"/>\n",
       "<polyline clip-path=\"url(#clip642)\" style=\"stroke:#000000; stroke-linecap:round; stroke-linejoin:round; stroke-width:2; stroke-opacity:0.1; fill:none\" points=\"2291.66,1486.45 2291.66,47.2441 \"/>\n",
       "<polyline clip-path=\"url(#clip640)\" style=\"stroke:#000000; stroke-linecap:round; stroke-linejoin:round; stroke-width:4; stroke-opacity:1; fill:none\" points=\"193.936,1486.45 2352.76,1486.45 \"/>\n",
       "<polyline clip-path=\"url(#clip640)\" style=\"stroke:#000000; stroke-linecap:round; stroke-linejoin:round; stroke-width:4; stroke-opacity:1; fill:none\" points=\"255.035,1486.45 255.035,1467.55 \"/>\n",
       "<polyline clip-path=\"url(#clip640)\" style=\"stroke:#000000; stroke-linecap:round; stroke-linejoin:round; stroke-width:4; stroke-opacity:1; fill:none\" points=\"662.359,1486.45 662.359,1467.55 \"/>\n",
       "<polyline clip-path=\"url(#clip640)\" style=\"stroke:#000000; stroke-linecap:round; stroke-linejoin:round; stroke-width:4; stroke-opacity:1; fill:none\" points=\"1069.68,1486.45 1069.68,1467.55 \"/>\n",
       "<polyline clip-path=\"url(#clip640)\" style=\"stroke:#000000; stroke-linecap:round; stroke-linejoin:round; stroke-width:4; stroke-opacity:1; fill:none\" points=\"1477.01,1486.45 1477.01,1467.55 \"/>\n",
       "<polyline clip-path=\"url(#clip640)\" style=\"stroke:#000000; stroke-linecap:round; stroke-linejoin:round; stroke-width:4; stroke-opacity:1; fill:none\" points=\"1884.33,1486.45 1884.33,1467.55 \"/>\n",
       "<polyline clip-path=\"url(#clip640)\" style=\"stroke:#000000; stroke-linecap:round; stroke-linejoin:round; stroke-width:4; stroke-opacity:1; fill:none\" points=\"2291.66,1486.45 2291.66,1467.55 \"/>\n",
       "<path clip-path=\"url(#clip640)\" d=\"M255.035 1517.37 Q251.424 1517.37 249.595 1520.93 Q247.789 1524.47 247.789 1531.6 Q247.789 1538.71 249.595 1542.27 Q251.424 1545.82 255.035 1545.82 Q258.669 1545.82 260.474 1542.27 Q262.303 1538.71 262.303 1531.6 Q262.303 1524.47 260.474 1520.93 Q258.669 1517.37 255.035 1517.37 M255.035 1513.66 Q260.845 1513.66 263.9 1518.27 Q266.979 1522.85 266.979 1531.6 Q266.979 1540.33 263.9 1544.94 Q260.845 1549.52 255.035 1549.52 Q249.225 1549.52 246.146 1544.94 Q243.09 1540.33 243.09 1531.6 Q243.09 1522.85 246.146 1518.27 Q249.225 1513.66 255.035 1513.66 Z\" fill=\"#000000\" fill-rule=\"nonzero\" fill-opacity=\"1\" /><path clip-path=\"url(#clip640)\" d=\"M652.637 1514.29 L670.993 1514.29 L670.993 1518.22 L656.919 1518.22 L656.919 1526.7 Q657.938 1526.35 658.956 1526.19 Q659.975 1526 660.993 1526 Q666.78 1526 670.16 1529.17 Q673.54 1532.34 673.54 1537.76 Q673.54 1543.34 670.067 1546.44 Q666.595 1549.52 660.276 1549.52 Q658.1 1549.52 655.831 1549.15 Q653.586 1548.78 651.179 1548.04 L651.179 1543.34 Q653.262 1544.47 655.484 1545.03 Q657.706 1545.58 660.183 1545.58 Q664.188 1545.58 666.526 1543.48 Q668.864 1541.37 668.864 1537.76 Q668.864 1534.15 666.526 1532.04 Q664.188 1529.94 660.183 1529.94 Q658.308 1529.94 656.433 1530.35 Q654.581 1530.77 652.637 1531.65 L652.637 1514.29 Z\" fill=\"#000000\" fill-rule=\"nonzero\" fill-opacity=\"1\" /><path clip-path=\"url(#clip640)\" d=\"M1044.37 1544.91 L1052.01 1544.91 L1052.01 1518.55 L1043.7 1520.21 L1043.7 1515.95 L1051.96 1514.29 L1056.64 1514.29 L1056.64 1544.91 L1064.28 1544.91 L1064.28 1548.85 L1044.37 1548.85 L1044.37 1544.91 Z\" fill=\"#000000\" fill-rule=\"nonzero\" fill-opacity=\"1\" /><path clip-path=\"url(#clip640)\" d=\"M1083.72 1517.37 Q1080.11 1517.37 1078.28 1520.93 Q1076.48 1524.47 1076.48 1531.6 Q1076.48 1538.71 1078.28 1542.27 Q1080.11 1545.82 1083.72 1545.82 Q1087.36 1545.82 1089.16 1542.27 Q1090.99 1538.71 1090.99 1531.6 Q1090.99 1524.47 1089.16 1520.93 Q1087.36 1517.37 1083.72 1517.37 M1083.72 1513.66 Q1089.53 1513.66 1092.59 1518.27 Q1095.67 1522.85 1095.67 1531.6 Q1095.67 1540.33 1092.59 1544.94 Q1089.53 1549.52 1083.72 1549.52 Q1077.91 1549.52 1074.83 1544.94 Q1071.78 1540.33 1071.78 1531.6 Q1071.78 1522.85 1074.83 1518.27 Q1077.91 1513.66 1083.72 1513.66 Z\" fill=\"#000000\" fill-rule=\"nonzero\" fill-opacity=\"1\" /><path clip-path=\"url(#clip640)\" d=\"M1452.19 1544.91 L1459.83 1544.91 L1459.83 1518.55 L1451.52 1520.21 L1451.52 1515.95 L1459.79 1514.29 L1464.46 1514.29 L1464.46 1544.91 L1472.1 1544.91 L1472.1 1548.85 L1452.19 1548.85 L1452.19 1544.91 Z\" fill=\"#000000\" fill-rule=\"nonzero\" fill-opacity=\"1\" /><path clip-path=\"url(#clip640)\" d=\"M1481.59 1514.29 L1499.95 1514.29 L1499.95 1518.22 L1485.87 1518.22 L1485.87 1526.7 Q1486.89 1526.35 1487.91 1526.19 Q1488.93 1526 1489.95 1526 Q1495.73 1526 1499.11 1529.17 Q1502.49 1532.34 1502.49 1537.76 Q1502.49 1543.34 1499.02 1546.44 Q1495.55 1549.52 1489.23 1549.52 Q1487.05 1549.52 1484.79 1549.15 Q1482.54 1548.78 1480.13 1548.04 L1480.13 1543.34 Q1482.22 1544.47 1484.44 1545.03 Q1486.66 1545.58 1489.14 1545.58 Q1493.14 1545.58 1495.48 1543.48 Q1497.82 1541.37 1497.82 1537.76 Q1497.82 1534.15 1495.48 1532.04 Q1493.14 1529.94 1489.14 1529.94 Q1487.26 1529.94 1485.39 1530.35 Q1483.54 1530.77 1481.59 1531.65 L1481.59 1514.29 Z\" fill=\"#000000\" fill-rule=\"nonzero\" fill-opacity=\"1\" /><path clip-path=\"url(#clip640)\" d=\"M1863.11 1544.91 L1879.43 1544.91 L1879.43 1548.85 L1857.48 1548.85 L1857.48 1544.91 Q1860.14 1542.16 1864.73 1537.53 Q1869.33 1532.88 1870.51 1531.53 Q1872.76 1529.01 1873.64 1527.27 Q1874.54 1525.51 1874.54 1523.82 Q1874.54 1521.07 1872.6 1519.33 Q1870.68 1517.6 1867.57 1517.6 Q1865.37 1517.6 1862.92 1518.36 Q1860.49 1519.13 1857.71 1520.68 L1857.71 1515.95 Q1860.54 1514.82 1862.99 1514.24 Q1865.44 1513.66 1867.48 1513.66 Q1872.85 1513.66 1876.05 1516.35 Q1879.24 1519.03 1879.24 1523.52 Q1879.24 1525.65 1878.43 1527.57 Q1877.64 1529.47 1875.54 1532.07 Q1874.96 1532.74 1871.86 1535.95 Q1868.75 1539.15 1863.11 1544.91 Z\" fill=\"#000000\" fill-rule=\"nonzero\" fill-opacity=\"1\" /><path clip-path=\"url(#clip640)\" d=\"M1899.24 1517.37 Q1895.63 1517.37 1893.8 1520.93 Q1891.99 1524.47 1891.99 1531.6 Q1891.99 1538.71 1893.8 1542.27 Q1895.63 1545.82 1899.24 1545.82 Q1902.87 1545.82 1904.68 1542.27 Q1906.51 1538.71 1906.51 1531.6 Q1906.51 1524.47 1904.68 1520.93 Q1902.87 1517.37 1899.24 1517.37 M1899.24 1513.66 Q1905.05 1513.66 1908.11 1518.27 Q1911.18 1522.85 1911.18 1531.6 Q1911.18 1540.33 1908.11 1544.94 Q1905.05 1549.52 1899.24 1549.52 Q1893.43 1549.52 1890.35 1544.94 Q1887.3 1540.33 1887.3 1531.6 Q1887.3 1522.85 1890.35 1518.27 Q1893.43 1513.66 1899.24 1513.66 Z\" fill=\"#000000\" fill-rule=\"nonzero\" fill-opacity=\"1\" /><path clip-path=\"url(#clip640)\" d=\"M2270.93 1544.91 L2287.25 1544.91 L2287.25 1548.85 L2265.3 1548.85 L2265.3 1544.91 Q2267.97 1542.16 2272.55 1537.53 Q2277.15 1532.88 2278.34 1531.53 Q2280.58 1529.01 2281.46 1527.27 Q2282.36 1525.51 2282.36 1523.82 Q2282.36 1521.07 2280.42 1519.33 Q2278.5 1517.6 2275.4 1517.6 Q2273.2 1517.6 2270.74 1518.36 Q2268.31 1519.13 2265.53 1520.68 L2265.53 1515.95 Q2268.36 1514.82 2270.81 1514.24 Q2273.27 1513.66 2275.3 1513.66 Q2280.67 1513.66 2283.87 1516.35 Q2287.06 1519.03 2287.06 1523.52 Q2287.06 1525.65 2286.25 1527.57 Q2285.47 1529.47 2283.36 1532.07 Q2282.78 1532.74 2279.68 1535.95 Q2276.58 1539.15 2270.93 1544.91 Z\" fill=\"#000000\" fill-rule=\"nonzero\" fill-opacity=\"1\" /><path clip-path=\"url(#clip640)\" d=\"M2297.11 1514.29 L2315.46 1514.29 L2315.46 1518.22 L2301.39 1518.22 L2301.39 1526.7 Q2302.41 1526.35 2303.43 1526.19 Q2304.45 1526 2305.47 1526 Q2311.25 1526 2314.63 1529.17 Q2318.01 1532.34 2318.01 1537.76 Q2318.01 1543.34 2314.54 1546.44 Q2311.07 1549.52 2304.75 1549.52 Q2302.57 1549.52 2300.3 1549.15 Q2298.06 1548.78 2295.65 1548.04 L2295.65 1543.34 Q2297.73 1544.47 2299.96 1545.03 Q2302.18 1545.58 2304.65 1545.58 Q2308.66 1545.58 2311 1543.48 Q2313.34 1541.37 2313.34 1537.76 Q2313.34 1534.15 2311 1532.04 Q2308.66 1529.94 2304.65 1529.94 Q2302.78 1529.94 2300.9 1530.35 Q2299.05 1530.77 2297.11 1531.65 L2297.11 1514.29 Z\" fill=\"#000000\" fill-rule=\"nonzero\" fill-opacity=\"1\" /><polyline clip-path=\"url(#clip642)\" style=\"stroke:#000000; stroke-linecap:round; stroke-linejoin:round; stroke-width:2; stroke-opacity:0.1; fill:none\" points=\"193.936,1416.11 2352.76,1416.11 \"/>\n",
       "<polyline clip-path=\"url(#clip642)\" style=\"stroke:#000000; stroke-linecap:round; stroke-linejoin:round; stroke-width:2; stroke-opacity:0.1; fill:none\" points=\"193.936,1215.28 2352.76,1215.28 \"/>\n",
       "<polyline clip-path=\"url(#clip642)\" style=\"stroke:#000000; stroke-linecap:round; stroke-linejoin:round; stroke-width:2; stroke-opacity:0.1; fill:none\" points=\"193.936,1014.46 2352.76,1014.46 \"/>\n",
       "<polyline clip-path=\"url(#clip642)\" style=\"stroke:#000000; stroke-linecap:round; stroke-linejoin:round; stroke-width:2; stroke-opacity:0.1; fill:none\" points=\"193.936,813.642 2352.76,813.642 \"/>\n",
       "<polyline clip-path=\"url(#clip642)\" style=\"stroke:#000000; stroke-linecap:round; stroke-linejoin:round; stroke-width:2; stroke-opacity:0.1; fill:none\" points=\"193.936,612.821 2352.76,612.821 \"/>\n",
       "<polyline clip-path=\"url(#clip642)\" style=\"stroke:#000000; stroke-linecap:round; stroke-linejoin:round; stroke-width:2; stroke-opacity:0.1; fill:none\" points=\"193.936,412 2352.76,412 \"/>\n",
       "<polyline clip-path=\"url(#clip642)\" style=\"stroke:#000000; stroke-linecap:round; stroke-linejoin:round; stroke-width:2; stroke-opacity:0.1; fill:none\" points=\"193.936,211.179 2352.76,211.179 \"/>\n",
       "<polyline clip-path=\"url(#clip640)\" style=\"stroke:#000000; stroke-linecap:round; stroke-linejoin:round; stroke-width:4; stroke-opacity:1; fill:none\" points=\"193.936,1486.45 193.936,47.2441 \"/>\n",
       "<polyline clip-path=\"url(#clip640)\" style=\"stroke:#000000; stroke-linecap:round; stroke-linejoin:round; stroke-width:4; stroke-opacity:1; fill:none\" points=\"193.936,1416.11 212.834,1416.11 \"/>\n",
       "<polyline clip-path=\"url(#clip640)\" style=\"stroke:#000000; stroke-linecap:round; stroke-linejoin:round; stroke-width:4; stroke-opacity:1; fill:none\" points=\"193.936,1215.28 212.834,1215.28 \"/>\n",
       "<polyline clip-path=\"url(#clip640)\" style=\"stroke:#000000; stroke-linecap:round; stroke-linejoin:round; stroke-width:4; stroke-opacity:1; fill:none\" points=\"193.936,1014.46 212.834,1014.46 \"/>\n",
       "<polyline clip-path=\"url(#clip640)\" style=\"stroke:#000000; stroke-linecap:round; stroke-linejoin:round; stroke-width:4; stroke-opacity:1; fill:none\" points=\"193.936,813.642 212.834,813.642 \"/>\n",
       "<polyline clip-path=\"url(#clip640)\" style=\"stroke:#000000; stroke-linecap:round; stroke-linejoin:round; stroke-width:4; stroke-opacity:1; fill:none\" points=\"193.936,612.821 212.834,612.821 \"/>\n",
       "<polyline clip-path=\"url(#clip640)\" style=\"stroke:#000000; stroke-linecap:round; stroke-linejoin:round; stroke-width:4; stroke-opacity:1; fill:none\" points=\"193.936,412 212.834,412 \"/>\n",
       "<polyline clip-path=\"url(#clip640)\" style=\"stroke:#000000; stroke-linecap:round; stroke-linejoin:round; stroke-width:4; stroke-opacity:1; fill:none\" points=\"193.936,211.179 212.834,211.179 \"/>\n",
       "<path clip-path=\"url(#clip640)\" d=\"M51.9875 1416.56 L81.6633 1416.56 L81.6633 1420.49 L51.9875 1420.49 L51.9875 1416.56 Z\" fill=\"#000000\" fill-rule=\"nonzero\" fill-opacity=\"1\" /><path clip-path=\"url(#clip640)\" d=\"M90.5752 1398.83 L112.797 1398.83 L112.797 1400.82 L100.251 1433.39 L95.3669 1433.39 L107.172 1402.76 L90.5752 1402.76 L90.5752 1398.83 Z\" fill=\"#000000\" fill-rule=\"nonzero\" fill-opacity=\"1\" /><path clip-path=\"url(#clip640)\" d=\"M121.918 1427.51 L126.802 1427.51 L126.802 1433.39 L121.918 1433.39 L121.918 1427.51 Z\" fill=\"#000000\" fill-rule=\"nonzero\" fill-opacity=\"1\" /><path clip-path=\"url(#clip640)\" d=\"M137.033 1398.83 L155.39 1398.83 L155.39 1402.76 L141.316 1402.76 L141.316 1411.23 Q142.334 1410.89 143.353 1410.72 Q144.371 1410.54 145.39 1410.54 Q151.177 1410.54 154.556 1413.71 Q157.936 1416.88 157.936 1422.3 Q157.936 1427.88 154.464 1430.98 Q150.992 1434.06 144.672 1434.06 Q142.496 1434.06 140.228 1433.69 Q137.982 1433.32 135.575 1432.58 L135.575 1427.88 Q137.658 1429.01 139.881 1429.57 Q142.103 1430.12 144.58 1430.12 Q148.584 1430.12 150.922 1428.01 Q153.26 1425.91 153.26 1422.3 Q153.26 1418.69 150.922 1416.58 Q148.584 1414.47 144.58 1414.47 Q142.705 1414.47 140.83 1414.89 Q138.978 1415.31 137.033 1416.19 L137.033 1398.83 Z\" fill=\"#000000\" fill-rule=\"nonzero\" fill-opacity=\"1\" /><path clip-path=\"url(#clip640)\" d=\"M50.9921 1215.74 L80.6679 1215.74 L80.6679 1219.67 L50.9921 1219.67 L50.9921 1215.74 Z\" fill=\"#000000\" fill-rule=\"nonzero\" fill-opacity=\"1\" /><path clip-path=\"url(#clip640)\" d=\"M90.8067 1198 L109.163 1198 L109.163 1201.94 L95.0891 1201.94 L95.0891 1210.41 Q96.1076 1210.06 97.1261 1209.9 Q98.1447 1209.72 99.1632 1209.72 Q104.95 1209.72 108.33 1212.89 Q111.709 1216.06 111.709 1221.48 Q111.709 1227.05 108.237 1230.16 Q104.765 1233.24 98.4456 1233.24 Q96.2697 1233.24 94.0012 1232.87 Q91.7558 1232.49 89.3484 1231.75 L89.3484 1227.05 Q91.4317 1228.19 93.6539 1228.74 Q95.8761 1229.3 98.353 1229.3 Q102.358 1229.3 104.696 1227.19 Q107.033 1225.09 107.033 1221.48 Q107.033 1217.87 104.696 1215.76 Q102.358 1213.65 98.353 1213.65 Q96.478 1213.65 94.603 1214.07 Q92.7512 1214.49 90.8067 1215.37 L90.8067 1198 Z\" fill=\"#000000\" fill-rule=\"nonzero\" fill-opacity=\"1\" /><path clip-path=\"url(#clip640)\" d=\"M120.922 1226.68 L125.807 1226.68 L125.807 1232.56 L120.922 1232.56 L120.922 1226.68 Z\" fill=\"#000000\" fill-rule=\"nonzero\" fill-opacity=\"1\" /><path clip-path=\"url(#clip640)\" d=\"M145.992 1201.08 Q142.381 1201.08 140.552 1204.65 Q138.746 1208.19 138.746 1215.32 Q138.746 1222.43 140.552 1225.99 Q142.381 1229.53 145.992 1229.53 Q149.626 1229.53 151.431 1225.99 Q153.26 1222.43 153.26 1215.32 Q153.26 1208.19 151.431 1204.65 Q149.626 1201.08 145.992 1201.08 M145.992 1197.38 Q151.802 1197.38 154.857 1201.99 Q157.936 1206.57 157.936 1215.32 Q157.936 1224.05 154.857 1228.65 Q151.802 1233.24 145.992 1233.24 Q140.181 1233.24 137.103 1228.65 Q134.047 1224.05 134.047 1215.32 Q134.047 1206.57 137.103 1201.99 Q140.181 1197.38 145.992 1197.38 Z\" fill=\"#000000\" fill-rule=\"nonzero\" fill-opacity=\"1\" /><path clip-path=\"url(#clip640)\" d=\"M51.9875 1014.91 L81.6633 1014.91 L81.6633 1018.85 L51.9875 1018.85 L51.9875 1014.91 Z\" fill=\"#000000\" fill-rule=\"nonzero\" fill-opacity=\"1\" /><path clip-path=\"url(#clip640)\" d=\"M95.7836 1027.81 L112.103 1027.81 L112.103 1031.74 L90.1586 1031.74 L90.1586 1027.81 Q92.8206 1025.05 97.4039 1020.42 Q102.01 1015.77 103.191 1014.43 Q105.436 1011.91 106.316 1010.17 Q107.219 1008.41 107.219 1006.72 Q107.219 1003.97 105.274 1002.23 Q103.353 1000.49 100.251 1000.49 Q98.0521 1000.49 95.5984 1001.26 Q93.1678 1002.02 90.3901 1003.57 L90.3901 998.85 Q93.2141 997.715 95.6678 997.137 Q98.1215 996.558 100.159 996.558 Q105.529 996.558 108.723 999.243 Q111.918 1001.93 111.918 1006.42 Q111.918 1008.55 111.108 1010.47 Q110.321 1012.37 108.214 1014.96 Q107.635 1015.63 104.534 1018.85 Q101.432 1022.04 95.7836 1027.81 Z\" fill=\"#000000\" fill-rule=\"nonzero\" fill-opacity=\"1\" /><path clip-path=\"url(#clip640)\" d=\"M121.918 1025.86 L126.802 1025.86 L126.802 1031.74 L121.918 1031.74 L121.918 1025.86 Z\" fill=\"#000000\" fill-rule=\"nonzero\" fill-opacity=\"1\" /><path clip-path=\"url(#clip640)\" d=\"M137.033 997.183 L155.39 997.183 L155.39 1001.12 L141.316 1001.12 L141.316 1009.59 Q142.334 1009.24 143.353 1009.08 Q144.371 1008.9 145.39 1008.9 Q151.177 1008.9 154.556 1012.07 Q157.936 1015.24 157.936 1020.66 Q157.936 1026.23 154.464 1029.34 Q150.992 1032.41 144.672 1032.41 Q142.496 1032.41 140.228 1032.04 Q137.982 1031.67 135.575 1030.93 L135.575 1026.23 Q137.658 1027.37 139.881 1027.92 Q142.103 1028.48 144.58 1028.48 Q148.584 1028.48 150.922 1026.37 Q153.26 1024.27 153.26 1020.66 Q153.26 1017.04 150.922 1014.94 Q148.584 1012.83 144.58 1012.83 Q142.705 1012.83 140.83 1013.25 Q138.978 1013.66 137.033 1014.54 L137.033 997.183 Z\" fill=\"#000000\" fill-rule=\"nonzero\" fill-opacity=\"1\" /><path clip-path=\"url(#clip640)\" d=\"M100.76 799.441 Q97.1493 799.441 95.3206 803.005 Q93.515 806.547 93.515 813.677 Q93.515 820.783 95.3206 824.348 Q97.1493 827.89 100.76 827.89 Q104.395 827.89 106.2 824.348 Q108.029 820.783 108.029 813.677 Q108.029 806.547 106.2 803.005 Q104.395 799.441 100.76 799.441 M100.76 795.737 Q106.571 795.737 109.626 800.343 Q112.705 804.927 112.705 813.677 Q112.705 822.403 109.626 827.01 Q106.571 831.593 100.76 831.593 Q94.9502 831.593 91.8715 827.01 Q88.816 822.403 88.816 813.677 Q88.816 804.927 91.8715 800.343 Q94.9502 795.737 100.76 795.737 Z\" fill=\"#000000\" fill-rule=\"nonzero\" fill-opacity=\"1\" /><path clip-path=\"url(#clip640)\" d=\"M120.922 825.042 L125.807 825.042 L125.807 830.922 L120.922 830.922 L120.922 825.042 Z\" fill=\"#000000\" fill-rule=\"nonzero\" fill-opacity=\"1\" /><path clip-path=\"url(#clip640)\" d=\"M145.992 799.441 Q142.381 799.441 140.552 803.005 Q138.746 806.547 138.746 813.677 Q138.746 820.783 140.552 824.348 Q142.381 827.89 145.992 827.89 Q149.626 827.89 151.431 824.348 Q153.26 820.783 153.26 813.677 Q153.26 806.547 151.431 803.005 Q149.626 799.441 145.992 799.441 M145.992 795.737 Q151.802 795.737 154.857 800.343 Q157.936 804.927 157.936 813.677 Q157.936 822.403 154.857 827.01 Q151.802 831.593 145.992 831.593 Q140.181 831.593 137.103 827.01 Q134.047 822.403 134.047 813.677 Q134.047 804.927 137.103 800.343 Q140.181 795.737 145.992 795.737 Z\" fill=\"#000000\" fill-rule=\"nonzero\" fill-opacity=\"1\" /><path clip-path=\"url(#clip640)\" d=\"M95.7836 626.166 L112.103 626.166 L112.103 630.101 L90.1586 630.101 L90.1586 626.166 Q92.8206 623.411 97.4039 618.781 Q102.01 614.129 103.191 612.786 Q105.436 610.263 106.316 608.527 Q107.219 606.768 107.219 605.078 Q107.219 602.323 105.274 600.587 Q103.353 598.851 100.251 598.851 Q98.0521 598.851 95.5984 599.615 Q93.1678 600.379 90.3901 601.93 L90.3901 597.207 Q93.2141 596.073 95.6678 595.495 Q98.1215 594.916 100.159 594.916 Q105.529 594.916 108.723 597.601 Q111.918 600.286 111.918 604.777 Q111.918 606.906 111.108 608.828 Q110.321 610.726 108.214 613.319 Q107.635 613.99 104.534 617.207 Q101.432 620.402 95.7836 626.166 Z\" fill=\"#000000\" fill-rule=\"nonzero\" fill-opacity=\"1\" /><path clip-path=\"url(#clip640)\" d=\"M121.918 624.221 L126.802 624.221 L126.802 630.101 L121.918 630.101 L121.918 624.221 Z\" fill=\"#000000\" fill-rule=\"nonzero\" fill-opacity=\"1\" /><path clip-path=\"url(#clip640)\" d=\"M137.033 595.541 L155.39 595.541 L155.39 599.476 L141.316 599.476 L141.316 607.948 Q142.334 607.601 143.353 607.439 Q144.371 607.254 145.39 607.254 Q151.177 607.254 154.556 610.425 Q157.936 613.596 157.936 619.013 Q157.936 624.592 154.464 627.693 Q150.992 630.772 144.672 630.772 Q142.496 630.772 140.228 630.402 Q137.982 630.031 135.575 629.291 L135.575 624.592 Q137.658 625.726 139.881 626.281 Q142.103 626.837 144.58 626.837 Q148.584 626.837 150.922 624.73 Q153.26 622.624 153.26 619.013 Q153.26 615.402 150.922 613.295 Q148.584 611.189 144.58 611.189 Q142.705 611.189 140.83 611.606 Q138.978 612.022 137.033 612.902 L137.033 595.541 Z\" fill=\"#000000\" fill-rule=\"nonzero\" fill-opacity=\"1\" /><path clip-path=\"url(#clip640)\" d=\"M90.8067 394.72 L109.163 394.72 L109.163 398.655 L95.0891 398.655 L95.0891 407.127 Q96.1076 406.78 97.1261 406.618 Q98.1447 406.433 99.1632 406.433 Q104.95 406.433 108.33 409.604 Q111.709 412.775 111.709 418.192 Q111.709 423.77 108.237 426.872 Q104.765 429.951 98.4456 429.951 Q96.2697 429.951 94.0012 429.581 Q91.7558 429.21 89.3484 428.47 L89.3484 423.77 Q91.4317 424.905 93.6539 425.46 Q95.8761 426.016 98.353 426.016 Q102.358 426.016 104.696 423.909 Q107.033 421.803 107.033 418.192 Q107.033 414.581 104.696 412.474 Q102.358 410.368 98.353 410.368 Q96.478 410.368 94.603 410.784 Q92.7512 411.201 90.8067 412.081 L90.8067 394.72 Z\" fill=\"#000000\" fill-rule=\"nonzero\" fill-opacity=\"1\" /><path clip-path=\"url(#clip640)\" d=\"M120.922 423.4 L125.807 423.4 L125.807 429.28 L120.922 429.28 L120.922 423.4 Z\" fill=\"#000000\" fill-rule=\"nonzero\" fill-opacity=\"1\" /><path clip-path=\"url(#clip640)\" d=\"M145.992 397.798 Q142.381 397.798 140.552 401.363 Q138.746 404.905 138.746 412.034 Q138.746 419.141 140.552 422.706 Q142.381 426.247 145.992 426.247 Q149.626 426.247 151.431 422.706 Q153.26 419.141 153.26 412.034 Q153.26 404.905 151.431 401.363 Q149.626 397.798 145.992 397.798 M145.992 394.095 Q151.802 394.095 154.857 398.701 Q157.936 403.284 157.936 412.034 Q157.936 420.761 154.857 425.368 Q151.802 429.951 145.992 429.951 Q140.181 429.951 137.103 425.368 Q134.047 420.761 134.047 412.034 Q134.047 403.284 137.103 398.701 Q140.181 394.095 145.992 394.095 Z\" fill=\"#000000\" fill-rule=\"nonzero\" fill-opacity=\"1\" /><path clip-path=\"url(#clip640)\" d=\"M90.5752 193.899 L112.797 193.899 L112.797 195.889 L100.251 228.459 L95.3669 228.459 L107.172 197.834 L90.5752 197.834 L90.5752 193.899 Z\" fill=\"#000000\" fill-rule=\"nonzero\" fill-opacity=\"1\" /><path clip-path=\"url(#clip640)\" d=\"M121.918 222.579 L126.802 222.579 L126.802 228.459 L121.918 228.459 L121.918 222.579 Z\" fill=\"#000000\" fill-rule=\"nonzero\" fill-opacity=\"1\" /><path clip-path=\"url(#clip640)\" d=\"M137.033 193.899 L155.39 193.899 L155.39 197.834 L141.316 197.834 L141.316 206.306 Q142.334 205.959 143.353 205.797 Q144.371 205.612 145.39 205.612 Q151.177 205.612 154.556 208.783 Q157.936 211.954 157.936 217.371 Q157.936 222.949 154.464 226.051 Q150.992 229.13 144.672 229.13 Q142.496 229.13 140.228 228.76 Q137.982 228.389 135.575 227.648 L135.575 222.949 Q137.658 224.084 139.881 224.639 Q142.103 225.195 144.58 225.195 Q148.584 225.195 150.922 223.088 Q153.26 220.982 153.26 217.371 Q153.26 213.76 150.922 211.653 Q148.584 209.547 144.58 209.547 Q142.705 209.547 140.83 209.963 Q138.978 210.38 137.033 211.26 L137.033 193.899 Z\" fill=\"#000000\" fill-rule=\"nonzero\" fill-opacity=\"1\" /><polyline clip-path=\"url(#clip642)\" style=\"stroke:#009af9; stroke-linecap:round; stroke-linejoin:round; stroke-width:4; stroke-opacity:1; fill:none\" points=\"255.035,90.686 282.19,87.9807 309.345,91.2885 336.5,109.101 363.655,137.861 390.81,174.829 417.964,217.856 445.119,265.114 472.274,315.031 499.429,366.293 526.584,417.835 553.739,468.843 580.894,518.735 608.049,567.143 635.204,613.888 662.359,658.95 689.514,702.442 716.669,744.574 743.824,785.63 770.979,825.932 798.134,865.815 825.289,905.601 852.444,945.57 879.599,985.936 906.754,1026.83 933.909,1068.27 961.064,1110.15 988.219,1152.23 1015.37,1194.13 1042.53,1235.33 1069.68,1275.15 1096.84,1312.83 1123.99,1347.49 1151.15,1378.24 1178.3,1404.18 1205.46,1424.49 1232.61,1438.48 1259.77,1445.64 1286.92,1445.72 1314.08,1438.7 1341.23,1424.86 1368.39,1404.68 1395.54,1378.86 1422.7,1348.2 1449.85,1313.61 1477.01,1275.99 1504.16,1236.21 1531.32,1195.04 1558.47,1153.15 1585.63,1111.07 1612.78,1069.18 1639.94,1027.73 1667.09,986.819 1694.25,946.436 1721.4,906.45 1748.56,866.649 1775.71,826.751 1802.87,786.437 1830.02,745.37 1857.18,703.225 1884.33,659.72 1911.49,614.641 1938.64,567.873 1965.8,519.435 1992.95,469.503 2020.11,418.445 2047.26,366.84 2074.42,315.504 2101.57,265.501 2128.73,218.15 2155.88,175.027 2183.04,137.967 2210.19,109.129 2237.35,91.2684 2264.5,87.9763 2291.66,90.6894 \"/>\n",
       "<polyline clip-path=\"url(#clip642)\" style=\"stroke:#e26f46; stroke-linecap:round; stroke-linejoin:round; stroke-width:4; stroke-opacity:1; fill:none\" points=\"255.035,813.642 282.19,816.737 309.345,815.616 336.5,803.134 363.655,784.387 390.81,762.935 417.964,741.384 445.119,721.717 472.274,705.401 499.429,693.446 526.584,686.458 553.739,684.704 580.894,688.174 608.049,696.634 635.204,709.683 662.359,726.796 689.514,747.357 716.669,770.693 743.824,796.093 770.979,822.822 798.134,850.138 825.289,877.293 852.444,903.544 879.599,928.157 906.754,950.413 933.909,969.622 961.064,985.129 988.219,996.34 1015.37,1002.74 1042.53,1003.9 1069.68,999.565 1096.84,989.602 1123.99,974.094 1151.15,953.335 1178.3,927.847 1205.46,898.382 1232.61,865.9 1259.77,831.527 1286.92,796.503 1314.08,762.103 1341.23,729.567 1368.39,700.026 1395.54,674.444 1422.7,653.576 1449.85,637.95 1477.01,627.865 1504.16,623.402 1531.32,624.451 1558.47,630.735 1585.63,641.843 1612.78,657.26 1639.94,676.39 1667.09,698.582 1694.25,723.146 1721.4,749.364 1748.56,776.503 1775.71,803.822 1802.87,830.573 1830.02,856.014 1857.18,879.413 1884.33,900.058 1911.49,917.278 1938.64,930.458 1965.8,939.071 1992.95,942.713 2020.11,941.151 2047.26,934.369 2074.42,922.628 2101.57,906.527 2128.73,887.064 2155.88,865.693 2183.04,844.383 2210.19,825.719 2237.35,813.231 2264.5,811.956 2291.66,814.928 \"/>\n",
       "<path clip-path=\"url(#clip640)\" d=\"M2012.48 1438.47 L2280.8 1438.47 L2280.8 1282.95 L2012.48 1282.95  Z\" fill=\"#ffffff\" fill-rule=\"evenodd\" fill-opacity=\"1\"/>\n",
       "<polyline clip-path=\"url(#clip640)\" style=\"stroke:#000000; stroke-linecap:round; stroke-linejoin:round; stroke-width:4; stroke-opacity:1; fill:none\" points=\"2012.48,1438.47 2280.8,1438.47 2280.8,1282.95 2012.48,1282.95 2012.48,1438.47 \"/>\n",
       "<polyline clip-path=\"url(#clip640)\" style=\"stroke:#009af9; stroke-linecap:round; stroke-linejoin:round; stroke-width:4; stroke-opacity:1; fill:none\" points=\"2036.47,1334.79 2180.39,1334.79 \"/>\n",
       "<path clip-path=\"url(#clip640)\" d=\"M2218.22 1354.48 Q2216.42 1359.11 2214.7 1360.52 Q2212.99 1361.94 2210.12 1361.94 L2206.72 1361.94 L2206.72 1358.37 L2209.22 1358.37 Q2210.98 1358.37 2211.95 1357.54 Q2212.92 1356.7 2214.1 1353.6 L2214.86 1351.66 L2204.38 1326.15 L2208.89 1326.15 L2216.99 1346.43 L2225.1 1326.15 L2229.61 1326.15 L2218.22 1354.48 Z\" fill=\"#000000\" fill-rule=\"nonzero\" fill-opacity=\"1\" /><path clip-path=\"url(#clip640)\" d=\"M2236.9 1348.14 L2244.54 1348.14 L2244.54 1321.77 L2236.23 1323.44 L2236.23 1319.18 L2244.49 1317.51 L2249.17 1317.51 L2249.17 1348.14 L2256.81 1348.14 L2256.81 1352.07 L2236.9 1352.07 L2236.9 1348.14 Z\" fill=\"#000000\" fill-rule=\"nonzero\" fill-opacity=\"1\" /><polyline clip-path=\"url(#clip640)\" style=\"stroke:#e26f46; stroke-linecap:round; stroke-linejoin:round; stroke-width:4; stroke-opacity:1; fill:none\" points=\"2036.47,1386.63 2180.39,1386.63 \"/>\n",
       "<path clip-path=\"url(#clip640)\" d=\"M2218.22 1406.32 Q2216.42 1410.95 2214.7 1412.36 Q2212.99 1413.78 2210.12 1413.78 L2206.72 1413.78 L2206.72 1410.21 L2209.22 1410.21 Q2210.98 1410.21 2211.95 1409.38 Q2212.92 1408.54 2214.1 1405.44 L2214.86 1403.5 L2204.38 1377.99 L2208.89 1377.99 L2216.99 1398.27 L2225.1 1377.99 L2229.61 1377.99 L2218.22 1406.32 Z\" fill=\"#000000\" fill-rule=\"nonzero\" fill-opacity=\"1\" /><path clip-path=\"url(#clip640)\" d=\"M2240.12 1399.98 L2256.44 1399.98 L2256.44 1403.91 L2234.49 1403.91 L2234.49 1399.98 Q2237.16 1397.22 2241.74 1392.6 Q2246.35 1387.94 2247.53 1386.6 Q2249.77 1384.08 2250.65 1382.34 Q2251.55 1380.58 2251.55 1378.89 Q2251.55 1376.14 2249.61 1374.4 Q2247.69 1372.66 2244.59 1372.66 Q2242.39 1372.66 2239.93 1373.43 Q2237.5 1374.19 2234.73 1375.74 L2234.73 1371.02 Q2237.55 1369.89 2240 1369.31 Q2242.46 1368.73 2244.49 1368.73 Q2249.86 1368.73 2253.06 1371.41 Q2256.25 1374.1 2256.25 1378.59 Q2256.25 1380.72 2255.44 1382.64 Q2254.66 1384.54 2252.55 1387.13 Q2251.97 1387.8 2248.87 1391.02 Q2245.77 1394.22 2240.12 1399.98 Z\" fill=\"#000000\" fill-rule=\"nonzero\" fill-opacity=\"1\" /></svg>\n"
      ]
     },
     "execution_count": 51,
     "metadata": {},
     "output_type": "execute_result"
    }
   ],
   "source": [
    "plot(thist,Xm[1,:])\n",
    "plot!(thist,Xm[2,:])"
   ]
  },
  {
   "cell_type": "code",
   "execution_count": 52,
   "metadata": {},
   "outputs": [
    {
     "data": {
      "image/svg+xml": [
       "<?xml version=\"1.0\" encoding=\"utf-8\"?>\n",
       "<svg xmlns=\"http://www.w3.org/2000/svg\" xmlns:xlink=\"http://www.w3.org/1999/xlink\" width=\"600\" height=\"400\" viewBox=\"0 0 2400 1600\">\n",
       "<defs>\n",
       "  <clipPath id=\"clip680\">\n",
       "    <rect x=\"0\" y=\"0\" width=\"2400\" height=\"1600\"/>\n",
       "  </clipPath>\n",
       "</defs>\n",
       "<path clip-path=\"url(#clip680)\" d=\"M0 1600 L2400 1600 L2400 0 L0 0  Z\" fill=\"#ffffff\" fill-rule=\"evenodd\" fill-opacity=\"1\"/>\n",
       "<defs>\n",
       "  <clipPath id=\"clip681\">\n",
       "    <rect x=\"480\" y=\"0\" width=\"1681\" height=\"1600\"/>\n",
       "  </clipPath>\n",
       "</defs>\n",
       "<path clip-path=\"url(#clip680)\" d=\"M147.478 1486.45 L2352.76 1486.45 L2352.76 47.2441 L147.478 47.2441  Z\" fill=\"#ffffff\" fill-rule=\"evenodd\" fill-opacity=\"1\"/>\n",
       "<defs>\n",
       "  <clipPath id=\"clip682\">\n",
       "    <rect x=\"147\" y=\"47\" width=\"2206\" height=\"1440\"/>\n",
       "  </clipPath>\n",
       "</defs>\n",
       "<polyline clip-path=\"url(#clip682)\" style=\"stroke:#000000; stroke-linecap:round; stroke-linejoin:round; stroke-width:2; stroke-opacity:0.1; fill:none\" points=\"255.263,1486.45 255.263,47.2441 \"/>\n",
       "<polyline clip-path=\"url(#clip682)\" style=\"stroke:#000000; stroke-linecap:round; stroke-linejoin:round; stroke-width:2; stroke-opacity:0.1; fill:none\" points=\"562.98,1486.45 562.98,47.2441 \"/>\n",
       "<polyline clip-path=\"url(#clip682)\" style=\"stroke:#000000; stroke-linecap:round; stroke-linejoin:round; stroke-width:2; stroke-opacity:0.1; fill:none\" points=\"870.696,1486.45 870.696,47.2441 \"/>\n",
       "<polyline clip-path=\"url(#clip682)\" style=\"stroke:#000000; stroke-linecap:round; stroke-linejoin:round; stroke-width:2; stroke-opacity:0.1; fill:none\" points=\"1178.41,1486.45 1178.41,47.2441 \"/>\n",
       "<polyline clip-path=\"url(#clip682)\" style=\"stroke:#000000; stroke-linecap:round; stroke-linejoin:round; stroke-width:2; stroke-opacity:0.1; fill:none\" points=\"1486.13,1486.45 1486.13,47.2441 \"/>\n",
       "<polyline clip-path=\"url(#clip682)\" style=\"stroke:#000000; stroke-linecap:round; stroke-linejoin:round; stroke-width:2; stroke-opacity:0.1; fill:none\" points=\"1793.84,1486.45 1793.84,47.2441 \"/>\n",
       "<polyline clip-path=\"url(#clip682)\" style=\"stroke:#000000; stroke-linecap:round; stroke-linejoin:round; stroke-width:2; stroke-opacity:0.1; fill:none\" points=\"2101.56,1486.45 2101.56,47.2441 \"/>\n",
       "<polyline clip-path=\"url(#clip680)\" style=\"stroke:#000000; stroke-linecap:round; stroke-linejoin:round; stroke-width:4; stroke-opacity:1; fill:none\" points=\"147.478,1486.45 2352.76,1486.45 \"/>\n",
       "<polyline clip-path=\"url(#clip680)\" style=\"stroke:#000000; stroke-linecap:round; stroke-linejoin:round; stroke-width:4; stroke-opacity:1; fill:none\" points=\"255.263,1486.45 255.263,1467.55 \"/>\n",
       "<polyline clip-path=\"url(#clip680)\" style=\"stroke:#000000; stroke-linecap:round; stroke-linejoin:round; stroke-width:4; stroke-opacity:1; fill:none\" points=\"562.98,1486.45 562.98,1467.55 \"/>\n",
       "<polyline clip-path=\"url(#clip680)\" style=\"stroke:#000000; stroke-linecap:round; stroke-linejoin:round; stroke-width:4; stroke-opacity:1; fill:none\" points=\"870.696,1486.45 870.696,1467.55 \"/>\n",
       "<polyline clip-path=\"url(#clip680)\" style=\"stroke:#000000; stroke-linecap:round; stroke-linejoin:round; stroke-width:4; stroke-opacity:1; fill:none\" points=\"1178.41,1486.45 1178.41,1467.55 \"/>\n",
       "<polyline clip-path=\"url(#clip680)\" style=\"stroke:#000000; stroke-linecap:round; stroke-linejoin:round; stroke-width:4; stroke-opacity:1; fill:none\" points=\"1486.13,1486.45 1486.13,1467.55 \"/>\n",
       "<polyline clip-path=\"url(#clip680)\" style=\"stroke:#000000; stroke-linecap:round; stroke-linejoin:round; stroke-width:4; stroke-opacity:1; fill:none\" points=\"1793.84,1486.45 1793.84,1467.55 \"/>\n",
       "<polyline clip-path=\"url(#clip680)\" style=\"stroke:#000000; stroke-linecap:round; stroke-linejoin:round; stroke-width:4; stroke-opacity:1; fill:none\" points=\"2101.56,1486.45 2101.56,1467.55 \"/>\n",
       "<path clip-path=\"url(#clip680)\" d=\"M202.289 1532.02 L231.965 1532.02 L231.965 1535.95 L202.289 1535.95 L202.289 1532.02 Z\" fill=\"#000000\" fill-rule=\"nonzero\" fill-opacity=\"1\" /><path clip-path=\"url(#clip680)\" d=\"M240.877 1514.29 L263.099 1514.29 L263.099 1516.28 L250.553 1548.85 L245.668 1548.85 L257.474 1518.22 L240.877 1518.22 L240.877 1514.29 Z\" fill=\"#000000\" fill-rule=\"nonzero\" fill-opacity=\"1\" /><path clip-path=\"url(#clip680)\" d=\"M272.219 1542.97 L277.103 1542.97 L277.103 1548.85 L272.219 1548.85 L272.219 1542.97 Z\" fill=\"#000000\" fill-rule=\"nonzero\" fill-opacity=\"1\" /><path clip-path=\"url(#clip680)\" d=\"M287.335 1514.29 L305.691 1514.29 L305.691 1518.22 L291.617 1518.22 L291.617 1526.7 Q292.636 1526.35 293.654 1526.19 Q294.673 1526 295.691 1526 Q301.478 1526 304.858 1529.17 Q308.238 1532.34 308.238 1537.76 Q308.238 1543.34 304.765 1546.44 Q301.293 1549.52 294.974 1549.52 Q292.798 1549.52 290.529 1549.15 Q288.284 1548.78 285.877 1548.04 L285.877 1543.34 Q287.96 1544.47 290.182 1545.03 Q292.404 1545.58 294.881 1545.58 Q298.886 1545.58 301.224 1543.48 Q303.562 1541.37 303.562 1537.76 Q303.562 1534.15 301.224 1532.04 Q298.886 1529.94 294.881 1529.94 Q293.006 1529.94 291.131 1530.35 Q289.279 1530.77 287.335 1531.65 L287.335 1514.29 Z\" fill=\"#000000\" fill-rule=\"nonzero\" fill-opacity=\"1\" /><path clip-path=\"url(#clip680)\" d=\"M509.508 1532.02 L539.183 1532.02 L539.183 1535.95 L509.508 1535.95 L509.508 1532.02 Z\" fill=\"#000000\" fill-rule=\"nonzero\" fill-opacity=\"1\" /><path clip-path=\"url(#clip680)\" d=\"M549.322 1514.29 L567.679 1514.29 L567.679 1518.22 L553.605 1518.22 L553.605 1526.7 Q554.623 1526.35 555.642 1526.19 Q556.66 1526 557.679 1526 Q563.466 1526 566.845 1529.17 Q570.225 1532.34 570.225 1537.76 Q570.225 1543.34 566.753 1546.44 Q563.28 1549.52 556.961 1549.52 Q554.785 1549.52 552.517 1549.15 Q550.271 1548.78 547.864 1548.04 L547.864 1543.34 Q549.947 1544.47 552.169 1545.03 Q554.392 1545.58 556.868 1545.58 Q560.873 1545.58 563.211 1543.48 Q565.549 1541.37 565.549 1537.76 Q565.549 1534.15 563.211 1532.04 Q560.873 1529.94 556.868 1529.94 Q554.993 1529.94 553.118 1530.35 Q551.267 1530.77 549.322 1531.65 L549.322 1514.29 Z\" fill=\"#000000\" fill-rule=\"nonzero\" fill-opacity=\"1\" /><path clip-path=\"url(#clip680)\" d=\"M579.438 1542.97 L584.322 1542.97 L584.322 1548.85 L579.438 1548.85 L579.438 1542.97 Z\" fill=\"#000000\" fill-rule=\"nonzero\" fill-opacity=\"1\" /><path clip-path=\"url(#clip680)\" d=\"M604.507 1517.37 Q600.896 1517.37 599.067 1520.93 Q597.262 1524.47 597.262 1531.6 Q597.262 1538.71 599.067 1542.27 Q600.896 1545.82 604.507 1545.82 Q608.141 1545.82 609.947 1542.27 Q611.776 1538.71 611.776 1531.6 Q611.776 1524.47 609.947 1520.93 Q608.141 1517.37 604.507 1517.37 M604.507 1513.66 Q610.317 1513.66 613.373 1518.27 Q616.451 1522.85 616.451 1531.6 Q616.451 1540.33 613.373 1544.94 Q610.317 1549.52 604.507 1549.52 Q598.697 1549.52 595.618 1544.94 Q592.563 1540.33 592.563 1531.6 Q592.563 1522.85 595.618 1518.27 Q598.697 1513.66 604.507 1513.66 Z\" fill=\"#000000\" fill-rule=\"nonzero\" fill-opacity=\"1\" /><path clip-path=\"url(#clip680)\" d=\"M817.721 1532.02 L847.397 1532.02 L847.397 1535.95 L817.721 1535.95 L817.721 1532.02 Z\" fill=\"#000000\" fill-rule=\"nonzero\" fill-opacity=\"1\" /><path clip-path=\"url(#clip680)\" d=\"M861.518 1544.91 L877.837 1544.91 L877.837 1548.85 L855.893 1548.85 L855.893 1544.91 Q858.555 1542.16 863.138 1537.53 Q867.744 1532.88 868.925 1531.53 Q871.17 1529.01 872.05 1527.27 Q872.953 1525.51 872.953 1523.82 Q872.953 1521.07 871.008 1519.33 Q869.087 1517.6 865.985 1517.6 Q863.786 1517.6 861.332 1518.36 Q858.902 1519.13 856.124 1520.68 L856.124 1515.95 Q858.948 1514.82 861.402 1514.24 Q863.856 1513.66 865.893 1513.66 Q871.263 1513.66 874.457 1516.35 Q877.652 1519.03 877.652 1523.52 Q877.652 1525.65 876.842 1527.57 Q876.055 1529.47 873.948 1532.07 Q873.369 1532.74 870.268 1535.95 Q867.166 1539.15 861.518 1544.91 Z\" fill=\"#000000\" fill-rule=\"nonzero\" fill-opacity=\"1\" /><path clip-path=\"url(#clip680)\" d=\"M887.652 1542.97 L892.536 1542.97 L892.536 1548.85 L887.652 1548.85 L887.652 1542.97 Z\" fill=\"#000000\" fill-rule=\"nonzero\" fill-opacity=\"1\" /><path clip-path=\"url(#clip680)\" d=\"M902.767 1514.29 L921.124 1514.29 L921.124 1518.22 L907.05 1518.22 L907.05 1526.7 Q908.068 1526.35 909.087 1526.19 Q910.105 1526 911.124 1526 Q916.911 1526 920.29 1529.17 Q923.67 1532.34 923.67 1537.76 Q923.67 1543.34 920.198 1546.44 Q916.726 1549.52 910.406 1549.52 Q908.23 1549.52 905.962 1549.15 Q903.716 1548.78 901.309 1548.04 L901.309 1543.34 Q903.392 1544.47 905.615 1545.03 Q907.837 1545.58 910.314 1545.58 Q914.318 1545.58 916.656 1543.48 Q918.994 1541.37 918.994 1537.76 Q918.994 1534.15 916.656 1532.04 Q914.318 1529.94 910.314 1529.94 Q908.439 1529.94 906.564 1530.35 Q904.712 1530.77 902.767 1531.65 L902.767 1514.29 Z\" fill=\"#000000\" fill-rule=\"nonzero\" fill-opacity=\"1\" /><path clip-path=\"url(#clip680)\" d=\"M1155.8 1517.37 Q1152.19 1517.37 1150.36 1520.93 Q1148.55 1524.47 1148.55 1531.6 Q1148.55 1538.71 1150.36 1542.27 Q1152.19 1545.82 1155.8 1545.82 Q1159.43 1545.82 1161.24 1542.27 Q1163.06 1538.71 1163.06 1531.6 Q1163.06 1524.47 1161.24 1520.93 Q1159.43 1517.37 1155.8 1517.37 M1155.8 1513.66 Q1161.61 1513.66 1164.66 1518.27 Q1167.74 1522.85 1167.74 1531.6 Q1167.74 1540.33 1164.66 1544.94 Q1161.61 1549.52 1155.8 1549.52 Q1149.99 1549.52 1146.91 1544.94 Q1143.85 1540.33 1143.85 1531.6 Q1143.85 1522.85 1146.91 1518.27 Q1149.99 1513.66 1155.8 1513.66 Z\" fill=\"#000000\" fill-rule=\"nonzero\" fill-opacity=\"1\" /><path clip-path=\"url(#clip680)\" d=\"M1175.96 1542.97 L1180.84 1542.97 L1180.84 1548.85 L1175.96 1548.85 L1175.96 1542.97 Z\" fill=\"#000000\" fill-rule=\"nonzero\" fill-opacity=\"1\" /><path clip-path=\"url(#clip680)\" d=\"M1201.03 1517.37 Q1197.42 1517.37 1195.59 1520.93 Q1193.78 1524.47 1193.78 1531.6 Q1193.78 1538.71 1195.59 1542.27 Q1197.42 1545.82 1201.03 1545.82 Q1204.66 1545.82 1206.47 1542.27 Q1208.3 1538.71 1208.3 1531.6 Q1208.3 1524.47 1206.47 1520.93 Q1204.66 1517.37 1201.03 1517.37 M1201.03 1513.66 Q1206.84 1513.66 1209.89 1518.27 Q1212.97 1522.85 1212.97 1531.6 Q1212.97 1540.33 1209.89 1544.94 Q1206.84 1549.52 1201.03 1549.52 Q1195.22 1549.52 1192.14 1544.94 Q1189.08 1540.33 1189.08 1531.6 Q1189.08 1522.85 1192.14 1518.27 Q1195.22 1513.66 1201.03 1513.66 Z\" fill=\"#000000\" fill-rule=\"nonzero\" fill-opacity=\"1\" /><path clip-path=\"url(#clip680)\" d=\"M1457.86 1544.91 L1474.18 1544.91 L1474.18 1548.85 L1452.24 1548.85 L1452.24 1544.91 Q1454.9 1542.16 1459.48 1537.53 Q1464.09 1532.88 1465.27 1531.53 Q1467.52 1529.01 1468.4 1527.27 Q1469.3 1525.51 1469.3 1523.82 Q1469.3 1521.07 1467.36 1519.33 Q1465.43 1517.6 1462.33 1517.6 Q1460.13 1517.6 1457.68 1518.36 Q1455.25 1519.13 1452.47 1520.68 L1452.47 1515.95 Q1455.3 1514.82 1457.75 1514.24 Q1460.2 1513.66 1462.24 1513.66 Q1467.61 1513.66 1470.8 1516.35 Q1474 1519.03 1474 1523.52 Q1474 1525.65 1473.19 1527.57 Q1472.4 1529.47 1470.29 1532.07 Q1469.72 1532.74 1466.61 1535.95 Q1463.51 1539.15 1457.86 1544.91 Z\" fill=\"#000000\" fill-rule=\"nonzero\" fill-opacity=\"1\" /><path clip-path=\"url(#clip680)\" d=\"M1484 1542.97 L1488.88 1542.97 L1488.88 1548.85 L1484 1548.85 L1484 1542.97 Z\" fill=\"#000000\" fill-rule=\"nonzero\" fill-opacity=\"1\" /><path clip-path=\"url(#clip680)\" d=\"M1499.11 1514.29 L1517.47 1514.29 L1517.47 1518.22 L1503.4 1518.22 L1503.4 1526.7 Q1504.42 1526.35 1505.43 1526.19 Q1506.45 1526 1507.47 1526 Q1513.26 1526 1516.64 1529.17 Q1520.02 1532.34 1520.02 1537.76 Q1520.02 1543.34 1516.54 1546.44 Q1513.07 1549.52 1506.75 1549.52 Q1504.58 1549.52 1502.31 1549.15 Q1500.06 1548.78 1497.66 1548.04 L1497.66 1543.34 Q1499.74 1544.47 1501.96 1545.03 Q1504.18 1545.58 1506.66 1545.58 Q1510.67 1545.58 1513 1543.48 Q1515.34 1541.37 1515.34 1537.76 Q1515.34 1534.15 1513 1532.04 Q1510.67 1529.94 1506.66 1529.94 Q1504.79 1529.94 1502.91 1530.35 Q1501.06 1530.77 1499.11 1531.65 L1499.11 1514.29 Z\" fill=\"#000000\" fill-rule=\"nonzero\" fill-opacity=\"1\" /><path clip-path=\"url(#clip680)\" d=\"M1761.01 1514.29 L1779.37 1514.29 L1779.37 1518.22 L1765.29 1518.22 L1765.29 1526.7 Q1766.31 1526.35 1767.33 1526.19 Q1768.35 1526 1769.37 1526 Q1775.15 1526 1778.53 1529.17 Q1781.91 1532.34 1781.91 1537.76 Q1781.91 1543.34 1778.44 1546.44 Q1774.97 1549.52 1768.65 1549.52 Q1766.47 1549.52 1764.2 1549.15 Q1761.96 1548.78 1759.55 1548.04 L1759.55 1543.34 Q1761.63 1544.47 1763.86 1545.03 Q1766.08 1545.58 1768.56 1545.58 Q1772.56 1545.58 1774.9 1543.48 Q1777.24 1541.37 1777.24 1537.76 Q1777.24 1534.15 1774.9 1532.04 Q1772.56 1529.94 1768.56 1529.94 Q1766.68 1529.94 1764.81 1530.35 Q1762.95 1530.77 1761.01 1531.65 L1761.01 1514.29 Z\" fill=\"#000000\" fill-rule=\"nonzero\" fill-opacity=\"1\" /><path clip-path=\"url(#clip680)\" d=\"M1791.12 1542.97 L1796.01 1542.97 L1796.01 1548.85 L1791.12 1548.85 L1791.12 1542.97 Z\" fill=\"#000000\" fill-rule=\"nonzero\" fill-opacity=\"1\" /><path clip-path=\"url(#clip680)\" d=\"M1816.19 1517.37 Q1812.58 1517.37 1810.75 1520.93 Q1808.95 1524.47 1808.95 1531.6 Q1808.95 1538.71 1810.75 1542.27 Q1812.58 1545.82 1816.19 1545.82 Q1819.83 1545.82 1821.63 1542.27 Q1823.46 1538.71 1823.46 1531.6 Q1823.46 1524.47 1821.63 1520.93 Q1819.83 1517.37 1816.19 1517.37 M1816.19 1513.66 Q1822 1513.66 1825.06 1518.27 Q1828.14 1522.85 1828.14 1531.6 Q1828.14 1540.33 1825.06 1544.94 Q1822 1549.52 1816.19 1549.52 Q1810.38 1549.52 1807.3 1544.94 Q1804.25 1540.33 1804.25 1531.6 Q1804.25 1522.85 1807.3 1518.27 Q1810.38 1513.66 1816.19 1513.66 Z\" fill=\"#000000\" fill-rule=\"nonzero\" fill-opacity=\"1\" /><path clip-path=\"url(#clip680)\" d=\"M2067.88 1514.29 L2090.1 1514.29 L2090.1 1516.28 L2077.56 1548.85 L2072.67 1548.85 L2084.48 1518.22 L2067.88 1518.22 L2067.88 1514.29 Z\" fill=\"#000000\" fill-rule=\"nonzero\" fill-opacity=\"1\" /><path clip-path=\"url(#clip680)\" d=\"M2099.22 1542.97 L2104.11 1542.97 L2104.11 1548.85 L2099.22 1548.85 L2099.22 1542.97 Z\" fill=\"#000000\" fill-rule=\"nonzero\" fill-opacity=\"1\" /><path clip-path=\"url(#clip680)\" d=\"M2114.34 1514.29 L2132.69 1514.29 L2132.69 1518.22 L2118.62 1518.22 L2118.62 1526.7 Q2119.64 1526.35 2120.66 1526.19 Q2121.68 1526 2122.69 1526 Q2128.48 1526 2131.86 1529.17 Q2135.24 1532.34 2135.24 1537.76 Q2135.24 1543.34 2131.77 1546.44 Q2128.3 1549.52 2121.98 1549.52 Q2119.8 1549.52 2117.53 1549.15 Q2115.29 1548.78 2112.88 1548.04 L2112.88 1543.34 Q2114.96 1544.47 2117.19 1545.03 Q2119.41 1545.58 2121.88 1545.58 Q2125.89 1545.58 2128.23 1543.48 Q2130.57 1541.37 2130.57 1537.76 Q2130.57 1534.15 2128.23 1532.04 Q2125.89 1529.94 2121.88 1529.94 Q2120.01 1529.94 2118.13 1530.35 Q2116.28 1530.77 2114.34 1531.65 L2114.34 1514.29 Z\" fill=\"#000000\" fill-rule=\"nonzero\" fill-opacity=\"1\" /><polyline clip-path=\"url(#clip682)\" style=\"stroke:#000000; stroke-linecap:round; stroke-linejoin:round; stroke-width:2; stroke-opacity:0.1; fill:none\" points=\"147.478,1340.07 2352.76,1340.07 \"/>\n",
       "<polyline clip-path=\"url(#clip682)\" style=\"stroke:#000000; stroke-linecap:round; stroke-linejoin:round; stroke-width:2; stroke-opacity:0.1; fill:none\" points=\"147.478,1053.44 2352.76,1053.44 \"/>\n",
       "<polyline clip-path=\"url(#clip682)\" style=\"stroke:#000000; stroke-linecap:round; stroke-linejoin:round; stroke-width:2; stroke-opacity:0.1; fill:none\" points=\"147.478,766.805 2352.76,766.805 \"/>\n",
       "<polyline clip-path=\"url(#clip682)\" style=\"stroke:#000000; stroke-linecap:round; stroke-linejoin:round; stroke-width:2; stroke-opacity:0.1; fill:none\" points=\"147.478,480.17 2352.76,480.17 \"/>\n",
       "<polyline clip-path=\"url(#clip682)\" style=\"stroke:#000000; stroke-linecap:round; stroke-linejoin:round; stroke-width:2; stroke-opacity:0.1; fill:none\" points=\"147.478,193.535 2352.76,193.535 \"/>\n",
       "<polyline clip-path=\"url(#clip680)\" style=\"stroke:#000000; stroke-linecap:round; stroke-linejoin:round; stroke-width:4; stroke-opacity:1; fill:none\" points=\"147.478,1486.45 147.478,47.2441 \"/>\n",
       "<polyline clip-path=\"url(#clip680)\" style=\"stroke:#000000; stroke-linecap:round; stroke-linejoin:round; stroke-width:4; stroke-opacity:1; fill:none\" points=\"147.478,1340.07 166.376,1340.07 \"/>\n",
       "<polyline clip-path=\"url(#clip680)\" style=\"stroke:#000000; stroke-linecap:round; stroke-linejoin:round; stroke-width:4; stroke-opacity:1; fill:none\" points=\"147.478,1053.44 166.376,1053.44 \"/>\n",
       "<polyline clip-path=\"url(#clip680)\" style=\"stroke:#000000; stroke-linecap:round; stroke-linejoin:round; stroke-width:4; stroke-opacity:1; fill:none\" points=\"147.478,766.805 166.376,766.805 \"/>\n",
       "<polyline clip-path=\"url(#clip680)\" style=\"stroke:#000000; stroke-linecap:round; stroke-linejoin:round; stroke-width:4; stroke-opacity:1; fill:none\" points=\"147.478,480.17 166.376,480.17 \"/>\n",
       "<polyline clip-path=\"url(#clip680)\" style=\"stroke:#000000; stroke-linecap:round; stroke-linejoin:round; stroke-width:4; stroke-opacity:1; fill:none\" points=\"147.478,193.535 166.376,193.535 \"/>\n",
       "<path clip-path=\"url(#clip680)\" d=\"M51.3625 1340.53 L81.0383 1340.53 L81.0383 1344.46 L51.3625 1344.46 L51.3625 1340.53 Z\" fill=\"#000000\" fill-rule=\"nonzero\" fill-opacity=\"1\" /><path clip-path=\"url(#clip680)\" d=\"M95.1586 1353.42 L111.478 1353.42 L111.478 1357.35 L89.5336 1357.35 L89.5336 1353.42 Q92.1956 1350.66 96.7789 1346.03 Q101.385 1341.38 102.566 1340.04 Q104.811 1337.52 105.691 1335.78 Q106.594 1334.02 106.594 1332.33 Q106.594 1329.58 104.649 1327.84 Q102.728 1326.1 99.6261 1326.1 Q97.4271 1326.1 94.9734 1326.87 Q92.5428 1327.63 89.7651 1329.18 L89.7651 1324.46 Q92.5891 1323.33 95.0428 1322.75 Q97.4965 1322.17 99.5335 1322.17 Q104.904 1322.17 108.098 1324.85 Q111.293 1327.54 111.293 1332.03 Q111.293 1334.16 110.483 1336.08 Q109.696 1337.98 107.589 1340.57 Q107.01 1341.24 103.909 1344.46 Q100.807 1347.66 95.1586 1353.42 Z\" fill=\"#000000\" fill-rule=\"nonzero\" fill-opacity=\"1\" /><path clip-path=\"url(#clip680)\" d=\"M50.9921 1053.89 L80.6679 1053.89 L80.6679 1057.83 L50.9921 1057.83 L50.9921 1053.89 Z\" fill=\"#000000\" fill-rule=\"nonzero\" fill-opacity=\"1\" /><path clip-path=\"url(#clip680)\" d=\"M91.5706 1066.78 L99.2095 1066.78 L99.2095 1040.42 L90.8993 1042.09 L90.8993 1037.83 L99.1632 1036.16 L103.839 1036.16 L103.839 1066.78 L111.478 1066.78 L111.478 1070.72 L91.5706 1070.72 L91.5706 1066.78 Z\" fill=\"#000000\" fill-rule=\"nonzero\" fill-opacity=\"1\" /><path clip-path=\"url(#clip680)\" d=\"M99.5335 752.603 Q95.9224 752.603 94.0937 756.168 Q92.2882 759.71 92.2882 766.84 Q92.2882 773.946 94.0937 777.511 Q95.9224 781.052 99.5335 781.052 Q103.168 781.052 104.973 777.511 Q106.802 773.946 106.802 766.84 Q106.802 759.71 104.973 756.168 Q103.168 752.603 99.5335 752.603 M99.5335 748.9 Q105.344 748.9 108.399 753.506 Q111.478 758.09 111.478 766.84 Q111.478 775.566 108.399 780.173 Q105.344 784.756 99.5335 784.756 Q93.7234 784.756 90.6447 780.173 Q87.5892 775.566 87.5892 766.84 Q87.5892 758.09 90.6447 753.506 Q93.7234 748.9 99.5335 748.9 Z\" fill=\"#000000\" fill-rule=\"nonzero\" fill-opacity=\"1\" /><path clip-path=\"url(#clip680)\" d=\"M91.5706 493.515 L99.2095 493.515 L99.2095 467.149 L90.8993 468.816 L90.8993 464.557 L99.1632 462.89 L103.839 462.89 L103.839 493.515 L111.478 493.515 L111.478 497.45 L91.5706 497.45 L91.5706 493.515 Z\" fill=\"#000000\" fill-rule=\"nonzero\" fill-opacity=\"1\" /><path clip-path=\"url(#clip680)\" d=\"M95.1586 206.88 L111.478 206.88 L111.478 210.815 L89.5336 210.815 L89.5336 206.88 Q92.1956 204.125 96.7789 199.496 Q101.385 194.843 102.566 193.501 Q104.811 190.977 105.691 189.241 Q106.594 187.482 106.594 185.792 Q106.594 183.038 104.649 181.302 Q102.728 179.565 99.6261 179.565 Q97.4271 179.565 94.9734 180.329 Q92.5428 181.093 89.7651 182.644 L89.7651 177.922 Q92.5891 176.788 95.0428 176.209 Q97.4965 175.63 99.5335 175.63 Q104.904 175.63 108.098 178.315 Q111.293 181.001 111.293 185.491 Q111.293 187.621 110.483 189.542 Q109.696 191.44 107.589 194.033 Q107.01 194.704 103.909 197.922 Q100.807 201.116 95.1586 206.88 Z\" fill=\"#000000\" fill-rule=\"nonzero\" fill-opacity=\"1\" /><polyline clip-path=\"url(#clip682)\" style=\"stroke:#009af9; stroke-linecap:round; stroke-linejoin:round; stroke-width:4; stroke-opacity:1; fill:none\" points=\"2286.19,766.805 2290.34,777.849 2285.27,773.848 2257.97,729.308 2213.9,662.414 2157.26,585.869 2091.33,508.967 2018.92,438.789 1942.43,380.571 1863.88,337.911 1784.9,312.976 1706.74,306.718 1630.3,319.098 1556.12,349.287 1484.49,395.851 1415.44,456.914 1348.8,530.282 1284.24,613.552 1221.33,704.184 1159.58,799.563 1098.47,897.033 1037.5,993.93 976.26,1087.6 914.407,1175.43 851.749,1254.84 788.254,1323.38 724.081,1378.72 659.597,1418.72 595.391,1441.55 532.27,1445.72 471.248,1430.23 413.517,1394.68 360.399,1339.34 313.28,1265.27 273.53,1174.32 242.413,1069.18 220.984,953.276 210.009,830.625 209.891,705.647 220.635,582.898 241.845,466.802 272.763,361.392 312.338,270.107 359.31,195.643 412.312,139.885 469.954,103.899 530.915,87.9763 593.999,91.7193 658.189,114.142 722.672,153.778 786.857,208.788 850.372,277.049 913.054,356.238 974.933,443.888 1036.2,537.442 1097.19,634.284 1158.32,731.763 1220.1,827.219 1283.03,918 1347.6,1001.49 1414.26,1075.16 1483.34,1136.61 1555,1183.64 1629.22,1214.37 1705.73,1227.37 1783.97,1221.8 1863.04,1197.59 1941.7,1155.7 2018.32,1098.25 2090.88,1028.8 2156.96,952.537 2213.74,876.497 2257.93,809.898 2285.3,765.337 2290.34,760.791 2286.19,771.392 \"/>\n",
       "<path clip-path=\"url(#clip680)\" d=\"M2006.29 198.898 L2279.25 198.898 L2279.25 95.2176 L2006.29 95.2176  Z\" fill=\"#ffffff\" fill-rule=\"evenodd\" fill-opacity=\"1\"/>\n",
       "<polyline clip-path=\"url(#clip680)\" style=\"stroke:#000000; stroke-linecap:round; stroke-linejoin:round; stroke-width:4; stroke-opacity:1; fill:none\" points=\"2006.29,198.898 2279.25,198.898 2279.25,95.2176 2006.29,95.2176 2006.29,198.898 \"/>\n",
       "<polyline clip-path=\"url(#clip680)\" style=\"stroke:#009af9; stroke-linecap:round; stroke-linejoin:round; stroke-width:4; stroke-opacity:1; fill:none\" points=\"2030.79,147.058 2177.81,147.058 \"/>\n",
       "<path clip-path=\"url(#clip680)\" d=\"M2216.16 166.745 Q2214.35 171.375 2212.64 172.787 Q2210.92 174.199 2208.05 174.199 L2204.65 174.199 L2204.65 170.634 L2207.15 170.634 Q2208.91 170.634 2209.88 169.8 Q2210.85 168.967 2212.04 165.865 L2212.8 163.921 L2202.31 138.412 L2206.83 138.412 L2214.93 158.689 L2223.03 138.412 L2227.54 138.412 L2216.16 166.745 Z\" fill=\"#000000\" fill-rule=\"nonzero\" fill-opacity=\"1\" /><path clip-path=\"url(#clip680)\" d=\"M2234.84 160.402 L2242.48 160.402 L2242.48 134.037 L2234.16 135.703 L2234.16 131.444 L2242.43 129.778 L2247.1 129.778 L2247.1 160.402 L2254.74 160.402 L2254.74 164.338 L2234.84 164.338 L2234.84 160.402 Z\" fill=\"#000000\" fill-rule=\"nonzero\" fill-opacity=\"1\" /></svg>\n"
      ]
     },
     "execution_count": 52,
     "metadata": {},
     "output_type": "execute_result"
    }
   ],
   "source": [
    "plot(Xm[1,:],Xm[2,:])"
   ]
  },
  {
   "cell_type": "code",
   "execution_count": 53,
   "metadata": {},
   "outputs": [
    {
     "data": {
      "image/svg+xml": [
       "<?xml version=\"1.0\" encoding=\"utf-8\"?>\n",
       "<svg xmlns=\"http://www.w3.org/2000/svg\" xmlns:xlink=\"http://www.w3.org/1999/xlink\" width=\"600\" height=\"400\" viewBox=\"0 0 2400 1600\">\n",
       "<defs>\n",
       "  <clipPath id=\"clip720\">\n",
       "    <rect x=\"0\" y=\"0\" width=\"2400\" height=\"1600\"/>\n",
       "  </clipPath>\n",
       "</defs>\n",
       "<path clip-path=\"url(#clip720)\" d=\"M0 1600 L2400 1600 L2400 0 L0 0  Z\" fill=\"#ffffff\" fill-rule=\"evenodd\" fill-opacity=\"1\"/>\n",
       "<defs>\n",
       "  <clipPath id=\"clip721\">\n",
       "    <rect x=\"480\" y=\"0\" width=\"1681\" height=\"1600\"/>\n",
       "  </clipPath>\n",
       "</defs>\n",
       "<path clip-path=\"url(#clip720)\" d=\"M224.098 1486.45 L2352.76 1486.45 L2352.76 47.2441 L224.098 47.2441  Z\" fill=\"#ffffff\" fill-rule=\"evenodd\" fill-opacity=\"1\"/>\n",
       "<defs>\n",
       "  <clipPath id=\"clip722\">\n",
       "    <rect x=\"224\" y=\"47\" width=\"2130\" height=\"1440\"/>\n",
       "  </clipPath>\n",
       "</defs>\n",
       "<polyline clip-path=\"url(#clip722)\" style=\"stroke:#000000; stroke-linecap:round; stroke-linejoin:round; stroke-width:2; stroke-opacity:0.1; fill:none\" points=\"284.343,1486.45 284.343,47.2441 \"/>\n",
       "<polyline clip-path=\"url(#clip722)\" style=\"stroke:#000000; stroke-linecap:round; stroke-linejoin:round; stroke-width:2; stroke-opacity:0.1; fill:none\" points=\"685.977,1486.45 685.977,47.2441 \"/>\n",
       "<polyline clip-path=\"url(#clip722)\" style=\"stroke:#000000; stroke-linecap:round; stroke-linejoin:round; stroke-width:2; stroke-opacity:0.1; fill:none\" points=\"1087.61,1486.45 1087.61,47.2441 \"/>\n",
       "<polyline clip-path=\"url(#clip722)\" style=\"stroke:#000000; stroke-linecap:round; stroke-linejoin:round; stroke-width:2; stroke-opacity:0.1; fill:none\" points=\"1489.24,1486.45 1489.24,47.2441 \"/>\n",
       "<polyline clip-path=\"url(#clip722)\" style=\"stroke:#000000; stroke-linecap:round; stroke-linejoin:round; stroke-width:2; stroke-opacity:0.1; fill:none\" points=\"1890.88,1486.45 1890.88,47.2441 \"/>\n",
       "<polyline clip-path=\"url(#clip722)\" style=\"stroke:#000000; stroke-linecap:round; stroke-linejoin:round; stroke-width:2; stroke-opacity:0.1; fill:none\" points=\"2292.51,1486.45 2292.51,47.2441 \"/>\n",
       "<polyline clip-path=\"url(#clip720)\" style=\"stroke:#000000; stroke-linecap:round; stroke-linejoin:round; stroke-width:4; stroke-opacity:1; fill:none\" points=\"224.098,1486.45 2352.76,1486.45 \"/>\n",
       "<polyline clip-path=\"url(#clip720)\" style=\"stroke:#000000; stroke-linecap:round; stroke-linejoin:round; stroke-width:4; stroke-opacity:1; fill:none\" points=\"284.343,1486.45 284.343,1467.55 \"/>\n",
       "<polyline clip-path=\"url(#clip720)\" style=\"stroke:#000000; stroke-linecap:round; stroke-linejoin:round; stroke-width:4; stroke-opacity:1; fill:none\" points=\"685.977,1486.45 685.977,1467.55 \"/>\n",
       "<polyline clip-path=\"url(#clip720)\" style=\"stroke:#000000; stroke-linecap:round; stroke-linejoin:round; stroke-width:4; stroke-opacity:1; fill:none\" points=\"1087.61,1486.45 1087.61,1467.55 \"/>\n",
       "<polyline clip-path=\"url(#clip720)\" style=\"stroke:#000000; stroke-linecap:round; stroke-linejoin:round; stroke-width:4; stroke-opacity:1; fill:none\" points=\"1489.24,1486.45 1489.24,1467.55 \"/>\n",
       "<polyline clip-path=\"url(#clip720)\" style=\"stroke:#000000; stroke-linecap:round; stroke-linejoin:round; stroke-width:4; stroke-opacity:1; fill:none\" points=\"1890.88,1486.45 1890.88,1467.55 \"/>\n",
       "<polyline clip-path=\"url(#clip720)\" style=\"stroke:#000000; stroke-linecap:round; stroke-linejoin:round; stroke-width:4; stroke-opacity:1; fill:none\" points=\"2292.51,1486.45 2292.51,1467.55 \"/>\n",
       "<path clip-path=\"url(#clip720)\" d=\"M284.343 1517.37 Q280.732 1517.37 278.903 1520.93 Q277.098 1524.47 277.098 1531.6 Q277.098 1538.71 278.903 1542.27 Q280.732 1545.82 284.343 1545.82 Q287.977 1545.82 289.783 1542.27 Q291.611 1538.71 291.611 1531.6 Q291.611 1524.47 289.783 1520.93 Q287.977 1517.37 284.343 1517.37 M284.343 1513.66 Q290.153 1513.66 293.209 1518.27 Q296.287 1522.85 296.287 1531.6 Q296.287 1540.33 293.209 1544.94 Q290.153 1549.52 284.343 1549.52 Q278.533 1549.52 275.454 1544.94 Q272.399 1540.33 272.399 1531.6 Q272.399 1522.85 275.454 1518.27 Q278.533 1513.66 284.343 1513.66 Z\" fill=\"#000000\" fill-rule=\"nonzero\" fill-opacity=\"1\" /><path clip-path=\"url(#clip720)\" d=\"M676.254 1514.29 L694.611 1514.29 L694.611 1518.22 L680.537 1518.22 L680.537 1526.7 Q681.555 1526.35 682.574 1526.19 Q683.592 1526 684.611 1526 Q690.398 1526 693.777 1529.17 Q697.157 1532.34 697.157 1537.76 Q697.157 1543.34 693.685 1546.44 Q690.213 1549.52 683.893 1549.52 Q681.717 1549.52 679.449 1549.15 Q677.203 1548.78 674.796 1548.04 L674.796 1543.34 Q676.879 1544.47 679.102 1545.03 Q681.324 1545.58 683.801 1545.58 Q687.805 1545.58 690.143 1543.48 Q692.481 1541.37 692.481 1537.76 Q692.481 1534.15 690.143 1532.04 Q687.805 1529.94 683.801 1529.94 Q681.926 1529.94 680.051 1530.35 Q678.199 1530.77 676.254 1531.65 L676.254 1514.29 Z\" fill=\"#000000\" fill-rule=\"nonzero\" fill-opacity=\"1\" /><path clip-path=\"url(#clip720)\" d=\"M1062.3 1544.91 L1069.94 1544.91 L1069.94 1518.55 L1061.63 1520.21 L1061.63 1515.95 L1069.89 1514.29 L1074.57 1514.29 L1074.57 1544.91 L1082.21 1544.91 L1082.21 1548.85 L1062.3 1548.85 L1062.3 1544.91 Z\" fill=\"#000000\" fill-rule=\"nonzero\" fill-opacity=\"1\" /><path clip-path=\"url(#clip720)\" d=\"M1101.65 1517.37 Q1098.04 1517.37 1096.21 1520.93 Q1094.4 1524.47 1094.4 1531.6 Q1094.4 1538.71 1096.21 1542.27 Q1098.04 1545.82 1101.65 1545.82 Q1105.28 1545.82 1107.09 1542.27 Q1108.92 1538.71 1108.92 1531.6 Q1108.92 1524.47 1107.09 1520.93 Q1105.28 1517.37 1101.65 1517.37 M1101.65 1513.66 Q1107.46 1513.66 1110.52 1518.27 Q1113.59 1522.85 1113.59 1531.6 Q1113.59 1540.33 1110.52 1544.94 Q1107.46 1549.52 1101.65 1549.52 Q1095.84 1549.52 1092.76 1544.94 Q1089.7 1540.33 1089.7 1531.6 Q1089.7 1522.85 1092.76 1518.27 Q1095.84 1513.66 1101.65 1513.66 Z\" fill=\"#000000\" fill-rule=\"nonzero\" fill-opacity=\"1\" /><path clip-path=\"url(#clip720)\" d=\"M1464.43 1544.91 L1472.07 1544.91 L1472.07 1518.55 L1463.76 1520.21 L1463.76 1515.95 L1472.02 1514.29 L1476.7 1514.29 L1476.7 1544.91 L1484.34 1544.91 L1484.34 1548.85 L1464.43 1548.85 L1464.43 1544.91 Z\" fill=\"#000000\" fill-rule=\"nonzero\" fill-opacity=\"1\" /><path clip-path=\"url(#clip720)\" d=\"M1493.83 1514.29 L1512.18 1514.29 L1512.18 1518.22 L1498.11 1518.22 L1498.11 1526.7 Q1499.13 1526.35 1500.15 1526.19 Q1501.16 1526 1502.18 1526 Q1507.97 1526 1511.35 1529.17 Q1514.73 1532.34 1514.73 1537.76 Q1514.73 1543.34 1511.26 1546.44 Q1507.79 1549.52 1501.47 1549.52 Q1499.29 1549.52 1497.02 1549.15 Q1494.78 1548.78 1492.37 1548.04 L1492.37 1543.34 Q1494.45 1544.47 1496.67 1545.03 Q1498.9 1545.58 1501.37 1545.58 Q1505.38 1545.58 1507.72 1543.48 Q1510.05 1541.37 1510.05 1537.76 Q1510.05 1534.15 1507.72 1532.04 Q1505.38 1529.94 1501.37 1529.94 Q1499.5 1529.94 1497.62 1530.35 Q1495.77 1530.77 1493.83 1531.65 L1493.83 1514.29 Z\" fill=\"#000000\" fill-rule=\"nonzero\" fill-opacity=\"1\" /><path clip-path=\"url(#clip720)\" d=\"M1869.65 1544.91 L1885.97 1544.91 L1885.97 1548.85 L1864.03 1548.85 L1864.03 1544.91 Q1866.69 1542.16 1871.27 1537.53 Q1875.88 1532.88 1877.06 1531.53 Q1879.3 1529.01 1880.18 1527.27 Q1881.09 1525.51 1881.09 1523.82 Q1881.09 1521.07 1879.14 1519.33 Q1877.22 1517.6 1874.12 1517.6 Q1871.92 1517.6 1869.47 1518.36 Q1867.03 1519.13 1864.26 1520.68 L1864.26 1515.95 Q1867.08 1514.82 1869.53 1514.24 Q1871.99 1513.66 1874.03 1513.66 Q1879.4 1513.66 1882.59 1516.35 Q1885.78 1519.03 1885.78 1523.52 Q1885.78 1525.65 1884.97 1527.57 Q1884.19 1529.47 1882.08 1532.07 Q1881.5 1532.74 1878.4 1535.95 Q1875.3 1539.15 1869.65 1544.91 Z\" fill=\"#000000\" fill-rule=\"nonzero\" fill-opacity=\"1\" /><path clip-path=\"url(#clip720)\" d=\"M1905.78 1517.37 Q1902.17 1517.37 1900.34 1520.93 Q1898.54 1524.47 1898.54 1531.6 Q1898.54 1538.71 1900.34 1542.27 Q1902.17 1545.82 1905.78 1545.82 Q1909.42 1545.82 1911.22 1542.27 Q1913.05 1538.71 1913.05 1531.6 Q1913.05 1524.47 1911.22 1520.93 Q1909.42 1517.37 1905.78 1517.37 M1905.78 1513.66 Q1911.59 1513.66 1914.65 1518.27 Q1917.73 1522.85 1917.73 1531.6 Q1917.73 1540.33 1914.65 1544.94 Q1911.59 1549.52 1905.78 1549.52 Q1899.97 1549.52 1896.9 1544.94 Q1893.84 1540.33 1893.84 1531.6 Q1893.84 1522.85 1896.9 1518.27 Q1899.97 1513.66 1905.78 1513.66 Z\" fill=\"#000000\" fill-rule=\"nonzero\" fill-opacity=\"1\" /><path clip-path=\"url(#clip720)\" d=\"M2271.78 1544.91 L2288.1 1544.91 L2288.1 1548.85 L2266.16 1548.85 L2266.16 1544.91 Q2268.82 1542.16 2273.4 1537.53 Q2278.01 1532.88 2279.19 1531.53 Q2281.43 1529.01 2282.31 1527.27 Q2283.22 1525.51 2283.22 1523.82 Q2283.22 1521.07 2281.27 1519.33 Q2279.35 1517.6 2276.25 1517.6 Q2274.05 1517.6 2271.6 1518.36 Q2269.17 1519.13 2266.39 1520.68 L2266.39 1515.95 Q2269.21 1514.82 2271.67 1514.24 Q2274.12 1513.66 2276.16 1513.66 Q2281.53 1513.66 2284.72 1516.35 Q2287.92 1519.03 2287.92 1523.52 Q2287.92 1525.65 2287.11 1527.57 Q2286.32 1529.47 2284.21 1532.07 Q2283.63 1532.74 2280.53 1535.95 Q2277.43 1539.15 2271.78 1544.91 Z\" fill=\"#000000\" fill-rule=\"nonzero\" fill-opacity=\"1\" /><path clip-path=\"url(#clip720)\" d=\"M2297.96 1514.29 L2316.32 1514.29 L2316.32 1518.22 L2302.24 1518.22 L2302.24 1526.7 Q2303.26 1526.35 2304.28 1526.19 Q2305.3 1526 2306.32 1526 Q2312.11 1526 2315.49 1529.17 Q2318.86 1532.34 2318.86 1537.76 Q2318.86 1543.34 2315.39 1546.44 Q2311.92 1549.52 2305.6 1549.52 Q2303.43 1549.52 2301.16 1549.15 Q2298.91 1548.78 2296.5 1548.04 L2296.5 1543.34 Q2298.59 1544.47 2300.81 1545.03 Q2303.03 1545.58 2305.51 1545.58 Q2309.51 1545.58 2311.85 1543.48 Q2314.19 1541.37 2314.19 1537.76 Q2314.19 1534.15 2311.85 1532.04 Q2309.51 1529.94 2305.51 1529.94 Q2303.63 1529.94 2301.76 1530.35 Q2299.91 1530.77 2297.96 1531.65 L2297.96 1514.29 Z\" fill=\"#000000\" fill-rule=\"nonzero\" fill-opacity=\"1\" /><polyline clip-path=\"url(#clip722)\" style=\"stroke:#000000; stroke-linecap:round; stroke-linejoin:round; stroke-width:2; stroke-opacity:0.1; fill:none\" points=\"224.098,1424.64 2352.76,1424.64 \"/>\n",
       "<polyline clip-path=\"url(#clip722)\" style=\"stroke:#000000; stroke-linecap:round; stroke-linejoin:round; stroke-width:2; stroke-opacity:0.1; fill:none\" points=\"224.098,1088.06 2352.76,1088.06 \"/>\n",
       "<polyline clip-path=\"url(#clip722)\" style=\"stroke:#000000; stroke-linecap:round; stroke-linejoin:round; stroke-width:2; stroke-opacity:0.1; fill:none\" points=\"224.098,751.48 2352.76,751.48 \"/>\n",
       "<polyline clip-path=\"url(#clip722)\" style=\"stroke:#000000; stroke-linecap:round; stroke-linejoin:round; stroke-width:2; stroke-opacity:0.1; fill:none\" points=\"224.098,414.899 2352.76,414.899 \"/>\n",
       "<polyline clip-path=\"url(#clip722)\" style=\"stroke:#000000; stroke-linecap:round; stroke-linejoin:round; stroke-width:2; stroke-opacity:0.1; fill:none\" points=\"224.098,78.3175 2352.76,78.3175 \"/>\n",
       "<polyline clip-path=\"url(#clip720)\" style=\"stroke:#000000; stroke-linecap:round; stroke-linejoin:round; stroke-width:4; stroke-opacity:1; fill:none\" points=\"224.098,1486.45 224.098,47.2441 \"/>\n",
       "<polyline clip-path=\"url(#clip720)\" style=\"stroke:#000000; stroke-linecap:round; stroke-linejoin:round; stroke-width:4; stroke-opacity:1; fill:none\" points=\"224.098,1424.64 242.996,1424.64 \"/>\n",
       "<polyline clip-path=\"url(#clip720)\" style=\"stroke:#000000; stroke-linecap:round; stroke-linejoin:round; stroke-width:4; stroke-opacity:1; fill:none\" points=\"224.098,1088.06 242.996,1088.06 \"/>\n",
       "<polyline clip-path=\"url(#clip720)\" style=\"stroke:#000000; stroke-linecap:round; stroke-linejoin:round; stroke-width:4; stroke-opacity:1; fill:none\" points=\"224.098,751.48 242.996,751.48 \"/>\n",
       "<polyline clip-path=\"url(#clip720)\" style=\"stroke:#000000; stroke-linecap:round; stroke-linejoin:round; stroke-width:4; stroke-opacity:1; fill:none\" points=\"224.098,414.899 242.996,414.899 \"/>\n",
       "<polyline clip-path=\"url(#clip720)\" style=\"stroke:#000000; stroke-linecap:round; stroke-linejoin:round; stroke-width:4; stroke-opacity:1; fill:none\" points=\"224.098,78.3175 242.996,78.3175 \"/>\n",
       "<path clip-path=\"url(#clip720)\" d=\"M50.9921 1425.09 L80.6679 1425.09 L80.6679 1429.03 L50.9921 1429.03 L50.9921 1425.09 Z\" fill=\"#000000\" fill-rule=\"nonzero\" fill-opacity=\"1\" /><path clip-path=\"url(#clip720)\" d=\"M100.76 1410.44 Q97.1493 1410.44 95.3206 1414.01 Q93.515 1417.55 93.515 1424.68 Q93.515 1431.78 95.3206 1435.35 Q97.1493 1438.89 100.76 1438.89 Q104.395 1438.89 106.2 1435.35 Q108.029 1431.78 108.029 1424.68 Q108.029 1417.55 106.2 1414.01 Q104.395 1410.44 100.76 1410.44 M100.76 1406.74 Q106.571 1406.74 109.626 1411.34 Q112.705 1415.93 112.705 1424.68 Q112.705 1433.4 109.626 1438.01 Q106.571 1442.59 100.76 1442.59 Q94.9502 1442.59 91.8715 1438.01 Q88.816 1433.4 88.816 1424.68 Q88.816 1415.93 91.8715 1411.34 Q94.9502 1406.74 100.76 1406.74 Z\" fill=\"#000000\" fill-rule=\"nonzero\" fill-opacity=\"1\" /><path clip-path=\"url(#clip720)\" d=\"M120.922 1436.04 L125.807 1436.04 L125.807 1441.92 L120.922 1441.92 L120.922 1436.04 Z\" fill=\"#000000\" fill-rule=\"nonzero\" fill-opacity=\"1\" /><path clip-path=\"url(#clip720)\" d=\"M136.802 1437.99 L144.441 1437.99 L144.441 1411.62 L136.131 1413.29 L136.131 1409.03 L144.394 1407.36 L149.07 1407.36 L149.07 1437.99 L156.709 1437.99 L156.709 1441.92 L136.802 1441.92 L136.802 1437.99 Z\" fill=\"#000000\" fill-rule=\"nonzero\" fill-opacity=\"1\" /><path clip-path=\"url(#clip720)\" d=\"M176.153 1410.44 Q172.542 1410.44 170.714 1414.01 Q168.908 1417.55 168.908 1424.68 Q168.908 1431.78 170.714 1435.35 Q172.542 1438.89 176.153 1438.89 Q179.788 1438.89 181.593 1435.35 Q183.422 1431.78 183.422 1424.68 Q183.422 1417.55 181.593 1414.01 Q179.788 1410.44 176.153 1410.44 M176.153 1406.74 Q181.964 1406.74 185.019 1411.34 Q188.098 1415.93 188.098 1424.68 Q188.098 1433.4 185.019 1438.01 Q181.964 1442.59 176.153 1442.59 Q170.343 1442.59 167.265 1438.01 Q164.209 1433.4 164.209 1424.68 Q164.209 1415.93 167.265 1411.34 Q170.343 1406.74 176.153 1406.74 Z\" fill=\"#000000\" fill-rule=\"nonzero\" fill-opacity=\"1\" /><path clip-path=\"url(#clip720)\" d=\"M51.9875 1088.51 L81.6633 1088.51 L81.6633 1092.45 L51.9875 1092.45 L51.9875 1088.51 Z\" fill=\"#000000\" fill-rule=\"nonzero\" fill-opacity=\"1\" /><path clip-path=\"url(#clip720)\" d=\"M101.756 1073.86 Q98.1447 1073.86 96.316 1077.42 Q94.5104 1080.97 94.5104 1088.1 Q94.5104 1095.2 96.316 1098.77 Q98.1447 1102.31 101.756 1102.31 Q105.39 1102.31 107.196 1098.77 Q109.024 1095.2 109.024 1088.1 Q109.024 1080.97 107.196 1077.42 Q105.39 1073.86 101.756 1073.86 M101.756 1070.16 Q107.566 1070.16 110.621 1074.76 Q113.7 1079.35 113.7 1088.1 Q113.7 1096.82 110.621 1101.43 Q107.566 1106.01 101.756 1106.01 Q95.9456 1106.01 92.8669 1101.43 Q89.8114 1096.82 89.8114 1088.1 Q89.8114 1079.35 92.8669 1074.76 Q95.9456 1070.16 101.756 1070.16 Z\" fill=\"#000000\" fill-rule=\"nonzero\" fill-opacity=\"1\" /><path clip-path=\"url(#clip720)\" d=\"M121.918 1099.46 L126.802 1099.46 L126.802 1105.34 L121.918 1105.34 L121.918 1099.46 Z\" fill=\"#000000\" fill-rule=\"nonzero\" fill-opacity=\"1\" /><path clip-path=\"url(#clip720)\" d=\"M146.987 1073.86 Q143.376 1073.86 141.547 1077.42 Q139.742 1080.97 139.742 1088.1 Q139.742 1095.2 141.547 1098.77 Q143.376 1102.31 146.987 1102.31 Q150.621 1102.31 152.427 1098.77 Q154.255 1095.2 154.255 1088.1 Q154.255 1080.97 152.427 1077.42 Q150.621 1073.86 146.987 1073.86 M146.987 1070.16 Q152.797 1070.16 155.853 1074.76 Q158.931 1079.35 158.931 1088.1 Q158.931 1096.82 155.853 1101.43 Q152.797 1106.01 146.987 1106.01 Q141.177 1106.01 138.098 1101.43 Q135.043 1096.82 135.043 1088.1 Q135.043 1079.35 138.098 1074.76 Q141.177 1070.16 146.987 1070.16 Z\" fill=\"#000000\" fill-rule=\"nonzero\" fill-opacity=\"1\" /><path clip-path=\"url(#clip720)\" d=\"M167.195 1070.78 L185.552 1070.78 L185.552 1074.72 L171.478 1074.72 L171.478 1083.19 Q172.496 1082.84 173.515 1082.68 Q174.533 1082.49 175.552 1082.49 Q181.339 1082.49 184.718 1085.67 Q188.098 1088.84 188.098 1094.25 Q188.098 1099.83 184.626 1102.93 Q181.153 1106.01 174.834 1106.01 Q172.658 1106.01 170.39 1105.64 Q168.144 1105.27 165.737 1104.53 L165.737 1099.83 Q167.82 1100.97 170.042 1101.52 Q172.265 1102.08 174.741 1102.08 Q178.746 1102.08 181.084 1099.97 Q183.422 1097.86 183.422 1094.25 Q183.422 1090.64 181.084 1088.54 Q178.746 1086.43 174.741 1086.43 Q172.866 1086.43 170.991 1086.85 Q169.14 1087.26 167.195 1088.14 L167.195 1070.78 Z\" fill=\"#000000\" fill-rule=\"nonzero\" fill-opacity=\"1\" /><path clip-path=\"url(#clip720)\" d=\"M100.76 737.279 Q97.1493 737.279 95.3206 740.844 Q93.515 744.385 93.515 751.515 Q93.515 758.621 95.3206 762.186 Q97.1493 765.728 100.76 765.728 Q104.395 765.728 106.2 762.186 Q108.029 758.621 108.029 751.515 Q108.029 744.385 106.2 740.844 Q104.395 737.279 100.76 737.279 M100.76 733.575 Q106.571 733.575 109.626 738.182 Q112.705 742.765 112.705 751.515 Q112.705 760.242 109.626 764.848 Q106.571 769.431 100.76 769.431 Q94.9502 769.431 91.8715 764.848 Q88.816 760.242 88.816 751.515 Q88.816 742.765 91.8715 738.182 Q94.9502 733.575 100.76 733.575 Z\" fill=\"#000000\" fill-rule=\"nonzero\" fill-opacity=\"1\" /><path clip-path=\"url(#clip720)\" d=\"M120.922 762.88 L125.807 762.88 L125.807 768.76 L120.922 768.76 L120.922 762.88 Z\" fill=\"#000000\" fill-rule=\"nonzero\" fill-opacity=\"1\" /><path clip-path=\"url(#clip720)\" d=\"M145.992 737.279 Q142.381 737.279 140.552 740.844 Q138.746 744.385 138.746 751.515 Q138.746 758.621 140.552 762.186 Q142.381 765.728 145.992 765.728 Q149.626 765.728 151.431 762.186 Q153.26 758.621 153.26 751.515 Q153.26 744.385 151.431 740.844 Q149.626 737.279 145.992 737.279 M145.992 733.575 Q151.802 733.575 154.857 738.182 Q157.936 742.765 157.936 751.515 Q157.936 760.242 154.857 764.848 Q151.802 769.431 145.992 769.431 Q140.181 769.431 137.103 764.848 Q134.047 760.242 134.047 751.515 Q134.047 742.765 137.103 738.182 Q140.181 733.575 145.992 733.575 Z\" fill=\"#000000\" fill-rule=\"nonzero\" fill-opacity=\"1\" /><path clip-path=\"url(#clip720)\" d=\"M176.153 737.279 Q172.542 737.279 170.714 740.844 Q168.908 744.385 168.908 751.515 Q168.908 758.621 170.714 762.186 Q172.542 765.728 176.153 765.728 Q179.788 765.728 181.593 762.186 Q183.422 758.621 183.422 751.515 Q183.422 744.385 181.593 740.844 Q179.788 737.279 176.153 737.279 M176.153 733.575 Q181.964 733.575 185.019 738.182 Q188.098 742.765 188.098 751.515 Q188.098 760.242 185.019 764.848 Q181.964 769.431 176.153 769.431 Q170.343 769.431 167.265 764.848 Q164.209 760.242 164.209 751.515 Q164.209 742.765 167.265 738.182 Q170.343 733.575 176.153 733.575 Z\" fill=\"#000000\" fill-rule=\"nonzero\" fill-opacity=\"1\" /><path clip-path=\"url(#clip720)\" d=\"M101.756 400.697 Q98.1447 400.697 96.316 404.262 Q94.5104 407.804 94.5104 414.934 Q94.5104 422.04 96.316 425.605 Q98.1447 429.146 101.756 429.146 Q105.39 429.146 107.196 425.605 Q109.024 422.04 109.024 414.934 Q109.024 407.804 107.196 404.262 Q105.39 400.697 101.756 400.697 M101.756 396.994 Q107.566 396.994 110.621 401.6 Q113.7 406.184 113.7 414.934 Q113.7 423.66 110.621 428.267 Q107.566 432.85 101.756 432.85 Q95.9456 432.85 92.8669 428.267 Q89.8114 423.66 89.8114 414.934 Q89.8114 406.184 92.8669 401.6 Q95.9456 396.994 101.756 396.994 Z\" fill=\"#000000\" fill-rule=\"nonzero\" fill-opacity=\"1\" /><path clip-path=\"url(#clip720)\" d=\"M121.918 426.299 L126.802 426.299 L126.802 432.179 L121.918 432.179 L121.918 426.299 Z\" fill=\"#000000\" fill-rule=\"nonzero\" fill-opacity=\"1\" /><path clip-path=\"url(#clip720)\" d=\"M146.987 400.697 Q143.376 400.697 141.547 404.262 Q139.742 407.804 139.742 414.934 Q139.742 422.04 141.547 425.605 Q143.376 429.146 146.987 429.146 Q150.621 429.146 152.427 425.605 Q154.255 422.04 154.255 414.934 Q154.255 407.804 152.427 404.262 Q150.621 400.697 146.987 400.697 M146.987 396.994 Q152.797 396.994 155.853 401.6 Q158.931 406.184 158.931 414.934 Q158.931 423.66 155.853 428.267 Q152.797 432.85 146.987 432.85 Q141.177 432.85 138.098 428.267 Q135.043 423.66 135.043 414.934 Q135.043 406.184 138.098 401.6 Q141.177 396.994 146.987 396.994 Z\" fill=\"#000000\" fill-rule=\"nonzero\" fill-opacity=\"1\" /><path clip-path=\"url(#clip720)\" d=\"M167.195 397.619 L185.552 397.619 L185.552 401.554 L171.478 401.554 L171.478 410.026 Q172.496 409.679 173.515 409.517 Q174.533 409.332 175.552 409.332 Q181.339 409.332 184.718 412.503 Q188.098 415.674 188.098 421.091 Q188.098 426.67 184.626 429.771 Q181.153 432.85 174.834 432.85 Q172.658 432.85 170.39 432.48 Q168.144 432.109 165.737 431.369 L165.737 426.67 Q167.82 427.804 170.042 428.359 Q172.265 428.915 174.741 428.915 Q178.746 428.915 181.084 426.808 Q183.422 424.702 183.422 421.091 Q183.422 417.48 181.084 415.373 Q178.746 413.267 174.741 413.267 Q172.866 413.267 170.991 413.684 Q169.14 414.1 167.195 414.98 L167.195 397.619 Z\" fill=\"#000000\" fill-rule=\"nonzero\" fill-opacity=\"1\" /><path clip-path=\"url(#clip720)\" d=\"M100.76 64.1162 Q97.1493 64.1162 95.3206 67.681 Q93.515 71.2226 93.515 78.3522 Q93.515 85.4587 95.3206 89.0235 Q97.1493 92.5651 100.76 92.5651 Q104.395 92.5651 106.2 89.0235 Q108.029 85.4587 108.029 78.3522 Q108.029 71.2226 106.2 67.681 Q104.395 64.1162 100.76 64.1162 M100.76 60.4125 Q106.571 60.4125 109.626 65.019 Q112.705 69.6023 112.705 78.3522 Q112.705 87.079 109.626 91.6855 Q106.571 96.2688 100.76 96.2688 Q94.9502 96.2688 91.8715 91.6855 Q88.816 87.079 88.816 78.3522 Q88.816 69.6023 91.8715 65.019 Q94.9502 60.4125 100.76 60.4125 Z\" fill=\"#000000\" fill-rule=\"nonzero\" fill-opacity=\"1\" /><path clip-path=\"url(#clip720)\" d=\"M120.922 89.7179 L125.807 89.7179 L125.807 95.5975 L120.922 95.5975 L120.922 89.7179 Z\" fill=\"#000000\" fill-rule=\"nonzero\" fill-opacity=\"1\" /><path clip-path=\"url(#clip720)\" d=\"M136.802 91.6623 L144.441 91.6623 L144.441 65.2967 L136.131 66.9634 L136.131 62.7042 L144.394 61.0375 L149.07 61.0375 L149.07 91.6623 L156.709 91.6623 L156.709 95.5975 L136.802 95.5975 L136.802 91.6623 Z\" fill=\"#000000\" fill-rule=\"nonzero\" fill-opacity=\"1\" /><path clip-path=\"url(#clip720)\" d=\"M176.153 64.1162 Q172.542 64.1162 170.714 67.681 Q168.908 71.2226 168.908 78.3522 Q168.908 85.4587 170.714 89.0235 Q172.542 92.5651 176.153 92.5651 Q179.788 92.5651 181.593 89.0235 Q183.422 85.4587 183.422 78.3522 Q183.422 71.2226 181.593 67.681 Q179.788 64.1162 176.153 64.1162 M176.153 60.4125 Q181.964 60.4125 185.019 65.019 Q188.098 69.6023 188.098 78.3522 Q188.098 87.079 185.019 91.6855 Q181.964 96.2688 176.153 96.2688 Q170.343 96.2688 167.265 91.6855 Q164.209 87.079 164.209 78.3522 Q164.209 69.6023 167.265 65.019 Q170.343 60.4125 176.153 60.4125 Z\" fill=\"#000000\" fill-rule=\"nonzero\" fill-opacity=\"1\" /><polyline clip-path=\"url(#clip722)\" style=\"stroke:#009af9; stroke-linecap:round; stroke-linejoin:round; stroke-width:4; stroke-opacity:1; fill:none\" points=\"284.343,751.48 311.118,1089.02 337.894,1442.66 364.67,1396.97 391.445,1250.69 418.221,1097.48 444.996,958.25 471.772,837.313 498.547,735.627 525.323,653.237 552.099,589.598 578.874,543.642 605.65,513.852 632.425,498.372 659.201,495.11 685.977,501.841 712.752,516.28 739.528,536.146 766.303,559.2 793.079,583.275 819.854,606.292 846.63,626.282 873.406,641.405 900.181,649.976 926.957,650.511 953.732,641.789 980.508,622.925 1007.28,593.474 1034.06,553.542 1060.83,503.901 1087.61,446.089 1114.39,382.476 1141.16,316.243 1167.94,251.267 1194.71,191.864 1221.49,142.406 1248.26,106.833 1275.04,88.1464 1301.81,87.9763 1328.59,106.336 1355.37,141.621 1382.14,190.85 1408.92,250.096 1435.69,314.993 1462.47,381.223 1489.24,444.899 1516.02,502.828 1542.79,552.624 1569.57,592.733 1596.35,622.367 1623.12,641.408 1649.9,650.291 1676.67,649.891 1703.45,641.424 1730.22,626.372 1757,606.416 1783.77,583.396 1810.55,559.285 1837.33,536.162 1864.1,516.203 1890.88,501.654 1917.65,494.808 1944.43,497.965 1971.2,513.369 1997.98,543.139 2024.76,589.16 2051.53,652.983 2078.31,735.704 2105.08,837.88 2131.86,959.442 2158.63,1099.33 2185.41,1253.06 2212.18,1399.64 2238.96,1445.72 2265.74,1090.96 2292.51,751.48 \"/>\n",
       "<polyline clip-path=\"url(#clip722)\" style=\"stroke:#e26f46; stroke-linecap:round; stroke-linejoin:round; stroke-width:4; stroke-opacity:1; fill:none\" points=\"284.343,751.48 311.118,506.337 337.894,289.116 364.67,409.065 391.445,590.833 418.221,757.951 444.996,894.792 471.772,999.193 498.547,1072.55 525.323,1117.77 552.099,1138.57 578.874,1138.93 605.65,1122.78 632.425,1093.75 659.201,1055.02 685.977,1009.26 712.752,958.632 739.528,904.823 766.303,849.09 793.079,792.364 819.854,735.342 846.63,678.593 873.406,622.667 900.181,568.197 926.957,515.989 953.732,467.096 980.508,422.867 1007.28,384.955 1034.06,355.286 1060.83,335.967 1087.61,329.127 1114.39,336.701 1141.16,360.152 1167.94,400.168 1194.71,456.381 1221.49,527.166 1248.26,609.59 1275.04,699.563 1301.81,792.191 1328.59,882.286 1355.37,964.941 1382.14,1036.04 1408.92,1092.62 1435.69,1133.02 1462.47,1156.85 1489.24,1164.77 1516.02,1158.23 1542.79,1139.17 1569.57,1109.71 1596.35,1071.97 1623.12,1027.87 1649.9,979.082 1676.67,926.959 1703.45,872.564 1730.22,816.711 1757,760.037 1783.77,703.093 1810.55,646.45 1837.33,590.803 1864.1,537.077 1890.88,486.526 1917.65,440.823 1944.43,402.119 1971.2,373.082 1997.98,356.89 2024.76,357.167 2051.53,377.849 2078.31,422.955 2105.08,496.23 2131.86,600.66 2158.63,737.702 2185.41,905.182 2212.18,1087.31 2238.96,1207.82 2265.74,994.054 2292.51,751.48 \"/>\n",
       "<path clip-path=\"url(#clip720)\" d=\"M295.053 250.738 L560.349 250.738 L560.349 95.2176 L295.053 95.2176  Z\" fill=\"#ffffff\" fill-rule=\"evenodd\" fill-opacity=\"1\"/>\n",
       "<polyline clip-path=\"url(#clip720)\" style=\"stroke:#000000; stroke-linecap:round; stroke-linejoin:round; stroke-width:4; stroke-opacity:1; fill:none\" points=\"295.053,250.738 560.349,250.738 560.349,95.2176 295.053,95.2176 295.053,250.738 \"/>\n",
       "<polyline clip-path=\"url(#clip720)\" style=\"stroke:#009af9; stroke-linecap:round; stroke-linejoin:round; stroke-width:4; stroke-opacity:1; fill:none\" points=\"318.705,147.058 460.615,147.058 \"/>\n",
       "<path clip-path=\"url(#clip720)\" d=\"M498.11 166.745 Q496.304 171.375 494.591 172.787 Q492.878 174.199 490.008 174.199 L486.605 174.199 L486.605 170.634 L489.105 170.634 Q490.864 170.634 491.837 169.8 Q492.809 168.967 493.989 165.865 L494.753 163.921 L484.267 138.412 L488.781 138.412 L496.883 158.689 L504.985 138.412 L509.499 138.412 L498.11 166.745 Z\" fill=\"#000000\" fill-rule=\"nonzero\" fill-opacity=\"1\" /><path clip-path=\"url(#clip720)\" d=\"M516.79 160.402 L524.429 160.402 L524.429 134.037 L516.119 135.703 L516.119 131.444 L524.383 129.778 L529.059 129.778 L529.059 160.402 L536.697 160.402 L536.697 164.338 L516.79 164.338 L516.79 160.402 Z\" fill=\"#000000\" fill-rule=\"nonzero\" fill-opacity=\"1\" /><polyline clip-path=\"url(#clip720)\" style=\"stroke:#e26f46; stroke-linecap:round; stroke-linejoin:round; stroke-width:4; stroke-opacity:1; fill:none\" points=\"318.705,198.898 460.615,198.898 \"/>\n",
       "<path clip-path=\"url(#clip720)\" d=\"M498.11 218.585 Q496.304 223.215 494.591 224.627 Q492.878 226.039 490.008 226.039 L486.605 226.039 L486.605 222.474 L489.105 222.474 Q490.864 222.474 491.837 221.64 Q492.809 220.807 493.989 217.705 L494.753 215.761 L484.267 190.252 L488.781 190.252 L496.883 210.529 L504.985 190.252 L509.499 190.252 L498.11 218.585 Z\" fill=\"#000000\" fill-rule=\"nonzero\" fill-opacity=\"1\" /><path clip-path=\"url(#clip720)\" d=\"M520.008 212.242 L536.327 212.242 L536.327 216.178 L514.383 216.178 L514.383 212.242 Q517.045 209.488 521.628 204.858 Q526.235 200.205 527.415 198.863 Q529.66 196.34 530.54 194.604 Q531.443 192.844 531.443 191.155 Q531.443 188.4 529.498 186.664 Q527.577 184.928 524.475 184.928 Q522.276 184.928 519.823 185.692 Q517.392 186.455 514.614 188.006 L514.614 183.284 Q517.438 182.15 519.892 181.571 Q522.346 180.993 524.383 180.993 Q529.753 180.993 532.947 183.678 Q536.142 186.363 536.142 190.854 Q536.142 192.983 535.332 194.905 Q534.545 196.803 532.438 199.395 Q531.86 200.067 528.758 203.284 Q525.656 206.479 520.008 212.242 Z\" fill=\"#000000\" fill-rule=\"nonzero\" fill-opacity=\"1\" /></svg>\n"
      ]
     },
     "execution_count": 53,
     "metadata": {},
     "output_type": "execute_result"
    }
   ],
   "source": [
    "plot(thist,Xm[3,:])\n",
    "plot!(thist,Xm[4,:])"
   ]
  },
  {
   "cell_type": "code",
   "execution_count": 54,
   "metadata": {},
   "outputs": [
    {
     "data": {
      "image/svg+xml": [
       "<?xml version=\"1.0\" encoding=\"utf-8\"?>\n",
       "<svg xmlns=\"http://www.w3.org/2000/svg\" xmlns:xlink=\"http://www.w3.org/1999/xlink\" width=\"600\" height=\"400\" viewBox=\"0 0 2400 1600\">\n",
       "<defs>\n",
       "  <clipPath id=\"clip760\">\n",
       "    <rect x=\"0\" y=\"0\" width=\"2400\" height=\"1600\"/>\n",
       "  </clipPath>\n",
       "</defs>\n",
       "<path clip-path=\"url(#clip760)\" d=\"M0 1600 L2400 1600 L2400 0 L0 0  Z\" fill=\"#ffffff\" fill-rule=\"evenodd\" fill-opacity=\"1\"/>\n",
       "<defs>\n",
       "  <clipPath id=\"clip761\">\n",
       "    <rect x=\"480\" y=\"0\" width=\"1681\" height=\"1600\"/>\n",
       "  </clipPath>\n",
       "</defs>\n",
       "<path clip-path=\"url(#clip760)\" d=\"M178.867 1486.45 L2352.76 1486.45 L2352.76 47.2441 L178.867 47.2441  Z\" fill=\"#ffffff\" fill-rule=\"evenodd\" fill-opacity=\"1\"/>\n",
       "<defs>\n",
       "  <clipPath id=\"clip762\">\n",
       "    <rect x=\"178\" y=\"47\" width=\"2175\" height=\"1440\"/>\n",
       "  </clipPath>\n",
       "</defs>\n",
       "<polyline clip-path=\"url(#clip762)\" style=\"stroke:#000000; stroke-linecap:round; stroke-linejoin:round; stroke-width:2; stroke-opacity:0.1; fill:none\" points=\"240.392,1486.45 240.392,47.2441 \"/>\n",
       "<polyline clip-path=\"url(#clip762)\" style=\"stroke:#000000; stroke-linecap:round; stroke-linejoin:round; stroke-width:2; stroke-opacity:0.1; fill:none\" points=\"656.102,1486.45 656.102,47.2441 \"/>\n",
       "<polyline clip-path=\"url(#clip762)\" style=\"stroke:#000000; stroke-linecap:round; stroke-linejoin:round; stroke-width:2; stroke-opacity:0.1; fill:none\" points=\"1071.81,1486.45 1071.81,47.2441 \"/>\n",
       "<polyline clip-path=\"url(#clip762)\" style=\"stroke:#000000; stroke-linecap:round; stroke-linejoin:round; stroke-width:2; stroke-opacity:0.1; fill:none\" points=\"1487.52,1486.45 1487.52,47.2441 \"/>\n",
       "<polyline clip-path=\"url(#clip762)\" style=\"stroke:#000000; stroke-linecap:round; stroke-linejoin:round; stroke-width:2; stroke-opacity:0.1; fill:none\" points=\"1903.23,1486.45 1903.23,47.2441 \"/>\n",
       "<polyline clip-path=\"url(#clip762)\" style=\"stroke:#000000; stroke-linecap:round; stroke-linejoin:round; stroke-width:2; stroke-opacity:0.1; fill:none\" points=\"2318.94,1486.45 2318.94,47.2441 \"/>\n",
       "<polyline clip-path=\"url(#clip760)\" style=\"stroke:#000000; stroke-linecap:round; stroke-linejoin:round; stroke-width:4; stroke-opacity:1; fill:none\" points=\"178.867,1486.45 2352.76,1486.45 \"/>\n",
       "<polyline clip-path=\"url(#clip760)\" style=\"stroke:#000000; stroke-linecap:round; stroke-linejoin:round; stroke-width:4; stroke-opacity:1; fill:none\" points=\"240.392,1486.45 240.392,1467.55 \"/>\n",
       "<polyline clip-path=\"url(#clip760)\" style=\"stroke:#000000; stroke-linecap:round; stroke-linejoin:round; stroke-width:4; stroke-opacity:1; fill:none\" points=\"656.102,1486.45 656.102,1467.55 \"/>\n",
       "<polyline clip-path=\"url(#clip760)\" style=\"stroke:#000000; stroke-linecap:round; stroke-linejoin:round; stroke-width:4; stroke-opacity:1; fill:none\" points=\"1071.81,1486.45 1071.81,1467.55 \"/>\n",
       "<polyline clip-path=\"url(#clip760)\" style=\"stroke:#000000; stroke-linecap:round; stroke-linejoin:round; stroke-width:4; stroke-opacity:1; fill:none\" points=\"1487.52,1486.45 1487.52,1467.55 \"/>\n",
       "<polyline clip-path=\"url(#clip760)\" style=\"stroke:#000000; stroke-linecap:round; stroke-linejoin:round; stroke-width:4; stroke-opacity:1; fill:none\" points=\"1903.23,1486.45 1903.23,1467.55 \"/>\n",
       "<polyline clip-path=\"url(#clip760)\" style=\"stroke:#000000; stroke-linecap:round; stroke-linejoin:round; stroke-width:4; stroke-opacity:1; fill:none\" points=\"2318.94,1486.45 2318.94,1467.55 \"/>\n",
       "<path clip-path=\"url(#clip760)\" d=\"M240.392 1517.37 Q236.781 1517.37 234.952 1520.93 Q233.146 1524.47 233.146 1531.6 Q233.146 1538.71 234.952 1542.27 Q236.781 1545.82 240.392 1545.82 Q244.026 1545.82 245.832 1542.27 Q247.66 1538.71 247.66 1531.6 Q247.66 1524.47 245.832 1520.93 Q244.026 1517.37 240.392 1517.37 M240.392 1513.66 Q246.202 1513.66 249.257 1518.27 Q252.336 1522.85 252.336 1531.6 Q252.336 1540.33 249.257 1544.94 Q246.202 1549.52 240.392 1549.52 Q234.582 1549.52 231.503 1544.94 Q228.447 1540.33 228.447 1531.6 Q228.447 1522.85 231.503 1518.27 Q234.582 1513.66 240.392 1513.66 Z\" fill=\"#000000\" fill-rule=\"nonzero\" fill-opacity=\"1\" /><path clip-path=\"url(#clip760)\" d=\"M646.38 1514.29 L664.737 1514.29 L664.737 1518.22 L650.663 1518.22 L650.663 1526.7 Q651.681 1526.35 652.7 1526.19 Q653.718 1526 654.737 1526 Q660.524 1526 663.903 1529.17 Q667.283 1532.34 667.283 1537.76 Q667.283 1543.34 663.811 1546.44 Q660.338 1549.52 654.019 1549.52 Q651.843 1549.52 649.575 1549.15 Q647.329 1548.78 644.922 1548.04 L644.922 1543.34 Q647.005 1544.47 649.227 1545.03 Q651.45 1545.58 653.926 1545.58 Q657.931 1545.58 660.269 1543.48 Q662.607 1541.37 662.607 1537.76 Q662.607 1534.15 660.269 1532.04 Q657.931 1529.94 653.926 1529.94 Q652.051 1529.94 650.177 1530.35 Q648.325 1530.77 646.38 1531.65 L646.38 1514.29 Z\" fill=\"#000000\" fill-rule=\"nonzero\" fill-opacity=\"1\" /><path clip-path=\"url(#clip760)\" d=\"M1046.5 1544.91 L1054.14 1544.91 L1054.14 1518.55 L1045.83 1520.21 L1045.83 1515.95 L1054.09 1514.29 L1058.77 1514.29 L1058.77 1544.91 L1066.41 1544.91 L1066.41 1548.85 L1046.5 1548.85 L1046.5 1544.91 Z\" fill=\"#000000\" fill-rule=\"nonzero\" fill-opacity=\"1\" /><path clip-path=\"url(#clip760)\" d=\"M1085.85 1517.37 Q1082.24 1517.37 1080.41 1520.93 Q1078.61 1524.47 1078.61 1531.6 Q1078.61 1538.71 1080.41 1542.27 Q1082.24 1545.82 1085.85 1545.82 Q1089.49 1545.82 1091.29 1542.27 Q1093.12 1538.71 1093.12 1531.6 Q1093.12 1524.47 1091.29 1520.93 Q1089.49 1517.37 1085.85 1517.37 M1085.85 1513.66 Q1091.66 1513.66 1094.72 1518.27 Q1097.8 1522.85 1097.8 1531.6 Q1097.8 1540.33 1094.72 1544.94 Q1091.66 1549.52 1085.85 1549.52 Q1080.04 1549.52 1076.96 1544.94 Q1073.91 1540.33 1073.91 1531.6 Q1073.91 1522.85 1076.96 1518.27 Q1080.04 1513.66 1085.85 1513.66 Z\" fill=\"#000000\" fill-rule=\"nonzero\" fill-opacity=\"1\" /><path clip-path=\"url(#clip760)\" d=\"M1462.71 1544.91 L1470.35 1544.91 L1470.35 1518.55 L1462.04 1520.21 L1462.04 1515.95 L1470.3 1514.29 L1474.98 1514.29 L1474.98 1544.91 L1482.62 1544.91 L1482.62 1548.85 L1462.71 1548.85 L1462.71 1544.91 Z\" fill=\"#000000\" fill-rule=\"nonzero\" fill-opacity=\"1\" /><path clip-path=\"url(#clip760)\" d=\"M1492.11 1514.29 L1510.46 1514.29 L1510.46 1518.22 L1496.39 1518.22 L1496.39 1526.7 Q1497.41 1526.35 1498.43 1526.19 Q1499.44 1526 1500.46 1526 Q1506.25 1526 1509.63 1529.17 Q1513.01 1532.34 1513.01 1537.76 Q1513.01 1543.34 1509.54 1546.44 Q1506.07 1549.52 1499.75 1549.52 Q1497.57 1549.52 1495.3 1549.15 Q1493.06 1548.78 1490.65 1548.04 L1490.65 1543.34 Q1492.73 1544.47 1494.95 1545.03 Q1497.18 1545.58 1499.65 1545.58 Q1503.66 1545.58 1506 1543.48 Q1508.33 1541.37 1508.33 1537.76 Q1508.33 1534.15 1506 1532.04 Q1503.66 1529.94 1499.65 1529.94 Q1497.78 1529.94 1495.9 1530.35 Q1494.05 1530.77 1492.11 1531.65 L1492.11 1514.29 Z\" fill=\"#000000\" fill-rule=\"nonzero\" fill-opacity=\"1\" /><path clip-path=\"url(#clip760)\" d=\"M1882.01 1544.91 L1898.33 1544.91 L1898.33 1548.85 L1876.38 1548.85 L1876.38 1544.91 Q1879.04 1542.16 1883.63 1537.53 Q1888.23 1532.88 1889.41 1531.53 Q1891.66 1529.01 1892.54 1527.27 Q1893.44 1525.51 1893.44 1523.82 Q1893.44 1521.07 1891.5 1519.33 Q1889.58 1517.6 1886.48 1517.6 Q1884.28 1517.6 1881.82 1518.36 Q1879.39 1519.13 1876.61 1520.68 L1876.61 1515.95 Q1879.44 1514.82 1881.89 1514.24 Q1884.35 1513.66 1886.38 1513.66 Q1891.75 1513.66 1894.95 1516.35 Q1898.14 1519.03 1898.14 1523.52 Q1898.14 1525.65 1897.33 1527.57 Q1896.54 1529.47 1894.44 1532.07 Q1893.86 1532.74 1890.76 1535.95 Q1887.66 1539.15 1882.01 1544.91 Z\" fill=\"#000000\" fill-rule=\"nonzero\" fill-opacity=\"1\" /><path clip-path=\"url(#clip760)\" d=\"M1918.14 1517.37 Q1914.53 1517.37 1912.7 1520.93 Q1910.9 1524.47 1910.9 1531.6 Q1910.9 1538.71 1912.7 1542.27 Q1914.53 1545.82 1918.14 1545.82 Q1921.78 1545.82 1923.58 1542.27 Q1925.41 1538.71 1925.41 1531.6 Q1925.41 1524.47 1923.58 1520.93 Q1921.78 1517.37 1918.14 1517.37 M1918.14 1513.66 Q1923.95 1513.66 1927.01 1518.27 Q1930.09 1522.85 1930.09 1531.6 Q1930.09 1540.33 1927.01 1544.94 Q1923.95 1549.52 1918.14 1549.52 Q1912.33 1549.52 1909.25 1544.94 Q1906.2 1540.33 1906.2 1531.6 Q1906.2 1522.85 1909.25 1518.27 Q1912.33 1513.66 1918.14 1513.66 Z\" fill=\"#000000\" fill-rule=\"nonzero\" fill-opacity=\"1\" /><path clip-path=\"url(#clip760)\" d=\"M2298.22 1544.91 L2314.54 1544.91 L2314.54 1548.85 L2292.59 1548.85 L2292.59 1544.91 Q2295.25 1542.16 2299.84 1537.53 Q2304.44 1532.88 2305.62 1531.53 Q2307.87 1529.01 2308.75 1527.27 Q2309.65 1525.51 2309.65 1523.82 Q2309.65 1521.07 2307.71 1519.33 Q2305.79 1517.6 2302.68 1517.6 Q2300.48 1517.6 2298.03 1518.36 Q2295.6 1519.13 2292.82 1520.68 L2292.82 1515.95 Q2295.65 1514.82 2298.1 1514.24 Q2300.55 1513.66 2302.59 1513.66 Q2307.96 1513.66 2311.16 1516.35 Q2314.35 1519.03 2314.35 1523.52 Q2314.35 1525.65 2313.54 1527.57 Q2312.75 1529.47 2310.65 1532.07 Q2310.07 1532.74 2306.97 1535.95 Q2303.86 1539.15 2298.22 1544.91 Z\" fill=\"#000000\" fill-rule=\"nonzero\" fill-opacity=\"1\" /><path clip-path=\"url(#clip760)\" d=\"M2324.4 1514.29 L2342.75 1514.29 L2342.75 1518.22 L2328.68 1518.22 L2328.68 1526.7 Q2329.7 1526.35 2330.72 1526.19 Q2331.73 1526 2332.75 1526 Q2338.54 1526 2341.92 1529.17 Q2345.3 1532.34 2345.3 1537.76 Q2345.3 1543.34 2341.83 1546.44 Q2338.35 1549.52 2332.03 1549.52 Q2329.86 1549.52 2327.59 1549.15 Q2325.35 1548.78 2322.94 1548.04 L2322.94 1543.34 Q2325.02 1544.47 2327.24 1545.03 Q2329.47 1545.58 2331.94 1545.58 Q2335.95 1545.58 2338.28 1543.48 Q2340.62 1541.37 2340.62 1537.76 Q2340.62 1534.15 2338.28 1532.04 Q2335.95 1529.94 2331.94 1529.94 Q2330.07 1529.94 2328.19 1530.35 Q2326.34 1530.77 2324.4 1531.65 L2324.4 1514.29 Z\" fill=\"#000000\" fill-rule=\"nonzero\" fill-opacity=\"1\" /><polyline clip-path=\"url(#clip762)\" style=\"stroke:#000000; stroke-linecap:round; stroke-linejoin:round; stroke-width:2; stroke-opacity:0.1; fill:none\" points=\"178.867,1324.89 2352.76,1324.89 \"/>\n",
       "<polyline clip-path=\"url(#clip762)\" style=\"stroke:#000000; stroke-linecap:round; stroke-linejoin:round; stroke-width:2; stroke-opacity:0.1; fill:none\" points=\"178.867,1108.16 2352.76,1108.16 \"/>\n",
       "<polyline clip-path=\"url(#clip762)\" style=\"stroke:#000000; stroke-linecap:round; stroke-linejoin:round; stroke-width:2; stroke-opacity:0.1; fill:none\" points=\"178.867,891.435 2352.76,891.435 \"/>\n",
       "<polyline clip-path=\"url(#clip762)\" style=\"stroke:#000000; stroke-linecap:round; stroke-linejoin:round; stroke-width:2; stroke-opacity:0.1; fill:none\" points=\"178.867,674.709 2352.76,674.709 \"/>\n",
       "<polyline clip-path=\"url(#clip762)\" style=\"stroke:#000000; stroke-linecap:round; stroke-linejoin:round; stroke-width:2; stroke-opacity:0.1; fill:none\" points=\"178.867,457.982 2352.76,457.982 \"/>\n",
       "<polyline clip-path=\"url(#clip762)\" style=\"stroke:#000000; stroke-linecap:round; stroke-linejoin:round; stroke-width:2; stroke-opacity:0.1; fill:none\" points=\"178.867,241.256 2352.76,241.256 \"/>\n",
       "<polyline clip-path=\"url(#clip760)\" style=\"stroke:#000000; stroke-linecap:round; stroke-linejoin:round; stroke-width:4; stroke-opacity:1; fill:none\" points=\"178.867,1486.45 178.867,47.2441 \"/>\n",
       "<polyline clip-path=\"url(#clip760)\" style=\"stroke:#000000; stroke-linecap:round; stroke-linejoin:round; stroke-width:4; stroke-opacity:1; fill:none\" points=\"178.867,1324.89 197.764,1324.89 \"/>\n",
       "<polyline clip-path=\"url(#clip760)\" style=\"stroke:#000000; stroke-linecap:round; stroke-linejoin:round; stroke-width:4; stroke-opacity:1; fill:none\" points=\"178.867,1108.16 197.764,1108.16 \"/>\n",
       "<polyline clip-path=\"url(#clip760)\" style=\"stroke:#000000; stroke-linecap:round; stroke-linejoin:round; stroke-width:4; stroke-opacity:1; fill:none\" points=\"178.867,891.435 197.764,891.435 \"/>\n",
       "<polyline clip-path=\"url(#clip760)\" style=\"stroke:#000000; stroke-linecap:round; stroke-linejoin:round; stroke-width:4; stroke-opacity:1; fill:none\" points=\"178.867,674.709 197.764,674.709 \"/>\n",
       "<polyline clip-path=\"url(#clip760)\" style=\"stroke:#000000; stroke-linecap:round; stroke-linejoin:round; stroke-width:4; stroke-opacity:1; fill:none\" points=\"178.867,457.982 197.764,457.982 \"/>\n",
       "<polyline clip-path=\"url(#clip760)\" style=\"stroke:#000000; stroke-linecap:round; stroke-linejoin:round; stroke-width:4; stroke-opacity:1; fill:none\" points=\"178.867,241.256 197.764,241.256 \"/>\n",
       "<path clip-path=\"url(#clip760)\" d=\"M51.9875 1325.34 L81.6633 1325.34 L81.6633 1329.27 L51.9875 1329.27 L51.9875 1325.34 Z\" fill=\"#000000\" fill-rule=\"nonzero\" fill-opacity=\"1\" /><path clip-path=\"url(#clip760)\" d=\"M90.5752 1307.61 L112.797 1307.61 L112.797 1309.6 L100.251 1342.17 L95.3669 1342.17 L107.172 1311.54 L90.5752 1311.54 L90.5752 1307.61 Z\" fill=\"#000000\" fill-rule=\"nonzero\" fill-opacity=\"1\" /><path clip-path=\"url(#clip760)\" d=\"M121.964 1307.61 L140.32 1307.61 L140.32 1311.54 L126.246 1311.54 L126.246 1320.02 Q127.265 1319.67 128.283 1319.51 Q129.302 1319.32 130.32 1319.32 Q136.107 1319.32 139.487 1322.49 Q142.867 1325.66 142.867 1331.08 Q142.867 1336.66 139.394 1339.76 Q135.922 1342.84 129.603 1342.84 Q127.427 1342.84 125.158 1342.47 Q122.913 1342.1 120.506 1341.36 L120.506 1336.66 Q122.589 1337.79 124.811 1338.35 Q127.033 1338.9 129.51 1338.9 Q133.515 1338.9 135.853 1336.8 Q138.191 1334.69 138.191 1331.08 Q138.191 1327.47 135.853 1325.36 Q133.515 1323.26 129.51 1323.26 Q127.635 1323.26 125.76 1323.67 Q123.908 1324.09 121.964 1324.97 L121.964 1307.61 Z\" fill=\"#000000\" fill-rule=\"nonzero\" fill-opacity=\"1\" /><path clip-path=\"url(#clip760)\" d=\"M50.9921 1108.61 L80.6679 1108.61 L80.6679 1112.55 L50.9921 1112.55 L50.9921 1108.61 Z\" fill=\"#000000\" fill-rule=\"nonzero\" fill-opacity=\"1\" /><path clip-path=\"url(#clip760)\" d=\"M90.8067 1090.88 L109.163 1090.88 L109.163 1094.82 L95.0891 1094.82 L95.0891 1103.29 Q96.1076 1102.94 97.1261 1102.78 Q98.1447 1102.59 99.1632 1102.59 Q104.95 1102.59 108.33 1105.77 Q111.709 1108.94 111.709 1114.35 Q111.709 1119.93 108.237 1123.03 Q104.765 1126.11 98.4456 1126.11 Q96.2697 1126.11 94.0012 1125.74 Q91.7558 1125.37 89.3484 1124.63 L89.3484 1119.93 Q91.4317 1121.07 93.6539 1121.62 Q95.8761 1122.18 98.353 1122.18 Q102.358 1122.18 104.696 1120.07 Q107.033 1117.96 107.033 1114.35 Q107.033 1110.74 104.696 1108.64 Q102.358 1106.53 98.353 1106.53 Q96.478 1106.53 94.603 1106.95 Q92.7512 1107.36 90.8067 1108.24 L90.8067 1090.88 Z\" fill=\"#000000\" fill-rule=\"nonzero\" fill-opacity=\"1\" /><path clip-path=\"url(#clip760)\" d=\"M130.922 1093.96 Q127.311 1093.96 125.482 1097.53 Q123.677 1101.07 123.677 1108.2 Q123.677 1115.3 125.482 1118.87 Q127.311 1122.41 130.922 1122.41 Q134.556 1122.41 136.362 1118.87 Q138.191 1115.3 138.191 1108.2 Q138.191 1101.07 136.362 1097.53 Q134.556 1093.96 130.922 1093.96 M130.922 1090.26 Q136.732 1090.26 139.788 1094.86 Q142.867 1099.45 142.867 1108.2 Q142.867 1116.92 139.788 1121.53 Q136.732 1126.11 130.922 1126.11 Q125.112 1126.11 122.033 1121.53 Q118.978 1116.92 118.978 1108.2 Q118.978 1099.45 122.033 1094.86 Q125.112 1090.26 130.922 1090.26 Z\" fill=\"#000000\" fill-rule=\"nonzero\" fill-opacity=\"1\" /><path clip-path=\"url(#clip760)\" d=\"M51.9875 891.887 L81.6633 891.887 L81.6633 895.822 L51.9875 895.822 L51.9875 891.887 Z\" fill=\"#000000\" fill-rule=\"nonzero\" fill-opacity=\"1\" /><path clip-path=\"url(#clip760)\" d=\"M95.7836 904.78 L112.103 904.78 L112.103 908.715 L90.1586 908.715 L90.1586 904.78 Q92.8206 902.025 97.4039 897.396 Q102.01 892.743 103.191 891.4 Q105.436 888.877 106.316 887.141 Q107.219 885.382 107.219 883.692 Q107.219 880.938 105.274 879.201 Q103.353 877.465 100.251 877.465 Q98.0521 877.465 95.5984 878.229 Q93.1678 878.993 90.3901 880.544 L90.3901 875.822 Q93.2141 874.688 95.6678 874.109 Q98.1215 873.53 100.159 873.53 Q105.529 873.53 108.723 876.215 Q111.918 878.901 111.918 883.391 Q111.918 885.521 111.108 887.442 Q110.321 889.34 108.214 891.933 Q107.635 892.604 104.534 895.822 Q101.432 899.016 95.7836 904.78 Z\" fill=\"#000000\" fill-rule=\"nonzero\" fill-opacity=\"1\" /><path clip-path=\"url(#clip760)\" d=\"M121.964 874.155 L140.32 874.155 L140.32 878.09 L126.246 878.09 L126.246 886.563 Q127.265 886.215 128.283 886.053 Q129.302 885.868 130.32 885.868 Q136.107 885.868 139.487 889.039 Q142.867 892.211 142.867 897.627 Q142.867 903.206 139.394 906.308 Q135.922 909.387 129.603 909.387 Q127.427 909.387 125.158 909.016 Q122.913 908.646 120.506 907.905 L120.506 903.206 Q122.589 904.34 124.811 904.896 Q127.033 905.451 129.51 905.451 Q133.515 905.451 135.853 903.345 Q138.191 901.238 138.191 897.627 Q138.191 894.016 135.853 891.91 Q133.515 889.803 129.51 889.803 Q127.635 889.803 125.76 890.22 Q123.908 890.637 121.964 891.516 L121.964 874.155 Z\" fill=\"#000000\" fill-rule=\"nonzero\" fill-opacity=\"1\" /><path clip-path=\"url(#clip760)\" d=\"M130.922 660.507 Q127.311 660.507 125.482 664.072 Q123.677 667.614 123.677 674.744 Q123.677 681.85 125.482 685.415 Q127.311 688.956 130.922 688.956 Q134.556 688.956 136.362 685.415 Q138.191 681.85 138.191 674.744 Q138.191 667.614 136.362 664.072 Q134.556 660.507 130.922 660.507 M130.922 656.804 Q136.732 656.804 139.788 661.41 Q142.867 665.994 142.867 674.744 Q142.867 683.47 139.788 688.077 Q136.732 692.66 130.922 692.66 Q125.112 692.66 122.033 688.077 Q118.978 683.47 118.978 674.744 Q118.978 665.994 122.033 661.41 Q125.112 656.804 130.922 656.804 Z\" fill=\"#000000\" fill-rule=\"nonzero\" fill-opacity=\"1\" /><path clip-path=\"url(#clip760)\" d=\"M95.7836 471.327 L112.103 471.327 L112.103 475.262 L90.1586 475.262 L90.1586 471.327 Q92.8206 468.573 97.4039 463.943 Q102.01 459.29 103.191 457.948 Q105.436 455.425 106.316 453.688 Q107.219 451.929 107.219 450.239 Q107.219 447.485 105.274 445.749 Q103.353 444.013 100.251 444.013 Q98.0521 444.013 95.5984 444.776 Q93.1678 445.54 90.3901 447.091 L90.3901 442.369 Q93.2141 441.235 95.6678 440.656 Q98.1215 440.077 100.159 440.077 Q105.529 440.077 108.723 442.763 Q111.918 445.448 111.918 449.938 Q111.918 452.068 111.108 453.989 Q110.321 455.887 108.214 458.48 Q107.635 459.151 104.534 462.369 Q101.432 465.563 95.7836 471.327 Z\" fill=\"#000000\" fill-rule=\"nonzero\" fill-opacity=\"1\" /><path clip-path=\"url(#clip760)\" d=\"M121.964 440.702 L140.32 440.702 L140.32 444.638 L126.246 444.638 L126.246 453.11 Q127.265 452.762 128.283 452.6 Q129.302 452.415 130.32 452.415 Q136.107 452.415 139.487 455.587 Q142.867 458.758 142.867 464.174 Q142.867 469.753 139.394 472.855 Q135.922 475.934 129.603 475.934 Q127.427 475.934 125.158 475.563 Q122.913 475.193 120.506 474.452 L120.506 469.753 Q122.589 470.887 124.811 471.443 Q127.033 471.998 129.51 471.998 Q133.515 471.998 135.853 469.892 Q138.191 467.786 138.191 464.174 Q138.191 460.563 135.853 458.457 Q133.515 456.35 129.51 456.35 Q127.635 456.35 125.76 456.767 Q123.908 457.184 121.964 458.063 L121.964 440.702 Z\" fill=\"#000000\" fill-rule=\"nonzero\" fill-opacity=\"1\" /><path clip-path=\"url(#clip760)\" d=\"M90.8067 223.976 L109.163 223.976 L109.163 227.911 L95.0891 227.911 L95.0891 236.383 Q96.1076 236.036 97.1261 235.874 Q98.1447 235.689 99.1632 235.689 Q104.95 235.689 108.33 238.86 Q111.709 242.031 111.709 247.448 Q111.709 253.027 108.237 256.129 Q104.765 259.207 98.4456 259.207 Q96.2697 259.207 94.0012 258.837 Q91.7558 258.466 89.3484 257.726 L89.3484 253.027 Q91.4317 254.161 93.6539 254.717 Q95.8761 255.272 98.353 255.272 Q102.358 255.272 104.696 253.166 Q107.033 251.059 107.033 247.448 Q107.033 243.837 104.696 241.73 Q102.358 239.624 98.353 239.624 Q96.478 239.624 94.603 240.041 Q92.7512 240.457 90.8067 241.337 L90.8067 223.976 Z\" fill=\"#000000\" fill-rule=\"nonzero\" fill-opacity=\"1\" /><path clip-path=\"url(#clip760)\" d=\"M130.922 227.055 Q127.311 227.055 125.482 230.619 Q123.677 234.161 123.677 241.291 Q123.677 248.397 125.482 251.962 Q127.311 255.504 130.922 255.504 Q134.556 255.504 136.362 251.962 Q138.191 248.397 138.191 241.291 Q138.191 234.161 136.362 230.619 Q134.556 227.055 130.922 227.055 M130.922 223.351 Q136.732 223.351 139.788 227.957 Q142.867 232.541 142.867 241.291 Q142.867 250.017 139.788 254.624 Q136.732 259.207 130.922 259.207 Q125.112 259.207 122.033 254.624 Q118.978 250.017 118.978 241.291 Q118.978 232.541 122.033 227.957 Q125.112 223.351 130.922 223.351 Z\" fill=\"#000000\" fill-rule=\"nonzero\" fill-opacity=\"1\" /><polyline clip-path=\"url(#clip762)\" style=\"stroke:#009af9; stroke-linecap:round; stroke-linejoin:round; stroke-width:4; stroke-opacity:1; fill:none\" points=\"240.392,689.496 268.106,1443.25 295.82,1404.21 323.534,1273.59 351.248,1139.79 378.962,1016.32 406.676,906.704 434.39,812.519 462.104,734.485 489.818,672.627 517.532,626.368 545.246,594.641 572.96,576.002 600.674,568.747 628.388,571.009 656.102,580.842 683.816,596.279 711.53,615.38 739.245,636.254 766.959,657.085 794.673,676.139 822.387,691.78 850.101,702.491 877.815,706.901 905.529,703.828 933.243,692.338 960.957,671.822 988.671,642.09 1016.38,603.469 1044.1,556.902 1071.81,504.032 1099.53,447.23 1127.24,389.563 1154.96,334.644 1182.67,286.368 1210.38,248.515 1238.1,224.285 1265.81,215.835 1293.53,223.938 1321.24,247.854 1348.95,285.449 1376.67,333.542 1404.38,388.359 1432.1,446.003 1459.81,502.851 1487.52,555.822 1515.24,602.529 1542.95,641.313 1570.67,671.217 1598.38,691.902 1626.09,703.547 1653.81,706.754 1681.52,702.45 1709.24,691.815 1736.95,676.217 1764.66,657.173 1792.38,636.319 1820.09,615.391 1847.81,596.208 1875.52,580.666 1903.23,570.713 1930.95,568.322 1958.66,575.451 1986.38,593.98 2014.09,625.63 2041.8,671.864 2069.52,733.772 2097.23,811.953 2124.95,906.406 2152.66,1016.43 2180.37,1140.47 2208.09,1274.99 2235.8,1406.39 2263.52,1445.72 2291.23,688.704 \"/>\n",
       "<polyline clip-path=\"url(#clip762)\" style=\"stroke:#e26f46; stroke-linecap:round; stroke-linejoin:round; stroke-width:4; stroke-opacity:1; fill:none\" points=\"240.392,748.988 268.106,87.9763 295.82,206.542 323.534,400.192 351.248,576.378 378.962,721.615 406.676,834.513 434.39,916.689 462.104,971.078 489.818,1001.29 517.532,1011.18 545.246,1004.58 572.96,985.016 600.674,955.625 628.388,919.057 656.102,877.466 683.816,832.533 711.53,785.518 739.245,737.337 766.959,688.648 794.673,639.949 822.387,591.672 850.101,544.276 877.815,498.341 905.529,454.631 933.243,414.16 960.957,378.211 988.671,348.338 1016.38,326.318 1044.1,314.047 1071.81,313.385 1099.53,325.941 1127.24,352.812 1154.96,394.299 1182.67,449.659 1210.38,516.949 1238.1,593.04 1265.81,673.83 1293.53,754.67 1321.24,830.904 1348.95,898.417 1376.67,954.052 1404.38,995.842 1432.1,1023.02 1459.81,1035.87 1487.52,1035.47 1515.24,1023.43 1542.95,1001.6 1570.67,971.877 1598.38,936.049 1626.09,895.674 1653.81,852.043 1681.52,806.174 1709.24,758.841 1736.95,710.624 1764.66,661.987 1792.38,613.363 1820.09,565.247 1847.81,518.291 1875.52,473.404 1903.23,431.836 1930.95,395.254 1958.66,365.795 1986.38,346.093 2014.09,339.26 2041.8,348.817 2069.52,378.556 2097.23,432.327 2124.95,513.727 2152.66,625.683 2180.37,769.819 2208.09,944.782 2235.8,1137.3 2263.52,1256.3 2291.23,608.689 \"/>\n",
       "<polyline clip-path=\"url(#clip762)\" style=\"stroke:#3da44d; stroke-linecap:round; stroke-linejoin:round; stroke-width:4; stroke-opacity:1; fill:none\" points=\"240.392,712.713 268.106,635.021 295.82,666.896 323.534,675.181 351.248,676.569 378.962,676.425 406.676,676.012 434.39,675.634 462.104,675.345 489.818,675.136 517.532,674.99 545.246,674.89 572.96,674.824 600.674,674.782 628.388,674.755 656.102,674.74 683.816,674.731 711.53,674.727 739.245,674.725 766.959,674.724 794.673,674.725 822.387,674.725 850.101,674.727 877.815,674.729 905.529,674.733 933.243,674.737 960.957,674.74 988.671,674.743 1016.38,674.742 1044.1,674.736 1071.81,674.725 1099.53,674.707 1127.24,674.686 1154.96,674.667 1182.67,674.657 1210.38,674.661 1238.1,674.681 1265.81,674.71 1293.53,674.739 1321.24,674.758 1348.95,674.761 1376.67,674.75 1404.38,674.731 1432.1,674.709 1459.81,674.691 1487.52,674.68 1515.24,674.675 1542.95,674.675 1570.67,674.677 1598.38,674.682 1626.09,674.686 1653.81,674.689 1681.52,674.692 1709.24,674.694 1736.95,674.695 1764.66,674.695 1792.38,674.695 1820.09,674.693 1847.81,674.689 1875.52,674.682 1903.23,674.669 1930.95,674.646 1958.66,674.608 1986.38,674.548 2014.09,674.457 2041.8,674.324 2069.52,674.133 2097.23,673.869 2124.95,673.523 2152.66,673.142 2180.37,672.994 2208.09,674.196 2235.8,681.592 2263.52,711.517 2291.23,639.768 \"/>\n",
       "<path clip-path=\"url(#clip760)\" d=\"M2009.9 302.578 L2280.29 302.578 L2280.29 95.2176 L2009.9 95.2176  Z\" fill=\"#ffffff\" fill-rule=\"evenodd\" fill-opacity=\"1\"/>\n",
       "<polyline clip-path=\"url(#clip760)\" style=\"stroke:#000000; stroke-linecap:round; stroke-linejoin:round; stroke-width:4; stroke-opacity:1; fill:none\" points=\"2009.9,302.578 2280.29,302.578 2280.29,95.2176 2009.9,95.2176 2009.9,302.578 \"/>\n",
       "<polyline clip-path=\"url(#clip760)\" style=\"stroke:#009af9; stroke-linecap:round; stroke-linejoin:round; stroke-width:4; stroke-opacity:1; fill:none\" points=\"2034.05,147.058 2178.98,147.058 \"/>\n",
       "<path clip-path=\"url(#clip760)\" d=\"M2216.97 166.745 Q2215.17 171.375 2213.45 172.787 Q2211.74 174.199 2208.87 174.199 L2205.47 174.199 L2205.47 170.634 L2207.97 170.634 Q2209.73 170.634 2210.7 169.8 Q2211.67 168.967 2212.85 165.865 L2213.62 163.921 L2203.13 138.412 L2207.64 138.412 L2215.75 158.689 L2223.85 138.412 L2228.36 138.412 L2216.97 166.745 Z\" fill=\"#000000\" fill-rule=\"nonzero\" fill-opacity=\"1\" /><path clip-path=\"url(#clip760)\" d=\"M2235.65 160.402 L2243.29 160.402 L2243.29 134.037 L2234.98 135.703 L2234.98 131.444 L2243.25 129.778 L2247.92 129.778 L2247.92 160.402 L2255.56 160.402 L2255.56 164.338 L2235.65 164.338 L2235.65 160.402 Z\" fill=\"#000000\" fill-rule=\"nonzero\" fill-opacity=\"1\" /><polyline clip-path=\"url(#clip760)\" style=\"stroke:#e26f46; stroke-linecap:round; stroke-linejoin:round; stroke-width:4; stroke-opacity:1; fill:none\" points=\"2034.05,198.898 2178.98,198.898 \"/>\n",
       "<path clip-path=\"url(#clip760)\" d=\"M2216.97 218.585 Q2215.17 223.215 2213.45 224.627 Q2211.74 226.039 2208.87 226.039 L2205.47 226.039 L2205.47 222.474 L2207.97 222.474 Q2209.73 222.474 2210.7 221.64 Q2211.67 220.807 2212.85 217.705 L2213.62 215.761 L2203.13 190.252 L2207.64 190.252 L2215.75 210.529 L2223.85 190.252 L2228.36 190.252 L2216.97 218.585 Z\" fill=\"#000000\" fill-rule=\"nonzero\" fill-opacity=\"1\" /><path clip-path=\"url(#clip760)\" d=\"M2238.87 212.242 L2255.19 212.242 L2255.19 216.178 L2233.25 216.178 L2233.25 212.242 Q2235.91 209.488 2240.49 204.858 Q2245.1 200.205 2246.28 198.863 Q2248.52 196.34 2249.4 194.604 Q2250.31 192.844 2250.31 191.155 Q2250.31 188.4 2248.36 186.664 Q2246.44 184.928 2243.34 184.928 Q2241.14 184.928 2238.68 185.692 Q2236.25 186.455 2233.48 188.006 L2233.48 183.284 Q2236.3 182.15 2238.75 181.571 Q2241.21 180.993 2243.25 180.993 Q2248.62 180.993 2251.81 183.678 Q2255 186.363 2255 190.854 Q2255 192.983 2254.19 194.905 Q2253.41 196.803 2251.3 199.395 Q2250.72 200.067 2247.62 203.284 Q2244.52 206.479 2238.87 212.242 Z\" fill=\"#000000\" fill-rule=\"nonzero\" fill-opacity=\"1\" /><polyline clip-path=\"url(#clip760)\" style=\"stroke:#3da44d; stroke-linecap:round; stroke-linejoin:round; stroke-width:4; stroke-opacity:1; fill:none\" points=\"2034.05,250.738 2178.98,250.738 \"/>\n",
       "<path clip-path=\"url(#clip760)\" d=\"M2216.97 270.425 Q2215.17 275.055 2213.45 276.467 Q2211.74 277.879 2208.87 277.879 L2205.47 277.879 L2205.47 274.314 L2207.97 274.314 Q2209.73 274.314 2210.7 273.48 Q2211.67 272.647 2212.85 269.545 L2213.62 267.601 L2203.13 242.092 L2207.64 242.092 L2215.75 262.369 L2223.85 242.092 L2228.36 242.092 L2216.97 270.425 Z\" fill=\"#000000\" fill-rule=\"nonzero\" fill-opacity=\"1\" /><path clip-path=\"url(#clip760)\" d=\"M2249.01 249.383 Q2252.37 250.101 2254.24 252.369 Q2256.14 254.638 2256.14 257.971 Q2256.14 263.087 2252.62 265.888 Q2249.1 268.689 2242.62 268.689 Q2240.44 268.689 2238.13 268.249 Q2235.84 267.832 2233.38 266.976 L2233.38 262.462 Q2235.33 263.596 2237.64 264.175 Q2239.96 264.754 2242.48 264.754 Q2246.88 264.754 2249.17 263.018 Q2251.49 261.281 2251.49 257.971 Q2251.49 254.916 2249.33 253.203 Q2247.2 251.467 2243.38 251.467 L2239.36 251.467 L2239.36 247.624 L2243.57 247.624 Q2247.02 247.624 2248.85 246.258 Q2250.68 244.87 2250.68 242.277 Q2250.68 239.615 2248.78 238.203 Q2246.9 236.768 2243.38 236.768 Q2241.46 236.768 2239.26 237.184 Q2237.06 237.601 2234.43 238.481 L2234.43 234.314 Q2237.09 233.573 2239.4 233.203 Q2241.74 232.833 2243.8 232.833 Q2249.12 232.833 2252.23 235.263 Q2255.33 237.67 2255.33 241.791 Q2255.33 244.661 2253.68 246.652 Q2252.04 248.62 2249.01 249.383 Z\" fill=\"#000000\" fill-rule=\"nonzero\" fill-opacity=\"1\" /></svg>\n"
      ]
     },
     "execution_count": 54,
     "metadata": {},
     "output_type": "execute_result"
    }
   ],
   "source": [
    "plot(thist[1:Nt-1],Um[1,:])\n",
    "plot!(thist[1:Nt-1],Um[2,:])\n",
    "plot!(thist[1:Nt-1],Um[3,:])"
   ]
  },
  {
   "cell_type": "code",
   "execution_count": 55,
   "metadata": {},
   "outputs": [],
   "source": [
    "X1 = [SVector{5}(x[1:5]) for x in X];"
   ]
  },
  {
   "cell_type": "code",
   "execution_count": 56,
   "metadata": {},
   "outputs": [],
   "source": [
    "# Uncomment for upload animation to visualizer\n",
    "#animation = mc.Animation(mvis, thist, X1)\n",
    "#setanimation!(mvis, animation)"
   ]
  },
  {
   "cell_type": "markdown",
   "metadata": {},
   "source": [
    "## Simulation"
   ]
  },
  {
   "cell_type": "markdown",
   "metadata": {},
   "source": [
    "### TVLQR"
   ]
  },
  {
   "cell_type": "code",
   "execution_count": 57,
   "metadata": {},
   "outputs": [
    {
     "data": {
      "text/plain": [
       "tvlqr (generic function with 1 method)"
      ]
     },
     "execution_count": 57,
     "metadata": {},
     "output_type": "execute_result"
    }
   ],
   "source": [
    "function tvlqr(model,\n",
    "               dt,\n",
    "               Xbar,\n",
    "               Ubar,\n",
    "               Q::Matrix, # cost weight \n",
    "               R::Matrix, # cost weight \n",
    "               Qf::Matrix,# term cost weight \n",
    "               N::Int64   # horizon size \n",
    "               )::Tuple{Vector{Matrix{Float64}}, Vector{Matrix{Float64}}} # return two matrices \n",
    "        \n",
    "    # check sizes of everything \n",
    "    nx = length(Xbar[1])\n",
    "    nu = length(Ubar[1])\n",
    "  \n",
    "    @assert size(Q) == (nx, nx)\n",
    "    @assert size(R) == (nu, nu)\n",
    "    @assert size(Qf) == (nx, nx)\n",
    "        \n",
    "    # instantiate S and K \n",
    "    P = [zeros(nx,nx) for i = 1:N]\n",
    "    K = [zeros(nu,nx) for i = 1:N-1]\n",
    "    \n",
    "    # initialize S[N] with Qf \n",
    "    P[N] = deepcopy(Qf)\n",
    "    \n",
    "    # Ricatti \n",
    "    for k = (N-1):-1:1\n",
    "        A = ForwardDiff.jacobian(x->rk4(model, x, Ubar[k], dt), Xbar[k]);\n",
    "        B = ForwardDiff.jacobian(u->rk4(model, Xbar[k], u, dt), Ubar[k]);\n",
    "        K[k] = (R + B'*P[k+1]*B)\\(B'*P[k+1]*A)\n",
    "        P[k] = Q + A'*P[k+1]*(A-B*K[k]) \n",
    "    end\n",
    "    \n",
    "    return P, K \n",
    "end"
   ]
  },
  {
   "cell_type": "code",
   "execution_count": 58,
   "metadata": {},
   "outputs": [],
   "source": [
    "_, K_tvlqr = tvlqr(ballbot_model, h, Xref_trajop, Uref_trajop, Q, R, Qf, Nt);"
   ]
  },
  {
   "cell_type": "code",
   "execution_count": 59,
   "metadata": {},
   "outputs": [],
   "source": [
    "#FileIO.save(\"utils/ballbot_tvlqr_8.jld2\",\"tvlqr_8\", U)"
   ]
  },
  {
   "cell_type": "code",
   "execution_count": 60,
   "metadata": {},
   "outputs": [],
   "source": [
    "x0 = xic*1;\n",
    "\n",
    "# Initialize simulation \n",
    "Xsim = [zeros(nx) for i = 1:Nt]\n",
    "Usim = [zeros(nx) for i = 1:(Nt-1)]\n",
    "\n",
    "# Initial condition \n",
    "Xsim[1] = 1*x0\n",
    "\n",
    "# Simulate with closed loop control \n",
    "for i = 1:(Nt-1) \n",
    "    Usim[i] = Uref_trajop[i] - K_tvlqr[i]*(Xsim[i] - Xref_trajop[i])\n",
    "    Xsim[i+1] = rk4(ballbot_model, Xsim[i], Usim[i], h)\n",
    "end"
   ]
  },
  {
   "cell_type": "code",
   "execution_count": 61,
   "metadata": {},
   "outputs": [
    {
     "data": {
      "text/plain": [
       "3×75 Matrix{Float64}:\n",
       " -1.70571  -87.89     -76.121     …  -83.8537    -88.3446   -0.268788\n",
       " -8.56834   67.9118    46.755        -52.839     -66.4901    8.52983\n",
       " -4.38385    4.65898    0.658722      -0.758729   -4.20116   3.97728"
      ]
     },
     "execution_count": 61,
     "metadata": {},
     "output_type": "execute_result"
    }
   ],
   "source": [
    "Xm_sim = hcat(Xsim...)\n",
    "Um_sim = hcat(Usim...)"
   ]
  },
  {
   "cell_type": "code",
   "execution_count": 62,
   "metadata": {},
   "outputs": [
    {
     "data": {
      "image/svg+xml": [
       "<?xml version=\"1.0\" encoding=\"utf-8\"?>\n",
       "<svg xmlns=\"http://www.w3.org/2000/svg\" xmlns:xlink=\"http://www.w3.org/1999/xlink\" width=\"600\" height=\"400\" viewBox=\"0 0 2400 1600\">\n",
       "<defs>\n",
       "  <clipPath id=\"clip800\">\n",
       "    <rect x=\"0\" y=\"0\" width=\"2400\" height=\"1600\"/>\n",
       "  </clipPath>\n",
       "</defs>\n",
       "<path clip-path=\"url(#clip800)\" d=\"M0 1600 L2400 1600 L2400 0 L0 0  Z\" fill=\"#ffffff\" fill-rule=\"evenodd\" fill-opacity=\"1\"/>\n",
       "<defs>\n",
       "  <clipPath id=\"clip801\">\n",
       "    <rect x=\"480\" y=\"0\" width=\"1681\" height=\"1600\"/>\n",
       "  </clipPath>\n",
       "</defs>\n",
       "<path clip-path=\"url(#clip800)\" d=\"M210.746 1423.18 L2352.76 1423.18 L2352.76 123.472 L210.746 123.472  Z\" fill=\"#ffffff\" fill-rule=\"evenodd\" fill-opacity=\"1\"/>\n",
       "<defs>\n",
       "  <clipPath id=\"clip802\">\n",
       "    <rect x=\"210\" y=\"123\" width=\"2143\" height=\"1301\"/>\n",
       "  </clipPath>\n",
       "</defs>\n",
       "<polyline clip-path=\"url(#clip802)\" style=\"stroke:#000000; stroke-linecap:round; stroke-linejoin:round; stroke-width:2; stroke-opacity:0.1; fill:none\" points=\"315.436,1423.18 315.436,123.472 \"/>\n",
       "<polyline clip-path=\"url(#clip802)\" style=\"stroke:#000000; stroke-linecap:round; stroke-linejoin:round; stroke-width:2; stroke-opacity:0.1; fill:none\" points=\"614.306,1423.18 614.306,123.472 \"/>\n",
       "<polyline clip-path=\"url(#clip802)\" style=\"stroke:#000000; stroke-linecap:round; stroke-linejoin:round; stroke-width:2; stroke-opacity:0.1; fill:none\" points=\"913.175,1423.18 913.175,123.472 \"/>\n",
       "<polyline clip-path=\"url(#clip802)\" style=\"stroke:#000000; stroke-linecap:round; stroke-linejoin:round; stroke-width:2; stroke-opacity:0.1; fill:none\" points=\"1212.05,1423.18 1212.05,123.472 \"/>\n",
       "<polyline clip-path=\"url(#clip802)\" style=\"stroke:#000000; stroke-linecap:round; stroke-linejoin:round; stroke-width:2; stroke-opacity:0.1; fill:none\" points=\"1510.91,1423.18 1510.91,123.472 \"/>\n",
       "<polyline clip-path=\"url(#clip802)\" style=\"stroke:#000000; stroke-linecap:round; stroke-linejoin:round; stroke-width:2; stroke-opacity:0.1; fill:none\" points=\"1809.78,1423.18 1809.78,123.472 \"/>\n",
       "<polyline clip-path=\"url(#clip802)\" style=\"stroke:#000000; stroke-linecap:round; stroke-linejoin:round; stroke-width:2; stroke-opacity:0.1; fill:none\" points=\"2108.65,1423.18 2108.65,123.472 \"/>\n",
       "<polyline clip-path=\"url(#clip800)\" style=\"stroke:#000000; stroke-linecap:round; stroke-linejoin:round; stroke-width:4; stroke-opacity:1; fill:none\" points=\"210.746,1423.18 2352.76,1423.18 \"/>\n",
       "<polyline clip-path=\"url(#clip800)\" style=\"stroke:#000000; stroke-linecap:round; stroke-linejoin:round; stroke-width:4; stroke-opacity:1; fill:none\" points=\"315.436,1423.18 315.436,1404.28 \"/>\n",
       "<polyline clip-path=\"url(#clip800)\" style=\"stroke:#000000; stroke-linecap:round; stroke-linejoin:round; stroke-width:4; stroke-opacity:1; fill:none\" points=\"614.306,1423.18 614.306,1404.28 \"/>\n",
       "<polyline clip-path=\"url(#clip800)\" style=\"stroke:#000000; stroke-linecap:round; stroke-linejoin:round; stroke-width:4; stroke-opacity:1; fill:none\" points=\"913.175,1423.18 913.175,1404.28 \"/>\n",
       "<polyline clip-path=\"url(#clip800)\" style=\"stroke:#000000; stroke-linecap:round; stroke-linejoin:round; stroke-width:4; stroke-opacity:1; fill:none\" points=\"1212.05,1423.18 1212.05,1404.28 \"/>\n",
       "<polyline clip-path=\"url(#clip800)\" style=\"stroke:#000000; stroke-linecap:round; stroke-linejoin:round; stroke-width:4; stroke-opacity:1; fill:none\" points=\"1510.91,1423.18 1510.91,1404.28 \"/>\n",
       "<polyline clip-path=\"url(#clip800)\" style=\"stroke:#000000; stroke-linecap:round; stroke-linejoin:round; stroke-width:4; stroke-opacity:1; fill:none\" points=\"1809.78,1423.18 1809.78,1404.28 \"/>\n",
       "<polyline clip-path=\"url(#clip800)\" style=\"stroke:#000000; stroke-linecap:round; stroke-linejoin:round; stroke-width:4; stroke-opacity:1; fill:none\" points=\"2108.65,1423.18 2108.65,1404.28 \"/>\n",
       "<path clip-path=\"url(#clip800)\" d=\"M262.462 1468.75 L292.138 1468.75 L292.138 1472.69 L262.462 1472.69 L262.462 1468.75 Z\" fill=\"#000000\" fill-rule=\"nonzero\" fill-opacity=\"1\" /><path clip-path=\"url(#clip800)\" d=\"M301.05 1451.02 L323.272 1451.02 L323.272 1453.01 L310.726 1485.58 L305.841 1485.58 L317.647 1454.96 L301.05 1454.96 L301.05 1451.02 Z\" fill=\"#000000\" fill-rule=\"nonzero\" fill-opacity=\"1\" /><path clip-path=\"url(#clip800)\" d=\"M332.392 1479.7 L337.276 1479.7 L337.276 1485.58 L332.392 1485.58 L332.392 1479.7 Z\" fill=\"#000000\" fill-rule=\"nonzero\" fill-opacity=\"1\" /><path clip-path=\"url(#clip800)\" d=\"M347.508 1451.02 L365.864 1451.02 L365.864 1454.96 L351.79 1454.96 L351.79 1463.43 Q352.809 1463.08 353.827 1462.92 Q354.846 1462.73 355.864 1462.73 Q361.651 1462.73 365.031 1465.9 Q368.411 1469.08 368.411 1474.49 Q368.411 1480.07 364.938 1483.17 Q361.466 1486.25 355.147 1486.25 Q352.971 1486.25 350.702 1485.88 Q348.457 1485.51 346.05 1484.77 L346.05 1480.07 Q348.133 1481.2 350.355 1481.76 Q352.577 1482.32 355.054 1482.32 Q359.059 1482.32 361.397 1480.21 Q363.735 1478.1 363.735 1474.49 Q363.735 1470.88 361.397 1468.77 Q359.059 1466.67 355.054 1466.67 Q353.179 1466.67 351.304 1467.08 Q349.452 1467.5 347.508 1468.38 L347.508 1451.02 Z\" fill=\"#000000\" fill-rule=\"nonzero\" fill-opacity=\"1\" /><path clip-path=\"url(#clip800)\" d=\"M560.834 1468.75 L590.51 1468.75 L590.51 1472.69 L560.834 1472.69 L560.834 1468.75 Z\" fill=\"#000000\" fill-rule=\"nonzero\" fill-opacity=\"1\" /><path clip-path=\"url(#clip800)\" d=\"M600.649 1451.02 L619.005 1451.02 L619.005 1454.96 L604.931 1454.96 L604.931 1463.43 Q605.949 1463.08 606.968 1462.92 Q607.986 1462.73 609.005 1462.73 Q614.792 1462.73 618.172 1465.9 Q621.551 1469.08 621.551 1474.49 Q621.551 1480.07 618.079 1483.17 Q614.607 1486.25 608.287 1486.25 Q606.112 1486.25 603.843 1485.88 Q601.598 1485.51 599.19 1484.77 L599.19 1480.07 Q601.274 1481.2 603.496 1481.76 Q605.718 1482.32 608.195 1482.32 Q612.199 1482.32 614.537 1480.21 Q616.875 1478.1 616.875 1474.49 Q616.875 1470.88 614.537 1468.77 Q612.199 1466.67 608.195 1466.67 Q606.32 1466.67 604.445 1467.08 Q602.593 1467.5 600.649 1468.38 L600.649 1451.02 Z\" fill=\"#000000\" fill-rule=\"nonzero\" fill-opacity=\"1\" /><path clip-path=\"url(#clip800)\" d=\"M630.764 1479.7 L635.648 1479.7 L635.648 1485.58 L630.764 1485.58 L630.764 1479.7 Z\" fill=\"#000000\" fill-rule=\"nonzero\" fill-opacity=\"1\" /><path clip-path=\"url(#clip800)\" d=\"M655.833 1454.1 Q652.222 1454.1 650.394 1457.66 Q648.588 1461.2 648.588 1468.33 Q648.588 1475.44 650.394 1479.01 Q652.222 1482.55 655.833 1482.55 Q659.468 1482.55 661.273 1479.01 Q663.102 1475.44 663.102 1468.33 Q663.102 1461.2 661.273 1457.66 Q659.468 1454.1 655.833 1454.1 M655.833 1450.39 Q661.644 1450.39 664.699 1455 Q667.778 1459.58 667.778 1468.33 Q667.778 1477.06 664.699 1481.67 Q661.644 1486.25 655.833 1486.25 Q650.023 1486.25 646.945 1481.67 Q643.889 1477.06 643.889 1468.33 Q643.889 1459.58 646.945 1455 Q650.023 1450.39 655.833 1450.39 Z\" fill=\"#000000\" fill-rule=\"nonzero\" fill-opacity=\"1\" /><path clip-path=\"url(#clip800)\" d=\"M860.201 1468.75 L889.877 1468.75 L889.877 1472.69 L860.201 1472.69 L860.201 1468.75 Z\" fill=\"#000000\" fill-rule=\"nonzero\" fill-opacity=\"1\" /><path clip-path=\"url(#clip800)\" d=\"M903.997 1481.64 L920.317 1481.64 L920.317 1485.58 L898.372 1485.58 L898.372 1481.64 Q901.034 1478.89 905.618 1474.26 Q910.224 1469.61 911.405 1468.27 Q913.65 1465.74 914.53 1464.01 Q915.432 1462.25 915.432 1460.56 Q915.432 1457.8 913.488 1456.07 Q911.567 1454.33 908.465 1454.33 Q906.266 1454.33 903.812 1455.09 Q901.382 1455.86 898.604 1457.41 L898.604 1452.69 Q901.428 1451.55 903.882 1450.97 Q906.335 1450.39 908.372 1450.39 Q913.743 1450.39 916.937 1453.08 Q920.131 1455.77 920.131 1460.26 Q920.131 1462.39 919.321 1464.31 Q918.534 1466.2 916.428 1468.8 Q915.849 1469.47 912.747 1472.69 Q909.645 1475.88 903.997 1481.64 Z\" fill=\"#000000\" fill-rule=\"nonzero\" fill-opacity=\"1\" /><path clip-path=\"url(#clip800)\" d=\"M930.131 1479.7 L935.016 1479.7 L935.016 1485.58 L930.131 1485.58 L930.131 1479.7 Z\" fill=\"#000000\" fill-rule=\"nonzero\" fill-opacity=\"1\" /><path clip-path=\"url(#clip800)\" d=\"M945.247 1451.02 L963.603 1451.02 L963.603 1454.96 L949.529 1454.96 L949.529 1463.43 Q950.548 1463.08 951.566 1462.92 Q952.585 1462.73 953.603 1462.73 Q959.39 1462.73 962.77 1465.9 Q966.15 1469.08 966.15 1474.49 Q966.15 1480.07 962.678 1483.17 Q959.205 1486.25 952.886 1486.25 Q950.71 1486.25 948.441 1485.88 Q946.196 1485.51 943.789 1484.77 L943.789 1480.07 Q945.872 1481.2 948.094 1481.76 Q950.316 1482.32 952.793 1482.32 Q956.798 1482.32 959.136 1480.21 Q961.474 1478.1 961.474 1474.49 Q961.474 1470.88 959.136 1468.77 Q956.798 1466.67 952.793 1466.67 Q950.918 1466.67 949.043 1467.08 Q947.191 1467.5 945.247 1468.38 L945.247 1451.02 Z\" fill=\"#000000\" fill-rule=\"nonzero\" fill-opacity=\"1\" /><path clip-path=\"url(#clip800)\" d=\"M1189.43 1454.1 Q1185.82 1454.1 1183.99 1457.66 Q1182.18 1461.2 1182.18 1468.33 Q1182.18 1475.44 1183.99 1479.01 Q1185.82 1482.55 1189.43 1482.55 Q1193.06 1482.55 1194.87 1479.01 Q1196.7 1475.44 1196.7 1468.33 Q1196.7 1461.2 1194.87 1457.66 Q1193.06 1454.1 1189.43 1454.1 M1189.43 1450.39 Q1195.24 1450.39 1198.3 1455 Q1201.37 1459.58 1201.37 1468.33 Q1201.37 1477.06 1198.3 1481.67 Q1195.24 1486.25 1189.43 1486.25 Q1183.62 1486.25 1180.54 1481.67 Q1177.49 1477.06 1177.49 1468.33 Q1177.49 1459.58 1180.54 1455 Q1183.62 1450.39 1189.43 1450.39 Z\" fill=\"#000000\" fill-rule=\"nonzero\" fill-opacity=\"1\" /><path clip-path=\"url(#clip800)\" d=\"M1209.59 1479.7 L1214.48 1479.7 L1214.48 1485.58 L1209.59 1485.58 L1209.59 1479.7 Z\" fill=\"#000000\" fill-rule=\"nonzero\" fill-opacity=\"1\" /><path clip-path=\"url(#clip800)\" d=\"M1234.66 1454.1 Q1231.05 1454.1 1229.22 1457.66 Q1227.42 1461.2 1227.42 1468.33 Q1227.42 1475.44 1229.22 1479.01 Q1231.05 1482.55 1234.66 1482.55 Q1238.29 1482.55 1240.1 1479.01 Q1241.93 1475.44 1241.93 1468.33 Q1241.93 1461.2 1240.1 1457.66 Q1238.29 1454.1 1234.66 1454.1 M1234.66 1450.39 Q1240.47 1450.39 1243.53 1455 Q1246.61 1459.58 1246.61 1468.33 Q1246.61 1477.06 1243.53 1481.67 Q1240.47 1486.25 1234.66 1486.25 Q1228.85 1486.25 1225.77 1481.67 Q1222.72 1477.06 1222.72 1468.33 Q1222.72 1459.58 1225.77 1455 Q1228.85 1450.39 1234.66 1450.39 Z\" fill=\"#000000\" fill-rule=\"nonzero\" fill-opacity=\"1\" /><path clip-path=\"url(#clip800)\" d=\"M1482.65 1481.64 L1498.97 1481.64 L1498.97 1485.58 L1477.03 1485.58 L1477.03 1481.64 Q1479.69 1478.89 1484.27 1474.26 Q1488.88 1469.61 1490.06 1468.27 Q1492.3 1465.74 1493.18 1464.01 Q1494.09 1462.25 1494.09 1460.56 Q1494.09 1457.8 1492.14 1456.07 Q1490.22 1454.33 1487.12 1454.33 Q1484.92 1454.33 1482.47 1455.09 Q1480.04 1455.86 1477.26 1457.41 L1477.26 1452.69 Q1480.08 1451.55 1482.54 1450.97 Q1484.99 1450.39 1487.03 1450.39 Q1492.4 1450.39 1495.59 1453.08 Q1498.79 1455.77 1498.79 1460.26 Q1498.79 1462.39 1497.97 1464.31 Q1497.19 1466.2 1495.08 1468.8 Q1494.5 1469.47 1491.4 1472.69 Q1488.3 1475.88 1482.65 1481.64 Z\" fill=\"#000000\" fill-rule=\"nonzero\" fill-opacity=\"1\" /><path clip-path=\"url(#clip800)\" d=\"M1508.78 1479.7 L1513.67 1479.7 L1513.67 1485.58 L1508.78 1485.58 L1508.78 1479.7 Z\" fill=\"#000000\" fill-rule=\"nonzero\" fill-opacity=\"1\" /><path clip-path=\"url(#clip800)\" d=\"M1523.9 1451.02 L1542.26 1451.02 L1542.26 1454.96 L1528.18 1454.96 L1528.18 1463.43 Q1529.2 1463.08 1530.22 1462.92 Q1531.24 1462.73 1532.26 1462.73 Q1538.04 1462.73 1541.42 1465.9 Q1544.8 1469.08 1544.8 1474.49 Q1544.8 1480.07 1541.33 1483.17 Q1537.86 1486.25 1531.54 1486.25 Q1529.36 1486.25 1527.1 1485.88 Q1524.85 1485.51 1522.44 1484.77 L1522.44 1480.07 Q1524.53 1481.2 1526.75 1481.76 Q1528.97 1482.32 1531.45 1482.32 Q1535.45 1482.32 1537.79 1480.21 Q1540.13 1478.1 1540.13 1474.49 Q1540.13 1470.88 1537.79 1468.77 Q1535.45 1466.67 1531.45 1466.67 Q1529.57 1466.67 1527.7 1467.08 Q1525.85 1467.5 1523.9 1468.38 L1523.9 1451.02 Z\" fill=\"#000000\" fill-rule=\"nonzero\" fill-opacity=\"1\" /><path clip-path=\"url(#clip800)\" d=\"M1776.95 1451.02 L1795.31 1451.02 L1795.31 1454.96 L1781.23 1454.96 L1781.23 1463.43 Q1782.25 1463.08 1783.27 1462.92 Q1784.29 1462.73 1785.31 1462.73 Q1791.09 1462.73 1794.47 1465.9 Q1797.85 1469.08 1797.85 1474.49 Q1797.85 1480.07 1794.38 1483.17 Q1790.91 1486.25 1784.59 1486.25 Q1782.41 1486.25 1780.14 1485.88 Q1777.9 1485.51 1775.49 1484.77 L1775.49 1480.07 Q1777.57 1481.2 1779.8 1481.76 Q1782.02 1482.32 1784.49 1482.32 Q1788.5 1482.32 1790.84 1480.21 Q1793.18 1478.1 1793.18 1474.49 Q1793.18 1470.88 1790.84 1468.77 Q1788.5 1466.67 1784.49 1466.67 Q1782.62 1466.67 1780.74 1467.08 Q1778.89 1467.5 1776.95 1468.38 L1776.95 1451.02 Z\" fill=\"#000000\" fill-rule=\"nonzero\" fill-opacity=\"1\" /><path clip-path=\"url(#clip800)\" d=\"M1807.06 1479.7 L1811.95 1479.7 L1811.95 1485.58 L1807.06 1485.58 L1807.06 1479.7 Z\" fill=\"#000000\" fill-rule=\"nonzero\" fill-opacity=\"1\" /><path clip-path=\"url(#clip800)\" d=\"M1832.13 1454.1 Q1828.52 1454.1 1826.69 1457.66 Q1824.89 1461.2 1824.89 1468.33 Q1824.89 1475.44 1826.69 1479.01 Q1828.52 1482.55 1832.13 1482.55 Q1835.77 1482.55 1837.57 1479.01 Q1839.4 1475.44 1839.4 1468.33 Q1839.4 1461.2 1837.57 1457.66 Q1835.77 1454.1 1832.13 1454.1 M1832.13 1450.39 Q1837.94 1450.39 1841 1455 Q1844.08 1459.58 1844.08 1468.33 Q1844.08 1477.06 1841 1481.67 Q1837.94 1486.25 1832.13 1486.25 Q1826.32 1486.25 1823.24 1481.67 Q1820.19 1477.06 1820.19 1468.33 Q1820.19 1459.58 1823.24 1455 Q1826.32 1450.39 1832.13 1450.39 Z\" fill=\"#000000\" fill-rule=\"nonzero\" fill-opacity=\"1\" /><path clip-path=\"url(#clip800)\" d=\"M2074.97 1451.02 L2097.2 1451.02 L2097.2 1453.01 L2084.65 1485.58 L2079.76 1485.58 L2091.57 1454.96 L2074.97 1454.96 L2074.97 1451.02 Z\" fill=\"#000000\" fill-rule=\"nonzero\" fill-opacity=\"1\" /><path clip-path=\"url(#clip800)\" d=\"M2106.32 1479.7 L2111.2 1479.7 L2111.2 1485.58 L2106.32 1485.58 L2106.32 1479.7 Z\" fill=\"#000000\" fill-rule=\"nonzero\" fill-opacity=\"1\" /><path clip-path=\"url(#clip800)\" d=\"M2121.43 1451.02 L2139.79 1451.02 L2139.79 1454.96 L2125.71 1454.96 L2125.71 1463.43 Q2126.73 1463.08 2127.75 1462.92 Q2128.77 1462.73 2129.79 1462.73 Q2135.57 1462.73 2138.95 1465.9 Q2142.33 1469.08 2142.33 1474.49 Q2142.33 1480.07 2138.86 1483.17 Q2135.39 1486.25 2129.07 1486.25 Q2126.89 1486.25 2124.63 1485.88 Q2122.38 1485.51 2119.97 1484.77 L2119.97 1480.07 Q2122.06 1481.2 2124.28 1481.76 Q2126.5 1482.32 2128.98 1482.32 Q2132.98 1482.32 2135.32 1480.21 Q2137.66 1478.1 2137.66 1474.49 Q2137.66 1470.88 2135.32 1468.77 Q2132.98 1466.67 2128.98 1466.67 Q2127.1 1466.67 2125.23 1467.08 Q2123.38 1467.5 2121.43 1468.38 L2121.43 1451.02 Z\" fill=\"#000000\" fill-rule=\"nonzero\" fill-opacity=\"1\" /><path clip-path=\"url(#clip800)\" d=\"M1232.56 1532.4 L1219.67 1549.74 L1233.23 1568.04 L1226.32 1568.04 L1215.95 1554.04 L1205.57 1568.04 L1198.66 1568.04 L1212.51 1549.39 L1199.84 1532.4 L1206.75 1532.4 L1216.2 1545.1 L1225.65 1532.4 L1232.56 1532.4 Z\" fill=\"#000000\" fill-rule=\"nonzero\" fill-opacity=\"1\" /><path clip-path=\"url(#clip800)\" d=\"M1276.29 1518.58 Q1272.03 1525.9 1269.96 1533.06 Q1267.89 1540.23 1267.89 1547.58 Q1267.89 1554.93 1269.96 1562.16 Q1272.06 1569.35 1276.29 1576.64 L1271.2 1576.64 Q1266.43 1569.16 1264.04 1561.93 Q1261.68 1554.71 1261.68 1547.58 Q1261.68 1540.48 1264.04 1533.29 Q1266.39 1526.09 1271.2 1518.58 L1276.29 1518.58 Z\" fill=\"#000000\" fill-rule=\"nonzero\" fill-opacity=\"1\" /><path clip-path=\"url(#clip800)\" d=\"M1315.41 1539.24 Q1317.61 1535.29 1320.66 1533.41 Q1323.72 1531.54 1327.85 1531.54 Q1333.42 1531.54 1336.45 1535.45 Q1339.47 1539.33 1339.47 1546.53 L1339.47 1568.04 L1333.58 1568.04 L1333.58 1546.72 Q1333.58 1541.59 1331.77 1539.11 Q1329.96 1536.63 1326.23 1536.63 Q1321.68 1536.63 1319.04 1539.65 Q1316.4 1542.68 1316.4 1547.9 L1316.4 1568.04 L1310.51 1568.04 L1310.51 1546.72 Q1310.51 1541.56 1308.69 1539.11 Q1306.88 1536.63 1303.09 1536.63 Q1298.6 1536.63 1295.96 1539.68 Q1293.32 1542.71 1293.32 1547.9 L1293.32 1568.04 L1287.43 1568.04 L1287.43 1532.4 L1293.32 1532.4 L1293.32 1537.93 Q1295.33 1534.66 1298.13 1533.1 Q1300.93 1531.54 1304.78 1531.54 Q1308.66 1531.54 1311.37 1533.51 Q1314.1 1535.48 1315.41 1539.24 Z\" fill=\"#000000\" fill-rule=\"nonzero\" fill-opacity=\"1\" /><path clip-path=\"url(#clip800)\" d=\"M1350.23 1518.58 L1355.32 1518.58 Q1360.1 1526.09 1362.45 1533.29 Q1364.84 1540.48 1364.84 1547.58 Q1364.84 1554.71 1362.45 1561.93 Q1360.1 1569.16 1355.32 1576.64 L1350.23 1576.64 Q1354.46 1569.35 1356.53 1562.16 Q1358.63 1554.93 1358.63 1547.58 Q1358.63 1540.23 1356.53 1533.06 Q1354.46 1525.9 1350.23 1518.58 Z\" fill=\"#000000\" fill-rule=\"nonzero\" fill-opacity=\"1\" /><polyline clip-path=\"url(#clip802)\" style=\"stroke:#000000; stroke-linecap:round; stroke-linejoin:round; stroke-width:2; stroke-opacity:0.1; fill:none\" points=\"210.746,1290.99 2352.76,1290.99 \"/>\n",
       "<polyline clip-path=\"url(#clip802)\" style=\"stroke:#000000; stroke-linecap:round; stroke-linejoin:round; stroke-width:2; stroke-opacity:0.1; fill:none\" points=\"210.746,1032.14 2352.76,1032.14 \"/>\n",
       "<polyline clip-path=\"url(#clip802)\" style=\"stroke:#000000; stroke-linecap:round; stroke-linejoin:round; stroke-width:2; stroke-opacity:0.1; fill:none\" points=\"210.746,773.289 2352.76,773.289 \"/>\n",
       "<polyline clip-path=\"url(#clip802)\" style=\"stroke:#000000; stroke-linecap:round; stroke-linejoin:round; stroke-width:2; stroke-opacity:0.1; fill:none\" points=\"210.746,514.436 2352.76,514.436 \"/>\n",
       "<polyline clip-path=\"url(#clip802)\" style=\"stroke:#000000; stroke-linecap:round; stroke-linejoin:round; stroke-width:2; stroke-opacity:0.1; fill:none\" points=\"210.746,255.584 2352.76,255.584 \"/>\n",
       "<polyline clip-path=\"url(#clip800)\" style=\"stroke:#000000; stroke-linecap:round; stroke-linejoin:round; stroke-width:4; stroke-opacity:1; fill:none\" points=\"210.746,1423.18 210.746,123.472 \"/>\n",
       "<polyline clip-path=\"url(#clip800)\" style=\"stroke:#000000; stroke-linecap:round; stroke-linejoin:round; stroke-width:4; stroke-opacity:1; fill:none\" points=\"210.746,1290.99 229.644,1290.99 \"/>\n",
       "<polyline clip-path=\"url(#clip800)\" style=\"stroke:#000000; stroke-linecap:round; stroke-linejoin:round; stroke-width:4; stroke-opacity:1; fill:none\" points=\"210.746,1032.14 229.644,1032.14 \"/>\n",
       "<polyline clip-path=\"url(#clip800)\" style=\"stroke:#000000; stroke-linecap:round; stroke-linejoin:round; stroke-width:4; stroke-opacity:1; fill:none\" points=\"210.746,773.289 229.644,773.289 \"/>\n",
       "<polyline clip-path=\"url(#clip800)\" style=\"stroke:#000000; stroke-linecap:round; stroke-linejoin:round; stroke-width:4; stroke-opacity:1; fill:none\" points=\"210.746,514.436 229.644,514.436 \"/>\n",
       "<polyline clip-path=\"url(#clip800)\" style=\"stroke:#000000; stroke-linecap:round; stroke-linejoin:round; stroke-width:4; stroke-opacity:1; fill:none\" points=\"210.746,255.584 229.644,255.584 \"/>\n",
       "<path clip-path=\"url(#clip800)\" d=\"M114.631 1291.45 L144.306 1291.45 L144.306 1295.38 L114.631 1295.38 L114.631 1291.45 Z\" fill=\"#000000\" fill-rule=\"nonzero\" fill-opacity=\"1\" /><path clip-path=\"url(#clip800)\" d=\"M158.427 1304.34 L174.746 1304.34 L174.746 1308.27 L152.802 1308.27 L152.802 1304.34 Q155.464 1301.58 160.047 1296.95 Q164.653 1292.3 165.834 1290.96 Q168.079 1288.44 168.959 1286.7 Q169.862 1284.94 169.862 1283.25 Q169.862 1280.5 167.917 1278.76 Q165.996 1277.02 162.894 1277.02 Q160.695 1277.02 158.241 1277.79 Q155.811 1278.55 153.033 1280.1 L153.033 1275.38 Q155.857 1274.25 158.311 1273.67 Q160.765 1273.09 162.802 1273.09 Q168.172 1273.09 171.366 1275.77 Q174.561 1278.46 174.561 1282.95 Q174.561 1285.08 173.751 1287 Q172.964 1288.9 170.857 1291.49 Q170.278 1292.16 167.177 1295.38 Q164.075 1298.57 158.427 1304.34 Z\" fill=\"#000000\" fill-rule=\"nonzero\" fill-opacity=\"1\" /><path clip-path=\"url(#clip800)\" d=\"M114.26 1032.59 L143.936 1032.59 L143.936 1036.53 L114.26 1036.53 L114.26 1032.59 Z\" fill=\"#000000\" fill-rule=\"nonzero\" fill-opacity=\"1\" /><path clip-path=\"url(#clip800)\" d=\"M154.839 1045.49 L162.477 1045.49 L162.477 1019.12 L154.167 1020.79 L154.167 1016.53 L162.431 1014.86 L167.107 1014.86 L167.107 1045.49 L174.746 1045.49 L174.746 1049.42 L154.839 1049.42 L154.839 1045.49 Z\" fill=\"#000000\" fill-rule=\"nonzero\" fill-opacity=\"1\" /><path clip-path=\"url(#clip800)\" d=\"M162.802 759.087 Q159.19 759.087 157.362 762.652 Q155.556 766.194 155.556 773.324 Q155.556 780.43 157.362 783.995 Q159.19 787.536 162.802 787.536 Q166.436 787.536 168.241 783.995 Q170.07 780.43 170.07 773.324 Q170.07 766.194 168.241 762.652 Q166.436 759.087 162.802 759.087 M162.802 755.384 Q168.612 755.384 171.667 759.99 Q174.746 764.574 174.746 773.324 Q174.746 782.05 171.667 786.657 Q168.612 791.24 162.802 791.24 Q156.991 791.24 153.913 786.657 Q150.857 782.05 150.857 773.324 Q150.857 764.574 153.913 759.99 Q156.991 755.384 162.802 755.384 Z\" fill=\"#000000\" fill-rule=\"nonzero\" fill-opacity=\"1\" /><path clip-path=\"url(#clip800)\" d=\"M154.839 527.781 L162.477 527.781 L162.477 501.416 L154.167 503.082 L154.167 498.823 L162.431 497.156 L167.107 497.156 L167.107 527.781 L174.746 527.781 L174.746 531.716 L154.839 531.716 L154.839 527.781 Z\" fill=\"#000000\" fill-rule=\"nonzero\" fill-opacity=\"1\" /><path clip-path=\"url(#clip800)\" d=\"M158.427 268.929 L174.746 268.929 L174.746 272.864 L152.802 272.864 L152.802 268.929 Q155.464 266.174 160.047 261.545 Q164.653 256.892 165.834 255.549 Q168.079 253.026 168.959 251.29 Q169.862 249.531 169.862 247.841 Q169.862 245.086 167.917 243.35 Q165.996 241.614 162.894 241.614 Q160.695 241.614 158.241 242.378 Q155.811 243.142 153.033 244.693 L153.033 239.971 Q155.857 238.836 158.311 238.258 Q160.765 237.679 162.802 237.679 Q168.172 237.679 171.366 240.364 Q174.561 243.049 174.561 247.54 Q174.561 249.67 173.751 251.591 Q172.964 253.489 170.857 256.082 Q170.278 256.753 167.177 259.97 Q164.075 263.165 158.427 268.929 Z\" fill=\"#000000\" fill-rule=\"nonzero\" fill-opacity=\"1\" /><path clip-path=\"url(#clip800)\" d=\"M67.3143 837.349 Q73.68 839.832 75.6216 842.187 Q77.5631 844.542 77.5631 848.489 L77.5631 853.168 L72.6615 853.168 L72.6615 849.73 Q72.6615 847.311 71.5157 845.975 Q70.3699 844.638 66.1048 843.015 L63.4312 841.964 L28.3562 856.383 L28.3562 850.176 L56.238 839.036 L28.3562 827.896 L28.3562 821.689 L67.3143 837.349 Z\" fill=\"#000000\" fill-rule=\"nonzero\" fill-opacity=\"1\" /><path clip-path=\"url(#clip800)\" d=\"M14.5426 778.816 Q21.8632 783.081 29.0246 785.15 Q36.186 787.219 43.5384 787.219 Q50.8908 787.219 58.1159 785.15 Q65.3091 783.05 72.5979 778.816 L72.5979 783.909 Q65.1182 788.683 57.8931 791.07 Q50.668 793.426 43.5384 793.426 Q36.4406 793.426 29.2474 791.07 Q22.0542 788.715 14.5426 783.909 L14.5426 778.816 Z\" fill=\"#000000\" fill-rule=\"nonzero\" fill-opacity=\"1\" /><path clip-path=\"url(#clip800)\" d=\"M35.1993 739.699 Q31.2526 737.503 29.3747 734.447 Q27.4968 731.392 27.4968 727.254 Q27.4968 721.684 31.4117 718.66 Q35.2948 715.637 42.4881 715.637 L64.0042 715.637 L64.0042 721.525 L42.679 721.525 Q37.5546 721.525 35.072 723.339 Q32.5894 725.153 32.5894 728.877 Q32.5894 733.429 35.6131 736.071 Q38.6368 738.712 43.8567 738.712 L64.0042 738.712 L64.0042 744.601 L42.679 744.601 Q37.5228 744.601 35.072 746.415 Q32.5894 748.229 32.5894 752.017 Q32.5894 756.505 35.6449 759.146 Q38.6686 761.788 43.8567 761.788 L64.0042 761.788 L64.0042 767.676 L28.3562 767.676 L28.3562 761.788 L33.8944 761.788 Q30.616 759.783 29.0564 756.982 Q27.4968 754.181 27.4968 750.33 Q27.4968 746.447 29.4702 743.741 Q31.4436 741.004 35.1993 739.699 Z\" fill=\"#000000\" fill-rule=\"nonzero\" fill-opacity=\"1\" /><path clip-path=\"url(#clip800)\" d=\"M14.5426 704.879 L14.5426 699.786 Q22.0542 695.012 29.2474 692.657 Q36.4406 690.269 43.5384 690.269 Q50.668 690.269 57.8931 692.657 Q65.1182 695.012 72.5979 699.786 L72.5979 704.879 Q65.3091 700.646 58.1159 698.577 Q50.8908 696.476 43.5384 696.476 Q36.186 696.476 29.0246 698.577 Q21.8632 700.646 14.5426 704.879 Z\" fill=\"#000000\" fill-rule=\"nonzero\" fill-opacity=\"1\" /><path clip-path=\"url(#clip800)\" d=\"M823.249 14.0809 L823.249 22.0612 Q818.591 19.8332 814.459 18.7395 Q810.327 17.6457 806.479 17.6457 Q799.795 17.6457 796.149 20.2383 Q792.543 22.8309 792.543 27.611 Q792.543 31.6214 794.934 33.6873 Q797.364 35.7128 804.089 36.9686 L809.031 37.9813 Q818.186 39.7232 822.52 44.1387 Q826.895 48.5136 826.895 55.8863 Q826.895 64.6767 820.981 69.2137 Q815.107 73.7508 803.724 73.7508 Q799.43 73.7508 794.569 72.7785 Q789.748 71.8063 784.563 69.9024 L784.563 61.4765 Q789.546 64.2716 794.326 65.6895 Q799.106 67.1073 803.724 67.1073 Q810.732 67.1073 814.54 64.3527 Q818.348 61.598 818.348 56.4939 Q818.348 52.0379 815.593 49.5264 Q812.879 47.0148 806.641 45.759 L801.658 44.7868 Q792.503 42.9639 788.412 39.075 Q784.32 35.1862 784.32 28.2591 Q784.32 20.2383 789.951 15.6203 Q795.622 11.0023 805.547 11.0023 Q809.8 11.0023 814.216 11.7719 Q818.631 12.5416 823.249 14.0809 Z\" fill=\"#000000\" fill-rule=\"nonzero\" fill-opacity=\"1\" /><path clip-path=\"url(#clip800)\" d=\"M839.331 27.2059 L846.785 27.2059 L846.785 72.576 L839.331 72.576 L839.331 27.2059 M839.331 9.54393 L846.785 9.54393 L846.785 18.9825 L839.331 18.9825 L839.331 9.54393 Z\" fill=\"#000000\" fill-rule=\"nonzero\" fill-opacity=\"1\" /><path clip-path=\"url(#clip800)\" d=\"M897.705 35.9153 Q900.5 30.8922 904.389 28.5022 Q908.278 26.1121 913.544 26.1121 Q920.633 26.1121 924.481 31.0947 Q928.33 36.0368 928.33 45.1919 L928.33 72.576 L920.836 72.576 L920.836 45.4349 Q920.836 38.913 918.527 35.7533 Q916.218 32.5936 911.478 32.5936 Q905.685 32.5936 902.323 36.4419 Q898.961 40.2903 898.961 46.9338 L898.961 72.576 L891.467 72.576 L891.467 45.4349 Q891.467 38.8725 889.158 35.7533 Q886.849 32.5936 882.028 32.5936 Q876.316 32.5936 872.954 36.4824 Q869.592 40.3308 869.592 46.9338 L869.592 72.576 L862.098 72.576 L862.098 27.2059 L869.592 27.2059 L869.592 34.2544 Q872.144 30.082 875.709 28.0971 Q879.273 26.1121 884.175 26.1121 Q889.117 26.1121 892.56 28.6237 Q896.044 31.1352 897.705 35.9153 Z\" fill=\"#000000\" fill-rule=\"nonzero\" fill-opacity=\"1\" /><path clip-path=\"url(#clip800)\" d=\"M942.427 54.671 L942.427 27.2059 L949.881 27.2059 L949.881 54.3874 Q949.881 60.8284 952.392 64.0691 Q954.904 67.2693 959.927 67.2693 Q965.963 67.2693 969.446 63.421 Q972.971 59.5726 972.971 52.9291 L972.971 27.2059 L980.424 27.2059 L980.424 72.576 L972.971 72.576 L972.971 65.6084 Q970.257 69.7404 966.651 71.7658 Q963.087 73.7508 958.347 73.7508 Q950.529 73.7508 946.478 68.8897 Q942.427 64.0286 942.427 54.671 M961.183 26.1121 L961.183 26.1121 Z\" fill=\"#000000\" fill-rule=\"nonzero\" fill-opacity=\"1\" /><path clip-path=\"url(#clip800)\" d=\"M995.777 9.54393 L1003.23 9.54393 L1003.23 72.576 L995.777 72.576 L995.777 9.54393 Z\" fill=\"#000000\" fill-rule=\"nonzero\" fill-opacity=\"1\" /><path clip-path=\"url(#clip800)\" d=\"M1039.45 49.7694 Q1030.41 49.7694 1026.93 51.8354 Q1023.45 53.9013 1023.45 58.8839 Q1023.45 62.8538 1026.04 65.2034 Q1028.67 67.5124 1033.17 67.5124 Q1039.37 67.5124 1043.09 63.1374 Q1046.86 58.7219 1046.86 51.4303 L1046.86 49.7694 L1039.45 49.7694 M1054.31 46.6907 L1054.31 72.576 L1046.86 72.576 L1046.86 65.6895 Q1044.31 69.8214 1040.5 71.8063 Q1036.69 73.7508 1031.18 73.7508 Q1024.21 73.7508 1020.08 69.8619 Q1015.99 65.9325 1015.99 59.3701 Q1015.99 51.7138 1021.1 47.825 Q1026.24 43.9361 1036.41 43.9361 L1046.86 43.9361 L1046.86 43.2069 Q1046.86 38.0623 1043.46 35.2672 Q1040.09 32.4315 1033.98 32.4315 Q1030.09 32.4315 1026.4 33.3632 Q1022.72 34.295 1019.31 36.1584 L1019.31 29.2718 Q1023.4 27.692 1027.25 26.9223 Q1031.1 26.1121 1034.75 26.1121 Q1044.59 26.1121 1049.45 31.2163 Q1054.31 36.3204 1054.31 46.6907 Z\" fill=\"#000000\" fill-rule=\"nonzero\" fill-opacity=\"1\" /><path clip-path=\"url(#clip800)\" d=\"M1077.04 14.324 L1077.04 27.2059 L1092.39 27.2059 L1092.39 32.9987 L1077.04 32.9987 L1077.04 57.6282 Q1077.04 63.1779 1078.54 64.7578 Q1080.08 66.3376 1084.74 66.3376 L1092.39 66.3376 L1092.39 72.576 L1084.74 72.576 Q1076.11 72.576 1072.83 69.3758 Q1069.54 66.1351 1069.54 57.6282 L1069.54 32.9987 L1064.08 32.9987 L1064.08 27.2059 L1069.54 27.2059 L1069.54 14.324 L1077.04 14.324 Z\" fill=\"#000000\" fill-rule=\"nonzero\" fill-opacity=\"1\" /><path clip-path=\"url(#clip800)\" d=\"M1102.19 27.2059 L1109.65 27.2059 L1109.65 72.576 L1102.19 72.576 L1102.19 27.2059 M1102.19 9.54393 L1109.65 9.54393 L1109.65 18.9825 L1102.19 18.9825 L1102.19 9.54393 Z\" fill=\"#000000\" fill-rule=\"nonzero\" fill-opacity=\"1\" /><path clip-path=\"url(#clip800)\" d=\"M1142.83 32.4315 Q1136.83 32.4315 1133.35 37.1306 Q1129.86 41.7891 1129.86 49.9314 Q1129.86 58.0738 1133.31 62.7728 Q1136.79 67.4314 1142.83 67.4314 Q1148.78 67.4314 1152.26 62.7323 Q1155.75 58.0333 1155.75 49.9314 Q1155.75 41.8701 1152.26 37.1711 Q1148.78 32.4315 1142.83 32.4315 M1142.83 26.1121 Q1152.55 26.1121 1158.1 32.4315 Q1163.65 38.7509 1163.65 49.9314 Q1163.65 61.0714 1158.1 67.4314 Q1152.55 73.7508 1142.83 73.7508 Q1133.06 73.7508 1127.51 67.4314 Q1122 61.0714 1122 49.9314 Q1122 38.7509 1127.51 32.4315 Q1133.06 26.1121 1142.83 26.1121 Z\" fill=\"#000000\" fill-rule=\"nonzero\" fill-opacity=\"1\" /><path clip-path=\"url(#clip800)\" d=\"M1213.72 45.1919 L1213.72 72.576 L1206.26 72.576 L1206.26 45.4349 Q1206.26 38.994 1203.75 35.7938 Q1201.24 32.5936 1196.22 32.5936 Q1190.18 32.5936 1186.7 36.4419 Q1183.21 40.2903 1183.21 46.9338 L1183.21 72.576 L1175.72 72.576 L1175.72 27.2059 L1183.21 27.2059 L1183.21 34.2544 Q1185.89 30.163 1189.49 28.1376 Q1193.14 26.1121 1197.88 26.1121 Q1205.7 26.1121 1209.71 30.9732 Q1213.72 35.7938 1213.72 45.1919 Z\" fill=\"#000000\" fill-rule=\"nonzero\" fill-opacity=\"1\" /><path clip-path=\"url(#clip800)\" d=\"M1249.61 27.2059 L1257.51 27.2059 L1271.68 65.2844 L1285.86 27.2059 L1293.76 27.2059 L1276.75 72.576 L1266.62 72.576 L1249.61 27.2059 Z\" fill=\"#000000\" fill-rule=\"nonzero\" fill-opacity=\"1\" /><path clip-path=\"url(#clip800)\" d=\"M1332.97 28.5427 L1332.97 35.5912 Q1329.81 33.9709 1326.41 33.1607 Q1323.01 32.3505 1319.36 32.3505 Q1313.81 32.3505 1311.02 34.0519 Q1308.26 35.7533 1308.26 39.156 Q1308.26 41.7486 1310.25 43.2475 Q1312.23 44.7058 1318.23 46.0426 L1320.78 46.6097 Q1328.72 48.3111 1332.04 51.4303 Q1335.41 54.509 1335.41 60.0587 Q1335.41 66.3781 1330.38 70.0644 Q1325.4 73.7508 1316.65 73.7508 Q1313 73.7508 1309.03 73.0216 Q1305.1 72.3329 1300.73 70.9151 L1300.73 63.2184 Q1304.86 65.3654 1308.87 66.4591 Q1312.88 67.5124 1316.81 67.5124 Q1322.08 67.5124 1324.91 65.73 Q1327.75 63.9071 1327.75 60.6258 Q1327.75 57.5877 1325.68 55.9673 Q1323.66 54.3469 1316.73 52.8481 L1314.14 52.2405 Q1307.21 50.7821 1304.13 47.7845 Q1301.05 44.7463 1301.05 39.4801 Q1301.05 33.0797 1305.59 29.5959 Q1310.13 26.1121 1318.47 26.1121 Q1322.6 26.1121 1326.25 26.7198 Q1329.9 27.3274 1332.97 28.5427 Z\" fill=\"#000000\" fill-rule=\"nonzero\" fill-opacity=\"1\" /><path clip-path=\"url(#clip800)\" d=\"M1402.65 44.2197 Q1405.28 45.1109 1407.75 48.0275 Q1410.27 50.9442 1412.78 56.0483 L1421.08 72.576 L1412.29 72.576 L1404.55 57.061 Q1401.56 50.9847 1398.72 48.9997 Q1395.93 47.0148 1391.06 47.0148 L1382.15 47.0148 L1382.15 72.576 L1373.97 72.576 L1373.97 12.096 L1392.44 12.096 Q1402.81 12.096 1407.92 16.4305 Q1413.02 20.7649 1413.02 29.5149 Q1413.02 35.2267 1410.35 38.994 Q1407.71 42.7613 1402.65 44.2197 M1382.15 18.8205 L1382.15 40.2903 L1392.44 40.2903 Q1398.36 40.2903 1401.35 37.5762 Q1404.39 34.8216 1404.39 29.5149 Q1404.39 24.2082 1401.35 21.5346 Q1398.36 18.8205 1392.44 18.8205 L1382.15 18.8205 Z\" fill=\"#000000\" fill-rule=\"nonzero\" fill-opacity=\"1\" /><path clip-path=\"url(#clip800)\" d=\"M1466.37 48.0275 L1466.37 51.6733 L1432.1 51.6733 Q1432.59 59.3701 1436.72 63.421 Q1440.89 67.4314 1448.3 67.4314 Q1452.6 67.4314 1456.61 66.3781 Q1460.66 65.3249 1464.63 63.2184 L1464.63 70.267 Q1460.62 71.9684 1456.41 72.8596 Q1452.19 73.7508 1447.86 73.7508 Q1437 73.7508 1430.64 67.4314 Q1424.32 61.1119 1424.32 50.3365 Q1424.32 39.1965 1430.32 32.6746 Q1436.35 26.1121 1446.56 26.1121 Q1455.72 26.1121 1461.02 32.0264 Q1466.37 37.9003 1466.37 48.0275 M1458.92 45.84 Q1458.84 39.7232 1455.47 36.0774 Q1452.15 32.4315 1446.64 32.4315 Q1440.4 32.4315 1436.64 35.9558 Q1432.91 39.4801 1432.34 45.8805 L1458.92 45.84 Z\" fill=\"#000000\" fill-rule=\"nonzero\" fill-opacity=\"1\" /><path clip-path=\"url(#clip800)\" d=\"M1501.57 9.54393 L1501.57 15.7418 L1494.44 15.7418 Q1490.43 15.7418 1488.85 17.3622 Q1487.31 18.9825 1487.31 23.1955 L1487.31 27.2059 L1499.59 27.2059 L1499.59 32.9987 L1487.31 32.9987 L1487.31 72.576 L1479.82 72.576 L1479.82 32.9987 L1472.69 32.9987 L1472.69 27.2059 L1479.82 27.2059 L1479.82 24.0462 Q1479.82 16.471 1483.34 13.0277 Q1486.87 9.54393 1494.52 9.54393 L1501.57 9.54393 Z\" fill=\"#000000\" fill-rule=\"nonzero\" fill-opacity=\"1\" /><path clip-path=\"url(#clip800)\" d=\"M1546.62 48.0275 L1546.62 51.6733 L1512.35 51.6733 Q1512.83 59.3701 1516.97 63.421 Q1521.14 67.4314 1528.55 67.4314 Q1532.85 67.4314 1536.86 66.3781 Q1540.91 65.3249 1544.88 63.2184 L1544.88 70.267 Q1540.87 71.9684 1536.65 72.8596 Q1532.44 73.7508 1528.11 73.7508 Q1517.25 73.7508 1510.89 67.4314 Q1504.57 61.1119 1504.57 50.3365 Q1504.57 39.1965 1510.57 32.6746 Q1516.6 26.1121 1526.81 26.1121 Q1535.97 26.1121 1541.27 32.0264 Q1546.62 37.9003 1546.62 48.0275 M1539.17 45.84 Q1539.08 39.7232 1535.72 36.0774 Q1532.4 32.4315 1526.89 32.4315 Q1520.65 32.4315 1516.89 35.9558 Q1513.16 39.4801 1512.59 45.8805 L1539.17 45.84 Z\" fill=\"#000000\" fill-rule=\"nonzero\" fill-opacity=\"1\" /><path clip-path=\"url(#clip800)\" d=\"M1585.14 34.1734 Q1583.89 33.4443 1582.39 33.1202 Q1580.93 32.7556 1579.15 32.7556 Q1572.83 32.7556 1569.43 36.8875 Q1566.06 40.9789 1566.06 48.6757 L1566.06 72.576 L1558.57 72.576 L1558.57 27.2059 L1566.06 27.2059 L1566.06 34.2544 Q1568.41 30.1225 1572.18 28.1376 Q1575.95 26.1121 1581.34 26.1121 Q1582.11 26.1121 1583.04 26.2337 Q1583.97 26.3147 1585.1 26.5172 L1585.14 34.1734 Z\" fill=\"#000000\" fill-rule=\"nonzero\" fill-opacity=\"1\" /><path clip-path=\"url(#clip800)\" d=\"M1629.95 48.0275 L1629.95 51.6733 L1595.68 51.6733 Q1596.16 59.3701 1600.29 63.421 Q1604.47 67.4314 1611.88 67.4314 Q1616.17 67.4314 1620.18 66.3781 Q1624.23 65.3249 1628.2 63.2184 L1628.2 70.267 Q1624.19 71.9684 1619.98 72.8596 Q1615.77 73.7508 1611.43 73.7508 Q1600.58 73.7508 1594.22 67.4314 Q1587.9 61.1119 1587.9 50.3365 Q1587.9 39.1965 1593.89 32.6746 Q1599.93 26.1121 1610.14 26.1121 Q1619.29 26.1121 1624.6 32.0264 Q1629.95 37.9003 1629.95 48.0275 M1622.49 45.84 Q1622.41 39.7232 1619.05 36.0774 Q1615.73 32.4315 1610.22 32.4315 Q1603.98 32.4315 1600.21 35.9558 Q1596.49 39.4801 1595.92 45.8805 L1622.49 45.84 Z\" fill=\"#000000\" fill-rule=\"nonzero\" fill-opacity=\"1\" /><path clip-path=\"url(#clip800)\" d=\"M1679.89 45.1919 L1679.89 72.576 L1672.44 72.576 L1672.44 45.4349 Q1672.44 38.994 1669.93 35.7938 Q1667.42 32.5936 1662.39 32.5936 Q1656.36 32.5936 1652.87 36.4419 Q1649.39 40.2903 1649.39 46.9338 L1649.39 72.576 L1641.9 72.576 L1641.9 27.2059 L1649.39 27.2059 L1649.39 34.2544 Q1652.06 30.163 1655.67 28.1376 Q1659.32 26.1121 1664.06 26.1121 Q1671.87 26.1121 1675.88 30.9732 Q1679.89 35.7938 1679.89 45.1919 Z\" fill=\"#000000\" fill-rule=\"nonzero\" fill-opacity=\"1\" /><path clip-path=\"url(#clip800)\" d=\"M1727.41 28.9478 L1727.41 35.9153 Q1724.25 34.1734 1721.05 33.3227 Q1717.89 32.4315 1714.65 32.4315 Q1707.4 32.4315 1703.39 37.0496 Q1699.38 41.6271 1699.38 49.9314 Q1699.38 58.2358 1703.39 62.8538 Q1707.4 67.4314 1714.65 67.4314 Q1717.89 67.4314 1721.05 66.5807 Q1724.25 65.6895 1727.41 63.9476 L1727.41 70.8341 Q1724.29 72.2924 1720.93 73.0216 Q1717.61 73.7508 1713.84 73.7508 Q1703.59 73.7508 1697.56 67.3098 Q1691.52 60.8689 1691.52 49.9314 Q1691.52 38.832 1697.6 32.472 Q1703.71 26.1121 1714.33 26.1121 Q1717.77 26.1121 1721.05 26.8413 Q1724.33 27.5299 1727.41 28.9478 Z\" fill=\"#000000\" fill-rule=\"nonzero\" fill-opacity=\"1\" /><path clip-path=\"url(#clip800)\" d=\"M1779.18 48.0275 L1779.18 51.6733 L1744.91 51.6733 Q1745.4 59.3701 1749.53 63.421 Q1753.7 67.4314 1761.11 67.4314 Q1765.41 67.4314 1769.42 66.3781 Q1773.47 65.3249 1777.44 63.2184 L1777.44 70.267 Q1773.43 71.9684 1769.22 72.8596 Q1765 73.7508 1760.67 73.7508 Q1749.81 73.7508 1743.45 67.4314 Q1737.13 61.1119 1737.13 50.3365 Q1737.13 39.1965 1743.13 32.6746 Q1749.16 26.1121 1759.37 26.1121 Q1768.53 26.1121 1773.83 32.0264 Q1779.18 37.9003 1779.18 48.0275 M1771.73 45.84 Q1771.65 39.7232 1768.28 36.0774 Q1764.96 32.4315 1759.45 32.4315 Q1753.22 32.4315 1749.45 35.9558 Q1745.72 39.4801 1745.15 45.8805 L1771.73 45.84 Z\" fill=\"#000000\" fill-rule=\"nonzero\" fill-opacity=\"1\" /><polyline clip-path=\"url(#clip802)\" style=\"stroke:#009af9; stroke-linecap:round; stroke-linejoin:round; stroke-width:4; stroke-opacity:1; fill:none\" stroke-dasharray=\"16, 10\" points=\"2287.98,773.289 2292,783.262 2287.08,779.649 2260.57,739.427 2217.77,679.017 2162.75,609.89 2098.72,540.442 2028.39,477.066 1954.1,424.491 1877.81,385.966 1801.1,363.448 1725.19,357.797 1650.94,368.977 1578.89,396.239 1509.33,438.29 1442.26,493.434 1377.54,559.691 1314.83,634.89 1253.73,716.738 1193.75,802.872 1134.4,890.894 1075.19,978.4 1015.7,1062.99 955.63,1142.3 894.773,1214.02 833.104,1275.92 770.776,1325.89 708.146,1362.02 645.785,1382.63 584.479,1386.4 525.212,1372.41 469.141,1340.31 417.55,1290.33 371.785,1223.44 333.178,1141.31 302.955,1046.36 282.143,941.686 271.483,830.923 271.369,718.059 281.804,607.208 302.403,502.364 332.433,407.171 370.87,324.734 416.492,257.487 467.97,207.134 523.955,174.636 583.163,160.256 644.434,163.637 706.778,183.886 769.408,219.68 831.747,269.358 893.436,331.003 954.316,402.516 1014.42,481.671 1073.92,566.157 1133.16,653.613 1192.54,741.643 1252.53,827.847 1313.65,909.829 1376.37,985.23 1441.12,1051.76 1508.21,1107.25 1577.81,1149.72 1649.9,1177.47 1724.21,1189.21 1800.19,1184.18 1876.99,1162.32 1953.39,1124.49 2027.81,1072.6 2098.28,1009.89 2162.46,941.019 2217.61,872.349 2260.53,812.205 2287.11,771.963 2292.01,767.858 2287.97,777.432 \"/>\n",
       "<polyline clip-path=\"url(#clip802)\" style=\"stroke:#e26f46; stroke-linecap:round; stroke-linejoin:round; stroke-width:4; stroke-opacity:1; fill:none\" points=\"2287.98,773.289 2292.13,783.599 2285.67,776.792 2260.21,739.468 2219.25,683.238 2165.54,616.923 2102.39,549.201 2032.59,486.673 1958.57,434.259 1882.31,395.371 1805.46,372.12 1729.27,365.507 1654.64,375.614 1582.16,401.78 1512.13,442.769 1444.61,496.924 1379.44,562.285 1316.33,636.69 1254.87,717.851 1194.58,803.404 1134.95,890.948 1075.52,978.07 1015.87,1062.37 955.666,1141.47 894.721,1213.04 832.999,1274.86 770.649,1324.81 708.024,1360.95 645.689,1381.62 584.425,1385.49 525.21,1371.63 469.196,1339.69 417.66,1289.91 371.942,1223.22 333.367,1141.32 303.156,1046.61 282.335,942.171 271.645,831.624 271.481,718.943 281.851,608.233 302.377,503.477 332.326,408.317 370.682,325.857 416.226,258.535 467.635,208.062 523.565,175.41 582.734,160.854 643.984,164.047 706.327,184.109 768.973,219.724 831.344,269.236 893.076,330.732 954.008,402.114 1014.16,481.156 1073.73,565.546 1133.02,652.922 1192.45,740.89 1252.5,827.047 1313.66,908.999 1376.41,984.388 1441.18,1050.92 1508.28,1106.44 1577.88,1148.96 1649.95,1176.78 1724.23,1188.61 1800.17,1183.69 1876.92,1161.98 1953.25,1124.33 2027.58,1072.68 2097.97,1010.25 2162.08,941.72 2217.19,873.406 2260.13,813.544 2286.8,773.387 2291.9,769.009 2288.88,775.697 \"/>\n",
       "<path clip-path=\"url(#clip800)\" d=\"M1847.62 322.316 L2281.36 322.316 L2281.36 166.796 L1847.62 166.796  Z\" fill=\"#ffffff\" fill-rule=\"evenodd\" fill-opacity=\"1\"/>\n",
       "<polyline clip-path=\"url(#clip800)\" style=\"stroke:#000000; stroke-linecap:round; stroke-linejoin:round; stroke-width:4; stroke-opacity:1; fill:none\" points=\"1847.62,322.316 2281.36,322.316 2281.36,166.796 1847.62,166.796 1847.62,322.316 \"/>\n",
       "<polyline clip-path=\"url(#clip800)\" style=\"stroke:#009af9; stroke-linecap:round; stroke-linejoin:round; stroke-width:4; stroke-opacity:1; fill:none\" stroke-dasharray=\"16, 10\" points=\"1871.42,218.636 2014.22,218.636 \"/>\n",
       "<path clip-path=\"url(#clip800)\" d=\"M2053.2 213.971 Q2052.49 213.555 2051.63 213.37 Q2050.8 213.161 2049.78 213.161 Q2046.17 213.161 2044.22 215.522 Q2042.3 217.86 2042.3 222.258 L2042.3 235.916 L2038.02 235.916 L2038.02 209.99 L2042.3 209.99 L2042.3 214.018 Q2043.64 211.657 2045.8 210.522 Q2047.95 209.365 2051.03 209.365 Q2051.47 209.365 2052 209.434 Q2052.53 209.481 2053.18 209.596 L2053.2 213.971 Z\" fill=\"#000000\" fill-rule=\"nonzero\" fill-opacity=\"1\" /><path clip-path=\"url(#clip800)\" d=\"M2078.81 221.888 L2078.81 223.971 L2059.22 223.971 Q2059.5 228.369 2061.86 230.684 Q2064.25 232.976 2068.48 232.976 Q2070.94 232.976 2073.23 232.374 Q2075.54 231.772 2077.81 230.569 L2077.81 234.596 Q2075.52 235.568 2073.11 236.078 Q2070.7 236.587 2068.23 236.587 Q2062.02 236.587 2058.39 232.976 Q2054.78 229.365 2054.78 223.207 Q2054.78 216.842 2058.2 213.115 Q2061.65 209.365 2067.49 209.365 Q2072.72 209.365 2075.75 212.745 Q2078.81 216.101 2078.81 221.888 M2074.55 220.638 Q2074.5 217.143 2072.58 215.059 Q2070.68 212.976 2067.53 212.976 Q2063.97 212.976 2061.82 214.99 Q2059.69 217.004 2059.36 220.661 L2074.55 220.638 Z\" fill=\"#000000\" fill-rule=\"nonzero\" fill-opacity=\"1\" /><path clip-path=\"url(#clip800)\" d=\"M2098.92 199.897 L2098.92 203.439 L2094.85 203.439 Q2092.56 203.439 2091.65 204.365 Q2090.77 205.291 2090.77 207.698 L2090.77 209.99 L2097.79 209.99 L2097.79 213.3 L2090.77 213.3 L2090.77 235.916 L2086.49 235.916 L2086.49 213.3 L2082.42 213.3 L2082.42 209.99 L2086.49 209.99 L2086.49 208.184 Q2086.49 203.856 2088.51 201.888 Q2090.52 199.897 2094.89 199.897 L2098.92 199.897 Z\" fill=\"#000000\" fill-rule=\"nonzero\" fill-opacity=\"1\" /><path clip-path=\"url(#clip800)\" d=\"M2124.66 221.888 L2124.66 223.971 L2105.08 223.971 Q2105.36 228.369 2107.72 230.684 Q2110.1 232.976 2114.34 232.976 Q2116.79 232.976 2119.08 232.374 Q2121.4 231.772 2123.67 230.569 L2123.67 234.596 Q2121.38 235.568 2118.97 236.078 Q2116.56 236.587 2114.08 236.587 Q2107.88 236.587 2104.25 232.976 Q2100.64 229.365 2100.64 223.207 Q2100.64 216.842 2104.06 213.115 Q2107.51 209.365 2113.34 209.365 Q2118.57 209.365 2121.61 212.745 Q2124.66 216.101 2124.66 221.888 M2120.4 220.638 Q2120.36 217.143 2118.44 215.059 Q2116.54 212.976 2113.39 212.976 Q2109.82 212.976 2107.67 214.99 Q2105.54 217.004 2105.22 220.661 L2120.4 220.638 Z\" fill=\"#000000\" fill-rule=\"nonzero\" fill-opacity=\"1\" /><path clip-path=\"url(#clip800)\" d=\"M2146.68 213.971 Q2145.96 213.555 2145.1 213.37 Q2144.27 213.161 2143.25 213.161 Q2139.64 213.161 2137.69 215.522 Q2135.77 217.86 2135.77 222.258 L2135.77 235.916 L2131.49 235.916 L2131.49 209.99 L2135.77 209.99 L2135.77 214.018 Q2137.12 211.657 2139.27 210.522 Q2141.42 209.365 2144.5 209.365 Q2144.94 209.365 2145.47 209.434 Q2146.01 209.481 2146.65 209.596 L2146.68 213.971 Z\" fill=\"#000000\" fill-rule=\"nonzero\" fill-opacity=\"1\" /><path clip-path=\"url(#clip800)\" d=\"M2172.28 221.888 L2172.28 223.971 L2152.69 223.971 Q2152.97 228.369 2155.33 230.684 Q2157.72 232.976 2161.95 232.976 Q2164.41 232.976 2166.7 232.374 Q2169.01 231.772 2171.28 230.569 L2171.28 234.596 Q2168.99 235.568 2166.58 236.078 Q2164.18 236.587 2161.7 236.587 Q2155.5 236.587 2151.86 232.976 Q2148.25 229.365 2148.25 223.207 Q2148.25 216.842 2151.68 213.115 Q2155.13 209.365 2160.96 209.365 Q2166.19 209.365 2169.22 212.745 Q2172.28 216.101 2172.28 221.888 M2168.02 220.638 Q2167.97 217.143 2166.05 215.059 Q2164.15 212.976 2161.01 212.976 Q2157.44 212.976 2155.29 214.99 Q2153.16 217.004 2152.83 220.661 L2168.02 220.638 Z\" fill=\"#000000\" fill-rule=\"nonzero\" fill-opacity=\"1\" /><path clip-path=\"url(#clip800)\" d=\"M2200.82 220.268 L2200.82 235.916 L2196.56 235.916 L2196.56 220.407 Q2196.56 216.726 2195.13 214.897 Q2193.69 213.069 2190.82 213.069 Q2187.37 213.069 2185.38 215.268 Q2183.39 217.467 2183.39 221.263 L2183.39 235.916 L2179.11 235.916 L2179.11 209.99 L2183.39 209.99 L2183.39 214.018 Q2184.92 211.68 2186.98 210.522 Q2189.06 209.365 2191.77 209.365 Q2196.24 209.365 2198.53 212.143 Q2200.82 214.897 2200.82 220.268 Z\" fill=\"#000000\" fill-rule=\"nonzero\" fill-opacity=\"1\" /><path clip-path=\"url(#clip800)\" d=\"M2227.97 210.985 L2227.97 214.967 Q2226.17 213.971 2224.34 213.485 Q2222.53 212.976 2220.68 212.976 Q2216.54 212.976 2214.25 215.615 Q2211.95 218.231 2211.95 222.976 Q2211.95 227.721 2214.25 230.36 Q2216.54 232.976 2220.68 232.976 Q2222.53 232.976 2224.34 232.49 Q2226.17 231.981 2227.97 230.985 L2227.97 234.92 Q2226.19 235.754 2224.27 236.17 Q2222.37 236.587 2220.22 236.587 Q2214.36 236.587 2210.91 232.906 Q2207.46 229.226 2207.46 222.976 Q2207.46 216.633 2210.94 212.999 Q2214.43 209.365 2220.5 209.365 Q2222.46 209.365 2224.34 209.782 Q2226.21 210.175 2227.97 210.985 Z\" fill=\"#000000\" fill-rule=\"nonzero\" fill-opacity=\"1\" /><path clip-path=\"url(#clip800)\" d=\"M2257.56 221.888 L2257.56 223.971 L2237.97 223.971 Q2238.25 228.369 2240.61 230.684 Q2243 232.976 2247.23 232.976 Q2249.69 232.976 2251.98 232.374 Q2254.29 231.772 2256.56 230.569 L2256.56 234.596 Q2254.27 235.568 2251.86 236.078 Q2249.45 236.587 2246.98 236.587 Q2240.77 236.587 2237.14 232.976 Q2233.53 229.365 2233.53 223.207 Q2233.53 216.842 2236.95 213.115 Q2240.4 209.365 2246.24 209.365 Q2251.47 209.365 2254.5 212.745 Q2257.56 216.101 2257.56 221.888 M2253.3 220.638 Q2253.25 217.143 2251.33 215.059 Q2249.43 212.976 2246.28 212.976 Q2242.72 212.976 2240.56 214.99 Q2238.44 217.004 2238.11 220.661 L2253.3 220.638 Z\" fill=\"#000000\" fill-rule=\"nonzero\" fill-opacity=\"1\" /><polyline clip-path=\"url(#clip800)\" style=\"stroke:#e26f46; stroke-linecap:round; stroke-linejoin:round; stroke-width:4; stroke-opacity:1; fill:none\" points=\"1871.42,270.476 2014.22,270.476 \"/>\n",
       "<path clip-path=\"url(#clip800)\" d=\"M2051.42 274.723 Q2046.26 274.723 2044.27 275.904 Q2042.28 277.084 2042.28 279.932 Q2042.28 282.2 2043.76 283.543 Q2045.26 284.862 2047.83 284.862 Q2051.38 284.862 2053.51 282.362 Q2055.66 279.839 2055.66 275.672 L2055.66 274.723 L2051.42 274.723 M2059.92 272.964 L2059.92 287.756 L2055.66 287.756 L2055.66 283.821 Q2054.2 286.182 2052.02 287.316 Q2049.85 288.427 2046.7 288.427 Q2042.72 288.427 2040.36 286.205 Q2038.02 283.959 2038.02 280.209 Q2038.02 275.834 2040.94 273.612 Q2043.88 271.39 2049.69 271.39 L2055.66 271.39 L2055.66 270.973 Q2055.66 268.034 2053.71 266.436 Q2051.79 264.816 2048.3 264.816 Q2046.08 264.816 2043.97 265.348 Q2041.86 265.881 2039.92 266.946 L2039.92 263.01 Q2042.26 262.108 2044.45 261.668 Q2046.65 261.205 2048.74 261.205 Q2054.36 261.205 2057.14 264.122 Q2059.92 267.038 2059.92 272.964 Z\" fill=\"#000000\" fill-rule=\"nonzero\" fill-opacity=\"1\" /><path clip-path=\"url(#clip800)\" d=\"M2087.35 262.825 L2087.35 266.807 Q2085.54 265.811 2083.71 265.325 Q2081.91 264.816 2080.06 264.816 Q2075.91 264.816 2073.62 267.455 Q2071.33 270.071 2071.33 274.816 Q2071.33 279.561 2073.62 282.2 Q2075.91 284.816 2080.06 284.816 Q2081.91 284.816 2083.71 284.33 Q2085.54 283.821 2087.35 282.825 L2087.35 286.76 Q2085.57 287.594 2083.64 288.01 Q2081.75 288.427 2079.59 288.427 Q2073.74 288.427 2070.29 284.746 Q2066.84 281.066 2066.84 274.816 Q2066.84 268.473 2070.31 264.839 Q2073.81 261.205 2079.87 261.205 Q2081.84 261.205 2083.71 261.622 Q2085.59 262.015 2087.35 262.825 Z\" fill=\"#000000\" fill-rule=\"nonzero\" fill-opacity=\"1\" /><path clip-path=\"url(#clip800)\" d=\"M2098.97 254.469 L2098.97 261.83 L2107.74 261.83 L2107.74 265.14 L2098.97 265.14 L2098.97 279.214 Q2098.97 282.385 2099.82 283.288 Q2100.7 284.191 2103.37 284.191 L2107.74 284.191 L2107.74 287.756 L2103.37 287.756 Q2098.44 287.756 2096.56 285.927 Q2094.69 284.075 2094.69 279.214 L2094.69 265.14 L2091.56 265.14 L2091.56 261.83 L2094.69 261.83 L2094.69 254.469 L2098.97 254.469 Z\" fill=\"#000000\" fill-rule=\"nonzero\" fill-opacity=\"1\" /><path clip-path=\"url(#clip800)\" d=\"M2112.9 277.524 L2112.9 261.83 L2117.16 261.83 L2117.16 277.362 Q2117.16 281.043 2118.6 282.895 Q2120.03 284.723 2122.9 284.723 Q2126.35 284.723 2128.34 282.524 Q2130.36 280.325 2130.36 276.529 L2130.36 261.83 L2134.62 261.83 L2134.62 287.756 L2130.36 287.756 L2130.36 283.774 Q2128.81 286.135 2126.75 287.293 Q2124.71 288.427 2122 288.427 Q2117.53 288.427 2115.22 285.649 Q2112.9 282.871 2112.9 277.524 M2123.62 261.205 L2123.62 261.205 Z\" fill=\"#000000\" fill-rule=\"nonzero\" fill-opacity=\"1\" /><path clip-path=\"url(#clip800)\" d=\"M2155.17 274.723 Q2150.01 274.723 2148.02 275.904 Q2146.03 277.084 2146.03 279.932 Q2146.03 282.2 2147.51 283.543 Q2149.01 284.862 2151.58 284.862 Q2155.13 284.862 2157.26 282.362 Q2159.41 279.839 2159.41 275.672 L2159.41 274.723 L2155.17 274.723 M2163.67 272.964 L2163.67 287.756 L2159.41 287.756 L2159.41 283.821 Q2157.95 286.182 2155.77 287.316 Q2153.6 288.427 2150.45 288.427 Q2146.47 288.427 2144.11 286.205 Q2141.77 283.959 2141.77 280.209 Q2141.77 275.834 2144.69 273.612 Q2147.63 271.39 2153.44 271.39 L2159.41 271.39 L2159.41 270.973 Q2159.41 268.034 2157.46 266.436 Q2155.54 264.816 2152.05 264.816 Q2149.82 264.816 2147.72 265.348 Q2145.61 265.881 2143.67 266.946 L2143.67 263.01 Q2146.01 262.108 2148.2 261.668 Q2150.4 261.205 2152.49 261.205 Q2158.11 261.205 2160.89 264.122 Q2163.67 267.038 2163.67 272.964 Z\" fill=\"#000000\" fill-rule=\"nonzero\" fill-opacity=\"1\" /><path clip-path=\"url(#clip800)\" d=\"M2172.44 251.737 L2176.7 251.737 L2176.7 287.756 L2172.44 287.756 L2172.44 251.737 Z\" fill=\"#000000\" fill-rule=\"nonzero\" fill-opacity=\"1\" /></svg>\n"
      ]
     },
     "metadata": {},
     "output_type": "display_data"
    }
   ],
   "source": [
    "plot(Xm[1,:], Xm[2,:], ls = :dash, label = \"reference\",\n",
    "         xlabel = \"x (m)\", ylabel = \"y (m)\", title = \"Simulation vs Reference\")\n",
    "display(plot!(Xm_sim[1,:], Xm_sim[2,:], label = \"actual\"))"
   ]
  },
  {
   "cell_type": "code",
   "execution_count": 63,
   "metadata": {},
   "outputs": [
    {
     "data": {
      "image/svg+xml": [
       "<?xml version=\"1.0\" encoding=\"utf-8\"?>\n",
       "<svg xmlns=\"http://www.w3.org/2000/svg\" xmlns:xlink=\"http://www.w3.org/1999/xlink\" width=\"600\" height=\"400\" viewBox=\"0 0 2400 1600\">\n",
       "<defs>\n",
       "  <clipPath id=\"clip840\">\n",
       "    <rect x=\"0\" y=\"0\" width=\"2400\" height=\"1600\"/>\n",
       "  </clipPath>\n",
       "</defs>\n",
       "<path clip-path=\"url(#clip840)\" d=\"M0 1600 L2400 1600 L2400 0 L0 0  Z\" fill=\"#ffffff\" fill-rule=\"evenodd\" fill-opacity=\"1\"/>\n",
       "<defs>\n",
       "  <clipPath id=\"clip841\">\n",
       "    <rect x=\"480\" y=\"0\" width=\"1681\" height=\"1600\"/>\n",
       "  </clipPath>\n",
       "</defs>\n",
       "<path clip-path=\"url(#clip840)\" d=\"M178.867 1486.45 L2352.76 1486.45 L2352.76 47.2441 L178.867 47.2441  Z\" fill=\"#ffffff\" fill-rule=\"evenodd\" fill-opacity=\"1\"/>\n",
       "<defs>\n",
       "  <clipPath id=\"clip842\">\n",
       "    <rect x=\"178\" y=\"47\" width=\"2175\" height=\"1440\"/>\n",
       "  </clipPath>\n",
       "</defs>\n",
       "<polyline clip-path=\"url(#clip842)\" style=\"stroke:#000000; stroke-linecap:round; stroke-linejoin:round; stroke-width:2; stroke-opacity:0.1; fill:none\" points=\"240.392,1486.45 240.392,47.2441 \"/>\n",
       "<polyline clip-path=\"url(#clip842)\" style=\"stroke:#000000; stroke-linecap:round; stroke-linejoin:round; stroke-width:2; stroke-opacity:0.1; fill:none\" points=\"656.102,1486.45 656.102,47.2441 \"/>\n",
       "<polyline clip-path=\"url(#clip842)\" style=\"stroke:#000000; stroke-linecap:round; stroke-linejoin:round; stroke-width:2; stroke-opacity:0.1; fill:none\" points=\"1071.81,1486.45 1071.81,47.2441 \"/>\n",
       "<polyline clip-path=\"url(#clip842)\" style=\"stroke:#000000; stroke-linecap:round; stroke-linejoin:round; stroke-width:2; stroke-opacity:0.1; fill:none\" points=\"1487.52,1486.45 1487.52,47.2441 \"/>\n",
       "<polyline clip-path=\"url(#clip842)\" style=\"stroke:#000000; stroke-linecap:round; stroke-linejoin:round; stroke-width:2; stroke-opacity:0.1; fill:none\" points=\"1903.23,1486.45 1903.23,47.2441 \"/>\n",
       "<polyline clip-path=\"url(#clip842)\" style=\"stroke:#000000; stroke-linecap:round; stroke-linejoin:round; stroke-width:2; stroke-opacity:0.1; fill:none\" points=\"2318.94,1486.45 2318.94,47.2441 \"/>\n",
       "<polyline clip-path=\"url(#clip840)\" style=\"stroke:#000000; stroke-linecap:round; stroke-linejoin:round; stroke-width:4; stroke-opacity:1; fill:none\" points=\"178.867,1486.45 2352.76,1486.45 \"/>\n",
       "<polyline clip-path=\"url(#clip840)\" style=\"stroke:#000000; stroke-linecap:round; stroke-linejoin:round; stroke-width:4; stroke-opacity:1; fill:none\" points=\"240.392,1486.45 240.392,1467.55 \"/>\n",
       "<polyline clip-path=\"url(#clip840)\" style=\"stroke:#000000; stroke-linecap:round; stroke-linejoin:round; stroke-width:4; stroke-opacity:1; fill:none\" points=\"656.102,1486.45 656.102,1467.55 \"/>\n",
       "<polyline clip-path=\"url(#clip840)\" style=\"stroke:#000000; stroke-linecap:round; stroke-linejoin:round; stroke-width:4; stroke-opacity:1; fill:none\" points=\"1071.81,1486.45 1071.81,1467.55 \"/>\n",
       "<polyline clip-path=\"url(#clip840)\" style=\"stroke:#000000; stroke-linecap:round; stroke-linejoin:round; stroke-width:4; stroke-opacity:1; fill:none\" points=\"1487.52,1486.45 1487.52,1467.55 \"/>\n",
       "<polyline clip-path=\"url(#clip840)\" style=\"stroke:#000000; stroke-linecap:round; stroke-linejoin:round; stroke-width:4; stroke-opacity:1; fill:none\" points=\"1903.23,1486.45 1903.23,1467.55 \"/>\n",
       "<polyline clip-path=\"url(#clip840)\" style=\"stroke:#000000; stroke-linecap:round; stroke-linejoin:round; stroke-width:4; stroke-opacity:1; fill:none\" points=\"2318.94,1486.45 2318.94,1467.55 \"/>\n",
       "<path clip-path=\"url(#clip840)\" d=\"M240.392 1517.37 Q236.781 1517.37 234.952 1520.93 Q233.146 1524.47 233.146 1531.6 Q233.146 1538.71 234.952 1542.27 Q236.781 1545.82 240.392 1545.82 Q244.026 1545.82 245.832 1542.27 Q247.66 1538.71 247.66 1531.6 Q247.66 1524.47 245.832 1520.93 Q244.026 1517.37 240.392 1517.37 M240.392 1513.66 Q246.202 1513.66 249.257 1518.27 Q252.336 1522.85 252.336 1531.6 Q252.336 1540.33 249.257 1544.94 Q246.202 1549.52 240.392 1549.52 Q234.582 1549.52 231.503 1544.94 Q228.447 1540.33 228.447 1531.6 Q228.447 1522.85 231.503 1518.27 Q234.582 1513.66 240.392 1513.66 Z\" fill=\"#000000\" fill-rule=\"nonzero\" fill-opacity=\"1\" /><path clip-path=\"url(#clip840)\" d=\"M646.38 1514.29 L664.737 1514.29 L664.737 1518.22 L650.663 1518.22 L650.663 1526.7 Q651.681 1526.35 652.7 1526.19 Q653.718 1526 654.737 1526 Q660.524 1526 663.903 1529.17 Q667.283 1532.34 667.283 1537.76 Q667.283 1543.34 663.811 1546.44 Q660.338 1549.52 654.019 1549.52 Q651.843 1549.52 649.575 1549.15 Q647.329 1548.78 644.922 1548.04 L644.922 1543.34 Q647.005 1544.47 649.227 1545.03 Q651.45 1545.58 653.926 1545.58 Q657.931 1545.58 660.269 1543.48 Q662.607 1541.37 662.607 1537.76 Q662.607 1534.15 660.269 1532.04 Q657.931 1529.94 653.926 1529.94 Q652.051 1529.94 650.177 1530.35 Q648.325 1530.77 646.38 1531.65 L646.38 1514.29 Z\" fill=\"#000000\" fill-rule=\"nonzero\" fill-opacity=\"1\" /><path clip-path=\"url(#clip840)\" d=\"M1046.5 1544.91 L1054.14 1544.91 L1054.14 1518.55 L1045.83 1520.21 L1045.83 1515.95 L1054.09 1514.29 L1058.77 1514.29 L1058.77 1544.91 L1066.41 1544.91 L1066.41 1548.85 L1046.5 1548.85 L1046.5 1544.91 Z\" fill=\"#000000\" fill-rule=\"nonzero\" fill-opacity=\"1\" /><path clip-path=\"url(#clip840)\" d=\"M1085.85 1517.37 Q1082.24 1517.37 1080.41 1520.93 Q1078.61 1524.47 1078.61 1531.6 Q1078.61 1538.71 1080.41 1542.27 Q1082.24 1545.82 1085.85 1545.82 Q1089.49 1545.82 1091.29 1542.27 Q1093.12 1538.71 1093.12 1531.6 Q1093.12 1524.47 1091.29 1520.93 Q1089.49 1517.37 1085.85 1517.37 M1085.85 1513.66 Q1091.66 1513.66 1094.72 1518.27 Q1097.8 1522.85 1097.8 1531.6 Q1097.8 1540.33 1094.72 1544.94 Q1091.66 1549.52 1085.85 1549.52 Q1080.04 1549.52 1076.96 1544.94 Q1073.91 1540.33 1073.91 1531.6 Q1073.91 1522.85 1076.96 1518.27 Q1080.04 1513.66 1085.85 1513.66 Z\" fill=\"#000000\" fill-rule=\"nonzero\" fill-opacity=\"1\" /><path clip-path=\"url(#clip840)\" d=\"M1462.71 1544.91 L1470.35 1544.91 L1470.35 1518.55 L1462.04 1520.21 L1462.04 1515.95 L1470.3 1514.29 L1474.98 1514.29 L1474.98 1544.91 L1482.62 1544.91 L1482.62 1548.85 L1462.71 1548.85 L1462.71 1544.91 Z\" fill=\"#000000\" fill-rule=\"nonzero\" fill-opacity=\"1\" /><path clip-path=\"url(#clip840)\" d=\"M1492.11 1514.29 L1510.46 1514.29 L1510.46 1518.22 L1496.39 1518.22 L1496.39 1526.7 Q1497.41 1526.35 1498.43 1526.19 Q1499.44 1526 1500.46 1526 Q1506.25 1526 1509.63 1529.17 Q1513.01 1532.34 1513.01 1537.76 Q1513.01 1543.34 1509.54 1546.44 Q1506.07 1549.52 1499.75 1549.52 Q1497.57 1549.52 1495.3 1549.15 Q1493.06 1548.78 1490.65 1548.04 L1490.65 1543.34 Q1492.73 1544.47 1494.95 1545.03 Q1497.18 1545.58 1499.65 1545.58 Q1503.66 1545.58 1506 1543.48 Q1508.33 1541.37 1508.33 1537.76 Q1508.33 1534.15 1506 1532.04 Q1503.66 1529.94 1499.65 1529.94 Q1497.78 1529.94 1495.9 1530.35 Q1494.05 1530.77 1492.11 1531.65 L1492.11 1514.29 Z\" fill=\"#000000\" fill-rule=\"nonzero\" fill-opacity=\"1\" /><path clip-path=\"url(#clip840)\" d=\"M1882.01 1544.91 L1898.33 1544.91 L1898.33 1548.85 L1876.38 1548.85 L1876.38 1544.91 Q1879.04 1542.16 1883.63 1537.53 Q1888.23 1532.88 1889.41 1531.53 Q1891.66 1529.01 1892.54 1527.27 Q1893.44 1525.51 1893.44 1523.82 Q1893.44 1521.07 1891.5 1519.33 Q1889.58 1517.6 1886.48 1517.6 Q1884.28 1517.6 1881.82 1518.36 Q1879.39 1519.13 1876.61 1520.68 L1876.61 1515.95 Q1879.44 1514.82 1881.89 1514.24 Q1884.35 1513.66 1886.38 1513.66 Q1891.75 1513.66 1894.95 1516.35 Q1898.14 1519.03 1898.14 1523.52 Q1898.14 1525.65 1897.33 1527.57 Q1896.54 1529.47 1894.44 1532.07 Q1893.86 1532.74 1890.76 1535.95 Q1887.66 1539.15 1882.01 1544.91 Z\" fill=\"#000000\" fill-rule=\"nonzero\" fill-opacity=\"1\" /><path clip-path=\"url(#clip840)\" d=\"M1918.14 1517.37 Q1914.53 1517.37 1912.7 1520.93 Q1910.9 1524.47 1910.9 1531.6 Q1910.9 1538.71 1912.7 1542.27 Q1914.53 1545.82 1918.14 1545.82 Q1921.78 1545.82 1923.58 1542.27 Q1925.41 1538.71 1925.41 1531.6 Q1925.41 1524.47 1923.58 1520.93 Q1921.78 1517.37 1918.14 1517.37 M1918.14 1513.66 Q1923.95 1513.66 1927.01 1518.27 Q1930.09 1522.85 1930.09 1531.6 Q1930.09 1540.33 1927.01 1544.94 Q1923.95 1549.52 1918.14 1549.52 Q1912.33 1549.52 1909.25 1544.94 Q1906.2 1540.33 1906.2 1531.6 Q1906.2 1522.85 1909.25 1518.27 Q1912.33 1513.66 1918.14 1513.66 Z\" fill=\"#000000\" fill-rule=\"nonzero\" fill-opacity=\"1\" /><path clip-path=\"url(#clip840)\" d=\"M2298.22 1544.91 L2314.54 1544.91 L2314.54 1548.85 L2292.59 1548.85 L2292.59 1544.91 Q2295.25 1542.16 2299.84 1537.53 Q2304.44 1532.88 2305.62 1531.53 Q2307.87 1529.01 2308.75 1527.27 Q2309.65 1525.51 2309.65 1523.82 Q2309.65 1521.07 2307.71 1519.33 Q2305.79 1517.6 2302.68 1517.6 Q2300.48 1517.6 2298.03 1518.36 Q2295.6 1519.13 2292.82 1520.68 L2292.82 1515.95 Q2295.65 1514.82 2298.1 1514.24 Q2300.55 1513.66 2302.59 1513.66 Q2307.96 1513.66 2311.16 1516.35 Q2314.35 1519.03 2314.35 1523.52 Q2314.35 1525.65 2313.54 1527.57 Q2312.75 1529.47 2310.65 1532.07 Q2310.07 1532.74 2306.97 1535.95 Q2303.86 1539.15 2298.22 1544.91 Z\" fill=\"#000000\" fill-rule=\"nonzero\" fill-opacity=\"1\" /><path clip-path=\"url(#clip840)\" d=\"M2324.4 1514.29 L2342.75 1514.29 L2342.75 1518.22 L2328.68 1518.22 L2328.68 1526.7 Q2329.7 1526.35 2330.72 1526.19 Q2331.73 1526 2332.75 1526 Q2338.54 1526 2341.92 1529.17 Q2345.3 1532.34 2345.3 1537.76 Q2345.3 1543.34 2341.83 1546.44 Q2338.35 1549.52 2332.03 1549.52 Q2329.86 1549.52 2327.59 1549.15 Q2325.35 1548.78 2322.94 1548.04 L2322.94 1543.34 Q2325.02 1544.47 2327.24 1545.03 Q2329.47 1545.58 2331.94 1545.58 Q2335.95 1545.58 2338.28 1543.48 Q2340.62 1541.37 2340.62 1537.76 Q2340.62 1534.15 2338.28 1532.04 Q2335.95 1529.94 2331.94 1529.94 Q2330.07 1529.94 2328.19 1530.35 Q2326.34 1530.77 2324.4 1531.65 L2324.4 1514.29 Z\" fill=\"#000000\" fill-rule=\"nonzero\" fill-opacity=\"1\" /><polyline clip-path=\"url(#clip842)\" style=\"stroke:#000000; stroke-linecap:round; stroke-linejoin:round; stroke-width:2; stroke-opacity:0.1; fill:none\" points=\"178.867,1329.76 2352.76,1329.76 \"/>\n",
       "<polyline clip-path=\"url(#clip842)\" style=\"stroke:#000000; stroke-linecap:round; stroke-linejoin:round; stroke-width:2; stroke-opacity:0.1; fill:none\" points=\"178.867,1112.53 2352.76,1112.53 \"/>\n",
       "<polyline clip-path=\"url(#clip842)\" style=\"stroke:#000000; stroke-linecap:round; stroke-linejoin:round; stroke-width:2; stroke-opacity:0.1; fill:none\" points=\"178.867,895.303 2352.76,895.303 \"/>\n",
       "<polyline clip-path=\"url(#clip842)\" style=\"stroke:#000000; stroke-linecap:round; stroke-linejoin:round; stroke-width:2; stroke-opacity:0.1; fill:none\" points=\"178.867,678.074 2352.76,678.074 \"/>\n",
       "<polyline clip-path=\"url(#clip842)\" style=\"stroke:#000000; stroke-linecap:round; stroke-linejoin:round; stroke-width:2; stroke-opacity:0.1; fill:none\" points=\"178.867,460.844 2352.76,460.844 \"/>\n",
       "<polyline clip-path=\"url(#clip842)\" style=\"stroke:#000000; stroke-linecap:round; stroke-linejoin:round; stroke-width:2; stroke-opacity:0.1; fill:none\" points=\"178.867,243.615 2352.76,243.615 \"/>\n",
       "<polyline clip-path=\"url(#clip840)\" style=\"stroke:#000000; stroke-linecap:round; stroke-linejoin:round; stroke-width:4; stroke-opacity:1; fill:none\" points=\"178.867,1486.45 178.867,47.2441 \"/>\n",
       "<polyline clip-path=\"url(#clip840)\" style=\"stroke:#000000; stroke-linecap:round; stroke-linejoin:round; stroke-width:4; stroke-opacity:1; fill:none\" points=\"178.867,1329.76 197.764,1329.76 \"/>\n",
       "<polyline clip-path=\"url(#clip840)\" style=\"stroke:#000000; stroke-linecap:round; stroke-linejoin:round; stroke-width:4; stroke-opacity:1; fill:none\" points=\"178.867,1112.53 197.764,1112.53 \"/>\n",
       "<polyline clip-path=\"url(#clip840)\" style=\"stroke:#000000; stroke-linecap:round; stroke-linejoin:round; stroke-width:4; stroke-opacity:1; fill:none\" points=\"178.867,895.303 197.764,895.303 \"/>\n",
       "<polyline clip-path=\"url(#clip840)\" style=\"stroke:#000000; stroke-linecap:round; stroke-linejoin:round; stroke-width:4; stroke-opacity:1; fill:none\" points=\"178.867,678.074 197.764,678.074 \"/>\n",
       "<polyline clip-path=\"url(#clip840)\" style=\"stroke:#000000; stroke-linecap:round; stroke-linejoin:round; stroke-width:4; stroke-opacity:1; fill:none\" points=\"178.867,460.844 197.764,460.844 \"/>\n",
       "<polyline clip-path=\"url(#clip840)\" style=\"stroke:#000000; stroke-linecap:round; stroke-linejoin:round; stroke-width:4; stroke-opacity:1; fill:none\" points=\"178.867,243.615 197.764,243.615 \"/>\n",
       "<path clip-path=\"url(#clip840)\" d=\"M51.9875 1330.21 L81.6633 1330.21 L81.6633 1334.15 L51.9875 1334.15 L51.9875 1330.21 Z\" fill=\"#000000\" fill-rule=\"nonzero\" fill-opacity=\"1\" /><path clip-path=\"url(#clip840)\" d=\"M90.5752 1312.48 L112.797 1312.48 L112.797 1314.47 L100.251 1347.04 L95.3669 1347.04 L107.172 1316.42 L90.5752 1316.42 L90.5752 1312.48 Z\" fill=\"#000000\" fill-rule=\"nonzero\" fill-opacity=\"1\" /><path clip-path=\"url(#clip840)\" d=\"M121.964 1312.48 L140.32 1312.48 L140.32 1316.42 L126.246 1316.42 L126.246 1324.89 Q127.265 1324.54 128.283 1324.38 Q129.302 1324.19 130.32 1324.19 Q136.107 1324.19 139.487 1327.37 Q142.867 1330.54 142.867 1335.95 Q142.867 1341.53 139.394 1344.63 Q135.922 1347.71 129.603 1347.71 Q127.427 1347.71 125.158 1347.34 Q122.913 1346.97 120.506 1346.23 L120.506 1341.53 Q122.589 1342.67 124.811 1343.22 Q127.033 1343.78 129.51 1343.78 Q133.515 1343.78 135.853 1341.67 Q138.191 1339.57 138.191 1335.95 Q138.191 1332.34 135.853 1330.24 Q133.515 1328.13 129.51 1328.13 Q127.635 1328.13 125.76 1328.55 Q123.908 1328.96 121.964 1329.84 L121.964 1312.48 Z\" fill=\"#000000\" fill-rule=\"nonzero\" fill-opacity=\"1\" /><path clip-path=\"url(#clip840)\" d=\"M50.9921 1112.98 L80.6679 1112.98 L80.6679 1116.92 L50.9921 1116.92 L50.9921 1112.98 Z\" fill=\"#000000\" fill-rule=\"nonzero\" fill-opacity=\"1\" /><path clip-path=\"url(#clip840)\" d=\"M90.8067 1095.25 L109.163 1095.25 L109.163 1099.19 L95.0891 1099.19 L95.0891 1107.66 Q96.1076 1107.31 97.1261 1107.15 Q98.1447 1106.97 99.1632 1106.97 Q104.95 1106.97 108.33 1110.14 Q111.709 1113.31 111.709 1118.72 Q111.709 1124.3 108.237 1127.41 Q104.765 1130.48 98.4456 1130.48 Q96.2697 1130.48 94.0012 1130.11 Q91.7558 1129.74 89.3484 1129 L89.3484 1124.3 Q91.4317 1125.44 93.6539 1125.99 Q95.8761 1126.55 98.353 1126.55 Q102.358 1126.55 104.696 1124.44 Q107.033 1122.34 107.033 1118.72 Q107.033 1115.11 104.696 1113.01 Q102.358 1110.9 98.353 1110.9 Q96.478 1110.9 94.603 1111.32 Q92.7512 1111.73 90.8067 1112.61 L90.8067 1095.25 Z\" fill=\"#000000\" fill-rule=\"nonzero\" fill-opacity=\"1\" /><path clip-path=\"url(#clip840)\" d=\"M130.922 1098.33 Q127.311 1098.33 125.482 1101.9 Q123.677 1105.44 123.677 1112.57 Q123.677 1119.67 125.482 1123.24 Q127.311 1126.78 130.922 1126.78 Q134.556 1126.78 136.362 1123.24 Q138.191 1119.67 138.191 1112.57 Q138.191 1105.44 136.362 1101.9 Q134.556 1098.33 130.922 1098.33 M130.922 1094.63 Q136.732 1094.63 139.788 1099.23 Q142.867 1103.82 142.867 1112.57 Q142.867 1121.29 139.788 1125.9 Q136.732 1130.48 130.922 1130.48 Q125.112 1130.48 122.033 1125.9 Q118.978 1121.29 118.978 1112.57 Q118.978 1103.82 122.033 1099.23 Q125.112 1094.63 130.922 1094.63 Z\" fill=\"#000000\" fill-rule=\"nonzero\" fill-opacity=\"1\" /><path clip-path=\"url(#clip840)\" d=\"M51.9875 895.754 L81.6633 895.754 L81.6633 899.69 L51.9875 899.69 L51.9875 895.754 Z\" fill=\"#000000\" fill-rule=\"nonzero\" fill-opacity=\"1\" /><path clip-path=\"url(#clip840)\" d=\"M95.7836 908.648 L112.103 908.648 L112.103 912.583 L90.1586 912.583 L90.1586 908.648 Q92.8206 905.893 97.4039 901.264 Q102.01 896.611 103.191 895.268 Q105.436 892.745 106.316 891.009 Q107.219 889.25 107.219 887.56 Q107.219 884.805 105.274 883.069 Q103.353 881.333 100.251 881.333 Q98.0521 881.333 95.5984 882.097 Q93.1678 882.861 90.3901 884.412 L90.3901 879.69 Q93.2141 878.555 95.6678 877.977 Q98.1215 877.398 100.159 877.398 Q105.529 877.398 108.723 880.083 Q111.918 882.768 111.918 887.259 Q111.918 889.389 111.108 891.31 Q110.321 893.208 108.214 895.801 Q107.635 896.472 104.534 899.69 Q101.432 902.884 95.7836 908.648 Z\" fill=\"#000000\" fill-rule=\"nonzero\" fill-opacity=\"1\" /><path clip-path=\"url(#clip840)\" d=\"M121.964 878.023 L140.32 878.023 L140.32 881.958 L126.246 881.958 L126.246 890.43 Q127.265 890.083 128.283 889.921 Q129.302 889.736 130.32 889.736 Q136.107 889.736 139.487 892.907 Q142.867 896.078 142.867 901.495 Q142.867 907.074 139.394 910.176 Q135.922 913.254 129.603 913.254 Q127.427 913.254 125.158 912.884 Q122.913 912.514 120.506 911.773 L120.506 907.074 Q122.589 908.208 124.811 908.764 Q127.033 909.319 129.51 909.319 Q133.515 909.319 135.853 907.213 Q138.191 905.106 138.191 901.495 Q138.191 897.884 135.853 895.778 Q133.515 893.671 129.51 893.671 Q127.635 893.671 125.76 894.088 Q123.908 894.504 121.964 895.384 L121.964 878.023 Z\" fill=\"#000000\" fill-rule=\"nonzero\" fill-opacity=\"1\" /><path clip-path=\"url(#clip840)\" d=\"M130.922 663.872 Q127.311 663.872 125.482 667.437 Q123.677 670.979 123.677 678.108 Q123.677 685.215 125.482 688.78 Q127.311 692.321 130.922 692.321 Q134.556 692.321 136.362 688.78 Q138.191 685.215 138.191 678.108 Q138.191 670.979 136.362 667.437 Q134.556 663.872 130.922 663.872 M130.922 660.169 Q136.732 660.169 139.788 664.775 Q142.867 669.358 142.867 678.108 Q142.867 686.835 139.788 691.442 Q136.732 696.025 130.922 696.025 Q125.112 696.025 122.033 691.442 Q118.978 686.835 118.978 678.108 Q118.978 669.358 122.033 664.775 Q125.112 660.169 130.922 660.169 Z\" fill=\"#000000\" fill-rule=\"nonzero\" fill-opacity=\"1\" /><path clip-path=\"url(#clip840)\" d=\"M95.7836 474.189 L112.103 474.189 L112.103 478.124 L90.1586 478.124 L90.1586 474.189 Q92.8206 471.434 97.4039 466.805 Q102.01 462.152 103.191 460.809 Q105.436 458.286 106.316 456.55 Q107.219 454.791 107.219 453.101 Q107.219 450.346 105.274 448.61 Q103.353 446.874 100.251 446.874 Q98.0521 446.874 95.5984 447.638 Q93.1678 448.402 90.3901 449.953 L90.3901 445.231 Q93.2141 444.097 95.6678 443.518 Q98.1215 442.939 100.159 442.939 Q105.529 442.939 108.723 445.624 Q111.918 448.309 111.918 452.8 Q111.918 454.93 111.108 456.851 Q110.321 458.749 108.214 461.342 Q107.635 462.013 104.534 465.231 Q101.432 468.425 95.7836 474.189 Z\" fill=\"#000000\" fill-rule=\"nonzero\" fill-opacity=\"1\" /><path clip-path=\"url(#clip840)\" d=\"M121.964 443.564 L140.32 443.564 L140.32 447.499 L126.246 447.499 L126.246 455.971 Q127.265 455.624 128.283 455.462 Q129.302 455.277 130.32 455.277 Q136.107 455.277 139.487 458.448 Q142.867 461.62 142.867 467.036 Q142.867 472.615 139.394 475.717 Q135.922 478.795 129.603 478.795 Q127.427 478.795 125.158 478.425 Q122.913 478.055 120.506 477.314 L120.506 472.615 Q122.589 473.749 124.811 474.305 Q127.033 474.86 129.51 474.86 Q133.515 474.86 135.853 472.754 Q138.191 470.647 138.191 467.036 Q138.191 463.425 135.853 461.319 Q133.515 459.212 129.51 459.212 Q127.635 459.212 125.76 459.629 Q123.908 460.045 121.964 460.925 L121.964 443.564 Z\" fill=\"#000000\" fill-rule=\"nonzero\" fill-opacity=\"1\" /><path clip-path=\"url(#clip840)\" d=\"M90.8067 226.335 L109.163 226.335 L109.163 230.27 L95.0891 230.27 L95.0891 238.742 Q96.1076 238.395 97.1261 238.233 Q98.1447 238.048 99.1632 238.048 Q104.95 238.048 108.33 241.219 Q111.709 244.39 111.709 249.807 Q111.709 255.385 108.237 258.487 Q104.765 261.566 98.4456 261.566 Q96.2697 261.566 94.0012 261.196 Q91.7558 260.825 89.3484 260.084 L89.3484 255.385 Q91.4317 256.52 93.6539 257.075 Q95.8761 257.631 98.353 257.631 Q102.358 257.631 104.696 255.524 Q107.033 253.418 107.033 249.807 Q107.033 246.196 104.696 244.089 Q102.358 241.983 98.353 241.983 Q96.478 241.983 94.603 242.399 Q92.7512 242.816 90.8067 243.696 L90.8067 226.335 Z\" fill=\"#000000\" fill-rule=\"nonzero\" fill-opacity=\"1\" /><path clip-path=\"url(#clip840)\" d=\"M130.922 229.413 Q127.311 229.413 125.482 232.978 Q123.677 236.52 123.677 243.649 Q123.677 250.756 125.482 254.321 Q127.311 257.862 130.922 257.862 Q134.556 257.862 136.362 254.321 Q138.191 250.756 138.191 243.649 Q138.191 236.52 136.362 232.978 Q134.556 229.413 130.922 229.413 M130.922 225.71 Q136.732 225.71 139.788 230.316 Q142.867 234.899 142.867 243.649 Q142.867 252.376 139.788 256.983 Q136.732 261.566 130.922 261.566 Q125.112 261.566 122.033 256.983 Q118.978 252.376 118.978 243.649 Q118.978 234.899 122.033 230.316 Q125.112 225.71 130.922 225.71 Z\" fill=\"#000000\" fill-rule=\"nonzero\" fill-opacity=\"1\" /><polyline clip-path=\"url(#clip842)\" style=\"stroke:#009af9; stroke-linecap:round; stroke-linejoin:round; stroke-width:4; stroke-opacity:1; fill:none\" points=\"240.392,692.895 268.106,1441.77 295.82,1339.5 323.534,1283.64 351.248,1151.32 378.962,1030.61 406.676,920.79 434.39,825.691 462.104,746.399 489.818,682.938 517.532,634.887 545.246,601.399 572.96,581.2 600.674,572.677 628.388,573.983 656.102,583.143 683.816,598.145 711.53,616.995 739.245,637.757 766.959,658.579 794.673,677.696 822.387,693.452 850.101,704.309 877.815,708.88 905.529,705.969 933.243,694.63 960.957,674.246 988.671,644.623 1016.38,606.087 1044.1,559.587 1071.81,506.77 1099.53,450.016 1127.24,392.391 1154.96,337.511 1182.67,289.264 1210.38,251.43 1238.1,227.212 1265.81,218.773 1293.53,226.891 1321.24,250.822 1348.95,288.424 1376.67,336.501 1404.38,391.273 1432.1,448.853 1459.81,505.637 1487.52,558.567 1515.24,605.27 1542.95,644.092 1570.67,674.065 1598.38,694.836 1626.09,706.571 1653.81,709.861 1681.52,705.627 1709.24,695.048 1736.95,679.495 1764.66,660.488 1792.38,639.666 1820.09,618.765 1847.81,599.606 1875.52,584.085 1903.23,574.15 1930.95,571.779 1958.66,578.938 1986.38,597.515 2014.09,629.239 2041.8,675.572 2069.52,737.582 2097.23,815.809 2124.95,910.14 2152.66,1019.72 2180.37,1142.87 2208.09,1276.18 2235.8,1406.69 2263.52,1445.72 2291.23,680.409 \"/>\n",
       "<polyline clip-path=\"url(#clip842)\" style=\"stroke:#e26f46; stroke-linecap:round; stroke-linejoin:round; stroke-width:4; stroke-opacity:1; fill:none\" points=\"240.392,752.525 268.106,87.9763 295.82,271.811 323.534,395.836 351.248,569.908 378.962,712.164 406.676,825.545 434.39,909.392 462.104,966.114 489.818,998.938 517.532,1011.28 545.246,1006.68 572.96,988.578 600.674,960.156 628.388,924.171 656.102,882.886 683.816,838.07 711.53,791.047 739.245,742.769 766.959,693.919 794.673,645.009 822.387,596.483 850.101,548.814 877.815,502.589 905.529,458.59 933.243,417.841 960.957,381.641 988.671,351.556 1016.38,329.372 1044.1,316.989 1071.81,316.268 1099.53,328.812 1127.24,355.705 1154.96,397.236 1182.67,452.649 1210.38,519.993 1238.1,596.132 1265.81,676.964 1293.53,757.842 1321.24,834.113 1348.95,901.669 1376.67,957.363 1404.38,999.235 1432.1,1026.52 1459.81,1039.5 1487.52,1039.23 1515.24,1027.3 1542.95,1005.56 1570.67,975.887 1598.38,940.066 1626.09,899.66 1653.81,855.971 1681.52,810.026 1709.24,762.606 1736.95,714.298 1764.66,665.57 1792.38,616.853 1820.09,568.64 1847.81,521.582 1875.52,476.585 1903.23,434.9 1930.95,398.2 1958.66,368.633 1986.38,348.856 2014.09,342.008 2041.8,351.646 2069.52,381.584 2097.23,435.65 2124.95,517.328 2152.66,629.293 2180.37,772.799 2208.09,946.289 2235.8,1137.2 2263.52,1255.82 2291.23,603.956 \"/>\n",
       "<polyline clip-path=\"url(#clip842)\" style=\"stroke:#3da44d; stroke-linecap:round; stroke-linejoin:round; stroke-width:4; stroke-opacity:1; fill:none\" points=\"240.392,716.166 268.106,637.591 295.82,672.35 323.534,678.932 351.248,680.079 378.962,679.609 406.676,679.224 434.39,678.896 462.104,678.662 489.818,678.504 517.532,678.385 545.246,678.287 572.96,678.209 600.674,678.153 628.388,678.119 656.102,678.102 683.816,678.097 711.53,678.097 739.245,678.1 766.959,678.102 794.673,678.103 822.387,678.103 850.101,678.102 877.815,678.101 905.529,678.101 933.243,678.102 960.957,678.104 988.671,678.105 1016.38,678.105 1044.1,678.102 1071.81,678.093 1099.53,678.079 1127.24,678.062 1154.96,678.045 1182.67,678.034 1210.38,678.035 1238.1,678.048 1265.81,678.068 1293.53,678.087 1321.24,678.097 1348.95,678.095 1376.67,678.083 1404.38,678.067 1432.1,678.054 1459.81,678.047 1487.52,678.046 1515.24,678.048 1542.95,678.053 1570.67,678.056 1598.38,678.059 1626.09,678.061 1653.81,678.061 1681.52,678.061 1709.24,678.061 1736.95,678.06 1764.66,678.06 1792.38,678.059 1820.09,678.057 1847.81,678.053 1875.52,678.046 1903.23,678.032 1930.95,678.01 1958.66,677.973 1986.38,677.915 2014.09,677.829 2041.8,677.701 2069.52,677.515 2097.23,677.251 2124.95,676.894 2152.66,676.481 2180.37,676.279 2208.09,677.405 2235.8,684.666 2263.52,714.578 2291.23,643.514 \"/>\n",
       "<path clip-path=\"url(#clip840)\" d=\"M2009.9 302.578 L2280.29 302.578 L2280.29 95.2176 L2009.9 95.2176  Z\" fill=\"#ffffff\" fill-rule=\"evenodd\" fill-opacity=\"1\"/>\n",
       "<polyline clip-path=\"url(#clip840)\" style=\"stroke:#000000; stroke-linecap:round; stroke-linejoin:round; stroke-width:4; stroke-opacity:1; fill:none\" points=\"2009.9,302.578 2280.29,302.578 2280.29,95.2176 2009.9,95.2176 2009.9,302.578 \"/>\n",
       "<polyline clip-path=\"url(#clip840)\" style=\"stroke:#009af9; stroke-linecap:round; stroke-linejoin:round; stroke-width:4; stroke-opacity:1; fill:none\" points=\"2034.05,147.058 2178.98,147.058 \"/>\n",
       "<path clip-path=\"url(#clip840)\" d=\"M2216.97 166.745 Q2215.17 171.375 2213.45 172.787 Q2211.74 174.199 2208.87 174.199 L2205.47 174.199 L2205.47 170.634 L2207.97 170.634 Q2209.73 170.634 2210.7 169.8 Q2211.67 168.967 2212.85 165.865 L2213.62 163.921 L2203.13 138.412 L2207.64 138.412 L2215.75 158.689 L2223.85 138.412 L2228.36 138.412 L2216.97 166.745 Z\" fill=\"#000000\" fill-rule=\"nonzero\" fill-opacity=\"1\" /><path clip-path=\"url(#clip840)\" d=\"M2235.65 160.402 L2243.29 160.402 L2243.29 134.037 L2234.98 135.703 L2234.98 131.444 L2243.25 129.778 L2247.92 129.778 L2247.92 160.402 L2255.56 160.402 L2255.56 164.338 L2235.65 164.338 L2235.65 160.402 Z\" fill=\"#000000\" fill-rule=\"nonzero\" fill-opacity=\"1\" /><polyline clip-path=\"url(#clip840)\" style=\"stroke:#e26f46; stroke-linecap:round; stroke-linejoin:round; stroke-width:4; stroke-opacity:1; fill:none\" points=\"2034.05,198.898 2178.98,198.898 \"/>\n",
       "<path clip-path=\"url(#clip840)\" d=\"M2216.97 218.585 Q2215.17 223.215 2213.45 224.627 Q2211.74 226.039 2208.87 226.039 L2205.47 226.039 L2205.47 222.474 L2207.97 222.474 Q2209.73 222.474 2210.7 221.64 Q2211.67 220.807 2212.85 217.705 L2213.62 215.761 L2203.13 190.252 L2207.64 190.252 L2215.75 210.529 L2223.85 190.252 L2228.36 190.252 L2216.97 218.585 Z\" fill=\"#000000\" fill-rule=\"nonzero\" fill-opacity=\"1\" /><path clip-path=\"url(#clip840)\" d=\"M2238.87 212.242 L2255.19 212.242 L2255.19 216.178 L2233.25 216.178 L2233.25 212.242 Q2235.91 209.488 2240.49 204.858 Q2245.1 200.205 2246.28 198.863 Q2248.52 196.34 2249.4 194.604 Q2250.31 192.844 2250.31 191.155 Q2250.31 188.4 2248.36 186.664 Q2246.44 184.928 2243.34 184.928 Q2241.14 184.928 2238.68 185.692 Q2236.25 186.455 2233.48 188.006 L2233.48 183.284 Q2236.3 182.15 2238.75 181.571 Q2241.21 180.993 2243.25 180.993 Q2248.62 180.993 2251.81 183.678 Q2255 186.363 2255 190.854 Q2255 192.983 2254.19 194.905 Q2253.41 196.803 2251.3 199.395 Q2250.72 200.067 2247.62 203.284 Q2244.52 206.479 2238.87 212.242 Z\" fill=\"#000000\" fill-rule=\"nonzero\" fill-opacity=\"1\" /><polyline clip-path=\"url(#clip840)\" style=\"stroke:#3da44d; stroke-linecap:round; stroke-linejoin:round; stroke-width:4; stroke-opacity:1; fill:none\" points=\"2034.05,250.738 2178.98,250.738 \"/>\n",
       "<path clip-path=\"url(#clip840)\" d=\"M2216.97 270.425 Q2215.17 275.055 2213.45 276.467 Q2211.74 277.879 2208.87 277.879 L2205.47 277.879 L2205.47 274.314 L2207.97 274.314 Q2209.73 274.314 2210.7 273.48 Q2211.67 272.647 2212.85 269.545 L2213.62 267.601 L2203.13 242.092 L2207.64 242.092 L2215.75 262.369 L2223.85 242.092 L2228.36 242.092 L2216.97 270.425 Z\" fill=\"#000000\" fill-rule=\"nonzero\" fill-opacity=\"1\" /><path clip-path=\"url(#clip840)\" d=\"M2249.01 249.383 Q2252.37 250.101 2254.24 252.369 Q2256.14 254.638 2256.14 257.971 Q2256.14 263.087 2252.62 265.888 Q2249.1 268.689 2242.62 268.689 Q2240.44 268.689 2238.13 268.249 Q2235.84 267.832 2233.38 266.976 L2233.38 262.462 Q2235.33 263.596 2237.64 264.175 Q2239.96 264.754 2242.48 264.754 Q2246.88 264.754 2249.17 263.018 Q2251.49 261.281 2251.49 257.971 Q2251.49 254.916 2249.33 253.203 Q2247.2 251.467 2243.38 251.467 L2239.36 251.467 L2239.36 247.624 L2243.57 247.624 Q2247.02 247.624 2248.85 246.258 Q2250.68 244.87 2250.68 242.277 Q2250.68 239.615 2248.78 238.203 Q2246.9 236.768 2243.38 236.768 Q2241.46 236.768 2239.26 237.184 Q2237.06 237.601 2234.43 238.481 L2234.43 234.314 Q2237.09 233.573 2239.4 233.203 Q2241.74 232.833 2243.8 232.833 Q2249.12 232.833 2252.23 235.263 Q2255.33 237.67 2255.33 241.791 Q2255.33 244.661 2253.68 246.652 Q2252.04 248.62 2249.01 249.383 Z\" fill=\"#000000\" fill-rule=\"nonzero\" fill-opacity=\"1\" /></svg>\n"
      ]
     },
     "execution_count": 63,
     "metadata": {},
     "output_type": "execute_result"
    }
   ],
   "source": [
    "plot(thist[1:Nt-1],Um_sim[1,:])\n",
    "plot!(thist[1:Nt-1],Um_sim[2,:])\n",
    "plot!(thist[1:Nt-1],Um_sim[3,:])"
   ]
  },
  {
   "cell_type": "code",
   "execution_count": 64,
   "metadata": {},
   "outputs": [],
   "source": [
    "Xs = [SVector{5}(x[1:5]) for x in Xsim];"
   ]
  },
  {
   "cell_type": "code",
   "execution_count": 65,
   "metadata": {},
   "outputs": [
    {
     "data": {
      "text/plain": [
       "vis_traj! (generic function with 1 method)"
      ]
     },
     "execution_count": 65,
     "metadata": {},
     "output_type": "execute_result"
    }
   ],
   "source": [
    "function vis_traj!(vis, name, X; R = 0.1, color = mc.RGBA(1.0, 0.0, 0.0, 1.0))\n",
    "    # visualize a trajectory expressed with X::Vector{Vector}\n",
    "    #for i = 1:(length(X)-1)\n",
    "    #    a = [X[i][2]; -X[i][1]; 0.0]\n",
    "    #    b = [X[i][2]; -X[i+1][1]; 0.0]\n",
    "    #    cyl = mc.Cylinder(mc.Point(b...), mc.Point(a...), R)\n",
    "    #    mc.setobject!(vis[name][\"p\"*string(i)], cyl, mc.MeshPhongMaterial(color=color))\n",
    "    #end\n",
    "    for i = 1:length(X)\n",
    "        a = [X[i][2]; -X[i][1]; 0.0]\n",
    "        sph = mc.HyperSphere(mc.Point(a...), R)\n",
    "        mc.setobject!(vis[name][\"s\"*string(i)], sph, mc.MeshPhongMaterial(color=color))\n",
    "    end\n",
    "end"
   ]
  },
  {
   "cell_type": "code",
   "execution_count": 66,
   "metadata": {},
   "outputs": [],
   "source": [
    "vis_traj!(mvis, :traj, Xref_trajop; R = 0.05, color = mc.RGBA(1.0, 0.0, 0.0, 1.0))"
   ]
  },
  {
   "cell_type": "code",
   "execution_count": 67,
   "metadata": {},
   "outputs": [],
   "source": [
    "# Uncomment for upload animation to visualizer\n",
    "animation = mc.Animation(mvis, thist, Xs)\n",
    "setanimation!(mvis, animation)"
   ]
  }
 ],
 "metadata": {
  "kernelspec": {
   "display_name": "Julia 1.6.7",
   "language": "julia",
   "name": "julia-1.6"
  },
  "language_info": {
   "file_extension": ".jl",
   "mimetype": "application/julia",
   "name": "julia",
   "version": "1.6.7"
  }
 },
 "nbformat": 4,
 "nbformat_minor": 4
}
